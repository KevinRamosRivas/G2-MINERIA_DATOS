{
 "cells": [
  {
   "cell_type": "markdown",
   "metadata": {},
   "source": [
    "## Separación de datos en clusters"
   ]
  },
  {
   "cell_type": "markdown",
   "metadata": {},
   "source": [
    "### Importación de librerías"
   ]
  },
  {
   "cell_type": "code",
   "execution_count": 163,
   "metadata": {},
   "outputs": [],
   "source": [
    "# importar librerias necesarias\n",
    "import pandas as pd\n",
    "import numpy as np\n",
    "import matplotlib.pyplot as plt\n",
    "import seaborn as sns"
   ]
  },
  {
   "cell_type": "code",
   "execution_count": 164,
   "metadata": {},
   "outputs": [],
   "source": [
    "#importar dataset\n",
    "df = pd.read_csv('https://raw.githubusercontent.com/KevinRamosRivas/G2-MINERIA_DATOS/main/IGP_Datos-Sismicos_Consolidados_V3.csv')"
   ]
  },
  {
   "cell_type": "code",
   "execution_count": 165,
   "metadata": {},
   "outputs": [
    {
     "data": {
      "text/html": [
       "<div>\n",
       "<style scoped>\n",
       "    .dataframe tbody tr th:only-of-type {\n",
       "        vertical-align: middle;\n",
       "    }\n",
       "\n",
       "    .dataframe tbody tr th {\n",
       "        vertical-align: top;\n",
       "    }\n",
       "\n",
       "    .dataframe thead th {\n",
       "        text-align: right;\n",
       "    }\n",
       "</style>\n",
       "<table border=\"1\" class=\"dataframe\">\n",
       "  <thead>\n",
       "    <tr style=\"text-align: right;\">\n",
       "      <th></th>\n",
       "      <th>provincia</th>\n",
       "      <th>region</th>\n",
       "      <th>mes</th>\n",
       "      <th>año</th>\n",
       "      <th>latitud(º)</th>\n",
       "      <th>longitud(º)</th>\n",
       "      <th>profundidad_km</th>\n",
       "      <th>magnitud_Mw</th>\n",
       "    </tr>\n",
       "  </thead>\n",
       "  <tbody>\n",
       "    <tr>\n",
       "      <th>0</th>\n",
       "      <td>Huaral</td>\n",
       "      <td>Lima</td>\n",
       "      <td>1</td>\n",
       "      <td>1940</td>\n",
       "      <td>-11.5</td>\n",
       "      <td>-77.0</td>\n",
       "      <td>50.0</td>\n",
       "      <td>5.82</td>\n",
       "    </tr>\n",
       "    <tr>\n",
       "      <th>1</th>\n",
       "      <td>Cañete</td>\n",
       "      <td>Lima</td>\n",
       "      <td>7</td>\n",
       "      <td>1945</td>\n",
       "      <td>-13.0</td>\n",
       "      <td>-76.2</td>\n",
       "      <td>80.0</td>\n",
       "      <td>4.97</td>\n",
       "    </tr>\n",
       "    <tr>\n",
       "      <th>2</th>\n",
       "      <td>Cañete</td>\n",
       "      <td>Lima</td>\n",
       "      <td>8</td>\n",
       "      <td>1945</td>\n",
       "      <td>-13.0</td>\n",
       "      <td>-76.2</td>\n",
       "      <td>80.0</td>\n",
       "      <td>4.97</td>\n",
       "    </tr>\n",
       "    <tr>\n",
       "      <th>3</th>\n",
       "      <td>Cañete</td>\n",
       "      <td>Lima</td>\n",
       "      <td>9</td>\n",
       "      <td>1945</td>\n",
       "      <td>-13.0</td>\n",
       "      <td>-76.2</td>\n",
       "      <td>80.0</td>\n",
       "      <td>4.52</td>\n",
       "    </tr>\n",
       "    <tr>\n",
       "      <th>4</th>\n",
       "      <td>Cañete</td>\n",
       "      <td>Lima</td>\n",
       "      <td>9</td>\n",
       "      <td>1945</td>\n",
       "      <td>-13.0</td>\n",
       "      <td>-76.2</td>\n",
       "      <td>80.0</td>\n",
       "      <td>4.97</td>\n",
       "    </tr>\n",
       "  </tbody>\n",
       "</table>\n",
       "</div>"
      ],
      "text/plain": [
       "  provincia region  mes   año  latitud(º)  longitud(º)  profundidad_km  \\\n",
       "0    Huaral   Lima    1  1940       -11.5        -77.0            50.0   \n",
       "1    Cañete   Lima    7  1945       -13.0        -76.2            80.0   \n",
       "2    Cañete   Lima    8  1945       -13.0        -76.2            80.0   \n",
       "3    Cañete   Lima    9  1945       -13.0        -76.2            80.0   \n",
       "4    Cañete   Lima    9  1945       -13.0        -76.2            80.0   \n",
       "\n",
       "   magnitud_Mw  \n",
       "0         5.82  \n",
       "1         4.97  \n",
       "2         4.97  \n",
       "3         4.52  \n",
       "4         4.97  "
      ]
     },
     "execution_count": 165,
     "metadata": {},
     "output_type": "execute_result"
    }
   ],
   "source": [
    "# mostrar los primeros 5 registros\n",
    "df.head()"
   ]
  },
  {
   "cell_type": "code",
   "execution_count": 166,
   "metadata": {},
   "outputs": [
    {
     "name": "stdout",
     "output_type": "stream",
     "text": [
      "<class 'pandas.core.frame.DataFrame'>\n",
      "RangeIndex: 530 entries, 0 to 529\n",
      "Data columns (total 8 columns):\n",
      " #   Column          Non-Null Count  Dtype  \n",
      "---  ------          --------------  -----  \n",
      " 0   provincia       530 non-null    object \n",
      " 1   region          530 non-null    object \n",
      " 2   mes             530 non-null    int64  \n",
      " 3   año             530 non-null    int64  \n",
      " 4   latitud(º)      530 non-null    float64\n",
      " 5   longitud(º)     530 non-null    float64\n",
      " 6   profundidad_km  530 non-null    float64\n",
      " 7   magnitud_Mw     530 non-null    float64\n",
      "dtypes: float64(4), int64(2), object(2)\n",
      "memory usage: 33.2+ KB\n"
     ]
    }
   ],
   "source": [
    "# ver la informacion del dataset\n",
    "df.info()"
   ]
  },
  {
   "cell_type": "markdown",
   "metadata": {},
   "source": [
    "### Separar en datos de entrenamiento y prueba"
   ]
  },
  {
   "cell_type": "code",
   "execution_count": 167,
   "metadata": {},
   "outputs": [],
   "source": [
    "# separar los datos de entrenamiento y prueba\n",
    "from sklearn.model_selection import train_test_split\n",
    "# eliminar la provincia y region\n",
    "X = df.drop(['provincia','region','magnitud_Mw'], axis=1)\n",
    "y = df['magnitud_Mw']\n",
    "X_train, X_test, y_train, y_test = train_test_split(X, y, test_size=0.3, random_state=42)"
   ]
  },
  {
   "cell_type": "markdown",
   "metadata": {},
   "source": [
    "### Clustering usando KMeans"
   ]
  },
  {
   "cell_type": "code",
   "execution_count": 168,
   "metadata": {},
   "outputs": [
    {
     "data": {
      "image/png": "[encoded data removed]",
      "text/plain": [
       "<Figure size 432x288 with 1 Axes>"
      ]
     },
     "metadata": {
      "needs_background": "light"
     },
     "output_type": "display_data"
    }
   ],
   "source": [
    "# importar librerias necesarias\n",
    "from sklearn.cluster import KMeans\n",
    "\n",
    "# analizar la cantidad de clusters segun el metodo de la silueta\n",
    "from sklearn.metrics import silhouette_score\n",
    "\n",
    "# crear una lista de valores para k\n",
    "k_values = range(2, 10)\n",
    "\n",
    "# crear una lista para guardar los valores de la silueta\n",
    "silhouette_values = []\n",
    "\n",
    "# iterar sobre los valores de k\n",
    "for k in k_values:\n",
    "    # crear el modelo de k-means\n",
    "    kmeans = KMeans(n_clusters=k)\n",
    "    # ajustar el modelo\n",
    "    kmeans.fit(X_train)\n",
    "    # obtener las etiquetas de cluster\n",
    "    labels = kmeans.labels_\n",
    "    # obtener el valor de la silueta\n",
    "    silhouette_values.append(silhouette_score(X_train, labels))\n",
    "\n",
    "# crear un dataframe con los valores de la silueta\n",
    "silhouette_df = pd.DataFrame({'k': k_values, 'silhouette_score': silhouette_values})\n",
    "# crear una grafica para visualizar los valores de la silueta\n",
    "plt.plot(silhouette_df['k'], silhouette_df['silhouette_score'])\n",
    "plt.xlabel('k')\n",
    "plt.ylabel('silhouette score')\n",
    "plt.show()"
   ]
  },
  {
   "cell_type": "code",
   "execution_count": 169,
   "metadata": {},
   "outputs": [
    {
     "data": {
      "image/png": "[encoded data removed]",
      "text/plain": [
       "<Figure size 432x288 with 1 Axes>"
      ]
     },
     "metadata": {
      "needs_background": "light"
     },
     "output_type": "display_data"
    }
   ],
   "source": [
    "# usamos el metodo de davies-bouldin para determinar el numero de clusters\n",
    "from sklearn.metrics import davies_bouldin_score\n",
    "\n",
    "# crear una lista para guardar los valores de davies-bouldin\n",
    "davies_bouldin_values = []\n",
    "\n",
    "# iterar sobre los valores de k\n",
    "for k in k_values:\n",
    "    # crear el modelo de k-means\n",
    "    kmeans = KMeans(n_clusters=k)\n",
    "    # ajustar el modelo\n",
    "    kmeans.fit(X_train)\n",
    "    # obtener las etiquetas de cluster\n",
    "    labels = kmeans.labels_\n",
    "    # obtener el valor de davies-bouldin\n",
    "    davies_bouldin_values.append(davies_bouldin_score(X_train, labels))\n",
    "\n",
    "# crear un dataframe con los valores de davies-bouldin\n",
    "davies_bouldin_df = pd.DataFrame({'k': k_values, 'davies_bouldin_score': davies_bouldin_values})\n",
    "# crear una grafica para visualizar los valores de davies-bouldin\n",
    "plt.plot(davies_bouldin_df['k'], davies_bouldin_df['davies_bouldin_score'])\n",
    "plt.xlabel('k')\n",
    "plt.ylabel('davies bouldin score')\n",
    "plt.show()"
   ]
  },
  {
   "cell_type": "code",
   "execution_count": 170,
   "metadata": {},
   "outputs": [],
   "source": [
    "# se elige k=4 y se procede a crear el modelo\n",
    "kmeans = KMeans(n_clusters=4)\n",
    "# ajustar el modelo\n",
    "kmeans.fit(X_train)\n",
    "# obtener las etiquetas de cluster\n",
    "labels = kmeans.labels_\n",
    "\n",
    "# crear una columna con las etiquetas de cluster\n",
    "X_train['cluster_Kmeans'] = labels\n"
   ]
  },
  {
   "cell_type": "code",
   "execution_count": 171,
   "metadata": {},
   "outputs": [
    {
     "data": {
      "text/html": [
       "<div>\n",
       "<style scoped>\n",
       "    .dataframe tbody tr th:only-of-type {\n",
       "        vertical-align: middle;\n",
       "    }\n",
       "\n",
       "    .dataframe tbody tr th {\n",
       "        vertical-align: top;\n",
       "    }\n",
       "\n",
       "    .dataframe thead th {\n",
       "        text-align: right;\n",
       "    }\n",
       "</style>\n",
       "<table border=\"1\" class=\"dataframe\">\n",
       "  <thead>\n",
       "    <tr style=\"text-align: right;\">\n",
       "      <th></th>\n",
       "      <th>mes</th>\n",
       "      <th>año</th>\n",
       "      <th>latitud(º)</th>\n",
       "      <th>longitud(º)</th>\n",
       "      <th>profundidad_km</th>\n",
       "      <th>cluster_Kmeans</th>\n",
       "    </tr>\n",
       "  </thead>\n",
       "  <tbody>\n",
       "    <tr>\n",
       "      <th>203</th>\n",
       "      <td>12</td>\n",
       "      <td>1992</td>\n",
       "      <td>-13.1200</td>\n",
       "      <td>-76.3800</td>\n",
       "      <td>16.0</td>\n",
       "      <td>0</td>\n",
       "    </tr>\n",
       "    <tr>\n",
       "      <th>66</th>\n",
       "      <td>2</td>\n",
       "      <td>1984</td>\n",
       "      <td>-12.4200</td>\n",
       "      <td>-76.9400</td>\n",
       "      <td>53.0</td>\n",
       "      <td>2</td>\n",
       "    </tr>\n",
       "    <tr>\n",
       "      <th>449</th>\n",
       "      <td>10</td>\n",
       "      <td>2015</td>\n",
       "      <td>-10.6100</td>\n",
       "      <td>-76.8352</td>\n",
       "      <td>127.0</td>\n",
       "      <td>1</td>\n",
       "    </tr>\n",
       "    <tr>\n",
       "      <th>255</th>\n",
       "      <td>1</td>\n",
       "      <td>1995</td>\n",
       "      <td>-12.9500</td>\n",
       "      <td>-76.1500</td>\n",
       "      <td>12.0</td>\n",
       "      <td>0</td>\n",
       "    </tr>\n",
       "    <tr>\n",
       "      <th>332</th>\n",
       "      <td>2</td>\n",
       "      <td>2003</td>\n",
       "      <td>-11.1248</td>\n",
       "      <td>-77.2045</td>\n",
       "      <td>126.0</td>\n",
       "      <td>1</td>\n",
       "    </tr>\n",
       "  </tbody>\n",
       "</table>\n",
       "</div>"
      ],
      "text/plain": [
       "     mes   año  latitud(º)  longitud(º)  profundidad_km  cluster_Kmeans\n",
       "203   12  1992    -13.1200     -76.3800            16.0               0\n",
       "66     2  1984    -12.4200     -76.9400            53.0               2\n",
       "449   10  2015    -10.6100     -76.8352           127.0               1\n",
       "255    1  1995    -12.9500     -76.1500            12.0               0\n",
       "332    2  2003    -11.1248     -77.2045           126.0               1"
      ]
     },
     "execution_count": 171,
     "metadata": {},
     "output_type": "execute_result"
    }
   ],
   "source": [
    "X_train.head()"
   ]
  },
  {
   "cell_type": "code",
   "execution_count": 172,
   "metadata": {},
   "outputs": [
    {
     "data": {
      "text/plain": [
       "1    143\n",
       "2    117\n",
       "0     86\n",
       "3     25\n",
       "Name: cluster_Kmeans, dtype: int64"
      ]
     },
     "execution_count": 172,
     "metadata": {},
     "output_type": "execute_result"
    }
   ],
   "source": [
    "# ver la cantidad de registros por cluster\n",
    "X_train['cluster_Kmeans'].value_counts()"
   ]
  },
  {
   "cell_type": "code",
   "execution_count": 173,
   "metadata": {},
   "outputs": [
    {
     "name": "stderr",
     "output_type": "stream",
     "text": [
      "d:\\ProgramFiles\\anaconda3\\lib\\site-packages\\geopandas\\array.py:275: ShapelyDeprecationWarning: The array interface is deprecated and will no longer work in Shapely 2.0. Convert the '.coords' to a numpy array instead.\n",
      "  return GeometryArray(vectorized.points_from_xy(x, y, z), crs=crs)\n"
     ]
    },
    {
     "data": {
      "text/plain": [
       "<AxesSubplot:>"
      ]
     },
     "execution_count": 173,
     "metadata": {},
     "output_type": "execute_result"
    },
    {
     "data": {
      "image/png": "[encoded data removed]",
      "text/plain": [
       "<Figure size 720x720 with 2 Axes>"
      ]
     },
     "metadata": {
      "needs_background": "light"
     },
     "output_type": "display_data"
    }
   ],
   "source": [
    "# ver una mapa con la latitud y longitud con geopandas\n",
    "import geopandas as gpd\n",
    "# crear un dataframe con las columnas de latitud y longitud y las etiquetas de cluster\n",
    "df_lat_lon = X_train[['latitud(º)','longitud(º)','cluster_Kmeans']]\n",
    "# cambiar el nombre de las columnas\n",
    "df_lat_lon.columns = ['latitud','longitud','cluster_Kmeans']\n",
    "# crear un dataframe de geopandas\n",
    "gdf = gpd.GeoDataFrame(df_lat_lon, geometry=gpd.points_from_xy(df_lat_lon.longitud, df_lat_lon.latitud))\n",
    "# ver en el mapa del lima\n",
    "gdf.plot(column='cluster_Kmeans', legend=True, figsize=(10,10))"
   ]
  },
  {
   "cell_type": "markdown",
   "metadata": {},
   "source": [
    "### Clustering usando KMedoids"
   ]
  },
  {
   "cell_type": "code",
   "execution_count": 174,
   "metadata": {},
   "outputs": [
    {
     "data": {
      "text/plain": [
       "[<matplotlib.lines.Line2D at 0x1c2e383b9a0>]"
      ]
     },
     "execution_count": 174,
     "metadata": {},
     "output_type": "execute_result"
    },
    {
     "data": {
      "image/png": "[encoded data removed]",
      "text/plain": [
       "<Figure size 432x288 with 1 Axes>"
      ]
     },
     "metadata": {
      "needs_background": "light"
     },
     "output_type": "display_data"
    }
   ],
   "source": [
    "# importar librerias necesarias para Kmedoids\n",
    "from sklearn_extra.cluster import KMedoids\n",
    "from sklearn.metrics import silhouette_score\n",
    "\n",
    "# crear una lista de valores para k\n",
    "k_values = range(2, 10)\n",
    "\n",
    "# crear una lista para guardar los valores de la silueta\n",
    "silhouette_values = []\n",
    "\n",
    "# iterar sobre los valores de k\n",
    "for k in k_values:\n",
    "    # crear el modelo de k-medoids\n",
    "    kmedoids = KMedoids(n_clusters=k)\n",
    "    # ajustar el modelo\n",
    "    kmedoids.fit(X_train)\n",
    "    # obtener las etiquetas de cluster\n",
    "    labels = kmedoids.labels_\n",
    "    # obtener el valor de la silueta\n",
    "    silhouette_values.append(silhouette_score(X_train, labels))\n",
    "\n",
    "# crear un dataframe con los valores de la silueta\n",
    "silhouette_df = pd.DataFrame({'k': k_values, 'silhouette_score': silhouette_values})\n",
    "# crear una grafica para visualizar los valores de la silueta\n",
    "plt.plot(silhouette_df['k'], silhouette_df['silhouette_score'])"
   ]
  },
  {
   "cell_type": "code",
   "execution_count": 175,
   "metadata": {},
   "outputs": [
    {
     "data": {
      "text/plain": [
       "[<matplotlib.lines.Line2D at 0x1c2e38a7eb0>]"
      ]
     },
     "execution_count": 175,
     "metadata": {},
     "output_type": "execute_result"
    },
    {
     "data": {
      "image/png": "[encoded data removed]",
      "text/plain": [
       "<Figure size 432x288 with 1 Axes>"
      ]
     },
     "metadata": {
      "needs_background": "light"
     },
     "output_type": "display_data"
    }
   ],
   "source": [
    "# usamos el metodo de davies-bouldin para determinar el numero de clusters\n",
    "from sklearn.metrics import davies_bouldin_score\n",
    "\n",
    "# crear una lista de valores para k\n",
    "k_values = range(2, 10)\n",
    "\n",
    "# crear una lista para guardar los valores de la silueta\n",
    "davies_bouldin_values = []\n",
    "\n",
    "# iterar sobre los valores de k\n",
    "for k in k_values:\n",
    "    # crear el modelo de k-medoids\n",
    "    kmedoids = KMedoids(n_clusters=k)\n",
    "    # ajustar el modelo\n",
    "    kmedoids.fit(X_train)\n",
    "    # obtener las etiquetas de cluster\n",
    "    labels = kmedoids.labels_\n",
    "    # obtener el valor de la silueta\n",
    "    davies_bouldin_values.append(davies_bouldin_score(X_train, labels))\n",
    "\n",
    "# crear un dataframe con los valores de la silueta\n",
    "davies_bouldin_df = pd.DataFrame({'k': k_values, 'davies_bouldin_score': davies_bouldin_values})\n",
    "# crear una grafica para visualizar los valores de la silueta\n",
    "plt.plot(davies_bouldin_df['k'], davies_bouldin_df['davies_bouldin_score'])"
   ]
  },
  {
   "cell_type": "code",
   "execution_count": 176,
   "metadata": {},
   "outputs": [
    {
     "data": {
      "text/html": [
       "<div>\n",
       "<style scoped>\n",
       "    .dataframe tbody tr th:only-of-type {\n",
       "        vertical-align: middle;\n",
       "    }\n",
       "\n",
       "    .dataframe tbody tr th {\n",
       "        vertical-align: top;\n",
       "    }\n",
       "\n",
       "    .dataframe thead th {\n",
       "        text-align: right;\n",
       "    }\n",
       "</style>\n",
       "<table border=\"1\" class=\"dataframe\">\n",
       "  <thead>\n",
       "    <tr style=\"text-align: right;\">\n",
       "      <th></th>\n",
       "      <th>mes</th>\n",
       "      <th>año</th>\n",
       "      <th>latitud(º)</th>\n",
       "      <th>longitud(º)</th>\n",
       "      <th>profundidad_km</th>\n",
       "      <th>cluster_Kmeans</th>\n",
       "      <th>cluster_Kmedoids</th>\n",
       "    </tr>\n",
       "  </thead>\n",
       "  <tbody>\n",
       "    <tr>\n",
       "      <th>203</th>\n",
       "      <td>12</td>\n",
       "      <td>1992</td>\n",
       "      <td>-13.1200</td>\n",
       "      <td>-76.3800</td>\n",
       "      <td>16.0</td>\n",
       "      <td>0</td>\n",
       "      <td>5</td>\n",
       "    </tr>\n",
       "    <tr>\n",
       "      <th>66</th>\n",
       "      <td>2</td>\n",
       "      <td>1984</td>\n",
       "      <td>-12.4200</td>\n",
       "      <td>-76.9400</td>\n",
       "      <td>53.0</td>\n",
       "      <td>2</td>\n",
       "      <td>0</td>\n",
       "    </tr>\n",
       "    <tr>\n",
       "      <th>449</th>\n",
       "      <td>10</td>\n",
       "      <td>2015</td>\n",
       "      <td>-10.6100</td>\n",
       "      <td>-76.8352</td>\n",
       "      <td>127.0</td>\n",
       "      <td>1</td>\n",
       "      <td>1</td>\n",
       "    </tr>\n",
       "    <tr>\n",
       "      <th>255</th>\n",
       "      <td>1</td>\n",
       "      <td>1995</td>\n",
       "      <td>-12.9500</td>\n",
       "      <td>-76.1500</td>\n",
       "      <td>12.0</td>\n",
       "      <td>0</td>\n",
       "      <td>5</td>\n",
       "    </tr>\n",
       "    <tr>\n",
       "      <th>332</th>\n",
       "      <td>2</td>\n",
       "      <td>2003</td>\n",
       "      <td>-11.1248</td>\n",
       "      <td>-77.2045</td>\n",
       "      <td>126.0</td>\n",
       "      <td>1</td>\n",
       "      <td>1</td>\n",
       "    </tr>\n",
       "  </tbody>\n",
       "</table>\n",
       "</div>"
      ],
      "text/plain": [
       "     mes   año  latitud(º)  longitud(º)  profundidad_km  cluster_Kmeans  \\\n",
       "203   12  1992    -13.1200     -76.3800            16.0               0   \n",
       "66     2  1984    -12.4200     -76.9400            53.0               2   \n",
       "449   10  2015    -10.6100     -76.8352           127.0               1   \n",
       "255    1  1995    -12.9500     -76.1500            12.0               0   \n",
       "332    2  2003    -11.1248     -77.2045           126.0               1   \n",
       "\n",
       "     cluster_Kmedoids  \n",
       "203                 5  \n",
       "66                  0  \n",
       "449                 1  \n",
       "255                 5  \n",
       "332                 1  "
      ]
     },
     "execution_count": 176,
     "metadata": {},
     "output_type": "execute_result"
    }
   ],
   "source": [
    "# comparando los resultados de los dos metodos, se elige k=6 \n",
    "kmedoids = KMedoids(n_clusters=6)\n",
    "# ajustar el modelo ovbiando la columna de cluster_Kmeans\n",
    "kmedoids.fit(X_train.drop(columns='cluster_Kmeans'))\n",
    "labels = kmedoids.labels_\n",
    "\n",
    "# crear una columna con las etiquetas de cluster\n",
    "X_train['cluster_Kmedoids'] = labels\n",
    "\n",
    "X_train.head()\n"
   ]
  },
  {
   "cell_type": "code",
   "execution_count": 177,
   "metadata": {},
   "outputs": [
    {
     "data": {
      "text/plain": [
       "0    80\n",
       "1    77\n",
       "5    71\n",
       "4    67\n",
       "3    54\n",
       "2    22\n",
       "Name: cluster_Kmedoids, dtype: int64"
      ]
     },
     "execution_count": 177,
     "metadata": {},
     "output_type": "execute_result"
    }
   ],
   "source": [
    "# ver la cantidad de registros por cluster\n",
    "X_train['cluster_Kmedoids'].value_counts()"
   ]
  },
  {
   "cell_type": "code",
   "execution_count": 178,
   "metadata": {},
   "outputs": [
    {
     "name": "stderr",
     "output_type": "stream",
     "text": [
      "d:\\ProgramFiles\\anaconda3\\lib\\site-packages\\geopandas\\array.py:275: ShapelyDeprecationWarning: The array interface is deprecated and will no longer work in Shapely 2.0. Convert the '.coords' to a numpy array instead.\n",
      "  return GeometryArray(vectorized.points_from_xy(x, y, z), crs=crs)\n"
     ]
    },
    {
     "data": {
      "text/plain": [
       "<AxesSubplot:>"
      ]
     },
     "execution_count": 178,
     "metadata": {},
     "output_type": "execute_result"
    },
    {
     "data": {
      "image/png": "[encoded data removed]",
      "text/plain": [
       "<Figure size 720x720 with 2 Axes>"
      ]
     },
     "metadata": {
      "needs_background": "light"
     },
     "output_type": "display_data"
    }
   ],
   "source": [
    "# ver una mapa con la latitud y longitud con geopandas\n",
    "import geopandas as gpd\n",
    "# crear un dataframe con las columnas de latitud y longitud y las etiquetas de cluster\n",
    "df_lat_lon = X_train[['latitud(º)','longitud(º)','cluster_Kmedoids']]\n",
    "# cambiar el nombre de las columnas\n",
    "df_lat_lon.columns = ['latitud','longitud','cluster_Kmedoids']\n",
    "# crear un dataframe de geopandas\n",
    "gdf = gpd.GeoDataFrame(df_lat_lon, geometry=gpd.points_from_xy(df_lat_lon.longitud, df_lat_lon.latitud))\n",
    "# ver en el mapa del lima\n",
    "gdf.plot(column='cluster_Kmedoids', legend=True, figsize=(10,10))\n"
   ]
  },
  {
   "cell_type": "code",
   "execution_count": 179,
   "metadata": {},
   "outputs": [
    {
     "data": {
      "text/plain": [
       "0    80\n",
       "1    77\n",
       "5    71\n",
       "4    67\n",
       "3    54\n",
       "2    22\n",
       "Name: cluster_Kmedoids, dtype: int64"
      ]
     },
     "execution_count": 179,
     "metadata": {},
     "output_type": "execute_result"
    }
   ],
   "source": [
    "# ver todos los clusters\n",
    "X_train['cluster_Kmedoids'].value_counts()"
   ]
  },
  {
   "cell_type": "code",
   "execution_count": 180,
   "metadata": {},
   "outputs": [
    {
     "data": {
      "text/html": [
       "<div>\n",
       "<style scoped>\n",
       "    .dataframe tbody tr th:only-of-type {\n",
       "        vertical-align: middle;\n",
       "    }\n",
       "\n",
       "    .dataframe tbody tr th {\n",
       "        vertical-align: top;\n",
       "    }\n",
       "\n",
       "    .dataframe thead th {\n",
       "        text-align: right;\n",
       "    }\n",
       "</style>\n",
       "<table border=\"1\" class=\"dataframe\">\n",
       "  <thead>\n",
       "    <tr style=\"text-align: right;\">\n",
       "      <th></th>\n",
       "      <th>mes</th>\n",
       "      <th>año</th>\n",
       "      <th>latitud(º)</th>\n",
       "      <th>longitud(º)</th>\n",
       "      <th>profundidad_km</th>\n",
       "      <th>cluster_Kmeans</th>\n",
       "      <th>cluster_Kmedoids</th>\n",
       "    </tr>\n",
       "  </thead>\n",
       "  <tbody>\n",
       "    <tr>\n",
       "      <th>203</th>\n",
       "      <td>12</td>\n",
       "      <td>1992</td>\n",
       "      <td>-13.1200</td>\n",
       "      <td>-76.3800</td>\n",
       "      <td>16.0</td>\n",
       "      <td>0</td>\n",
       "      <td>5</td>\n",
       "    </tr>\n",
       "    <tr>\n",
       "      <th>66</th>\n",
       "      <td>2</td>\n",
       "      <td>1984</td>\n",
       "      <td>-12.4200</td>\n",
       "      <td>-76.9400</td>\n",
       "      <td>53.0</td>\n",
       "      <td>2</td>\n",
       "      <td>0</td>\n",
       "    </tr>\n",
       "    <tr>\n",
       "      <th>449</th>\n",
       "      <td>10</td>\n",
       "      <td>2015</td>\n",
       "      <td>-10.6100</td>\n",
       "      <td>-76.8352</td>\n",
       "      <td>127.0</td>\n",
       "      <td>1</td>\n",
       "      <td>1</td>\n",
       "    </tr>\n",
       "    <tr>\n",
       "      <th>255</th>\n",
       "      <td>1</td>\n",
       "      <td>1995</td>\n",
       "      <td>-12.9500</td>\n",
       "      <td>-76.1500</td>\n",
       "      <td>12.0</td>\n",
       "      <td>0</td>\n",
       "      <td>5</td>\n",
       "    </tr>\n",
       "    <tr>\n",
       "      <th>332</th>\n",
       "      <td>2</td>\n",
       "      <td>2003</td>\n",
       "      <td>-11.1248</td>\n",
       "      <td>-77.2045</td>\n",
       "      <td>126.0</td>\n",
       "      <td>1</td>\n",
       "      <td>1</td>\n",
       "    </tr>\n",
       "  </tbody>\n",
       "</table>\n",
       "</div>"
      ],
      "text/plain": [
       "     mes   año  latitud(º)  longitud(º)  profundidad_km  cluster_Kmeans  \\\n",
       "203   12  1992    -13.1200     -76.3800            16.0               0   \n",
       "66     2  1984    -12.4200     -76.9400            53.0               2   \n",
       "449   10  2015    -10.6100     -76.8352           127.0               1   \n",
       "255    1  1995    -12.9500     -76.1500            12.0               0   \n",
       "332    2  2003    -11.1248     -77.2045           126.0               1   \n",
       "\n",
       "     cluster_Kmedoids  \n",
       "203                 5  \n",
       "66                  0  \n",
       "449                 1  \n",
       "255                 5  \n",
       "332                 1  "
      ]
     },
     "execution_count": 180,
     "metadata": {},
     "output_type": "execute_result"
    }
   ],
   "source": [
    "X_train.head()"
   ]
  },
  {
   "cell_type": "code",
   "execution_count": 181,
   "metadata": {},
   "outputs": [
    {
     "data": {
      "text/plain": [
       "203    5.1\n",
       "66     4.5\n",
       "449    4.5\n",
       "255    4.9\n",
       "332    4.5\n",
       "Name: magnitud_Mw, dtype: float64"
      ]
     },
     "execution_count": 181,
     "metadata": {},
     "output_type": "execute_result"
    }
   ],
   "source": [
    "y_train.head()"
   ]
  },
  {
   "cell_type": "code",
   "execution_count": 182,
   "metadata": {},
   "outputs": [
    {
     "data": {
      "text/html": [
       "<div>\n",
       "<style scoped>\n",
       "    .dataframe tbody tr th:only-of-type {\n",
       "        vertical-align: middle;\n",
       "    }\n",
       "\n",
       "    .dataframe tbody tr th {\n",
       "        vertical-align: top;\n",
       "    }\n",
       "\n",
       "    .dataframe thead th {\n",
       "        text-align: right;\n",
       "    }\n",
       "</style>\n",
       "<table border=\"1\" class=\"dataframe\">\n",
       "  <thead>\n",
       "    <tr style=\"text-align: right;\">\n",
       "      <th></th>\n",
       "      <th>mes</th>\n",
       "      <th>año</th>\n",
       "      <th>latitud(º)</th>\n",
       "      <th>longitud(º)</th>\n",
       "      <th>profundidad_km</th>\n",
       "    </tr>\n",
       "  </thead>\n",
       "  <tbody>\n",
       "    <tr>\n",
       "      <th>140</th>\n",
       "      <td>12</td>\n",
       "      <td>1989</td>\n",
       "      <td>-12.6100</td>\n",
       "      <td>-76.6600</td>\n",
       "      <td>46.0</td>\n",
       "    </tr>\n",
       "    <tr>\n",
       "      <th>398</th>\n",
       "      <td>7</td>\n",
       "      <td>2011</td>\n",
       "      <td>-11.6147</td>\n",
       "      <td>-76.6758</td>\n",
       "      <td>103.0</td>\n",
       "    </tr>\n",
       "    <tr>\n",
       "      <th>6</th>\n",
       "      <td>2</td>\n",
       "      <td>1946</td>\n",
       "      <td>-13.0000</td>\n",
       "      <td>-76.2000</td>\n",
       "      <td>80.0</td>\n",
       "    </tr>\n",
       "    <tr>\n",
       "      <th>334</th>\n",
       "      <td>3</td>\n",
       "      <td>2003</td>\n",
       "      <td>-12.7305</td>\n",
       "      <td>-75.7530</td>\n",
       "      <td>87.0</td>\n",
       "    </tr>\n",
       "    <tr>\n",
       "      <th>322</th>\n",
       "      <td>12</td>\n",
       "      <td>2000</td>\n",
       "      <td>-11.9202</td>\n",
       "      <td>-76.9046</td>\n",
       "      <td>75.0</td>\n",
       "    </tr>\n",
       "  </tbody>\n",
       "</table>\n",
       "</div>"
      ],
      "text/plain": [
       "     mes   año  latitud(º)  longitud(º)  profundidad_km\n",
       "140   12  1989    -12.6100     -76.6600            46.0\n",
       "398    7  2011    -11.6147     -76.6758           103.0\n",
       "6      2  1946    -13.0000     -76.2000            80.0\n",
       "334    3  2003    -12.7305     -75.7530            87.0\n",
       "322   12  2000    -11.9202     -76.9046            75.0"
      ]
     },
     "execution_count": 182,
     "metadata": {},
     "output_type": "execute_result"
    }
   ],
   "source": [
    "X_test.head()"
   ]
  },
  {
   "cell_type": "code",
   "execution_count": 183,
   "metadata": {},
   "outputs": [
    {
     "data": {
      "text/plain": [
       "140    4.70\n",
       "398    4.70\n",
       "6      4.97\n",
       "334    4.90\n",
       "322    4.50\n",
       "Name: magnitud_Mw, dtype: float64"
      ]
     },
     "execution_count": 183,
     "metadata": {},
     "output_type": "execute_result"
    }
   ],
   "source": [
    "y_test.head()"
   ]
  },
  {
   "cell_type": "code",
   "execution_count": 184,
   "metadata": {},
   "outputs": [],
   "source": [
    "# predecir el numero de clusters para el conjunto de test en una nueva columna\n",
    "X_test['cluster_Kmedoids'] = kmedoids.predict(X_test)\n"
   ]
  },
  {
   "cell_type": "code",
   "execution_count": 185,
   "metadata": {},
   "outputs": [
    {
     "data": {
      "text/html": [
       "<div>\n",
       "<style scoped>\n",
       "    .dataframe tbody tr th:only-of-type {\n",
       "        vertical-align: middle;\n",
       "    }\n",
       "\n",
       "    .dataframe tbody tr th {\n",
       "        vertical-align: top;\n",
       "    }\n",
       "\n",
       "    .dataframe thead th {\n",
       "        text-align: right;\n",
       "    }\n",
       "</style>\n",
       "<table border=\"1\" class=\"dataframe\">\n",
       "  <thead>\n",
       "    <tr style=\"text-align: right;\">\n",
       "      <th></th>\n",
       "      <th>mes</th>\n",
       "      <th>año</th>\n",
       "      <th>latitud(º)</th>\n",
       "      <th>longitud(º)</th>\n",
       "      <th>profundidad_km</th>\n",
       "      <th>cluster_Kmedoids</th>\n",
       "    </tr>\n",
       "  </thead>\n",
       "  <tbody>\n",
       "    <tr>\n",
       "      <th>140</th>\n",
       "      <td>12</td>\n",
       "      <td>1989</td>\n",
       "      <td>-12.6100</td>\n",
       "      <td>-76.6600</td>\n",
       "      <td>46.0</td>\n",
       "      <td>0</td>\n",
       "    </tr>\n",
       "    <tr>\n",
       "      <th>398</th>\n",
       "      <td>7</td>\n",
       "      <td>2011</td>\n",
       "      <td>-11.6147</td>\n",
       "      <td>-76.6758</td>\n",
       "      <td>103.0</td>\n",
       "      <td>3</td>\n",
       "    </tr>\n",
       "    <tr>\n",
       "      <th>6</th>\n",
       "      <td>2</td>\n",
       "      <td>1946</td>\n",
       "      <td>-13.0000</td>\n",
       "      <td>-76.2000</td>\n",
       "      <td>80.0</td>\n",
       "      <td>2</td>\n",
       "    </tr>\n",
       "    <tr>\n",
       "      <th>334</th>\n",
       "      <td>3</td>\n",
       "      <td>2003</td>\n",
       "      <td>-12.7305</td>\n",
       "      <td>-75.7530</td>\n",
       "      <td>87.0</td>\n",
       "      <td>4</td>\n",
       "    </tr>\n",
       "    <tr>\n",
       "      <th>322</th>\n",
       "      <td>12</td>\n",
       "      <td>2000</td>\n",
       "      <td>-11.9202</td>\n",
       "      <td>-76.9046</td>\n",
       "      <td>75.0</td>\n",
       "      <td>4</td>\n",
       "    </tr>\n",
       "  </tbody>\n",
       "</table>\n",
       "</div>"
      ],
      "text/plain": [
       "     mes   año  latitud(º)  longitud(º)  profundidad_km  cluster_Kmedoids\n",
       "140   12  1989    -12.6100     -76.6600            46.0                 0\n",
       "398    7  2011    -11.6147     -76.6758           103.0                 3\n",
       "6      2  1946    -13.0000     -76.2000            80.0                 2\n",
       "334    3  2003    -12.7305     -75.7530            87.0                 4\n",
       "322   12  2000    -11.9202     -76.9046            75.0                 4"
      ]
     },
     "execution_count": 185,
     "metadata": {},
     "output_type": "execute_result"
    }
   ],
   "source": [
    "X_test.head()"
   ]
  },
  {
   "cell_type": "code",
   "execution_count": 186,
   "metadata": {},
   "outputs": [],
   "source": [
    "# predecir el numero de clusters para el conjunto de test con Kmeans en una nueva columna\n",
    "X_test['cluster_Kmeans'] = kmeans.predict(X_test.drop(columns='cluster_Kmedoids'))"
   ]
  },
  {
   "cell_type": "code",
   "execution_count": 187,
   "metadata": {},
   "outputs": [
    {
     "data": {
      "text/html": [
       "<div>\n",
       "<style scoped>\n",
       "    .dataframe tbody tr th:only-of-type {\n",
       "        vertical-align: middle;\n",
       "    }\n",
       "\n",
       "    .dataframe tbody tr th {\n",
       "        vertical-align: top;\n",
       "    }\n",
       "\n",
       "    .dataframe thead th {\n",
       "        text-align: right;\n",
       "    }\n",
       "</style>\n",
       "<table border=\"1\" class=\"dataframe\">\n",
       "  <thead>\n",
       "    <tr style=\"text-align: right;\">\n",
       "      <th></th>\n",
       "      <th>mes</th>\n",
       "      <th>año</th>\n",
       "      <th>latitud(º)</th>\n",
       "      <th>longitud(º)</th>\n",
       "      <th>profundidad_km</th>\n",
       "      <th>cluster_Kmedoids</th>\n",
       "      <th>cluster_Kmeans</th>\n",
       "    </tr>\n",
       "  </thead>\n",
       "  <tbody>\n",
       "    <tr>\n",
       "      <th>140</th>\n",
       "      <td>12</td>\n",
       "      <td>1989</td>\n",
       "      <td>-12.6100</td>\n",
       "      <td>-76.6600</td>\n",
       "      <td>46.0</td>\n",
       "      <td>0</td>\n",
       "      <td>2</td>\n",
       "    </tr>\n",
       "    <tr>\n",
       "      <th>398</th>\n",
       "      <td>7</td>\n",
       "      <td>2011</td>\n",
       "      <td>-11.6147</td>\n",
       "      <td>-76.6758</td>\n",
       "      <td>103.0</td>\n",
       "      <td>3</td>\n",
       "      <td>1</td>\n",
       "    </tr>\n",
       "    <tr>\n",
       "      <th>6</th>\n",
       "      <td>2</td>\n",
       "      <td>1946</td>\n",
       "      <td>-13.0000</td>\n",
       "      <td>-76.2000</td>\n",
       "      <td>80.0</td>\n",
       "      <td>2</td>\n",
       "      <td>3</td>\n",
       "    </tr>\n",
       "    <tr>\n",
       "      <th>334</th>\n",
       "      <td>3</td>\n",
       "      <td>2003</td>\n",
       "      <td>-12.7305</td>\n",
       "      <td>-75.7530</td>\n",
       "      <td>87.0</td>\n",
       "      <td>4</td>\n",
       "      <td>1</td>\n",
       "    </tr>\n",
       "    <tr>\n",
       "      <th>322</th>\n",
       "      <td>12</td>\n",
       "      <td>2000</td>\n",
       "      <td>-11.9202</td>\n",
       "      <td>-76.9046</td>\n",
       "      <td>75.0</td>\n",
       "      <td>4</td>\n",
       "      <td>2</td>\n",
       "    </tr>\n",
       "  </tbody>\n",
       "</table>\n",
       "</div>"
      ],
      "text/plain": [
       "     mes   año  latitud(º)  longitud(º)  profundidad_km  cluster_Kmedoids  \\\n",
       "140   12  1989    -12.6100     -76.6600            46.0                 0   \n",
       "398    7  2011    -11.6147     -76.6758           103.0                 3   \n",
       "6      2  1946    -13.0000     -76.2000            80.0                 2   \n",
       "334    3  2003    -12.7305     -75.7530            87.0                 4   \n",
       "322   12  2000    -11.9202     -76.9046            75.0                 4   \n",
       "\n",
       "     cluster_Kmeans  \n",
       "140               2  \n",
       "398               1  \n",
       "6                 3  \n",
       "334               1  \n",
       "322               2  "
      ]
     },
     "execution_count": 187,
     "metadata": {},
     "output_type": "execute_result"
    }
   ],
   "source": [
    "X_test.head()"
   ]
  },
  {
   "cell_type": "markdown",
   "metadata": {},
   "source": [
    "### exportamos los datos de prueba y entrenamiento en archivos csv"
   ]
  },
  {
   "cell_type": "code",
   "execution_count": 188,
   "metadata": {},
   "outputs": [],
   "source": [
    "# guardar los datos de entrenamiento y test\n",
    "X_train.to_csv('X_train.csv', index=False)\n",
    "X_test.to_csv('X_test.csv', index=False)\n",
    "y_train.to_csv('y_train.csv', index=False)\n",
    "y_test.to_csv('y_test.csv', index=False)"
   ]
  },
  {
   "cell_type": "code",
   "execution_count": 189,
   "metadata": {},
   "outputs": [],
   "source": [
    "# cargar los datos de entrenamiento y test\n",
    "X_train = pd.read_csv('X_train.csv')\n",
    "X_test = pd.read_csv('X_test.csv')\n",
    "y_train = pd.read_csv('y_train.csv')\n",
    "y_test = pd.read_csv('y_test.csv')\n"
   ]
  }
 ],
 "metadata": {
  "kernelspec": {
   "display_name": "Python 3.9.12 ('base')",
   "language": "python",
   "name": "python3"
  },
  "language_info": {
   "codemirror_mode": {
    "name": "ipython",
    "version": 3
   },
   "file_extension": ".py",
   "mimetype": "text/x-python",
   "name": "python",
   "nbconvert_exporter": "python",
   "pygments_lexer": "ipython3",
   "version": "3.9.12"
  },
  "orig_nbformat": 4,
  "vscode": {
   "interpreter": {
    "hash": "bddb6c94227d8177e61600db041b4cc1c87a884063126e29a3bfd540ed5196fb"
   }
  }
 },
 "nbformat": 4,
 "nbformat_minor": 2
}
