{
 "cells": [
  {
   "cell_type": "markdown",
   "metadata": {},
   "source": [
    "## Separación de datos en clusters"
   ]
  },
  {
   "cell_type": "markdown",
   "metadata": {},
   "source": [
    "### Importación de librerías"
   ]
  },
  {
   "cell_type": "code",
   "execution_count": 335,
   "metadata": {},
   "outputs": [],
   "source": [
    "# importar librerias necesarias\n",
    "import pandas as pd\n",
    "import numpy as np\n",
    "import matplotlib.pyplot as plt\n",
    "import seaborn as sns"
   ]
  },
  {
   "cell_type": "code",
   "execution_count": 336,
   "metadata": {},
   "outputs": [],
   "source": [
    "#importar dataset\n",
    "df = pd.read_csv('https://raw.githubusercontent.com/KevinRamosRivas/G2-MINERIA_DATOS/main/IGP_Datos-Sismicos_Consolidados_V3.csv')"
   ]
  },
  {
   "cell_type": "code",
   "execution_count": 337,
   "metadata": {},
   "outputs": [
    {
     "data": {
      "text/html": [
       "<div>\n",
       "<style scoped>\n",
       "    .dataframe tbody tr th:only-of-type {\n",
       "        vertical-align: middle;\n",
       "    }\n",
       "\n",
       "    .dataframe tbody tr th {\n",
       "        vertical-align: top;\n",
       "    }\n",
       "\n",
       "    .dataframe thead th {\n",
       "        text-align: right;\n",
       "    }\n",
       "</style>\n",
       "<table border=\"1\" class=\"dataframe\">\n",
       "  <thead>\n",
       "    <tr style=\"text-align: right;\">\n",
       "      <th></th>\n",
       "      <th>provincia</th>\n",
       "      <th>region</th>\n",
       "      <th>mes</th>\n",
       "      <th>año</th>\n",
       "      <th>latitud(º)</th>\n",
       "      <th>longitud(º)</th>\n",
       "      <th>profundidad_km</th>\n",
       "      <th>magnitud_Mw</th>\n",
       "    </tr>\n",
       "  </thead>\n",
       "  <tbody>\n",
       "    <tr>\n",
       "      <th>0</th>\n",
       "      <td>Huaral</td>\n",
       "      <td>Lima</td>\n",
       "      <td>1</td>\n",
       "      <td>1940</td>\n",
       "      <td>-11.5</td>\n",
       "      <td>-77.0</td>\n",
       "      <td>50.0</td>\n",
       "      <td>5.82</td>\n",
       "    </tr>\n",
       "    <tr>\n",
       "      <th>1</th>\n",
       "      <td>Cañete</td>\n",
       "      <td>Lima</td>\n",
       "      <td>7</td>\n",
       "      <td>1945</td>\n",
       "      <td>-13.0</td>\n",
       "      <td>-76.2</td>\n",
       "      <td>80.0</td>\n",
       "      <td>4.97</td>\n",
       "    </tr>\n",
       "    <tr>\n",
       "      <th>2</th>\n",
       "      <td>Cañete</td>\n",
       "      <td>Lima</td>\n",
       "      <td>8</td>\n",
       "      <td>1945</td>\n",
       "      <td>-13.0</td>\n",
       "      <td>-76.2</td>\n",
       "      <td>80.0</td>\n",
       "      <td>4.97</td>\n",
       "    </tr>\n",
       "    <tr>\n",
       "      <th>3</th>\n",
       "      <td>Cañete</td>\n",
       "      <td>Lima</td>\n",
       "      <td>9</td>\n",
       "      <td>1945</td>\n",
       "      <td>-13.0</td>\n",
       "      <td>-76.2</td>\n",
       "      <td>80.0</td>\n",
       "      <td>4.52</td>\n",
       "    </tr>\n",
       "    <tr>\n",
       "      <th>4</th>\n",
       "      <td>Cañete</td>\n",
       "      <td>Lima</td>\n",
       "      <td>9</td>\n",
       "      <td>1945</td>\n",
       "      <td>-13.0</td>\n",
       "      <td>-76.2</td>\n",
       "      <td>80.0</td>\n",
       "      <td>4.97</td>\n",
       "    </tr>\n",
       "  </tbody>\n",
       "</table>\n",
       "</div>"
      ],
      "text/plain": [
       "  provincia region  mes   año  latitud(º)  longitud(º)  profundidad_km  \\\n",
       "0    Huaral   Lima    1  1940       -11.5        -77.0            50.0   \n",
       "1    Cañete   Lima    7  1945       -13.0        -76.2            80.0   \n",
       "2    Cañete   Lima    8  1945       -13.0        -76.2            80.0   \n",
       "3    Cañete   Lima    9  1945       -13.0        -76.2            80.0   \n",
       "4    Cañete   Lima    9  1945       -13.0        -76.2            80.0   \n",
       "\n",
       "   magnitud_Mw  \n",
       "0         5.82  \n",
       "1         4.97  \n",
       "2         4.97  \n",
       "3         4.52  \n",
       "4         4.97  "
      ]
     },
     "execution_count": 337,
     "metadata": {},
     "output_type": "execute_result"
    }
   ],
   "source": [
    "# mostrar los primeros 5 registros\n",
    "df.head()"
   ]
  },
  {
   "cell_type": "code",
   "execution_count": 338,
   "metadata": {},
   "outputs": [
    {
     "name": "stdout",
     "output_type": "stream",
     "text": [
      "<class 'pandas.core.frame.DataFrame'>\n",
      "RangeIndex: 530 entries, 0 to 529\n",
      "Data columns (total 8 columns):\n",
      " #   Column          Non-Null Count  Dtype  \n",
      "---  ------          --------------  -----  \n",
      " 0   provincia       530 non-null    object \n",
      " 1   region          530 non-null    object \n",
      " 2   mes             530 non-null    int64  \n",
      " 3   año             530 non-null    int64  \n",
      " 4   latitud(º)      530 non-null    float64\n",
      " 5   longitud(º)     530 non-null    float64\n",
      " 6   profundidad_km  530 non-null    float64\n",
      " 7   magnitud_Mw     530 non-null    float64\n",
      "dtypes: float64(4), int64(2), object(2)\n",
      "memory usage: 33.2+ KB\n"
     ]
    }
   ],
   "source": [
    "# ver la informacion del dataset\n",
    "df.info()"
   ]
  },
  {
   "cell_type": "markdown",
   "metadata": {},
   "source": [
    "### Separar en datos de entrenamiento y prueba"
   ]
  },
  {
   "cell_type": "code",
   "execution_count": 339,
   "metadata": {},
   "outputs": [],
   "source": [
    "# separar los datos de entrenamiento y prueba\n",
    "from sklearn.model_selection import train_test_split\n",
    "# eliminar la provincia y region\n",
    "X = df.drop(['provincia','region','magnitud_Mw'], axis=1)\n",
    "y = df['magnitud_Mw']\n",
    "X_train, X_test, y_train, y_test = train_test_split(X, y, test_size=0.2, random_state=0)"
   ]
  },
  {
   "cell_type": "markdown",
   "metadata": {},
   "source": [
    "### Clustering usando KMeans"
   ]
  },
  {
   "cell_type": "code",
   "execution_count": 340,
   "metadata": {},
   "outputs": [
    {
     "data": {
      "image/png": "[encoded data removed]",
      "text/plain": [
       "<Figure size 432x288 with 1 Axes>"
      ]
     },
     "metadata": {
      "needs_background": "light"
     },
     "output_type": "display_data"
    }
   ],
   "source": [
    "# importar librerias necesarias\n",
    "from sklearn.cluster import KMeans\n",
    "\n",
    "# analizar la cantidad de clusters segun el metodo de la silueta\n",
    "from sklearn.metrics import silhouette_score\n",
    "\n",
    "# crear una lista de valores para k\n",
    "k_values = range(2, 10)\n",
    "\n",
    "# crear una lista para guardar los valores de la silueta\n",
    "silhouette_values = []\n",
    "\n",
    "# iterar sobre los valores de k\n",
    "for k in k_values:\n",
    "    # crear el modelo de k-means\n",
    "    kmeans = KMeans(n_clusters=k)\n",
    "    # ajustar el modelo\n",
    "    kmeans.fit(X_train)\n",
    "    # obtener las etiquetas de cluster\n",
    "    labels = kmeans.labels_\n",
    "    # obtener el valor de la silueta\n",
    "    silhouette_values.append(silhouette_score(X_train, labels))\n",
    "\n",
    "# crear un dataframe con los valores de la silueta\n",
    "silhouette_df = pd.DataFrame({'k': k_values, 'silhouette_score': silhouette_values})\n",
    "# crear una grafica para visualizar los valores de la silueta\n",
    "plt.plot(silhouette_df['k'], silhouette_df['silhouette_score'])\n",
    "plt.xlabel('k')\n",
    "plt.ylabel('silhouette score')\n",
    "plt.show()"
   ]
  },
  {
   "cell_type": "code",
   "execution_count": 341,
   "metadata": {},
   "outputs": [
    {
     "data": {
      "image/png": "[encoded data removed]",
      "text/plain": [
       "<Figure size 432x288 with 1 Axes>"
      ]
     },
     "metadata": {
      "needs_background": "light"
     },
     "output_type": "display_data"
    }
   ],
   "source": [
    "# usamos el metodo de davies-bouldin para determinar el numero de clusters\n",
    "from sklearn.metrics import davies_bouldin_score\n",
    "\n",
    "# crear una lista para guardar los valores de davies-bouldin\n",
    "davies_bouldin_values = []\n",
    "\n",
    "# iterar sobre los valores de k\n",
    "for k in k_values:\n",
    "    # crear el modelo de k-means\n",
    "    kmeans = KMeans(n_clusters=k)\n",
    "    # ajustar el modelo\n",
    "    kmeans.fit(X_train)\n",
    "    # obtener las etiquetas de cluster\n",
    "    labels = kmeans.labels_\n",
    "    # obtener el valor de davies-bouldin\n",
    "    davies_bouldin_values.append(davies_bouldin_score(X_train, labels))\n",
    "\n",
    "# crear un dataframe con los valores de davies-bouldin\n",
    "davies_bouldin_df = pd.DataFrame({'k': k_values, 'davies_bouldin_score': davies_bouldin_values})\n",
    "# crear una grafica para visualizar los valores de davies-bouldin\n",
    "plt.plot(davies_bouldin_df['k'], davies_bouldin_df['davies_bouldin_score'])\n",
    "plt.xlabel('k')\n",
    "plt.ylabel('davies bouldin score')\n",
    "plt.show()"
   ]
  },
  {
   "cell_type": "code",
   "execution_count": 342,
   "metadata": {},
   "outputs": [],
   "source": [
    "# se elige k=4 y se procede a crear el modelo\n",
    "kmeans = KMeans(n_clusters=4)\n",
    "# ajustar el modelo\n",
    "kmeans.fit(X_train)\n",
    "# obtener las etiquetas de cluster\n",
    "labels = kmeans.labels_\n",
    "\n",
    "# crear una columna con las etiquetas de cluster\n",
    "X_train['cluster_Kmeans'] = labels\n"
   ]
  },
  {
   "cell_type": "code",
   "execution_count": 343,
   "metadata": {},
   "outputs": [
    {
     "data": {
      "text/html": [
       "<div>\n",
       "<style scoped>\n",
       "    .dataframe tbody tr th:only-of-type {\n",
       "        vertical-align: middle;\n",
       "    }\n",
       "\n",
       "    .dataframe tbody tr th {\n",
       "        vertical-align: top;\n",
       "    }\n",
       "\n",
       "    .dataframe thead th {\n",
       "        text-align: right;\n",
       "    }\n",
       "</style>\n",
       "<table border=\"1\" class=\"dataframe\">\n",
       "  <thead>\n",
       "    <tr style=\"text-align: right;\">\n",
       "      <th></th>\n",
       "      <th>mes</th>\n",
       "      <th>año</th>\n",
       "      <th>latitud(º)</th>\n",
       "      <th>longitud(º)</th>\n",
       "      <th>profundidad_km</th>\n",
       "      <th>cluster_Kmeans</th>\n",
       "    </tr>\n",
       "  </thead>\n",
       "  <tbody>\n",
       "    <tr>\n",
       "      <th>446</th>\n",
       "      <td>8</td>\n",
       "      <td>2015</td>\n",
       "      <td>-12.3537</td>\n",
       "      <td>-76.2814</td>\n",
       "      <td>88.0</td>\n",
       "      <td>2</td>\n",
       "    </tr>\n",
       "    <tr>\n",
       "      <th>473</th>\n",
       "      <td>8</td>\n",
       "      <td>2017</td>\n",
       "      <td>-12.2172</td>\n",
       "      <td>-76.9840</td>\n",
       "      <td>71.0</td>\n",
       "      <td>0</td>\n",
       "    </tr>\n",
       "    <tr>\n",
       "      <th>502</th>\n",
       "      <td>4</td>\n",
       "      <td>2020</td>\n",
       "      <td>-12.5229</td>\n",
       "      <td>-76.7630</td>\n",
       "      <td>49.0</td>\n",
       "      <td>0</td>\n",
       "    </tr>\n",
       "    <tr>\n",
       "      <th>526</th>\n",
       "      <td>7</td>\n",
       "      <td>2022</td>\n",
       "      <td>-12.9454</td>\n",
       "      <td>-76.3364</td>\n",
       "      <td>89.0</td>\n",
       "      <td>2</td>\n",
       "    </tr>\n",
       "    <tr>\n",
       "      <th>412</th>\n",
       "      <td>6</td>\n",
       "      <td>2012</td>\n",
       "      <td>-11.5679</td>\n",
       "      <td>-76.4444</td>\n",
       "      <td>115.0</td>\n",
       "      <td>2</td>\n",
       "    </tr>\n",
       "  </tbody>\n",
       "</table>\n",
       "</div>"
      ],
      "text/plain": [
       "     mes   año  latitud(º)  longitud(º)  profundidad_km  cluster_Kmeans\n",
       "446    8  2015    -12.3537     -76.2814            88.0               2\n",
       "473    8  2017    -12.2172     -76.9840            71.0               0\n",
       "502    4  2020    -12.5229     -76.7630            49.0               0\n",
       "526    7  2022    -12.9454     -76.3364            89.0               2\n",
       "412    6  2012    -11.5679     -76.4444           115.0               2"
      ]
     },
     "execution_count": 343,
     "metadata": {},
     "output_type": "execute_result"
    }
   ],
   "source": [
    "X_train.head()"
   ]
  },
  {
   "cell_type": "code",
   "execution_count": 344,
   "metadata": {},
   "outputs": [
    {
     "data": {
      "text/plain": [
       "2    153\n",
       "0    135\n",
       "1    102\n",
       "3     34\n",
       "Name: cluster_Kmeans, dtype: int64"
      ]
     },
     "execution_count": 344,
     "metadata": {},
     "output_type": "execute_result"
    }
   ],
   "source": [
    "# ver la cantidad de registros por cluster\n",
    "X_train['cluster_Kmeans'].value_counts()"
   ]
  },
  {
   "cell_type": "code",
   "execution_count": 345,
   "metadata": {},
   "outputs": [
    {
     "name": "stderr",
     "output_type": "stream",
     "text": [
      "d:\\ProgramFiles\\anaconda3\\lib\\site-packages\\geopandas\\array.py:275: ShapelyDeprecationWarning: The array interface is deprecated and will no longer work in Shapely 2.0. Convert the '.coords' to a numpy array instead.\n",
      "  return GeometryArray(vectorized.points_from_xy(x, y, z), crs=crs)\n"
     ]
    },
    {
     "data": {
      "text/plain": [
       "<AxesSubplot:>"
      ]
     },
     "execution_count": 345,
     "metadata": {},
     "output_type": "execute_result"
    },
    {
     "data": {
      "image/png": "[encoded data removed]",
      "text/plain": [
       "<Figure size 720x720 with 2 Axes>"
      ]
     },
     "metadata": {
      "needs_background": "light"
     },
     "output_type": "display_data"
    }
   ],
   "source": [
    "# ver una mapa con la latitud y longitud con geopandas\n",
    "import geopandas as gpd\n",
    "# crear un dataframe con las columnas de latitud y longitud y las etiquetas de cluster\n",
    "df_lat_lon = X_train[['latitud(º)','longitud(º)','cluster_Kmeans']]\n",
    "# cambiar el nombre de las columnas\n",
    "df_lat_lon.columns = ['latitud','longitud','cluster_Kmeans']\n",
    "# crear un dataframe de geopandas\n",
    "gdf = gpd.GeoDataFrame(df_lat_lon, geometry=gpd.points_from_xy(df_lat_lon.longitud, df_lat_lon.latitud))\n",
    "# ver en el mapa del lima\n",
    "gdf.plot(column='cluster_Kmeans', legend=True, figsize=(10,10))"
   ]
  },
  {
   "cell_type": "markdown",
   "metadata": {},
   "source": [
    "### Clustering usando KMedoids"
   ]
  },
  {
   "cell_type": "code",
   "execution_count": 346,
   "metadata": {},
   "outputs": [
    {
     "data": {
      "text/plain": [
       "[<matplotlib.lines.Line2D at 0x25578146d90>]"
      ]
     },
     "execution_count": 346,
     "metadata": {},
     "output_type": "execute_result"
    },
    {
     "data": {
      "image/png": "[encoded data removed]",
      "text/plain": [
       "<Figure size 432x288 with 1 Axes>"
      ]
     },
     "metadata": {
      "needs_background": "light"
     },
     "output_type": "display_data"
    }
   ],
   "source": [
    "# importar librerias necesarias para Kmedoids\n",
    "from sklearn_extra.cluster import KMedoids\n",
    "from sklearn.metrics import silhouette_score\n",
    "\n",
    "# crear una lista de valores para k\n",
    "k_values = range(2, 10)\n",
    "\n",
    "# crear una lista para guardar los valores de la silueta\n",
    "silhouette_values = []\n",
    "\n",
    "# iterar sobre los valores de k\n",
    "for k in k_values:\n",
    "    # crear el modelo de k-medoids\n",
    "    kmedoids = KMedoids(n_clusters=k)\n",
    "    # ajustar el modelo\n",
    "    kmedoids.fit(X_train)\n",
    "    # obtener las etiquetas de cluster\n",
    "    labels = kmedoids.labels_\n",
    "    # obtener el valor de la silueta\n",
    "    silhouette_values.append(silhouette_score(X_train, labels))\n",
    "\n",
    "# crear un dataframe con los valores de la silueta\n",
    "silhouette_df = pd.DataFrame({'k': k_values, 'silhouette_score': silhouette_values})\n",
    "# crear una grafica para visualizar los valores de la silueta\n",
    "plt.plot(silhouette_df['k'], silhouette_df['silhouette_score'])"
   ]
  },
  {
   "cell_type": "code",
   "execution_count": 347,
   "metadata": {},
   "outputs": [
    {
     "data": {
      "text/plain": [
       "[<matplotlib.lines.Line2D at 0x255781ba280>]"
      ]
     },
     "execution_count": 347,
     "metadata": {},
     "output_type": "execute_result"
    },
    {
     "data": {
      "image/png": "[encoded data removed]",
      "text/plain": [
       "<Figure size 432x288 with 1 Axes>"
      ]
     },
     "metadata": {
      "needs_background": "light"
     },
     "output_type": "display_data"
    }
   ],
   "source": [
    "# usamos el metodo de davies-bouldin para determinar el numero de clusters\n",
    "from sklearn.metrics import davies_bouldin_score\n",
    "\n",
    "# crear una lista de valores para k\n",
    "k_values = range(2, 10)\n",
    "\n",
    "# crear una lista para guardar los valores de la silueta\n",
    "davies_bouldin_values = []\n",
    "\n",
    "# iterar sobre los valores de k\n",
    "for k in k_values:\n",
    "    # crear el modelo de k-medoids\n",
    "    kmedoids = KMedoids(n_clusters=k)\n",
    "    # ajustar el modelo\n",
    "    kmedoids.fit(X_train)\n",
    "    # obtener las etiquetas de cluster\n",
    "    labels = kmedoids.labels_\n",
    "    # obtener el valor de la silueta\n",
    "    davies_bouldin_values.append(davies_bouldin_score(X_train, labels))\n",
    "\n",
    "# crear un dataframe con los valores de la silueta\n",
    "davies_bouldin_df = pd.DataFrame({'k': k_values, 'davies_bouldin_score': davies_bouldin_values})\n",
    "# crear una grafica para visualizar los valores de la silueta\n",
    "plt.plot(davies_bouldin_df['k'], davies_bouldin_df['davies_bouldin_score'])"
   ]
  },
  {
   "cell_type": "code",
   "execution_count": 348,
   "metadata": {},
   "outputs": [
    {
     "data": {
      "text/html": [
       "<div>\n",
       "<style scoped>\n",
       "    .dataframe tbody tr th:only-of-type {\n",
       "        vertical-align: middle;\n",
       "    }\n",
       "\n",
       "    .dataframe tbody tr th {\n",
       "        vertical-align: top;\n",
       "    }\n",
       "\n",
       "    .dataframe thead th {\n",
       "        text-align: right;\n",
       "    }\n",
       "</style>\n",
       "<table border=\"1\" class=\"dataframe\">\n",
       "  <thead>\n",
       "    <tr style=\"text-align: right;\">\n",
       "      <th></th>\n",
       "      <th>mes</th>\n",
       "      <th>año</th>\n",
       "      <th>latitud(º)</th>\n",
       "      <th>longitud(º)</th>\n",
       "      <th>profundidad_km</th>\n",
       "      <th>cluster_Kmeans</th>\n",
       "      <th>cluster_Kmedoids</th>\n",
       "    </tr>\n",
       "  </thead>\n",
       "  <tbody>\n",
       "    <tr>\n",
       "      <th>446</th>\n",
       "      <td>8</td>\n",
       "      <td>2015</td>\n",
       "      <td>-12.3537</td>\n",
       "      <td>-76.2814</td>\n",
       "      <td>88.0</td>\n",
       "      <td>2</td>\n",
       "      <td>2</td>\n",
       "    </tr>\n",
       "    <tr>\n",
       "      <th>473</th>\n",
       "      <td>8</td>\n",
       "      <td>2017</td>\n",
       "      <td>-12.2172</td>\n",
       "      <td>-76.9840</td>\n",
       "      <td>71.0</td>\n",
       "      <td>0</td>\n",
       "      <td>1</td>\n",
       "    </tr>\n",
       "    <tr>\n",
       "      <th>502</th>\n",
       "      <td>4</td>\n",
       "      <td>2020</td>\n",
       "      <td>-12.5229</td>\n",
       "      <td>-76.7630</td>\n",
       "      <td>49.0</td>\n",
       "      <td>0</td>\n",
       "      <td>5</td>\n",
       "    </tr>\n",
       "    <tr>\n",
       "      <th>526</th>\n",
       "      <td>7</td>\n",
       "      <td>2022</td>\n",
       "      <td>-12.9454</td>\n",
       "      <td>-76.3364</td>\n",
       "      <td>89.0</td>\n",
       "      <td>2</td>\n",
       "      <td>2</td>\n",
       "    </tr>\n",
       "    <tr>\n",
       "      <th>412</th>\n",
       "      <td>6</td>\n",
       "      <td>2012</td>\n",
       "      <td>-11.5679</td>\n",
       "      <td>-76.4444</td>\n",
       "      <td>115.0</td>\n",
       "      <td>2</td>\n",
       "      <td>2</td>\n",
       "    </tr>\n",
       "  </tbody>\n",
       "</table>\n",
       "</div>"
      ],
      "text/plain": [
       "     mes   año  latitud(º)  longitud(º)  profundidad_km  cluster_Kmeans  \\\n",
       "446    8  2015    -12.3537     -76.2814            88.0               2   \n",
       "473    8  2017    -12.2172     -76.9840            71.0               0   \n",
       "502    4  2020    -12.5229     -76.7630            49.0               0   \n",
       "526    7  2022    -12.9454     -76.3364            89.0               2   \n",
       "412    6  2012    -11.5679     -76.4444           115.0               2   \n",
       "\n",
       "     cluster_Kmedoids  \n",
       "446                 2  \n",
       "473                 1  \n",
       "502                 5  \n",
       "526                 2  \n",
       "412                 2  "
      ]
     },
     "execution_count": 348,
     "metadata": {},
     "output_type": "execute_result"
    }
   ],
   "source": [
    "# comparando los resultados de los dos metodos, se elige k=6 \n",
    "kmedoids = KMedoids(n_clusters=6)\n",
    "# ajustar el modelo ovbiando la columna de cluster_Kmeans\n",
    "kmedoids.fit(X_train.drop(columns='cluster_Kmeans'))\n",
    "labels = kmedoids.labels_\n",
    "\n",
    "# crear una columna con las etiquetas de cluster\n",
    "X_train['cluster_Kmedoids'] = labels\n",
    "\n",
    "X_train.head()\n"
   ]
  },
  {
   "cell_type": "code",
   "execution_count": 349,
   "metadata": {},
   "outputs": [
    {
     "data": {
      "text/plain": [
       "2    96\n",
       "1    86\n",
       "5    85\n",
       "0    74\n",
       "4    53\n",
       "3    30\n",
       "Name: cluster_Kmedoids, dtype: int64"
      ]
     },
     "execution_count": 349,
     "metadata": {},
     "output_type": "execute_result"
    }
   ],
   "source": [
    "# ver la cantidad de registros por cluster\n",
    "X_train['cluster_Kmedoids'].value_counts()"
   ]
  },
  {
   "cell_type": "code",
   "execution_count": 350,
   "metadata": {},
   "outputs": [
    {
     "name": "stderr",
     "output_type": "stream",
     "text": [
      "d:\\ProgramFiles\\anaconda3\\lib\\site-packages\\geopandas\\array.py:275: ShapelyDeprecationWarning: The array interface is deprecated and will no longer work in Shapely 2.0. Convert the '.coords' to a numpy array instead.\n",
      "  return GeometryArray(vectorized.points_from_xy(x, y, z), crs=crs)\n"
     ]
    },
    {
     "data": {
      "text/plain": [
       "<AxesSubplot:>"
      ]
     },
     "execution_count": 350,
     "metadata": {},
     "output_type": "execute_result"
    },
    {
     "data": {
      "image/png": "[encoded data removed]",
      "text/plain": [
       "<Figure size 720x720 with 2 Axes>"
      ]
     },
     "metadata": {
      "needs_background": "light"
     },
     "output_type": "display_data"
    }
   ],
   "source": [
    "# ver una mapa con la latitud y longitud con geopandas\n",
    "import geopandas as gpd\n",
    "# crear un dataframe con las columnas de latitud y longitud y las etiquetas de cluster\n",
    "df_lat_lon = X_train[['latitud(º)','longitud(º)','cluster_Kmedoids']]\n",
    "# cambiar el nombre de las columnas\n",
    "df_lat_lon.columns = ['latitud','longitud','cluster_Kmedoids']\n",
    "# crear un dataframe de geopandas\n",
    "gdf = gpd.GeoDataFrame(df_lat_lon, geometry=gpd.points_from_xy(df_lat_lon.longitud, df_lat_lon.latitud))\n",
    "# ver en el mapa del lima\n",
    "gdf.plot(column='cluster_Kmedoids', legend=True, figsize=(10,10))\n"
   ]
  },
  {
   "cell_type": "code",
   "execution_count": 351,
   "metadata": {},
   "outputs": [
    {
     "data": {
      "text/plain": [
       "2    96\n",
       "1    86\n",
       "5    85\n",
       "0    74\n",
       "4    53\n",
       "3    30\n",
       "Name: cluster_Kmedoids, dtype: int64"
      ]
     },
     "execution_count": 351,
     "metadata": {},
     "output_type": "execute_result"
    }
   ],
   "source": [
    "# ver todos los clusters\n",
    "X_train['cluster_Kmedoids'].value_counts()"
   ]
  },
  {
   "cell_type": "code",
   "execution_count": 352,
   "metadata": {},
   "outputs": [
    {
     "data": {
      "text/html": [
       "<div>\n",
       "<style scoped>\n",
       "    .dataframe tbody tr th:only-of-type {\n",
       "        vertical-align: middle;\n",
       "    }\n",
       "\n",
       "    .dataframe tbody tr th {\n",
       "        vertical-align: top;\n",
       "    }\n",
       "\n",
       "    .dataframe thead th {\n",
       "        text-align: right;\n",
       "    }\n",
       "</style>\n",
       "<table border=\"1\" class=\"dataframe\">\n",
       "  <thead>\n",
       "    <tr style=\"text-align: right;\">\n",
       "      <th></th>\n",
       "      <th>mes</th>\n",
       "      <th>año</th>\n",
       "      <th>latitud(º)</th>\n",
       "      <th>longitud(º)</th>\n",
       "      <th>profundidad_km</th>\n",
       "      <th>cluster_Kmeans</th>\n",
       "      <th>cluster_Kmedoids</th>\n",
       "    </tr>\n",
       "  </thead>\n",
       "  <tbody>\n",
       "    <tr>\n",
       "      <th>446</th>\n",
       "      <td>8</td>\n",
       "      <td>2015</td>\n",
       "      <td>-12.3537</td>\n",
       "      <td>-76.2814</td>\n",
       "      <td>88.0</td>\n",
       "      <td>2</td>\n",
       "      <td>2</td>\n",
       "    </tr>\n",
       "    <tr>\n",
       "      <th>473</th>\n",
       "      <td>8</td>\n",
       "      <td>2017</td>\n",
       "      <td>-12.2172</td>\n",
       "      <td>-76.9840</td>\n",
       "      <td>71.0</td>\n",
       "      <td>0</td>\n",
       "      <td>1</td>\n",
       "    </tr>\n",
       "    <tr>\n",
       "      <th>502</th>\n",
       "      <td>4</td>\n",
       "      <td>2020</td>\n",
       "      <td>-12.5229</td>\n",
       "      <td>-76.7630</td>\n",
       "      <td>49.0</td>\n",
       "      <td>0</td>\n",
       "      <td>5</td>\n",
       "    </tr>\n",
       "    <tr>\n",
       "      <th>526</th>\n",
       "      <td>7</td>\n",
       "      <td>2022</td>\n",
       "      <td>-12.9454</td>\n",
       "      <td>-76.3364</td>\n",
       "      <td>89.0</td>\n",
       "      <td>2</td>\n",
       "      <td>2</td>\n",
       "    </tr>\n",
       "    <tr>\n",
       "      <th>412</th>\n",
       "      <td>6</td>\n",
       "      <td>2012</td>\n",
       "      <td>-11.5679</td>\n",
       "      <td>-76.4444</td>\n",
       "      <td>115.0</td>\n",
       "      <td>2</td>\n",
       "      <td>2</td>\n",
       "    </tr>\n",
       "  </tbody>\n",
       "</table>\n",
       "</div>"
      ],
      "text/plain": [
       "     mes   año  latitud(º)  longitud(º)  profundidad_km  cluster_Kmeans  \\\n",
       "446    8  2015    -12.3537     -76.2814            88.0               2   \n",
       "473    8  2017    -12.2172     -76.9840            71.0               0   \n",
       "502    4  2020    -12.5229     -76.7630            49.0               0   \n",
       "526    7  2022    -12.9454     -76.3364            89.0               2   \n",
       "412    6  2012    -11.5679     -76.4444           115.0               2   \n",
       "\n",
       "     cluster_Kmedoids  \n",
       "446                 2  \n",
       "473                 1  \n",
       "502                 5  \n",
       "526                 2  \n",
       "412                 2  "
      ]
     },
     "execution_count": 352,
     "metadata": {},
     "output_type": "execute_result"
    }
   ],
   "source": [
    "X_train.head()"
   ]
  },
  {
   "cell_type": "code",
   "execution_count": 353,
   "metadata": {},
   "outputs": [
    {
     "data": {
      "text/plain": [
       "446    5.4\n",
       "473    4.5\n",
       "502    3.9\n",
       "526    4.8\n",
       "412    4.5\n",
       "Name: magnitud_Mw, dtype: float64"
      ]
     },
     "execution_count": 353,
     "metadata": {},
     "output_type": "execute_result"
    }
   ],
   "source": [
    "y_train.head()"
   ]
  },
  {
   "cell_type": "code",
   "execution_count": 354,
   "metadata": {},
   "outputs": [
    {
     "data": {
      "text/html": [
       "<div>\n",
       "<style scoped>\n",
       "    .dataframe tbody tr th:only-of-type {\n",
       "        vertical-align: middle;\n",
       "    }\n",
       "\n",
       "    .dataframe tbody tr th {\n",
       "        vertical-align: top;\n",
       "    }\n",
       "\n",
       "    .dataframe thead th {\n",
       "        text-align: right;\n",
       "    }\n",
       "</style>\n",
       "<table border=\"1\" class=\"dataframe\">\n",
       "  <thead>\n",
       "    <tr style=\"text-align: right;\">\n",
       "      <th></th>\n",
       "      <th>mes</th>\n",
       "      <th>año</th>\n",
       "      <th>latitud(º)</th>\n",
       "      <th>longitud(º)</th>\n",
       "      <th>profundidad_km</th>\n",
       "    </tr>\n",
       "  </thead>\n",
       "  <tbody>\n",
       "    <tr>\n",
       "      <th>408</th>\n",
       "      <td>3</td>\n",
       "      <td>2012</td>\n",
       "      <td>-12.8786</td>\n",
       "      <td>-76.1802</td>\n",
       "      <td>77.0</td>\n",
       "    </tr>\n",
       "    <tr>\n",
       "      <th>437</th>\n",
       "      <td>11</td>\n",
       "      <td>2014</td>\n",
       "      <td>-11.0250</td>\n",
       "      <td>-77.4430</td>\n",
       "      <td>78.0</td>\n",
       "    </tr>\n",
       "    <tr>\n",
       "      <th>485</th>\n",
       "      <td>3</td>\n",
       "      <td>2018</td>\n",
       "      <td>-12.1858</td>\n",
       "      <td>-75.9702</td>\n",
       "      <td>119.0</td>\n",
       "    </tr>\n",
       "    <tr>\n",
       "      <th>298</th>\n",
       "      <td>12</td>\n",
       "      <td>1997</td>\n",
       "      <td>-11.8986</td>\n",
       "      <td>-76.5810</td>\n",
       "      <td>117.0</td>\n",
       "    </tr>\n",
       "    <tr>\n",
       "      <th>508</th>\n",
       "      <td>9</td>\n",
       "      <td>2020</td>\n",
       "      <td>-12.0401</td>\n",
       "      <td>-76.9329</td>\n",
       "      <td>93.0</td>\n",
       "    </tr>\n",
       "  </tbody>\n",
       "</table>\n",
       "</div>"
      ],
      "text/plain": [
       "     mes   año  latitud(º)  longitud(º)  profundidad_km\n",
       "408    3  2012    -12.8786     -76.1802            77.0\n",
       "437   11  2014    -11.0250     -77.4430            78.0\n",
       "485    3  2018    -12.1858     -75.9702           119.0\n",
       "298   12  1997    -11.8986     -76.5810           117.0\n",
       "508    9  2020    -12.0401     -76.9329            93.0"
      ]
     },
     "execution_count": 354,
     "metadata": {},
     "output_type": "execute_result"
    }
   ],
   "source": [
    "X_test.head()"
   ]
  },
  {
   "cell_type": "code",
   "execution_count": 355,
   "metadata": {},
   "outputs": [
    {
     "data": {
      "text/plain": [
       "408    4.6\n",
       "437    4.8\n",
       "485    4.5\n",
       "298    4.6\n",
       "508    4.5\n",
       "Name: magnitud_Mw, dtype: float64"
      ]
     },
     "execution_count": 355,
     "metadata": {},
     "output_type": "execute_result"
    }
   ],
   "source": [
    "y_test.head()"
   ]
  },
  {
   "cell_type": "code",
   "execution_count": 356,
   "metadata": {},
   "outputs": [],
   "source": [
    "# predecir el numero de clusters para el conjunto de test en una nueva columna\n",
    "X_test['cluster_Kmedoids'] = kmedoids.predict(X_test)\n"
   ]
  },
  {
   "cell_type": "code",
   "execution_count": 357,
   "metadata": {},
   "outputs": [
    {
     "data": {
      "text/html": [
       "<div>\n",
       "<style scoped>\n",
       "    .dataframe tbody tr th:only-of-type {\n",
       "        vertical-align: middle;\n",
       "    }\n",
       "\n",
       "    .dataframe tbody tr th {\n",
       "        vertical-align: top;\n",
       "    }\n",
       "\n",
       "    .dataframe thead th {\n",
       "        text-align: right;\n",
       "    }\n",
       "</style>\n",
       "<table border=\"1\" class=\"dataframe\">\n",
       "  <thead>\n",
       "    <tr style=\"text-align: right;\">\n",
       "      <th></th>\n",
       "      <th>mes</th>\n",
       "      <th>año</th>\n",
       "      <th>latitud(º)</th>\n",
       "      <th>longitud(º)</th>\n",
       "      <th>profundidad_km</th>\n",
       "      <th>cluster_Kmedoids</th>\n",
       "    </tr>\n",
       "  </thead>\n",
       "  <tbody>\n",
       "    <tr>\n",
       "      <th>408</th>\n",
       "      <td>3</td>\n",
       "      <td>2012</td>\n",
       "      <td>-12.8786</td>\n",
       "      <td>-76.1802</td>\n",
       "      <td>77.0</td>\n",
       "      <td>1</td>\n",
       "    </tr>\n",
       "    <tr>\n",
       "      <th>437</th>\n",
       "      <td>11</td>\n",
       "      <td>2014</td>\n",
       "      <td>-11.0250</td>\n",
       "      <td>-77.4430</td>\n",
       "      <td>78.0</td>\n",
       "      <td>1</td>\n",
       "    </tr>\n",
       "    <tr>\n",
       "      <th>485</th>\n",
       "      <td>3</td>\n",
       "      <td>2018</td>\n",
       "      <td>-12.1858</td>\n",
       "      <td>-75.9702</td>\n",
       "      <td>119.0</td>\n",
       "      <td>2</td>\n",
       "    </tr>\n",
       "    <tr>\n",
       "      <th>298</th>\n",
       "      <td>12</td>\n",
       "      <td>1997</td>\n",
       "      <td>-11.8986</td>\n",
       "      <td>-76.5810</td>\n",
       "      <td>117.0</td>\n",
       "      <td>4</td>\n",
       "    </tr>\n",
       "    <tr>\n",
       "      <th>508</th>\n",
       "      <td>9</td>\n",
       "      <td>2020</td>\n",
       "      <td>-12.0401</td>\n",
       "      <td>-76.9329</td>\n",
       "      <td>93.0</td>\n",
       "      <td>2</td>\n",
       "    </tr>\n",
       "  </tbody>\n",
       "</table>\n",
       "</div>"
      ],
      "text/plain": [
       "     mes   año  latitud(º)  longitud(º)  profundidad_km  cluster_Kmedoids\n",
       "408    3  2012    -12.8786     -76.1802            77.0                 1\n",
       "437   11  2014    -11.0250     -77.4430            78.0                 1\n",
       "485    3  2018    -12.1858     -75.9702           119.0                 2\n",
       "298   12  1997    -11.8986     -76.5810           117.0                 4\n",
       "508    9  2020    -12.0401     -76.9329            93.0                 2"
      ]
     },
     "execution_count": 357,
     "metadata": {},
     "output_type": "execute_result"
    }
   ],
   "source": [
    "X_test.head()"
   ]
  },
  {
   "cell_type": "code",
   "execution_count": 358,
   "metadata": {},
   "outputs": [],
   "source": [
    "# predecir el numero de clusters para el conjunto de test con Kmeans en una nueva columna\n",
    "X_test['cluster_Kmeans'] = kmeans.predict(X_test.drop(columns='cluster_Kmedoids'))"
   ]
  },
  {
   "cell_type": "code",
   "execution_count": 359,
   "metadata": {},
   "outputs": [
    {
     "data": {
      "text/html": [
       "<div>\n",
       "<style scoped>\n",
       "    .dataframe tbody tr th:only-of-type {\n",
       "        vertical-align: middle;\n",
       "    }\n",
       "\n",
       "    .dataframe tbody tr th {\n",
       "        vertical-align: top;\n",
       "    }\n",
       "\n",
       "    .dataframe thead th {\n",
       "        text-align: right;\n",
       "    }\n",
       "</style>\n",
       "<table border=\"1\" class=\"dataframe\">\n",
       "  <thead>\n",
       "    <tr style=\"text-align: right;\">\n",
       "      <th></th>\n",
       "      <th>mes</th>\n",
       "      <th>año</th>\n",
       "      <th>latitud(º)</th>\n",
       "      <th>longitud(º)</th>\n",
       "      <th>profundidad_km</th>\n",
       "      <th>cluster_Kmedoids</th>\n",
       "      <th>cluster_Kmeans</th>\n",
       "    </tr>\n",
       "  </thead>\n",
       "  <tbody>\n",
       "    <tr>\n",
       "      <th>408</th>\n",
       "      <td>3</td>\n",
       "      <td>2012</td>\n",
       "      <td>-12.8786</td>\n",
       "      <td>-76.1802</td>\n",
       "      <td>77.0</td>\n",
       "      <td>1</td>\n",
       "      <td>0</td>\n",
       "    </tr>\n",
       "    <tr>\n",
       "      <th>437</th>\n",
       "      <td>11</td>\n",
       "      <td>2014</td>\n",
       "      <td>-11.0250</td>\n",
       "      <td>-77.4430</td>\n",
       "      <td>78.0</td>\n",
       "      <td>1</td>\n",
       "      <td>0</td>\n",
       "    </tr>\n",
       "    <tr>\n",
       "      <th>485</th>\n",
       "      <td>3</td>\n",
       "      <td>2018</td>\n",
       "      <td>-12.1858</td>\n",
       "      <td>-75.9702</td>\n",
       "      <td>119.0</td>\n",
       "      <td>2</td>\n",
       "      <td>2</td>\n",
       "    </tr>\n",
       "    <tr>\n",
       "      <th>298</th>\n",
       "      <td>12</td>\n",
       "      <td>1997</td>\n",
       "      <td>-11.8986</td>\n",
       "      <td>-76.5810</td>\n",
       "      <td>117.0</td>\n",
       "      <td>4</td>\n",
       "      <td>2</td>\n",
       "    </tr>\n",
       "    <tr>\n",
       "      <th>508</th>\n",
       "      <td>9</td>\n",
       "      <td>2020</td>\n",
       "      <td>-12.0401</td>\n",
       "      <td>-76.9329</td>\n",
       "      <td>93.0</td>\n",
       "      <td>2</td>\n",
       "      <td>2</td>\n",
       "    </tr>\n",
       "  </tbody>\n",
       "</table>\n",
       "</div>"
      ],
      "text/plain": [
       "     mes   año  latitud(º)  longitud(º)  profundidad_km  cluster_Kmedoids  \\\n",
       "408    3  2012    -12.8786     -76.1802            77.0                 1   \n",
       "437   11  2014    -11.0250     -77.4430            78.0                 1   \n",
       "485    3  2018    -12.1858     -75.9702           119.0                 2   \n",
       "298   12  1997    -11.8986     -76.5810           117.0                 4   \n",
       "508    9  2020    -12.0401     -76.9329            93.0                 2   \n",
       "\n",
       "     cluster_Kmeans  \n",
       "408               0  \n",
       "437               0  \n",
       "485               2  \n",
       "298               2  \n",
       "508               2  "
      ]
     },
     "execution_count": 359,
     "metadata": {},
     "output_type": "execute_result"
    }
   ],
   "source": [
    "X_test.head()"
   ]
  },
  {
   "cell_type": "markdown",
   "metadata": {},
   "source": [
    "### exportamos los datos de prueba y entrenamiento en archivos csv"
   ]
  },
  {
   "cell_type": "code",
   "execution_count": 360,
   "metadata": {},
   "outputs": [],
   "source": [
    "# guardar los datos de entrenamiento y test\n",
    "X_train.to_csv('X_train.csv', index=False)\n",
    "X_test.to_csv('X_test.csv', index=False)\n",
    "y_train.to_csv('y_train.csv', index=False)\n",
    "y_test.to_csv('y_test.csv', index=False)"
   ]
  },
  {
   "cell_type": "code",
   "execution_count": 361,
   "metadata": {},
   "outputs": [],
   "source": [
    "# cargar los datos de entrenamiento y test\n",
    "X_train = pd.read_csv('X_train.csv')\n",
    "X_test = pd.read_csv('X_test.csv')\n",
    "y_train = pd.read_csv('y_train.csv')\n",
    "y_test = pd.read_csv('y_test.csv')\n"
   ]
  },
  {
   "cell_type": "markdown",
   "metadata": {},
   "source": [
    "### Ejemplo de modelo Random Forest con clusteres de Kmedoids"
   ]
  },
  {
   "cell_type": "code",
   "execution_count": 364,
   "metadata": {},
   "outputs": [
    {
     "data": {
      "text/plain": [
       "RandomForestRegressor()"
      ]
     },
     "execution_count": 364,
     "metadata": {},
     "output_type": "execute_result"
    }
   ],
   "source": [
    "# crear un modelo RandomForestRegressor para cada cluster\n",
    "from sklearn.ensemble import RandomForestRegressor\n",
    "\n",
    "# entrenar un modelo para el cluster 0\n",
    "rf_0 = RandomForestRegressor()\n",
    "rf_0.fit(X_train[X_train['cluster_Kmedoids']==0].drop(columns=['cluster_Kmedoids','cluster_Kmeans']), y_train[X_train['cluster_Kmedoids']==0].values.ravel())"
   ]
  },
  {
   "cell_type": "code",
   "execution_count": 370,
   "metadata": {},
   "outputs": [
    {
     "data": {
      "text/html": [
       "<div>\n",
       "<style scoped>\n",
       "    .dataframe tbody tr th:only-of-type {\n",
       "        vertical-align: middle;\n",
       "    }\n",
       "\n",
       "    .dataframe tbody tr th {\n",
       "        vertical-align: top;\n",
       "    }\n",
       "\n",
       "    .dataframe thead th {\n",
       "        text-align: right;\n",
       "    }\n",
       "</style>\n",
       "<table border=\"1\" class=\"dataframe\">\n",
       "  <thead>\n",
       "    <tr style=\"text-align: right;\">\n",
       "      <th></th>\n",
       "      <th>y_test</th>\n",
       "      <th>y_pred</th>\n",
       "    </tr>\n",
       "  </thead>\n",
       "  <tbody>\n",
       "    <tr>\n",
       "      <th>0</th>\n",
       "      <td>4.5</td>\n",
       "      <td>4.9460</td>\n",
       "    </tr>\n",
       "    <tr>\n",
       "      <th>1</th>\n",
       "      <td>4.5</td>\n",
       "      <td>4.9054</td>\n",
       "    </tr>\n",
       "    <tr>\n",
       "      <th>2</th>\n",
       "      <td>4.5</td>\n",
       "      <td>4.8520</td>\n",
       "    </tr>\n",
       "    <tr>\n",
       "      <th>3</th>\n",
       "      <td>4.6</td>\n",
       "      <td>4.6040</td>\n",
       "    </tr>\n",
       "    <tr>\n",
       "      <th>4</th>\n",
       "      <td>4.6</td>\n",
       "      <td>4.8370</td>\n",
       "    </tr>\n",
       "    <tr>\n",
       "      <th>5</th>\n",
       "      <td>4.5</td>\n",
       "      <td>4.6790</td>\n",
       "    </tr>\n",
       "    <tr>\n",
       "      <th>6</th>\n",
       "      <td>4.5</td>\n",
       "      <td>4.8510</td>\n",
       "    </tr>\n",
       "    <tr>\n",
       "      <th>7</th>\n",
       "      <td>4.8</td>\n",
       "      <td>4.7926</td>\n",
       "    </tr>\n",
       "    <tr>\n",
       "      <th>8</th>\n",
       "      <td>4.5</td>\n",
       "      <td>4.8110</td>\n",
       "    </tr>\n",
       "    <tr>\n",
       "      <th>9</th>\n",
       "      <td>4.8</td>\n",
       "      <td>4.7610</td>\n",
       "    </tr>\n",
       "    <tr>\n",
       "      <th>10</th>\n",
       "      <td>4.5</td>\n",
       "      <td>4.7520</td>\n",
       "    </tr>\n",
       "    <tr>\n",
       "      <th>11</th>\n",
       "      <td>4.5</td>\n",
       "      <td>4.7420</td>\n",
       "    </tr>\n",
       "    <tr>\n",
       "      <th>12</th>\n",
       "      <td>4.5</td>\n",
       "      <td>4.7124</td>\n",
       "    </tr>\n",
       "    <tr>\n",
       "      <th>13</th>\n",
       "      <td>4.5</td>\n",
       "      <td>4.7740</td>\n",
       "    </tr>\n",
       "    <tr>\n",
       "      <th>14</th>\n",
       "      <td>4.5</td>\n",
       "      <td>4.6390</td>\n",
       "    </tr>\n",
       "    <tr>\n",
       "      <th>15</th>\n",
       "      <td>4.5</td>\n",
       "      <td>4.6970</td>\n",
       "    </tr>\n",
       "    <tr>\n",
       "      <th>16</th>\n",
       "      <td>4.5</td>\n",
       "      <td>4.7100</td>\n",
       "    </tr>\n",
       "    <tr>\n",
       "      <th>17</th>\n",
       "      <td>4.7</td>\n",
       "      <td>4.7570</td>\n",
       "    </tr>\n",
       "  </tbody>\n",
       "</table>\n",
       "</div>"
      ],
      "text/plain": [
       "    y_test  y_pred\n",
       "0      4.5  4.9460\n",
       "1      4.5  4.9054\n",
       "2      4.5  4.8520\n",
       "3      4.6  4.6040\n",
       "4      4.6  4.8370\n",
       "5      4.5  4.6790\n",
       "6      4.5  4.8510\n",
       "7      4.8  4.7926\n",
       "8      4.5  4.8110\n",
       "9      4.8  4.7610\n",
       "10     4.5  4.7520\n",
       "11     4.5  4.7420\n",
       "12     4.5  4.7124\n",
       "13     4.5  4.7740\n",
       "14     4.5  4.6390\n",
       "15     4.5  4.6970\n",
       "16     4.5  4.7100\n",
       "17     4.7  4.7570"
      ]
     },
     "execution_count": 370,
     "metadata": {},
     "output_type": "execute_result"
    }
   ],
   "source": [
    "# predecir los valores de la variable objetivo para el cluster 0\n",
    "y_pred_0 = rf_0.predict(X_test[X_test['cluster_Kmedoids']==0].drop(columns=['cluster_Kmedoids','cluster_Kmeans']))\n",
    "\n",
    "# evaluar el modelo para el cluster 0\n",
    "from sklearn.metrics import mean_squared_error\n",
    "mean_squared_error(y_test[X_test['cluster_Kmedoids']==0], y_pred_0)\n",
    "\n",
    "# ver en un dataframe los valores reales y los predichos\n",
    "pd.DataFrame({'y_test': y_test[X_test['cluster_Kmedoids']==0].values.ravel(), 'y_pred': y_pred_0})"
   ]
  }
 ],
 "metadata": {
  "kernelspec": {
   "display_name": "Python 3.9.12 ('base')",
   "language": "python",
   "name": "python3"
  },
  "language_info": {
   "codemirror_mode": {
    "name": "ipython",
    "version": 3
   },
   "file_extension": ".py",
   "mimetype": "text/x-python",
   "name": "python",
   "nbconvert_exporter": "python",
   "pygments_lexer": "ipython3",
   "version": "3.9.12"
  },
  "orig_nbformat": 4,
  "vscode": {
   "interpreter": {
    "hash": "bddb6c94227d8177e61600db041b4cc1c87a884063126e29a3bfd540ed5196fb"
   }
  }
 },
 "nbformat": 4,
 "nbformat_minor": 2
}
