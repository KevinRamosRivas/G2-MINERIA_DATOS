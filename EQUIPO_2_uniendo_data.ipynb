{
  "nbformat": 4,
  "nbformat_minor": 0,
  "metadata": {
    "colab": {
      "provenance": []
    },
    "kernelspec": {
      "name": "python3",
      "display_name": "Python 3"
    },
    "language_info": {
      "name": "python"
    }
  },
  "cells": [
    {
      "cell_type": "markdown",
      "source": [
        "# Equipo 2: Trabajo parcial\n",
        "\n",
        "## Semana 7\n",
        "## Curso: Minería de Datos\n",
        "## Integrantes:\n",
        "* Blas Ruiz, Luis Aaron - 19200069\n",
        "* Huarhuachi Ortega, Andrea Mariana - 19200267\n",
        "* Ramos Rivas, Kevin Keyler - 19200096\n",
        "* Rojas Villanueva, Paula Elianne - 19200266\n",
        "* Torres Talaverano, Luz Elena - 19200294"
      ],
      "metadata": {
        "id": "Rrp6rM11xz3R"
      }
    },
    {
      "cell_type": "markdown",
      "source": [
        "## Información del conjunto de datos\n",
        "Esta base es respecto a los datos sísmicos las cuales contiene todos los parámetros que caracterizan a un sismo, calculados en las mismas condiciones a fin de constituirse como una base homogénea: fecha, hora, latitud, longitud, profundidad y magnitud.\n",
        "\n",
        "\n",
        "#### Atributos para el conjunto de datos\n",
        "* fecha_UTC: Hora universal coordinada (UTC), Es la fecha con cinco horas adelantadas con respecto a la hora local debido a que Peru se encuentra en una zona horaria UTC -5\n",
        "* hora_UTC: Hora universal coordinada (UTC), cinco horas adelantadas con respecto a la hora local debido a que Peru se encuentra en una zona horaria UTC -5\n",
        "* latitud(º): Es la distancia en grados, minutos y segundos que hay con respecto al paralelo principal, que es el ecuador (0º). La latitud puede ser norte y sur\n",
        "* longitud(º): Es la distancia en grados, minutos y segundos que hay con respecto al meridiano principal, que es el meridiano de Greenwich (0º).\n",
        "* profundidad_km: Profundidad del foco sísmisco por debajo de la superficie\n",
        "\n",
        "Estas tres columnas luego seran reemplazadas ya que la data nueva del IGP solo posee una columna llamada Magnitud(M)\n",
        "* magnitud_mb: Magnitud de Ondas de Cuerpo\n",
        "* magnitud_Ms: Magnitud de Ondas Superficiales\n",
        "* magnitud_Mw: Magnitud Momento (Corresponde a la cantidad de energía liberada por el sismo)"
      ],
      "metadata": {
        "id": "h4YdEEvBx66w"
      }
    },
    {
      "cell_type": "markdown",
      "source": [
        "## Importación de Librerías"
      ],
      "metadata": {
        "id": "NauYmLNxyD62"
      }
    },
    {
      "cell_type": "code",
      "source": [
        "import pandas as pd\n",
        "import numpy as np\n",
        "import seaborn as sns\n",
        "import matplotlib.pyplot as plt"
      ],
      "metadata": {
        "id": "DnbcBvY2yWd5"
      },
      "execution_count": 1,
      "outputs": []
    },
    {
      "cell_type": "markdown",
      "source": [
        "**Leer archivo de datos de 1920-2022 y datos historicos**"
      ],
      "metadata": {
        "id": "45sZobO-yHO3"
      }
    },
    {
      "cell_type": "code",
      "execution_count": 2,
      "metadata": {
        "id": "zXAh3OXexydQ"
      },
      "outputs": [],
      "source": [
        "df_sismos_1920_2022 = pd.read_csv('https://raw.githubusercontent.com/KevinRamosRivas/G2-MINERIA_DATOS/main/IGP_Datos-Sismicos_1960-2022_V2.csv')"
      ]
    },
    {
      "cell_type": "code",
      "source": [
        "df_sismos_historico = pd.read_csv('https://raw.githubusercontent.com/KevinRamosRivas/G2-MINERIA_DATOS/main/IGP_datos_sismicosHist%C3%B3rico_V2.csv')"
      ],
      "metadata": {
        "id": "HnF9qXbbyo8l"
      },
      "execution_count": 3,
      "outputs": []
    },
    {
      "cell_type": "markdown",
      "source": [
        "**Describiendo datasets**"
      ],
      "metadata": {
        "id": "msMLjVxYy5jQ"
      }
    },
    {
      "cell_type": "code",
      "source": [
        "df_sismos_1920_2022.info()"
      ],
      "metadata": {
        "colab": {
          "base_uri": "https://localhost:8080/"
        },
        "id": "IrdWgSOEy92B",
        "outputId": "ee940d56-873d-4819-ad3f-3740faa19572"
      },
      "execution_count": 4,
      "outputs": [
        {
          "output_type": "stream",
          "name": "stdout",
          "text": [
            "<class 'pandas.core.frame.DataFrame'>\n",
            "RangeIndex: 494 entries, 0 to 493\n",
            "Data columns (total 8 columns):\n",
            " #   Column          Non-Null Count  Dtype  \n",
            "---  ------          --------------  -----  \n",
            " 0   provincia       494 non-null    object \n",
            " 1   region          494 non-null    object \n",
            " 2   mes             494 non-null    int64  \n",
            " 3   año             494 non-null    int64  \n",
            " 4   latitud(º)      494 non-null    float64\n",
            " 5   longitud(º)     494 non-null    float64\n",
            " 6   profundidad_km  494 non-null    int64  \n",
            " 7   magnitud_Mw     494 non-null    float64\n",
            "dtypes: float64(3), int64(3), object(2)\n",
            "memory usage: 31.0+ KB\n"
          ]
        }
      ]
    },
    {
      "cell_type": "code",
      "source": [
        "df_sismos_1920_2022.shape"
      ],
      "metadata": {
        "colab": {
          "base_uri": "https://localhost:8080/"
        },
        "id": "RI9ZW_34zEV1",
        "outputId": "38fba8e1-953c-45ea-bc69-3e14b2091c20"
      },
      "execution_count": 5,
      "outputs": [
        {
          "output_type": "execute_result",
          "data": {
            "text/plain": [
              "(494, 8)"
            ]
          },
          "metadata": {},
          "execution_count": 5
        }
      ]
    },
    {
      "cell_type": "code",
      "source": [
        "df_sismos_historico.info()"
      ],
      "metadata": {
        "colab": {
          "base_uri": "https://localhost:8080/"
        },
        "id": "8oPSmbR3zAWl",
        "outputId": "3de48ed5-3df2-49d6-f2b3-1fd90e4aded9"
      },
      "execution_count": 6,
      "outputs": [
        {
          "output_type": "stream",
          "name": "stdout",
          "text": [
            "<class 'pandas.core.frame.DataFrame'>\n",
            "RangeIndex: 36 entries, 0 to 35\n",
            "Data columns (total 8 columns):\n",
            " #   Column          Non-Null Count  Dtype  \n",
            "---  ------          --------------  -----  \n",
            " 0   provincia       36 non-null     object \n",
            " 1   region          36 non-null     object \n",
            " 2   mes             36 non-null     int64  \n",
            " 3   año             36 non-null     int64  \n",
            " 4   latitud(º)      36 non-null     float64\n",
            " 5   longitud(º)     36 non-null     float64\n",
            " 6   profundidad_km  36 non-null     float64\n",
            " 7   magnitud_Mw     36 non-null     float64\n",
            "dtypes: float64(4), int64(2), object(2)\n",
            "memory usage: 2.4+ KB\n"
          ]
        }
      ]
    },
    {
      "cell_type": "code",
      "source": [
        "df_sismos_historico.shape"
      ],
      "metadata": {
        "colab": {
          "base_uri": "https://localhost:8080/"
        },
        "id": "0Bxc7mHZzGeF",
        "outputId": "4af86de0-efde-4888-ed5b-7291e9a64728"
      },
      "execution_count": 7,
      "outputs": [
        {
          "output_type": "execute_result",
          "data": {
            "text/plain": [
              "(36, 8)"
            ]
          },
          "metadata": {},
          "execution_count": 7
        }
      ]
    },
    {
      "cell_type": "markdown",
      "source": [
        "**Consolidando datos en uno solo**"
      ],
      "metadata": {
        "id": "BV2ky6f8zIcN"
      }
    },
    {
      "cell_type": "code",
      "source": [
        "df_sismos = pd.concat([df_sismos_historico, df_sismos_1920_2022], axis=0)"
      ],
      "metadata": {
        "id": "h1Enx3XIzS5-"
      },
      "execution_count": 8,
      "outputs": []
    },
    {
      "cell_type": "code",
      "source": [
        "# reiniciar los índices\n",
        "df_sismos = df_sismos.reset_index(drop=True)"
      ],
      "metadata": {
        "id": "ZuOdVvsMzg5F"
      },
      "execution_count": 9,
      "outputs": []
    },
    {
      "cell_type": "code",
      "source": [
        "df_sismos.info()"
      ],
      "metadata": {
        "colab": {
          "base_uri": "https://localhost:8080/"
        },
        "id": "jwM9Ra2szj7U",
        "outputId": "3958be80-613c-4a88-879f-6fbcecf38ef0"
      },
      "execution_count": 10,
      "outputs": [
        {
          "output_type": "stream",
          "name": "stdout",
          "text": [
            "<class 'pandas.core.frame.DataFrame'>\n",
            "RangeIndex: 530 entries, 0 to 529\n",
            "Data columns (total 8 columns):\n",
            " #   Column          Non-Null Count  Dtype  \n",
            "---  ------          --------------  -----  \n",
            " 0   provincia       530 non-null    object \n",
            " 1   region          530 non-null    object \n",
            " 2   mes             530 non-null    int64  \n",
            " 3   año             530 non-null    int64  \n",
            " 4   latitud(º)      530 non-null    float64\n",
            " 5   longitud(º)     530 non-null    float64\n",
            " 6   profundidad_km  530 non-null    float64\n",
            " 7   magnitud_Mw     530 non-null    float64\n",
            "dtypes: float64(4), int64(2), object(2)\n",
            "memory usage: 33.2+ KB\n"
          ]
        }
      ]
    },
    {
      "cell_type": "code",
      "source": [
        "df_sismos.shape"
      ],
      "metadata": {
        "colab": {
          "base_uri": "https://localhost:8080/"
        },
        "id": "06jZ-5akzlpc",
        "outputId": "dabdaac1-d5b8-47ed-af33-ceb1cff6ed54"
      },
      "execution_count": 11,
      "outputs": [
        {
          "output_type": "execute_result",
          "data": {
            "text/plain": [
              "(530, 8)"
            ]
          },
          "metadata": {},
          "execution_count": 11
        }
      ]
    },
    {
      "cell_type": "code",
      "source": [
        "df_sismos.describe()"
      ],
      "metadata": {
        "colab": {
          "base_uri": "https://localhost:8080/",
          "height": 300
        },
        "id": "4l0--X9xzovl",
        "outputId": "beb19191-1502-4ee5-d799-1e0608271aec"
      },
      "execution_count": 12,
      "outputs": [
        {
          "output_type": "execute_result",
          "data": {
            "text/plain": [
              "             mes          año  latitud(º)  longitud(º)  profundidad_km  \\\n",
              "count  530.00000   530.000000  530.000000   530.000000      530.000000   \n",
              "mean     6.59434  1995.941509  -12.021474   -76.615903       72.573585   \n",
              "std      3.37448    17.869364    0.682467     0.425175       31.994731   \n",
              "min      1.00000  1940.000000  -13.200000   -77.746300        6.000000   \n",
              "25%      4.00000  1989.000000  -12.520000   -76.869375       47.250000   \n",
              "50%      7.00000  1995.000000  -12.100000   -76.640000       74.500000   \n",
              "75%     10.00000  2011.000000  -11.561550   -76.343825       98.000000   \n",
              "max     12.00000  2022.000000  -10.337600   -75.550000      142.000000   \n",
              "\n",
              "       magnitud_Mw  \n",
              "count   530.000000  \n",
              "mean      4.681283  \n",
              "std       0.282388  \n",
              "min       3.900000  \n",
              "25%       4.500000  \n",
              "50%       4.600000  \n",
              "75%       4.900000  \n",
              "max       5.820000  "
            ],
            "text/html": [
              "\n",
              "  <div id=\"df-6fbe1625-15b8-4b74-9446-b8a459dc4086\">\n",
              "    <div class=\"colab-df-container\">\n",
              "      <div>\n",
              "<style scoped>\n",
              "    .dataframe tbody tr th:only-of-type {\n",
              "        vertical-align: middle;\n",
              "    }\n",
              "\n",
              "    .dataframe tbody tr th {\n",
              "        vertical-align: top;\n",
              "    }\n",
              "\n",
              "    .dataframe thead th {\n",
              "        text-align: right;\n",
              "    }\n",
              "</style>\n",
              "<table border=\"1\" class=\"dataframe\">\n",
              "  <thead>\n",
              "    <tr style=\"text-align: right;\">\n",
              "      <th></th>\n",
              "      <th>mes</th>\n",
              "      <th>año</th>\n",
              "      <th>latitud(º)</th>\n",
              "      <th>longitud(º)</th>\n",
              "      <th>profundidad_km</th>\n",
              "      <th>magnitud_Mw</th>\n",
              "    </tr>\n",
              "  </thead>\n",
              "  <tbody>\n",
              "    <tr>\n",
              "      <th>count</th>\n",
              "      <td>530.00000</td>\n",
              "      <td>530.000000</td>\n",
              "      <td>530.000000</td>\n",
              "      <td>530.000000</td>\n",
              "      <td>530.000000</td>\n",
              "      <td>530.000000</td>\n",
              "    </tr>\n",
              "    <tr>\n",
              "      <th>mean</th>\n",
              "      <td>6.59434</td>\n",
              "      <td>1995.941509</td>\n",
              "      <td>-12.021474</td>\n",
              "      <td>-76.615903</td>\n",
              "      <td>72.573585</td>\n",
              "      <td>4.681283</td>\n",
              "    </tr>\n",
              "    <tr>\n",
              "      <th>std</th>\n",
              "      <td>3.37448</td>\n",
              "      <td>17.869364</td>\n",
              "      <td>0.682467</td>\n",
              "      <td>0.425175</td>\n",
              "      <td>31.994731</td>\n",
              "      <td>0.282388</td>\n",
              "    </tr>\n",
              "    <tr>\n",
              "      <th>min</th>\n",
              "      <td>1.00000</td>\n",
              "      <td>1940.000000</td>\n",
              "      <td>-13.200000</td>\n",
              "      <td>-77.746300</td>\n",
              "      <td>6.000000</td>\n",
              "      <td>3.900000</td>\n",
              "    </tr>\n",
              "    <tr>\n",
              "      <th>25%</th>\n",
              "      <td>4.00000</td>\n",
              "      <td>1989.000000</td>\n",
              "      <td>-12.520000</td>\n",
              "      <td>-76.869375</td>\n",
              "      <td>47.250000</td>\n",
              "      <td>4.500000</td>\n",
              "    </tr>\n",
              "    <tr>\n",
              "      <th>50%</th>\n",
              "      <td>7.00000</td>\n",
              "      <td>1995.000000</td>\n",
              "      <td>-12.100000</td>\n",
              "      <td>-76.640000</td>\n",
              "      <td>74.500000</td>\n",
              "      <td>4.600000</td>\n",
              "    </tr>\n",
              "    <tr>\n",
              "      <th>75%</th>\n",
              "      <td>10.00000</td>\n",
              "      <td>2011.000000</td>\n",
              "      <td>-11.561550</td>\n",
              "      <td>-76.343825</td>\n",
              "      <td>98.000000</td>\n",
              "      <td>4.900000</td>\n",
              "    </tr>\n",
              "    <tr>\n",
              "      <th>max</th>\n",
              "      <td>12.00000</td>\n",
              "      <td>2022.000000</td>\n",
              "      <td>-10.337600</td>\n",
              "      <td>-75.550000</td>\n",
              "      <td>142.000000</td>\n",
              "      <td>5.820000</td>\n",
              "    </tr>\n",
              "  </tbody>\n",
              "</table>\n",
              "</div>\n",
              "      <button class=\"colab-df-convert\" onclick=\"convertToInteractive('df-6fbe1625-15b8-4b74-9446-b8a459dc4086')\"\n",
              "              title=\"Convert this dataframe to an interactive table.\"\n",
              "              style=\"display:none;\">\n",
              "        \n",
              "  <svg xmlns=\"http://www.w3.org/2000/svg\" height=\"24px\"viewBox=\"0 0 24 24\"\n",
              "       width=\"24px\">\n",
              "    <path d=\"M0 0h24v24H0V0z\" fill=\"none\"/>\n",
              "    <path d=\"M18.56 5.44l.94 2.06.94-2.06 2.06-.94-2.06-.94-.94-2.06-.94 2.06-2.06.94zm-11 1L8.5 8.5l.94-2.06 2.06-.94-2.06-.94L8.5 2.5l-.94 2.06-2.06.94zm10 10l.94 2.06.94-2.06 2.06-.94-2.06-.94-.94-2.06-.94 2.06-2.06.94z\"/><path d=\"M17.41 7.96l-1.37-1.37c-.4-.4-.92-.59-1.43-.59-.52 0-1.04.2-1.43.59L10.3 9.45l-7.72 7.72c-.78.78-.78 2.05 0 2.83L4 21.41c.39.39.9.59 1.41.59.51 0 1.02-.2 1.41-.59l7.78-7.78 2.81-2.81c.8-.78.8-2.07 0-2.86zM5.41 20L4 18.59l7.72-7.72 1.47 1.35L5.41 20z\"/>\n",
              "  </svg>\n",
              "      </button>\n",
              "      \n",
              "  <style>\n",
              "    .colab-df-container {\n",
              "      display:flex;\n",
              "      flex-wrap:wrap;\n",
              "      gap: 12px;\n",
              "    }\n",
              "\n",
              "    .colab-df-convert {\n",
              "      background-color: #E8F0FE;\n",
              "      border: none;\n",
              "      border-radius: 50%;\n",
              "      cursor: pointer;\n",
              "      display: none;\n",
              "      fill: #1967D2;\n",
              "      height: 32px;\n",
              "      padding: 0 0 0 0;\n",
              "      width: 32px;\n",
              "    }\n",
              "\n",
              "    .colab-df-convert:hover {\n",
              "      background-color: #E2EBFA;\n",
              "      box-shadow: 0px 1px 2px rgba(60, 64, 67, 0.3), 0px 1px 3px 1px rgba(60, 64, 67, 0.15);\n",
              "      fill: #174EA6;\n",
              "    }\n",
              "\n",
              "    [theme=dark] .colab-df-convert {\n",
              "      background-color: #3B4455;\n",
              "      fill: #D2E3FC;\n",
              "    }\n",
              "\n",
              "    [theme=dark] .colab-df-convert:hover {\n",
              "      background-color: #434B5C;\n",
              "      box-shadow: 0px 1px 3px 1px rgba(0, 0, 0, 0.15);\n",
              "      filter: drop-shadow(0px 1px 2px rgba(0, 0, 0, 0.3));\n",
              "      fill: #FFFFFF;\n",
              "    }\n",
              "  </style>\n",
              "\n",
              "      <script>\n",
              "        const buttonEl =\n",
              "          document.querySelector('#df-6fbe1625-15b8-4b74-9446-b8a459dc4086 button.colab-df-convert');\n",
              "        buttonEl.style.display =\n",
              "          google.colab.kernel.accessAllowed ? 'block' : 'none';\n",
              "\n",
              "        async function convertToInteractive(key) {\n",
              "          const element = document.querySelector('#df-6fbe1625-15b8-4b74-9446-b8a459dc4086');\n",
              "          const dataTable =\n",
              "            await google.colab.kernel.invokeFunction('convertToInteractive',\n",
              "                                                     [key], {});\n",
              "          if (!dataTable) return;\n",
              "\n",
              "          const docLinkHtml = 'Like what you see? Visit the ' +\n",
              "            '<a target=\"_blank\" href=https://colab.research.google.com/notebooks/data_table.ipynb>data table notebook</a>'\n",
              "            + ' to learn more about interactive tables.';\n",
              "          element.innerHTML = '';\n",
              "          dataTable['output_type'] = 'display_data';\n",
              "          await google.colab.output.renderOutput(dataTable, element);\n",
              "          const docLink = document.createElement('div');\n",
              "          docLink.innerHTML = docLinkHtml;\n",
              "          element.appendChild(docLink);\n",
              "        }\n",
              "      </script>\n",
              "    </div>\n",
              "  </div>\n",
              "  "
            ]
          },
          "metadata": {},
          "execution_count": 12
        }
      ]
    },
    {
      "cell_type": "markdown",
      "source": [
        "**Guardando datos consolidados**"
      ],
      "metadata": {
        "id": "BQBi8NREzyDn"
      }
    },
    {
      "cell_type": "code",
      "source": [
        "df_sismos.to_csv('IGP_Datos-Sismicos_Consolidados_V3.csv', index=False)"
      ],
      "metadata": {
        "id": "ixXjfLXhzv_F"
      },
      "execution_count": 13,
      "outputs": []
    },
    {
      "cell_type": "markdown",
      "source": [
        "### ¡FIN TRABAJO!"
      ],
      "metadata": {
        "id": "H4EMjdV-0WJE"
      }
    }
  ]
}