{
  "cells": [
    {
      "cell_type": "markdown",
      "id": "31346e61",
      "metadata": {
        "id": "31346e61"
      },
      "source": [
        "# Equipo 2: Trabajo parcial\n",
        "\n",
        "## Semana 7\n",
        "## Curso: Minería de Datos\n",
        "## Integrantes:\n",
        "* Blas Ruiz, Luis Aaron - 19200069\n",
        "* Huarhuachi Ortega, Andrea Mariana - 19200267\n",
        "* Ramos Rivas, Kevin Keyler - 19200096\n",
        "* Rojas Villanueva, Paula Elianne - 19200266\n",
        "* Torres Talaverano, Luz Elena - 19200294"
      ]
    },
    {
      "cell_type": "markdown",
      "id": "3d4a7284",
      "metadata": {
        "id": "3d4a7284"
      },
      "source": [
        "## Información del conjunto de datos\n",
        "Esta base es respecto a los datos sísmicos las cuales contiene todos los parámetros que caracterizan a un sismo, calculados en las mismas condiciones a fin de constituirse como una base homogénea: fecha, hora, latitud, longitud, profundidad y magnitud.\n",
        "\n",
        "\n",
        "#### Atributos para el conjunto de datos\n",
        "* fecha_UTC: Hora universal coordinada (UTC), Es la fecha con cinco horas adelantadas con respecto a la hora local debido a que Peru se encuentra en una zona horaria UTC -5\n",
        "* hora_UTC: Hora universal coordinada (UTC), cinco horas adelantadas con respecto a la hora local debido a que Peru se encuentra en una zona horaria UTC -5\n",
        "* latitud(º): Es la distancia en grados, minutos y segundos que hay con respecto al paralelo principal, que es el ecuador (0º). La latitud puede ser norte y sur\n",
        "* longitud(º): Es la distancia en grados, minutos y segundos que hay con respecto al meridiano principal, que es el meridiano de Greenwich (0º).\n",
        "* profundidad_km: Profundidad del foco sísmisco por debajo de la superficie\n",
        "\n",
        "Estas tres columnas luego seran reemplazadas ya que la data nueva del IGP solo posee una columna llamada Magnitud(M)\n",
        "* magnitud_mb: Magnitud de Ondas de Cuerpo\n",
        "* magnitud_Ms: Magnitud de Ondas Superficiales\n",
        "* magnitud_Mw: Magnitud Momento (Corresponde a la cantidad de energía liberada por el sismo)"
      ]
    },
    {
      "cell_type": "markdown",
      "id": "d4c1c694",
      "metadata": {
        "id": "d4c1c694"
      },
      "source": [
        "## Importación de Librerías"
      ]
    },
    {
      "cell_type": "code",
      "execution_count": 1,
      "id": "43caadd7",
      "metadata": {
        "id": "43caadd7"
      },
      "outputs": [],
      "source": [
        "import pandas as pd\n",
        "import numpy as np\n",
        "import seaborn as sns\n",
        "import matplotlib.pyplot as plt"
      ]
    },
    {
      "cell_type": "markdown",
      "id": "6f9c2595",
      "metadata": {
        "id": "6f9c2595"
      },
      "source": [
        "**Leer archivo de datos historicos**"
      ]
    },
    {
      "cell_type": "code",
      "execution_count": 2,
      "id": "f5c2432e",
      "metadata": {
        "id": "f5c2432e"
      },
      "outputs": [],
      "source": [
        "myData = pd.read_csv('https://raw.githubusercontent.com/KevinRamosRivas/G2-MINERIA_DATOS/main/IGP_datos_sismicosHist%C3%B3rico.csv')"
      ]
    },
    {
      "cell_type": "markdown",
      "id": "3b89ddf2",
      "metadata": {
        "id": "3b89ddf2"
      },
      "source": [
        "**Información de la data**"
      ]
    },
    {
      "cell_type": "code",
      "execution_count": 3,
      "id": "046a3485",
      "metadata": {
        "colab": {
          "base_uri": "https://localhost:8080/",
          "height": 206
        },
        "id": "046a3485",
        "outputId": "6dabc1c1-f35f-4953-9073-f0a93c992b3c"
      },
      "outputs": [
        {
          "data": {
            "text/html": [
              "<div>\n",
              "<style scoped>\n",
              "    .dataframe tbody tr th:only-of-type {\n",
              "        vertical-align: middle;\n",
              "    }\n",
              "\n",
              "    .dataframe tbody tr th {\n",
              "        vertical-align: top;\n",
              "    }\n",
              "\n",
              "    .dataframe thead th {\n",
              "        text-align: right;\n",
              "    }\n",
              "</style>\n",
              "<table border=\"1\" class=\"dataframe\">\n",
              "  <thead>\n",
              "    <tr style=\"text-align: right;\">\n",
              "      <th></th>\n",
              "      <th>fecha_UTC</th>\n",
              "      <th>hora_UTC</th>\n",
              "      <th>latitud(º)</th>\n",
              "      <th>longitud(º)</th>\n",
              "      <th>profundidad_km</th>\n",
              "      <th>magnitud_mb</th>\n",
              "      <th>magnitud_Ms</th>\n",
              "      <th>magnitud_Mw</th>\n",
              "    </tr>\n",
              "  </thead>\n",
              "  <tbody>\n",
              "    <tr>\n",
              "      <th>0</th>\n",
              "      <td>02/07/1552</td>\n",
              "      <td>10:30:00.00</td>\n",
              "      <td>-16.6</td>\n",
              "      <td>-71.3</td>\n",
              "      <td>30</td>\n",
              "      <td>7.6</td>\n",
              "      <td>NaN</td>\n",
              "      <td>NaN</td>\n",
              "    </tr>\n",
              "    <tr>\n",
              "      <th>1</th>\n",
              "      <td>15/11/1555</td>\n",
              "      <td>00:00:00.00</td>\n",
              "      <td>-11.9</td>\n",
              "      <td>-77.6</td>\n",
              "      <td>30</td>\n",
              "      <td>NaN</td>\n",
              "      <td>8.4</td>\n",
              "      <td>NaN</td>\n",
              "    </tr>\n",
              "    <tr>\n",
              "      <th>2</th>\n",
              "      <td>04/04/1568</td>\n",
              "      <td>00:00:00.00</td>\n",
              "      <td>-12.3</td>\n",
              "      <td>-77.7</td>\n",
              "      <td>30</td>\n",
              "      <td>6.6</td>\n",
              "      <td>6.4</td>\n",
              "      <td>NaN</td>\n",
              "    </tr>\n",
              "    <tr>\n",
              "      <th>3</th>\n",
              "      <td>22/01/1582</td>\n",
              "      <td>16:30:00.00</td>\n",
              "      <td>-16.6</td>\n",
              "      <td>-71.6</td>\n",
              "      <td>30</td>\n",
              "      <td>NaN</td>\n",
              "      <td>8.2</td>\n",
              "      <td>7.5</td>\n",
              "    </tr>\n",
              "    <tr>\n",
              "      <th>4</th>\n",
              "      <td>15/08/1582</td>\n",
              "      <td>00:00:00.00</td>\n",
              "      <td>-12.2</td>\n",
              "      <td>-77.6</td>\n",
              "      <td>30</td>\n",
              "      <td>NaN</td>\n",
              "      <td>7.8</td>\n",
              "      <td>NaN</td>\n",
              "    </tr>\n",
              "  </tbody>\n",
              "</table>\n",
              "</div>"
            ],
            "text/plain": [
              "    fecha_UTC     hora_UTC  latitud(º)  longitud(º) profundidad_km  \\\n",
              "0  02/07/1552  10:30:00.00       -16.6        -71.3             30   \n",
              "1  15/11/1555  00:00:00.00       -11.9        -77.6             30   \n",
              "2  04/04/1568  00:00:00.00       -12.3        -77.7             30   \n",
              "3  22/01/1582  16:30:00.00       -16.6        -71.6             30   \n",
              "4  15/08/1582  00:00:00.00       -12.2        -77.6             30   \n",
              "\n",
              "   magnitud_mb magnitud_Ms magnitud_Mw  \n",
              "0          7.6         NaN         NaN  \n",
              "1          NaN         8.4         NaN  \n",
              "2          6.6         6.4         NaN  \n",
              "3          NaN         8.2         7.5  \n",
              "4          NaN         7.8         NaN  "
            ]
          },
          "execution_count": 3,
          "metadata": {},
          "output_type": "execute_result"
        }
      ],
      "source": [
        "myData.head()"
      ]
    },
    {
      "cell_type": "code",
      "execution_count": 4,
      "id": "b66dfb1e",
      "metadata": {
        "colab": {
          "base_uri": "https://localhost:8080/",
          "height": 300
        },
        "id": "b66dfb1e",
        "outputId": "718efa47-841c-4827-bc1d-bba8827c626f"
      },
      "outputs": [
        {
          "data": {
            "text/html": [
              "<div>\n",
              "<style scoped>\n",
              "    .dataframe tbody tr th:only-of-type {\n",
              "        vertical-align: middle;\n",
              "    }\n",
              "\n",
              "    .dataframe tbody tr th {\n",
              "        vertical-align: top;\n",
              "    }\n",
              "\n",
              "    .dataframe thead th {\n",
              "        text-align: right;\n",
              "    }\n",
              "</style>\n",
              "<table border=\"1\" class=\"dataframe\">\n",
              "  <thead>\n",
              "    <tr style=\"text-align: right;\">\n",
              "      <th></th>\n",
              "      <th>latitud(º)</th>\n",
              "      <th>longitud(º)</th>\n",
              "      <th>magnitud_mb</th>\n",
              "    </tr>\n",
              "  </thead>\n",
              "  <tbody>\n",
              "    <tr>\n",
              "      <th>count</th>\n",
              "      <td>1104.000000</td>\n",
              "      <td>1104.000000</td>\n",
              "      <td>977.000000</td>\n",
              "    </tr>\n",
              "    <tr>\n",
              "      <th>mean</th>\n",
              "      <td>-11.994102</td>\n",
              "      <td>-75.533290</td>\n",
              "      <td>4.341863</td>\n",
              "    </tr>\n",
              "    <tr>\n",
              "      <th>std</th>\n",
              "      <td>4.033727</td>\n",
              "      <td>3.250451</td>\n",
              "      <td>0.867915</td>\n",
              "    </tr>\n",
              "    <tr>\n",
              "      <th>min</th>\n",
              "      <td>-23.500000</td>\n",
              "      <td>-84.000000</td>\n",
              "      <td>2.800000</td>\n",
              "    </tr>\n",
              "    <tr>\n",
              "      <th>25%</th>\n",
              "      <td>-15.500000</td>\n",
              "      <td>-77.600000</td>\n",
              "      <td>3.800000</td>\n",
              "    </tr>\n",
              "    <tr>\n",
              "      <th>50%</th>\n",
              "      <td>-12.200000</td>\n",
              "      <td>-76.200000</td>\n",
              "      <td>4.300000</td>\n",
              "    </tr>\n",
              "    <tr>\n",
              "      <th>75%</th>\n",
              "      <td>-9.200000</td>\n",
              "      <td>-72.030000</td>\n",
              "      <td>4.700000</td>\n",
              "    </tr>\n",
              "    <tr>\n",
              "      <th>max</th>\n",
              "      <td>-1.750000</td>\n",
              "      <td>-67.500000</td>\n",
              "      <td>7.800000</td>\n",
              "    </tr>\n",
              "  </tbody>\n",
              "</table>\n",
              "</div>"
            ],
            "text/plain": [
              "        latitud(º)  longitud(º)  magnitud_mb\n",
              "count  1104.000000  1104.000000   977.000000\n",
              "mean    -11.994102   -75.533290     4.341863\n",
              "std       4.033727     3.250451     0.867915\n",
              "min     -23.500000   -84.000000     2.800000\n",
              "25%     -15.500000   -77.600000     3.800000\n",
              "50%     -12.200000   -76.200000     4.300000\n",
              "75%      -9.200000   -72.030000     4.700000\n",
              "max      -1.750000   -67.500000     7.800000"
            ]
          },
          "execution_count": 4,
          "metadata": {},
          "output_type": "execute_result"
        }
      ],
      "source": [
        "myData.describe()"
      ]
    },
    {
      "cell_type": "code",
      "execution_count": 5,
      "id": "68d265d4",
      "metadata": {
        "colab": {
          "base_uri": "https://localhost:8080/"
        },
        "id": "68d265d4",
        "outputId": "0df5e001-d7a9-4429-ead1-fecfff6f5278",
        "scrolled": false
      },
      "outputs": [
        {
          "name": "stdout",
          "output_type": "stream",
          "text": [
            "<bound method NDFrame.describe of        fecha_UTC     hora_UTC  latitud(º)  longitud(º) profundidad_km  \\\n",
            "0     02/07/1552  10:30:00.00      -16.60        -71.3             30   \n",
            "1     15/11/1555  00:00:00.00      -11.90        -77.6             30   \n",
            "2     04/04/1568  00:00:00.00      -12.30        -77.7             30   \n",
            "3     22/01/1582  16:30:00.00      -16.60        -71.6             30   \n",
            "4     15/08/1582  00:00:00.00      -12.20        -77.6             30   \n",
            "...          ...          ...         ...          ...            ...   \n",
            "1099    -/-/1471  00:00:00.00      -16.30        -71.0             25   \n",
            "1100    -/-/1513  00:00:00.00      -17.21        -72.3             30   \n",
            "1101   -/01/1533  00:00:00.00      -12.20        -77.8             30   \n",
            "1102    -/-/1581  00:00:00.00      -12.40        -77.7             30   \n",
            "1103    -/-/1590  00:00:00.00      -17.20        -72.9             40   \n",
            "\n",
            "      magnitud_mb magnitud_Ms magnitud_Mw  \n",
            "0             7.6         NaN         NaN  \n",
            "1             NaN         8.4         NaN  \n",
            "2             6.6         6.4         NaN  \n",
            "3             NaN         8.2         7.5  \n",
            "4             NaN         7.8         NaN  \n",
            "...           ...         ...         ...  \n",
            "1099          NaN           8         NaN  \n",
            "1100          NaN         8.7         NaN  \n",
            "1101          NaN         6.5         NaN  \n",
            "1102          NaN         7.6         NaN  \n",
            "1103          7.7         NaN         NaN  \n",
            "\n",
            "[1104 rows x 8 columns]>\n"
          ]
        }
      ],
      "source": [
        "print(myData.describe)"
      ]
    },
    {
      "cell_type": "code",
      "execution_count": 6,
      "id": "30aebb45",
      "metadata": {
        "colab": {
          "base_uri": "https://localhost:8080/"
        },
        "id": "30aebb45",
        "outputId": "aa9ed75b-8e4a-44cf-ffd8-9dbee32528ff"
      },
      "outputs": [
        {
          "name": "stdout",
          "output_type": "stream",
          "text": [
            "<class 'pandas.core.frame.DataFrame'>\n",
            "RangeIndex: 1104 entries, 0 to 1103\n",
            "Data columns (total 8 columns):\n",
            " #   Column          Non-Null Count  Dtype  \n",
            "---  ------          --------------  -----  \n",
            " 0   fecha_UTC       1104 non-null   object \n",
            " 1   hora_UTC        1104 non-null   object \n",
            " 2   latitud(º)      1104 non-null   float64\n",
            " 3   longitud(º)     1104 non-null   float64\n",
            " 4   profundidad_km  1046 non-null   object \n",
            " 5   magnitud_mb     977 non-null    float64\n",
            " 6   magnitud_Ms     211 non-null    object \n",
            " 7   magnitud_Mw     13 non-null     object \n",
            "dtypes: float64(3), object(5)\n",
            "memory usage: 69.1+ KB\n"
          ]
        }
      ],
      "source": [
        "myData.info()"
      ]
    },
    {
      "cell_type": "markdown",
      "id": "08125df0",
      "metadata": {
        "id": "08125df0"
      },
      "source": [
        "Escalas de magnitud: https://www.snet.gob.sv/ver/seccion+educativa/sismologia/escalas+de+magnitud/\n",
        "- magnitud (mb): Magnitud de Ondas de Cuerpo\n",
        "- magnitud (Ms): Magnitud de Ondas Superficiales\n",
        "- magnitud (Mw:  Magnitud Momento\n",
        "- magnitud (M)"
      ]
    },
    {
      "cell_type": "markdown",
      "id": "fec842b8",
      "metadata": {
        "id": "fec842b8"
      },
      "source": [
        "## 1. Buscar nulos e imputar con (promedio, moda, regresion)"
      ]
    },
    {
      "cell_type": "code",
      "execution_count": 7,
      "id": "e220a69e",
      "metadata": {
        "colab": {
          "base_uri": "https://localhost:8080/"
        },
        "id": "e220a69e",
        "outputId": "a475afd4-263a-4ed5-ed0a-466e6274c775"
      },
      "outputs": [
        {
          "name": "stdout",
          "output_type": "stream",
          "text": [
            "fecha_UTC         False\n",
            "hora_UTC          False\n",
            "latitud(º)        False\n",
            "longitud(º)       False\n",
            "profundidad_km     True\n",
            "magnitud_mb        True\n",
            "magnitud_Ms        True\n",
            "magnitud_Mw        True\n",
            "dtype: bool\n"
          ]
        }
      ],
      "source": [
        "print(myData.isnull().any())"
      ]
    },
    {
      "cell_type": "code",
      "execution_count": 8,
      "id": "c18fbae3",
      "metadata": {},
      "outputs": [
        {
          "data": {
            "text/plain": [
              "fecha_UTC            0\n",
              "hora_UTC             0\n",
              "latitud(º)           0\n",
              "longitud(º)          0\n",
              "profundidad_km      58\n",
              "magnitud_mb        127\n",
              "magnitud_Ms        893\n",
              "magnitud_Mw       1091\n",
              "dtype: int64"
            ]
          },
          "execution_count": 8,
          "metadata": {},
          "output_type": "execute_result"
        }
      ],
      "source": [
        "# hallar la cantidad de nulos por columna\n",
        "myData.isnull().sum()"
      ]
    },
    {
      "cell_type": "markdown",
      "id": "4420c697",
      "metadata": {},
      "source": [
        "Corrigiendo atributos mal categorizados en la data historica"
      ]
    },
    {
      "cell_type": "code",
      "execution_count": 9,
      "id": "c915ce45",
      "metadata": {},
      "outputs": [],
      "source": [
        "# Convirtiendo profundidad_km , magnitud_mb , magnitud_Ms , magnitud_Mw a tipo numérico\n",
        "myData['profundidad_km'] = pd.to_numeric(myData['profundidad_km'], errors='coerce')\n",
        "myData['magnitud_mb'] = pd.to_numeric(myData['magnitud_mb'], errors='coerce')\n",
        "myData['magnitud_Ms'] = pd.to_numeric(myData['magnitud_Ms'], errors='coerce')\n",
        "myData['magnitud_Mw'] = pd.to_numeric(myData['magnitud_Mw'], errors='coerce')"
      ]
    },
    {
      "cell_type": "markdown",
      "id": "a76b4f61",
      "metadata": {
        "id": "a76b4f61"
      },
      "source": [
        "**Ordenando atributos por su tipo**"
      ]
    },
    {
      "cell_type": "code",
      "execution_count": 10,
      "id": "791ba8c1",
      "metadata": {
        "id": "791ba8c1"
      },
      "outputs": [],
      "source": [
        "tipos = myData.columns.to_series().groupby(myData.dtypes).groups"
      ]
    },
    {
      "cell_type": "markdown",
      "id": "c957420c",
      "metadata": {
        "id": "c957420c"
      },
      "source": [
        "**Listando variables categóricas**"
      ]
    },
    {
      "cell_type": "code",
      "execution_count": 11,
      "id": "eb972c7c",
      "metadata": {
        "colab": {
          "base_uri": "https://localhost:8080/"
        },
        "id": "eb972c7c",
        "outputId": "4efb0c0b-94de-4b91-9838-8603a223673c"
      },
      "outputs": [
        {
          "name": "stdout",
          "output_type": "stream",
          "text": [
            "Index(['fecha_UTC', 'hora_UTC'], dtype='object')\n",
            "2\n"
          ]
        }
      ],
      "source": [
        "colText = tipos[np.dtype('object')]\n",
        "print(colText)\n",
        "print(len(colText))"
      ]
    },
    {
      "cell_type": "markdown",
      "id": "6dcff543",
      "metadata": {
        "id": "6dcff543"
      },
      "source": [
        "**Listando variables numéricas**"
      ]
    },
    {
      "cell_type": "code",
      "execution_count": 12,
      "id": "e258a7dd",
      "metadata": {
        "colab": {
          "base_uri": "https://localhost:8080/"
        },
        "id": "e258a7dd",
        "outputId": "fc107a7b-684b-42d1-e41a-2c5c051b7a2e"
      },
      "outputs": [
        {
          "name": "stdout",
          "output_type": "stream",
          "text": [
            "['latitud(º)', 'magnitud_mb', 'magnitud_Mw', 'profundidad_km', 'longitud(º)', 'magnitud_Ms']\n",
            "6\n",
            "['latitud(º)', 'magnitud_mb', 'profundidad_km', 'longitud(º)']\n"
          ]
        }
      ],
      "source": [
        "columnas = myData.columns\n",
        "colNum = list(set(columnas)-set(colText))\n",
        "print(colNum)\n",
        "print(len(colNum))\n",
        "# eliminar de colNum la columna magnitud_Mw\n",
        "colNum.remove('magnitud_Mw')\n",
        "colNum.remove('magnitud_Ms')\n",
        "print(colNum)"
      ]
    },
    {
      "cell_type": "markdown",
      "id": "e82ede27",
      "metadata": {
        "id": "e82ede27"
      },
      "source": [
        "**Completando valores perdidos en atributos categóricos**"
      ]
    },
    {
      "cell_type": "code",
      "execution_count": 13,
      "id": "13629a14",
      "metadata": {
        "id": "13629a14"
      },
      "outputs": [],
      "source": [
        "# mode = más frecuente\n",
        "for c in colText:\n",
        "    myData[c] = myData[c].replace('-', np.NaN)\n",
        "    mode = myData[c].mode()[0]\n",
        "    myData[c] = myData[c].fillna(mode)"
      ]
    },
    {
      "cell_type": "markdown",
      "id": "a1f7845d",
      "metadata": {
        "id": "a1f7845d"
      },
      "source": [
        "**Completamos valores perdidos en atributos numéricos**"
      ]
    },
    {
      "cell_type": "code",
      "execution_count": 14,
      "id": "f8204782",
      "metadata": {
        "id": "f8204782"
      },
      "outputs": [],
      "source": [
        "# mean = media\n",
        "for c in colNum:\n",
        "    mean = myData[c].mean()\n",
        "    myData[c] = myData[c].fillna(mean)"
      ]
    },
    {
      "cell_type": "markdown",
      "id": "4ec46511",
      "metadata": {
        "id": "4ec46511"
      },
      "source": [
        "Después de completar los valores perdidos, observemos si hay todavía nulls"
      ]
    },
    {
      "cell_type": "code",
      "execution_count": 15,
      "id": "38fde7b6",
      "metadata": {
        "colab": {
          "base_uri": "https://localhost:8080/"
        },
        "id": "38fde7b6",
        "outputId": "e84e49e9-77e6-4350-f3d9-a41902059c69"
      },
      "outputs": [
        {
          "name": "stdout",
          "output_type": "stream",
          "text": [
            "fecha_UTC         False\n",
            "hora_UTC          False\n",
            "latitud(º)        False\n",
            "longitud(º)       False\n",
            "profundidad_km    False\n",
            "magnitud_mb       False\n",
            "magnitud_Ms        True\n",
            "magnitud_Mw        True\n",
            "dtype: bool\n"
          ]
        }
      ],
      "source": [
        "print(myData.isnull().any())"
      ]
    },
    {
      "cell_type": "code",
      "execution_count": 16,
      "id": "3eda536c",
      "metadata": {},
      "outputs": [
        {
          "data": {
            "text/html": [
              "<div>\n",
              "<style scoped>\n",
              "    .dataframe tbody tr th:only-of-type {\n",
              "        vertical-align: middle;\n",
              "    }\n",
              "\n",
              "    .dataframe tbody tr th {\n",
              "        vertical-align: top;\n",
              "    }\n",
              "\n",
              "    .dataframe thead th {\n",
              "        text-align: right;\n",
              "    }\n",
              "</style>\n",
              "<table border=\"1\" class=\"dataframe\">\n",
              "  <thead>\n",
              "    <tr style=\"text-align: right;\">\n",
              "      <th></th>\n",
              "      <th>fecha_UTC</th>\n",
              "      <th>hora_UTC</th>\n",
              "      <th>latitud(º)</th>\n",
              "      <th>longitud(º)</th>\n",
              "      <th>profundidad_km</th>\n",
              "      <th>magnitud_mb</th>\n",
              "      <th>magnitud_Ms</th>\n",
              "      <th>magnitud_Mw</th>\n",
              "    </tr>\n",
              "  </thead>\n",
              "  <tbody>\n",
              "    <tr>\n",
              "      <th>0</th>\n",
              "      <td>02/07/1552</td>\n",
              "      <td>10:30:00.00</td>\n",
              "      <td>-16.6</td>\n",
              "      <td>-71.3</td>\n",
              "      <td>30.0</td>\n",
              "      <td>7.600000</td>\n",
              "      <td>NaN</td>\n",
              "      <td>NaN</td>\n",
              "    </tr>\n",
              "    <tr>\n",
              "      <th>1</th>\n",
              "      <td>15/11/1555</td>\n",
              "      <td>00:00:00.00</td>\n",
              "      <td>-11.9</td>\n",
              "      <td>-77.6</td>\n",
              "      <td>30.0</td>\n",
              "      <td>4.341863</td>\n",
              "      <td>8.4</td>\n",
              "      <td>NaN</td>\n",
              "    </tr>\n",
              "    <tr>\n",
              "      <th>2</th>\n",
              "      <td>04/04/1568</td>\n",
              "      <td>00:00:00.00</td>\n",
              "      <td>-12.3</td>\n",
              "      <td>-77.7</td>\n",
              "      <td>30.0</td>\n",
              "      <td>6.600000</td>\n",
              "      <td>6.4</td>\n",
              "      <td>NaN</td>\n",
              "    </tr>\n",
              "    <tr>\n",
              "      <th>3</th>\n",
              "      <td>22/01/1582</td>\n",
              "      <td>16:30:00.00</td>\n",
              "      <td>-16.6</td>\n",
              "      <td>-71.6</td>\n",
              "      <td>30.0</td>\n",
              "      <td>4.341863</td>\n",
              "      <td>8.2</td>\n",
              "      <td>7.5</td>\n",
              "    </tr>\n",
              "    <tr>\n",
              "      <th>4</th>\n",
              "      <td>15/08/1582</td>\n",
              "      <td>00:00:00.00</td>\n",
              "      <td>-12.2</td>\n",
              "      <td>-77.6</td>\n",
              "      <td>30.0</td>\n",
              "      <td>4.341863</td>\n",
              "      <td>7.8</td>\n",
              "      <td>NaN</td>\n",
              "    </tr>\n",
              "  </tbody>\n",
              "</table>\n",
              "</div>"
            ],
            "text/plain": [
              "    fecha_UTC     hora_UTC  latitud(º)  longitud(º)  profundidad_km  \\\n",
              "0  02/07/1552  10:30:00.00       -16.6        -71.3            30.0   \n",
              "1  15/11/1555  00:00:00.00       -11.9        -77.6            30.0   \n",
              "2  04/04/1568  00:00:00.00       -12.3        -77.7            30.0   \n",
              "3  22/01/1582  16:30:00.00       -16.6        -71.6            30.0   \n",
              "4  15/08/1582  00:00:00.00       -12.2        -77.6            30.0   \n",
              "\n",
              "   magnitud_mb  magnitud_Ms  magnitud_Mw  \n",
              "0     7.600000          NaN          NaN  \n",
              "1     4.341863          8.4          NaN  \n",
              "2     6.600000          6.4          NaN  \n",
              "3     4.341863          8.2          7.5  \n",
              "4     4.341863          7.8          NaN  "
            ]
          },
          "execution_count": 16,
          "metadata": {},
          "output_type": "execute_result"
        }
      ],
      "source": [
        "myData.head()"
      ]
    },
    {
      "cell_type": "markdown",
      "id": "b7efdaa8",
      "metadata": {},
      "source": [
        "Completamos la columna magnitud_Ms en base a la columna magnitud_mb\n",
        "basandono en el articulo [Relaciones empíricas entre las magnitudes mb/Ms, Ms/Mw y mb/Mc para el área de Cuba, Jamaica y La Española](https://www.researchgate.net/publication/326782345_Relaciones_empiricas_entre_las_magnitudes_mbMs_MsMw_y_mbMc_para_el_area_de_Cuba_Jamaica_y_La_Espanola)"
      ]
    },
    {
      "cell_type": "code",
      "execution_count": 17,
      "id": "416caf60",
      "metadata": {},
      "outputs": [],
      "source": [
        "# completar los nulos de magnitud_Ms en base a magnitud_mb si es nulo\n",
        "myData['magnitud_Ms'] = myData['magnitud_Ms'].fillna((myData['magnitud_mb']*1.35) - 2.010)"
      ]
    },
    {
      "cell_type": "code",
      "execution_count": 18,
      "id": "0842cb50",
      "metadata": {},
      "outputs": [
        {
          "data": {
            "text/plain": [
              "<AxesSubplot:xlabel='magnitud_Ms', ylabel='count'>"
            ]
          },
          "execution_count": 18,
          "metadata": {},
          "output_type": "execute_result"
        },
        {
          "data": {
            "image/png": "[encoded data removed]",
            "text/plain": [
              "<Figure size 432x288 with 1 Axes>"
            ]
          },
          "metadata": {
            "needs_background": "light"
          },
          "output_type": "display_data"
        }
      ],
      "source": [
        "# ver grafica de barras de magnitud_Ms\n",
        "sns.countplot(x='magnitud_Ms', data=myData)"
      ]
    },
    {
      "cell_type": "code",
      "execution_count": 19,
      "id": "40c43f04",
      "metadata": {},
      "outputs": [
        {
          "data": {
            "text/plain": [
              "0"
            ]
          },
          "execution_count": 19,
          "metadata": {},
          "output_type": "execute_result"
        }
      ],
      "source": [
        "# ver la cantidad de nulos de magnitud_Ms\n",
        "myData['magnitud_Ms'].isnull().sum()"
      ]
    },
    {
      "cell_type": "markdown",
      "id": "bd75f66e",
      "metadata": {},
      "source": [
        "Completamos la columna magnitud_Ms en base a la columna magnitud_mb basandonos en el articulos [Empirical global relations converting MS and mb to moment magnitude](https://sci-hub.se/10.1007/s10950-006-9012-4)"
      ]
    },
    {
      "cell_type": "code",
      "execution_count": 20,
      "id": "e7f7ff4d",
      "metadata": {},
      "outputs": [
        {
          "name": "stderr",
          "output_type": "stream",
          "text": [
            "C:\\Users\\ramos\\AppData\\Local\\Temp\\ipykernel_13336\\3185102373.py:10: SettingWithCopyWarning: \n",
            "A value is trying to be set on a copy of a slice from a DataFrame\n",
            "\n",
            "See the caveats in the documentation: https://pandas.pydata.org/pandas-docs/stable/user_guide/indexing.html#returning-a-view-versus-a-copy\n",
            "  myData['magnitud_Mw'][i] = myData['magnitud_Mw'].mean()\n",
            "C:\\Users\\ramos\\AppData\\Local\\Temp\\ipykernel_13336\\3185102373.py:8: SettingWithCopyWarning: \n",
            "A value is trying to be set on a copy of a slice from a DataFrame\n",
            "\n",
            "See the caveats in the documentation: https://pandas.pydata.org/pandas-docs/stable/user_guide/indexing.html#returning-a-view-versus-a-copy\n",
            "  myData['magnitud_Mw'][i] = myData['magnitud_Ms'][i]*0.99 + 0.08\n",
            "C:\\Users\\ramos\\AppData\\Local\\Temp\\ipykernel_13336\\3185102373.py:6: SettingWithCopyWarning: \n",
            "A value is trying to be set on a copy of a slice from a DataFrame\n",
            "\n",
            "See the caveats in the documentation: https://pandas.pydata.org/pandas-docs/stable/user_guide/indexing.html#returning-a-view-versus-a-copy\n",
            "  myData['magnitud_Mw'][i] = myData['magnitud_Ms'][i]*0.67 + 2.07\n"
          ]
        }
      ],
      "source": [
        "import math\n",
        "# recorre la columna magnitud_Ms y si es menor a 3.0 y mayor a 2.0, se le asigna el valor de 2.5\n",
        "for i in range(len(myData['magnitud_Ms'])):\n",
        "    if math.isnan(myData['magnitud_Mw'][i]):\n",
        "        if myData['magnitud_Ms'][i] >= 3.0 and myData['magnitud_Ms'][i] <= 6.1:\n",
        "            myData['magnitud_Mw'][i] = myData['magnitud_Ms'][i]*0.67 + 2.07\n",
        "        if myData['magnitud_Ms'][i] > 6.1 and myData['magnitud_Ms'][i] <= 8.2:\n",
        "            myData['magnitud_Mw'][i] = myData['magnitud_Ms'][i]*0.99 + 0.08\n",
        "        if myData['magnitud_Ms'][i] > 8.2 or myData['magnitud_Ms'][i] < 3.0:\n",
        "            myData['magnitud_Mw'][i] = myData['magnitud_Mw'].mean()\n"
      ]
    },
    {
      "cell_type": "code",
      "execution_count": 21,
      "id": "4dcf2db7",
      "metadata": {},
      "outputs": [
        {
          "data": {
            "text/plain": [
              "0"
            ]
          },
          "execution_count": 21,
          "metadata": {},
          "output_type": "execute_result"
        }
      ],
      "source": [
        "# ver nulos en la columna magnitud_Mw\n",
        "myData['magnitud_Mw'].isnull().sum()"
      ]
    },
    {
      "cell_type": "markdown",
      "id": "ef82e071",
      "metadata": {
        "id": "ef82e071"
      },
      "source": [
        "**Exportación del nuevo archivo**"
      ]
    },
    {
      "cell_type": "code",
      "execution_count": 22,
      "id": "b09a5670",
      "metadata": {
        "id": "b09a5670"
      },
      "outputs": [],
      "source": [
        "myData.to_csv(\"IGP_datos_sismicosHistórico_V1.csv\", index=False)"
      ]
    },
    {
      "cell_type": "markdown",
      "id": "qQUIQCdMN46l",
      "metadata": {
        "id": "qQUIQCdMN46l"
      },
      "source": [
        "## 2. Identificación de valores atipicos"
      ]
    },
    {
      "cell_type": "code",
      "execution_count": 23,
      "id": "ca9b23a1",
      "metadata": {},
      "outputs": [],
      "source": [
        "myData = pd.read_csv('IGP_datos_sismicosHistórico_V1.csv')"
      ]
    },
    {
      "cell_type": "code",
      "execution_count": 24,
      "id": "82c7bb92",
      "metadata": {},
      "outputs": [
        {
          "data": {
            "text/plain": [
              "<AxesSubplot:>"
            ]
          },
          "execution_count": 24,
          "metadata": {},
          "output_type": "execute_result"
        },
        {
          "data": {
            "image/png": "[encoded data removed]",
            "text/plain": [
              "<Figure size 432x288 with 1 Axes>"
            ]
          },
          "metadata": {
            "needs_background": "light"
          },
          "output_type": "display_data"
        }
      ],
      "source": [
        "sns.boxplot(data=myData, orient = \"h\", showmeans = True,palette=\"Set2\")"
      ]
    },
    {
      "cell_type": "code",
      "execution_count": 25,
      "id": "7569c17f",
      "metadata": {},
      "outputs": [],
      "source": [
        "# eliminar los outliers de la columna profundidad_km\n",
        "Q1 = myData['profundidad_km'].quantile(0.25)\n",
        "Q3 = myData['profundidad_km'].quantile(0.75)\n",
        "IQR = Q3 - Q1\n",
        "myData = myData[~((myData['profundidad_km'] < (Q1 - 1.5 * IQR)) |(myData['profundidad_km'] > (Q3 + 1.5 * IQR)))]\n",
        "# eliminar los outliers de la columna magnitud_Mw\n",
        "Q1 = myData['magnitud_Mw'].quantile(0.25)\n",
        "Q3 = myData['magnitud_Mw'].quantile(0.75)\n",
        "IQR = Q3 - Q1\n",
        "myData = myData[~((myData['magnitud_Mw'] < (Q1 - 1.5 * IQR)) |(myData['magnitud_Mw'] > (Q3 + 1.5 * IQR)))]\n",
        "# eliminar los outliers de la columna magnitud_Ms\n",
        "Q1 = myData['magnitud_Ms'].quantile(0.25)\n",
        "Q3 = myData['magnitud_Ms'].quantile(0.75)\n",
        "IQR = Q3 - Q1\n",
        "myData = myData[~((myData['magnitud_Ms'] < (Q1 - 1.5 * IQR)) |(myData['magnitud_Ms'] > (Q3 + 1.5 * IQR)))]\n",
        "# eliminar los outliers de la columna magnitud_mb\n",
        "Q1 = myData['magnitud_mb'].quantile(0.25)\n",
        "Q3 = myData['magnitud_mb'].quantile(0.75)\n",
        "IQR = Q3 - Q1\n",
        "myData = myData[~((myData['magnitud_mb'] < (Q1 - 1.5 * IQR)) |(myData['magnitud_mb'] > (Q3 + 1.5 * IQR)))]"
      ]
    },
    {
      "cell_type": "code",
      "execution_count": 26,
      "id": "b4e47315",
      "metadata": {},
      "outputs": [
        {
          "data": {
            "text/plain": [
              "<AxesSubplot:>"
            ]
          },
          "execution_count": 26,
          "metadata": {},
          "output_type": "execute_result"
        },
        {
          "data": {
            "image/png": "[encoded data removed]",
            "text/plain": [
              "<Figure size 432x288 with 1 Axes>"
            ]
          },
          "metadata": {
            "needs_background": "light"
          },
          "output_type": "display_data"
        }
      ],
      "source": [
        "sns.boxplot(data=myData, orient = \"h\", showmeans = True,palette=\"Set2\")"
      ]
    },
    {
      "cell_type": "markdown",
      "id": "9bd6e854",
      "metadata": {},
      "source": [
        "## 3. Tranformación de datos"
      ]
    },
    {
      "cell_type": "markdown",
      "id": "9bb19a49",
      "metadata": {},
      "source": [
        "Separacion de la columna fecha en dia, mes, año"
      ]
    },
    {
      "cell_type": "code",
      "execution_count": 27,
      "id": "e306d403",
      "metadata": {},
      "outputs": [],
      "source": [
        "df_date = myData['fecha_UTC'].str.split('/', expand=True)\n",
        "df_date = df_date.rename(columns={0:'dia', 1:'mes', 2:'año'})\n",
        "# convertir a tipo numérico\n",
        "df_date['dia'] = pd.to_numeric(df_date['dia'], errors='coerce')\n",
        "df_date['mes'] = pd.to_numeric(df_date['mes'], errors='coerce')\n",
        "df_date['año'] = pd.to_numeric(df_date['año'], errors='coerce')"
      ]
    },
    {
      "cell_type": "code",
      "execution_count": 28,
      "id": "bd60f268",
      "metadata": {},
      "outputs": [
        {
          "name": "stdout",
          "output_type": "stream",
          "text": [
            "<class 'pandas.core.frame.DataFrame'>\n",
            "Int64Index: 870 entries, 29 to 1098\n",
            "Data columns (total 3 columns):\n",
            " #   Column  Non-Null Count  Dtype\n",
            "---  ------  --------------  -----\n",
            " 0   dia     870 non-null    int64\n",
            " 1   mes     870 non-null    int64\n",
            " 2   año     870 non-null    int64\n",
            "dtypes: int64(3)\n",
            "memory usage: 27.2 KB\n"
          ]
        }
      ],
      "source": [
        "df_date.info()"
      ]
    },
    {
      "cell_type": "code",
      "execution_count": 29,
      "id": "e0a5114a",
      "metadata": {},
      "outputs": [],
      "source": [
        "df_sismos = pd.concat([df_date, myData], axis=1)"
      ]
    },
    {
      "cell_type": "code",
      "execution_count": 30,
      "id": "eaad99eb",
      "metadata": {},
      "outputs": [
        {
          "data": {
            "text/html": [
              "<div>\n",
              "<style scoped>\n",
              "    .dataframe tbody tr th:only-of-type {\n",
              "        vertical-align: middle;\n",
              "    }\n",
              "\n",
              "    .dataframe tbody tr th {\n",
              "        vertical-align: top;\n",
              "    }\n",
              "\n",
              "    .dataframe thead th {\n",
              "        text-align: right;\n",
              "    }\n",
              "</style>\n",
              "<table border=\"1\" class=\"dataframe\">\n",
              "  <thead>\n",
              "    <tr style=\"text-align: right;\">\n",
              "      <th></th>\n",
              "      <th>dia</th>\n",
              "      <th>mes</th>\n",
              "      <th>año</th>\n",
              "      <th>fecha_UTC</th>\n",
              "      <th>hora_UTC</th>\n",
              "      <th>latitud(º)</th>\n",
              "      <th>longitud(º)</th>\n",
              "      <th>profundidad_km</th>\n",
              "      <th>magnitud_mb</th>\n",
              "      <th>magnitud_Ms</th>\n",
              "      <th>magnitud_Mw</th>\n",
              "    </tr>\n",
              "  </thead>\n",
              "  <tbody>\n",
              "    <tr>\n",
              "      <th>29</th>\n",
              "      <td>2</td>\n",
              "      <td>8</td>\n",
              "      <td>1700</td>\n",
              "      <td>02/08/1700</td>\n",
              "      <td>21:00:00.00</td>\n",
              "      <td>-13.90</td>\n",
              "      <td>-72.1</td>\n",
              "      <td>10.0</td>\n",
              "      <td>4.100000</td>\n",
              "      <td>3.525</td>\n",
              "      <td>4.43175</td>\n",
              "    </tr>\n",
              "    <tr>\n",
              "      <th>30</th>\n",
              "      <td>18</td>\n",
              "      <td>9</td>\n",
              "      <td>1707</td>\n",
              "      <td>18/09/1707</td>\n",
              "      <td>05:00:00.00</td>\n",
              "      <td>-13.90</td>\n",
              "      <td>-72.1</td>\n",
              "      <td>10.0</td>\n",
              "      <td>4.400000</td>\n",
              "      <td>3.930</td>\n",
              "      <td>4.70310</td>\n",
              "    </tr>\n",
              "    <tr>\n",
              "      <th>31</th>\n",
              "      <td>23</td>\n",
              "      <td>5</td>\n",
              "      <td>1709</td>\n",
              "      <td>23/05/1709</td>\n",
              "      <td>07:00:00.00</td>\n",
              "      <td>-12.60</td>\n",
              "      <td>-77.5</td>\n",
              "      <td>60.0</td>\n",
              "      <td>4.600000</td>\n",
              "      <td>4.200</td>\n",
              "      <td>4.88400</td>\n",
              "    </tr>\n",
              "    <tr>\n",
              "      <th>33</th>\n",
              "      <td>17</td>\n",
              "      <td>6</td>\n",
              "      <td>1719</td>\n",
              "      <td>17/06/1719</td>\n",
              "      <td>00:00:00.00</td>\n",
              "      <td>-13.20</td>\n",
              "      <td>-74.4</td>\n",
              "      <td>20.0</td>\n",
              "      <td>4.600000</td>\n",
              "      <td>4.200</td>\n",
              "      <td>4.88400</td>\n",
              "    </tr>\n",
              "    <tr>\n",
              "      <th>36</th>\n",
              "      <td>19</td>\n",
              "      <td>11</td>\n",
              "      <td>1744</td>\n",
              "      <td>19/11/1744</td>\n",
              "      <td>11:30:00.00</td>\n",
              "      <td>-13.77</td>\n",
              "      <td>-72.1</td>\n",
              "      <td>20.0</td>\n",
              "      <td>4.341863</td>\n",
              "      <td>4.800</td>\n",
              "      <td>5.28600</td>\n",
              "    </tr>\n",
              "  </tbody>\n",
              "</table>\n",
              "</div>"
            ],
            "text/plain": [
              "    dia  mes   año   fecha_UTC     hora_UTC  latitud(º)  longitud(º)  \\\n",
              "29    2    8  1700  02/08/1700  21:00:00.00      -13.90        -72.1   \n",
              "30   18    9  1707  18/09/1707  05:00:00.00      -13.90        -72.1   \n",
              "31   23    5  1709  23/05/1709  07:00:00.00      -12.60        -77.5   \n",
              "33   17    6  1719  17/06/1719  00:00:00.00      -13.20        -74.4   \n",
              "36   19   11  1744  19/11/1744  11:30:00.00      -13.77        -72.1   \n",
              "\n",
              "    profundidad_km  magnitud_mb  magnitud_Ms  magnitud_Mw  \n",
              "29            10.0     4.100000        3.525      4.43175  \n",
              "30            10.0     4.400000        3.930      4.70310  \n",
              "31            60.0     4.600000        4.200      4.88400  \n",
              "33            20.0     4.600000        4.200      4.88400  \n",
              "36            20.0     4.341863        4.800      5.28600  "
            ]
          },
          "execution_count": 30,
          "metadata": {},
          "output_type": "execute_result"
        }
      ],
      "source": [
        "df_sismos.head()"
      ]
    },
    {
      "cell_type": "markdown",
      "id": "771d40a7",
      "metadata": {},
      "source": [
        "Separacion de hora_UTC en hora, minutos, segundos"
      ]
    },
    {
      "cell_type": "code",
      "execution_count": 31,
      "id": "fc463e8c",
      "metadata": {},
      "outputs": [
        {
          "data": {
            "text/html": [
              "<div>\n",
              "<style scoped>\n",
              "    .dataframe tbody tr th:only-of-type {\n",
              "        vertical-align: middle;\n",
              "    }\n",
              "\n",
              "    .dataframe tbody tr th {\n",
              "        vertical-align: top;\n",
              "    }\n",
              "\n",
              "    .dataframe thead th {\n",
              "        text-align: right;\n",
              "    }\n",
              "</style>\n",
              "<table border=\"1\" class=\"dataframe\">\n",
              "  <thead>\n",
              "    <tr style=\"text-align: right;\">\n",
              "      <th></th>\n",
              "      <th>hora</th>\n",
              "      <th>minuto</th>\n",
              "    </tr>\n",
              "  </thead>\n",
              "  <tbody>\n",
              "    <tr>\n",
              "      <th>29</th>\n",
              "      <td>21</td>\n",
              "      <td>0</td>\n",
              "    </tr>\n",
              "    <tr>\n",
              "      <th>30</th>\n",
              "      <td>5</td>\n",
              "      <td>0</td>\n",
              "    </tr>\n",
              "    <tr>\n",
              "      <th>31</th>\n",
              "      <td>7</td>\n",
              "      <td>0</td>\n",
              "    </tr>\n",
              "    <tr>\n",
              "      <th>33</th>\n",
              "      <td>0</td>\n",
              "      <td>0</td>\n",
              "    </tr>\n",
              "    <tr>\n",
              "      <th>36</th>\n",
              "      <td>11</td>\n",
              "      <td>30</td>\n",
              "    </tr>\n",
              "  </tbody>\n",
              "</table>\n",
              "</div>"
            ],
            "text/plain": [
              "    hora  minuto\n",
              "29    21       0\n",
              "30     5       0\n",
              "31     7       0\n",
              "33     0       0\n",
              "36    11      30"
            ]
          },
          "execution_count": 31,
          "metadata": {},
          "output_type": "execute_result"
        }
      ],
      "source": [
        "# separación de hora_UTC en hora , minuto y segundo\n",
        "df_hora = df_sismos['hora_UTC'].str.split(':', expand=True)\n",
        "df_hora = df_hora.rename(columns={0:'hora', 1:'minuto', 2:'segundo'})\n",
        "# eliminar la columna segundo\n",
        "df_hora = df_hora.drop(['segundo'], axis=1)\n",
        "# convertir a tipo numérico\n",
        "df_hora['hora'] = pd.to_numeric(df_hora['hora'], errors='coerce')\n",
        "df_hora['minuto'] = pd.to_numeric(df_hora['minuto'], errors='coerce')\n",
        "df_hora.head()"
      ]
    },
    {
      "cell_type": "code",
      "execution_count": 32,
      "id": "bce3f70a",
      "metadata": {},
      "outputs": [],
      "source": [
        "# concatenar las columnas hora, minuto  con df_sismos\n",
        "df_sismos = pd.concat([df_hora, df_sismos], axis=1)"
      ]
    },
    {
      "cell_type": "code",
      "execution_count": 33,
      "id": "f62a01ec",
      "metadata": {},
      "outputs": [
        {
          "data": {
            "text/html": [
              "<div>\n",
              "<style scoped>\n",
              "    .dataframe tbody tr th:only-of-type {\n",
              "        vertical-align: middle;\n",
              "    }\n",
              "\n",
              "    .dataframe tbody tr th {\n",
              "        vertical-align: top;\n",
              "    }\n",
              "\n",
              "    .dataframe thead th {\n",
              "        text-align: right;\n",
              "    }\n",
              "</style>\n",
              "<table border=\"1\" class=\"dataframe\">\n",
              "  <thead>\n",
              "    <tr style=\"text-align: right;\">\n",
              "      <th></th>\n",
              "      <th>hora</th>\n",
              "      <th>minuto</th>\n",
              "      <th>dia</th>\n",
              "      <th>mes</th>\n",
              "      <th>año</th>\n",
              "      <th>fecha_UTC</th>\n",
              "      <th>hora_UTC</th>\n",
              "      <th>latitud(º)</th>\n",
              "      <th>longitud(º)</th>\n",
              "      <th>profundidad_km</th>\n",
              "      <th>magnitud_mb</th>\n",
              "      <th>magnitud_Ms</th>\n",
              "      <th>magnitud_Mw</th>\n",
              "    </tr>\n",
              "  </thead>\n",
              "  <tbody>\n",
              "    <tr>\n",
              "      <th>1091</th>\n",
              "      <td>3</td>\n",
              "      <td>22</td>\n",
              "      <td>22</td>\n",
              "      <td>6</td>\n",
              "      <td>1959</td>\n",
              "      <td>22/06/1959</td>\n",
              "      <td>03:22:51.00</td>\n",
              "      <td>-4.0</td>\n",
              "      <td>-81.0</td>\n",
              "      <td>33.0</td>\n",
              "      <td>5.4</td>\n",
              "      <td>5.280</td>\n",
              "      <td>5.60760</td>\n",
              "    </tr>\n",
              "    <tr>\n",
              "      <th>1093</th>\n",
              "      <td>8</td>\n",
              "      <td>28</td>\n",
              "      <td>6</td>\n",
              "      <td>7</td>\n",
              "      <td>1959</td>\n",
              "      <td>06/07/1959</td>\n",
              "      <td>08:28:20.00</td>\n",
              "      <td>-15.5</td>\n",
              "      <td>-75.0</td>\n",
              "      <td>33.0</td>\n",
              "      <td>4.3</td>\n",
              "      <td>3.795</td>\n",
              "      <td>4.61265</td>\n",
              "    </tr>\n",
              "    <tr>\n",
              "      <th>1095</th>\n",
              "      <td>18</td>\n",
              "      <td>28</td>\n",
              "      <td>15</td>\n",
              "      <td>8</td>\n",
              "      <td>1959</td>\n",
              "      <td>15/08/1959</td>\n",
              "      <td>18:28:57.00</td>\n",
              "      <td>-8.0</td>\n",
              "      <td>-79.5</td>\n",
              "      <td>33.0</td>\n",
              "      <td>5.1</td>\n",
              "      <td>4.875</td>\n",
              "      <td>5.33625</td>\n",
              "    </tr>\n",
              "    <tr>\n",
              "      <th>1097</th>\n",
              "      <td>20</td>\n",
              "      <td>52</td>\n",
              "      <td>13</td>\n",
              "      <td>10</td>\n",
              "      <td>1959</td>\n",
              "      <td>13/10/1959</td>\n",
              "      <td>20:52:25.00</td>\n",
              "      <td>-9.0</td>\n",
              "      <td>-79.5</td>\n",
              "      <td>33.0</td>\n",
              "      <td>5.0</td>\n",
              "      <td>4.740</td>\n",
              "      <td>5.24580</td>\n",
              "    </tr>\n",
              "    <tr>\n",
              "      <th>1098</th>\n",
              "      <td>7</td>\n",
              "      <td>2</td>\n",
              "      <td>2</td>\n",
              "      <td>12</td>\n",
              "      <td>1959</td>\n",
              "      <td>02/12/1959</td>\n",
              "      <td>07:02:52.00</td>\n",
              "      <td>-9.0</td>\n",
              "      <td>-80.0</td>\n",
              "      <td>33.0</td>\n",
              "      <td>4.4</td>\n",
              "      <td>3.930</td>\n",
              "      <td>4.70310</td>\n",
              "    </tr>\n",
              "  </tbody>\n",
              "</table>\n",
              "</div>"
            ],
            "text/plain": [
              "      hora  minuto  dia  mes   año   fecha_UTC     hora_UTC  latitud(º)  \\\n",
              "1091     3      22   22    6  1959  22/06/1959  03:22:51.00        -4.0   \n",
              "1093     8      28    6    7  1959  06/07/1959  08:28:20.00       -15.5   \n",
              "1095    18      28   15    8  1959  15/08/1959  18:28:57.00        -8.0   \n",
              "1097    20      52   13   10  1959  13/10/1959  20:52:25.00        -9.0   \n",
              "1098     7       2    2   12  1959  02/12/1959  07:02:52.00        -9.0   \n",
              "\n",
              "      longitud(º)  profundidad_km  magnitud_mb  magnitud_Ms  magnitud_Mw  \n",
              "1091        -81.0            33.0          5.4        5.280      5.60760  \n",
              "1093        -75.0            33.0          4.3        3.795      4.61265  \n",
              "1095        -79.5            33.0          5.1        4.875      5.33625  \n",
              "1097        -79.5            33.0          5.0        4.740      5.24580  \n",
              "1098        -80.0            33.0          4.4        3.930      4.70310  "
            ]
          },
          "execution_count": 33,
          "metadata": {},
          "output_type": "execute_result"
        }
      ],
      "source": [
        "df_sismos.tail()"
      ]
    },
    {
      "cell_type": "code",
      "execution_count": 34,
      "id": "2e13f437",
      "metadata": {},
      "outputs": [
        {
          "name": "stdout",
          "output_type": "stream",
          "text": [
            "<class 'pandas.core.frame.DataFrame'>\n",
            "Int64Index: 870 entries, 29 to 1098\n",
            "Data columns (total 13 columns):\n",
            " #   Column          Non-Null Count  Dtype  \n",
            "---  ------          --------------  -----  \n",
            " 0   hora            870 non-null    int64  \n",
            " 1   minuto          870 non-null    int64  \n",
            " 2   dia             870 non-null    int64  \n",
            " 3   mes             870 non-null    int64  \n",
            " 4   año             870 non-null    int64  \n",
            " 5   fecha_UTC       870 non-null    object \n",
            " 6   hora_UTC        870 non-null    object \n",
            " 7   latitud(º)      870 non-null    float64\n",
            " 8   longitud(º)     870 non-null    float64\n",
            " 9   profundidad_km  870 non-null    float64\n",
            " 10  magnitud_mb     870 non-null    float64\n",
            " 11  magnitud_Ms     870 non-null    float64\n",
            " 12  magnitud_Mw     870 non-null    float64\n",
            "dtypes: float64(6), int64(5), object(2)\n",
            "memory usage: 95.2+ KB\n"
          ]
        }
      ],
      "source": [
        "df_sismos.info()"
      ]
    },
    {
      "cell_type": "code",
      "execution_count": 35,
      "id": "fba0f20d",
      "metadata": {},
      "outputs": [],
      "source": [
        "# Escalasismos = pd.cut(df_sismos['magnitud_Mw'],[0,3,4,5,6,7,8])\n",
        "# print(Escalasismos)\n",
        "# print(pd.value_counts(Escalasismos))"
      ]
    },
    {
      "cell_type": "code",
      "execution_count": 36,
      "id": "ed7e689e",
      "metadata": {},
      "outputs": [],
      "source": [
        "# reiniciar los índices\n",
        "df_sismos = df_sismos.reset_index(drop=True)"
      ]
    },
    {
      "cell_type": "code",
      "execution_count": 37,
      "id": "d8a6b0c4",
      "metadata": {},
      "outputs": [
        {
          "data": {
            "text/html": [
              "<div>\n",
              "<style scoped>\n",
              "    .dataframe tbody tr th:only-of-type {\n",
              "        vertical-align: middle;\n",
              "    }\n",
              "\n",
              "    .dataframe tbody tr th {\n",
              "        vertical-align: top;\n",
              "    }\n",
              "\n",
              "    .dataframe thead th {\n",
              "        text-align: right;\n",
              "    }\n",
              "</style>\n",
              "<table border=\"1\" class=\"dataframe\">\n",
              "  <thead>\n",
              "    <tr style=\"text-align: right;\">\n",
              "      <th></th>\n",
              "      <th>hora</th>\n",
              "      <th>minuto</th>\n",
              "      <th>dia</th>\n",
              "      <th>mes</th>\n",
              "      <th>año</th>\n",
              "      <th>fecha_UTC</th>\n",
              "      <th>hora_UTC</th>\n",
              "      <th>latitud(º)</th>\n",
              "      <th>longitud(º)</th>\n",
              "      <th>profundidad_km</th>\n",
              "      <th>magnitud_mb</th>\n",
              "      <th>magnitud_Ms</th>\n",
              "      <th>magnitud_Mw</th>\n",
              "    </tr>\n",
              "  </thead>\n",
              "  <tbody>\n",
              "    <tr>\n",
              "      <th>0</th>\n",
              "      <td>21</td>\n",
              "      <td>0</td>\n",
              "      <td>2</td>\n",
              "      <td>8</td>\n",
              "      <td>1700</td>\n",
              "      <td>02/08/1700</td>\n",
              "      <td>21:00:00.00</td>\n",
              "      <td>-13.90</td>\n",
              "      <td>-72.1</td>\n",
              "      <td>10.0</td>\n",
              "      <td>4.100000</td>\n",
              "      <td>3.525</td>\n",
              "      <td>4.43175</td>\n",
              "    </tr>\n",
              "    <tr>\n",
              "      <th>1</th>\n",
              "      <td>5</td>\n",
              "      <td>0</td>\n",
              "      <td>18</td>\n",
              "      <td>9</td>\n",
              "      <td>1707</td>\n",
              "      <td>18/09/1707</td>\n",
              "      <td>05:00:00.00</td>\n",
              "      <td>-13.90</td>\n",
              "      <td>-72.1</td>\n",
              "      <td>10.0</td>\n",
              "      <td>4.400000</td>\n",
              "      <td>3.930</td>\n",
              "      <td>4.70310</td>\n",
              "    </tr>\n",
              "    <tr>\n",
              "      <th>2</th>\n",
              "      <td>7</td>\n",
              "      <td>0</td>\n",
              "      <td>23</td>\n",
              "      <td>5</td>\n",
              "      <td>1709</td>\n",
              "      <td>23/05/1709</td>\n",
              "      <td>07:00:00.00</td>\n",
              "      <td>-12.60</td>\n",
              "      <td>-77.5</td>\n",
              "      <td>60.0</td>\n",
              "      <td>4.600000</td>\n",
              "      <td>4.200</td>\n",
              "      <td>4.88400</td>\n",
              "    </tr>\n",
              "    <tr>\n",
              "      <th>3</th>\n",
              "      <td>0</td>\n",
              "      <td>0</td>\n",
              "      <td>17</td>\n",
              "      <td>6</td>\n",
              "      <td>1719</td>\n",
              "      <td>17/06/1719</td>\n",
              "      <td>00:00:00.00</td>\n",
              "      <td>-13.20</td>\n",
              "      <td>-74.4</td>\n",
              "      <td>20.0</td>\n",
              "      <td>4.600000</td>\n",
              "      <td>4.200</td>\n",
              "      <td>4.88400</td>\n",
              "    </tr>\n",
              "    <tr>\n",
              "      <th>4</th>\n",
              "      <td>11</td>\n",
              "      <td>30</td>\n",
              "      <td>19</td>\n",
              "      <td>11</td>\n",
              "      <td>1744</td>\n",
              "      <td>19/11/1744</td>\n",
              "      <td>11:30:00.00</td>\n",
              "      <td>-13.77</td>\n",
              "      <td>-72.1</td>\n",
              "      <td>20.0</td>\n",
              "      <td>4.341863</td>\n",
              "      <td>4.800</td>\n",
              "      <td>5.28600</td>\n",
              "    </tr>\n",
              "  </tbody>\n",
              "</table>\n",
              "</div>"
            ],
            "text/plain": [
              "   hora  minuto  dia  mes   año   fecha_UTC     hora_UTC  latitud(º)  \\\n",
              "0    21       0    2    8  1700  02/08/1700  21:00:00.00      -13.90   \n",
              "1     5       0   18    9  1707  18/09/1707  05:00:00.00      -13.90   \n",
              "2     7       0   23    5  1709  23/05/1709  07:00:00.00      -12.60   \n",
              "3     0       0   17    6  1719  17/06/1719  00:00:00.00      -13.20   \n",
              "4    11      30   19   11  1744  19/11/1744  11:30:00.00      -13.77   \n",
              "\n",
              "   longitud(º)  profundidad_km  magnitud_mb  magnitud_Ms  magnitud_Mw  \n",
              "0        -72.1            10.0     4.100000        3.525      4.43175  \n",
              "1        -72.1            10.0     4.400000        3.930      4.70310  \n",
              "2        -77.5            60.0     4.600000        4.200      4.88400  \n",
              "3        -74.4            20.0     4.600000        4.200      4.88400  \n",
              "4        -72.1            20.0     4.341863        4.800      5.28600  "
            ]
          },
          "execution_count": 37,
          "metadata": {},
          "output_type": "execute_result"
        }
      ],
      "source": [
        "df_sismos.head()"
      ]
    },
    {
      "cell_type": "code",
      "execution_count": 38,
      "id": "8c178026",
      "metadata": {},
      "outputs": [],
      "source": [
        "# creacion de una nueva columna con el nombre de la region del sismo con geopandas\n",
        "#importar librerias\n",
        "# from geopy.geocoders import Nominatim\n",
        "\n",
        "# # crear una lista vacia\n",
        "# region = []\n",
        "# # crear un objeto geolocator\n",
        "# geolocator = Nominatim(user_agent=\"myGeocoder\")\n",
        "# # iterar sobre la columna latitud y longitud\n",
        "# for i in range(len(df_sismos)):\n",
        "#     print(i)\n",
        "#     # crear una variable para almacenar la latitud y longitud\n",
        "#     location = geolocator.reverse(str(df_sismos['latitud(º)'][i])+','+str(df_sismos['longitud(º)'][i]))\n",
        "#     # si la variable location no es noneType\n",
        "#     if location is not None:\n",
        "#         # agregar la variable location si existe location.raw['address']['region'] y location.raw['address']['state']\n",
        "#         if 'region' in location.raw['address'] and 'state' in location.raw['address']:\n",
        "#             region.append(location.raw['address']['region'] + ', ' + location.raw['address']['state'])\n",
        "#         else:\n",
        "#             region.append('MAR, MAR')\n",
        "#     else:\n",
        "#         region.append('MAR, MAR')\n",
        "\n"
      ]
    },
    {
      "cell_type": "code",
      "execution_count": 39,
      "id": "5d361cfd",
      "metadata": {},
      "outputs": [],
      "source": [
        "# # separar la lista region en dos columnas\n",
        "# df_region = pd.DataFrame(region)\n",
        "# df_region = df_region[0].str.split(',', expand=True)\n",
        "# df_region = df_region.rename(columns={0:'provincia', 1:'region'})"
      ]
    },
    {
      "cell_type": "code",
      "execution_count": 40,
      "id": "4c990159",
      "metadata": {},
      "outputs": [],
      "source": [
        "# df_region.head()"
      ]
    },
    {
      "cell_type": "code",
      "execution_count": 41,
      "id": "9478786c",
      "metadata": {},
      "outputs": [],
      "source": [
        "# #guardar el dataframe en un archivo csv\n",
        "# df_region.to_csv('region.csv', index=False)"
      ]
    },
    {
      "cell_type": "code",
      "execution_count": 42,
      "id": "ff1ccc4a",
      "metadata": {},
      "outputs": [],
      "source": [
        "df_region = pd.read_csv('https://raw.githubusercontent.com/KevinRamosRivas/G2-MINERIA_DATOS/main/region_datos_simicosHist%C3%B3rico.csv')"
      ]
    },
    {
      "cell_type": "code",
      "execution_count": 43,
      "id": "962f03e4",
      "metadata": {},
      "outputs": [],
      "source": [
        "# concatenar df_region con df_sismos\n",
        "df_sismos = pd.concat([df_region, df_sismos], axis=1)"
      ]
    },
    {
      "cell_type": "code",
      "execution_count": 44,
      "id": "a9fafb7d",
      "metadata": {},
      "outputs": [
        {
          "data": {
            "text/html": [
              "<div>\n",
              "<style scoped>\n",
              "    .dataframe tbody tr th:only-of-type {\n",
              "        vertical-align: middle;\n",
              "    }\n",
              "\n",
              "    .dataframe tbody tr th {\n",
              "        vertical-align: top;\n",
              "    }\n",
              "\n",
              "    .dataframe thead th {\n",
              "        text-align: right;\n",
              "    }\n",
              "</style>\n",
              "<table border=\"1\" class=\"dataframe\">\n",
              "  <thead>\n",
              "    <tr style=\"text-align: right;\">\n",
              "      <th></th>\n",
              "      <th>provincia</th>\n",
              "      <th>region</th>\n",
              "      <th>hora</th>\n",
              "      <th>minuto</th>\n",
              "      <th>dia</th>\n",
              "      <th>mes</th>\n",
              "      <th>año</th>\n",
              "      <th>fecha_UTC</th>\n",
              "      <th>hora_UTC</th>\n",
              "      <th>latitud(º)</th>\n",
              "      <th>longitud(º)</th>\n",
              "      <th>profundidad_km</th>\n",
              "      <th>magnitud_mb</th>\n",
              "      <th>magnitud_Ms</th>\n",
              "      <th>magnitud_Mw</th>\n",
              "    </tr>\n",
              "  </thead>\n",
              "  <tbody>\n",
              "    <tr>\n",
              "      <th>0</th>\n",
              "      <td>Cotabambas</td>\n",
              "      <td>Apurímac</td>\n",
              "      <td>21</td>\n",
              "      <td>0</td>\n",
              "      <td>2</td>\n",
              "      <td>8</td>\n",
              "      <td>1700</td>\n",
              "      <td>02/08/1700</td>\n",
              "      <td>21:00:00.00</td>\n",
              "      <td>-13.90</td>\n",
              "      <td>-72.1</td>\n",
              "      <td>10.0</td>\n",
              "      <td>4.100000</td>\n",
              "      <td>3.525</td>\n",
              "      <td>4.43175</td>\n",
              "    </tr>\n",
              "    <tr>\n",
              "      <th>1</th>\n",
              "      <td>Cotabambas</td>\n",
              "      <td>Apurímac</td>\n",
              "      <td>5</td>\n",
              "      <td>0</td>\n",
              "      <td>18</td>\n",
              "      <td>9</td>\n",
              "      <td>1707</td>\n",
              "      <td>18/09/1707</td>\n",
              "      <td>05:00:00.00</td>\n",
              "      <td>-13.90</td>\n",
              "      <td>-72.1</td>\n",
              "      <td>10.0</td>\n",
              "      <td>4.400000</td>\n",
              "      <td>3.930</td>\n",
              "      <td>4.70310</td>\n",
              "    </tr>\n",
              "    <tr>\n",
              "      <th>2</th>\n",
              "      <td>MAR</td>\n",
              "      <td>MAR</td>\n",
              "      <td>7</td>\n",
              "      <td>0</td>\n",
              "      <td>23</td>\n",
              "      <td>5</td>\n",
              "      <td>1709</td>\n",
              "      <td>23/05/1709</td>\n",
              "      <td>07:00:00.00</td>\n",
              "      <td>-12.60</td>\n",
              "      <td>-77.5</td>\n",
              "      <td>60.0</td>\n",
              "      <td>4.600000</td>\n",
              "      <td>4.200</td>\n",
              "      <td>4.88400</td>\n",
              "    </tr>\n",
              "    <tr>\n",
              "      <th>3</th>\n",
              "      <td>Huamanga</td>\n",
              "      <td>Ayacucho</td>\n",
              "      <td>0</td>\n",
              "      <td>0</td>\n",
              "      <td>17</td>\n",
              "      <td>6</td>\n",
              "      <td>1719</td>\n",
              "      <td>17/06/1719</td>\n",
              "      <td>00:00:00.00</td>\n",
              "      <td>-13.20</td>\n",
              "      <td>-74.4</td>\n",
              "      <td>20.0</td>\n",
              "      <td>4.600000</td>\n",
              "      <td>4.200</td>\n",
              "      <td>4.88400</td>\n",
              "    </tr>\n",
              "    <tr>\n",
              "      <th>4</th>\n",
              "      <td>Paruro</td>\n",
              "      <td>Cusco</td>\n",
              "      <td>11</td>\n",
              "      <td>30</td>\n",
              "      <td>19</td>\n",
              "      <td>11</td>\n",
              "      <td>1744</td>\n",
              "      <td>19/11/1744</td>\n",
              "      <td>11:30:00.00</td>\n",
              "      <td>-13.77</td>\n",
              "      <td>-72.1</td>\n",
              "      <td>20.0</td>\n",
              "      <td>4.341863</td>\n",
              "      <td>4.800</td>\n",
              "      <td>5.28600</td>\n",
              "    </tr>\n",
              "  </tbody>\n",
              "</table>\n",
              "</div>"
            ],
            "text/plain": [
              "    provincia     region  hora  minuto  dia  mes   año   fecha_UTC  \\\n",
              "0  Cotabambas   Apurímac    21       0    2    8  1700  02/08/1700   \n",
              "1  Cotabambas   Apurímac     5       0   18    9  1707  18/09/1707   \n",
              "2         MAR        MAR     7       0   23    5  1709  23/05/1709   \n",
              "3    Huamanga   Ayacucho     0       0   17    6  1719  17/06/1719   \n",
              "4      Paruro      Cusco    11      30   19   11  1744  19/11/1744   \n",
              "\n",
              "      hora_UTC  latitud(º)  longitud(º)  profundidad_km  magnitud_mb  \\\n",
              "0  21:00:00.00      -13.90        -72.1            10.0     4.100000   \n",
              "1  05:00:00.00      -13.90        -72.1            10.0     4.400000   \n",
              "2  07:00:00.00      -12.60        -77.5            60.0     4.600000   \n",
              "3  00:00:00.00      -13.20        -74.4            20.0     4.600000   \n",
              "4  11:30:00.00      -13.77        -72.1            20.0     4.341863   \n",
              "\n",
              "   magnitud_Ms  magnitud_Mw  \n",
              "0        3.525      4.43175  \n",
              "1        3.930      4.70310  \n",
              "2        4.200      4.88400  \n",
              "3        4.200      4.88400  \n",
              "4        4.800      5.28600  "
            ]
          },
          "execution_count": 44,
          "metadata": {},
          "output_type": "execute_result"
        }
      ],
      "source": [
        "df_sismos.head()"
      ]
    },
    {
      "cell_type": "markdown",
      "id": "ba202055",
      "metadata": {},
      "source": [
        "## 4. Reducción de dimensionalidad"
      ]
    },
    {
      "cell_type": "markdown",
      "id": "c97cff15",
      "metadata": {},
      "source": [
        "Seleccionamos un rango entre 3.0 y 8.2 debido a que los valores fuera de este rango no cumplen con las formulas de regresion anteriormmente usadas en la parte 3.0"
      ]
    },
    {
      "cell_type": "code",
      "execution_count": 45,
      "id": "ddc15d07",
      "metadata": {},
      "outputs": [],
      "source": [
        "df_sismos= df_sismos[(df_sismos['magnitud_Ms']>=3.0) & (df_sismos['magnitud_Ms']<=8.2)]"
      ]
    },
    {
      "cell_type": "code",
      "execution_count": 46,
      "id": "8bf87947",
      "metadata": {},
      "outputs": [
        {
          "data": {
            "text/html": [
              "<div>\n",
              "<style scoped>\n",
              "    .dataframe tbody tr th:only-of-type {\n",
              "        vertical-align: middle;\n",
              "    }\n",
              "\n",
              "    .dataframe tbody tr th {\n",
              "        vertical-align: top;\n",
              "    }\n",
              "\n",
              "    .dataframe thead th {\n",
              "        text-align: right;\n",
              "    }\n",
              "</style>\n",
              "<table border=\"1\" class=\"dataframe\">\n",
              "  <thead>\n",
              "    <tr style=\"text-align: right;\">\n",
              "      <th></th>\n",
              "      <th>provincia</th>\n",
              "      <th>region</th>\n",
              "      <th>hora</th>\n",
              "      <th>minuto</th>\n",
              "      <th>dia</th>\n",
              "      <th>mes</th>\n",
              "      <th>año</th>\n",
              "      <th>fecha_UTC</th>\n",
              "      <th>hora_UTC</th>\n",
              "      <th>latitud(º)</th>\n",
              "      <th>longitud(º)</th>\n",
              "      <th>profundidad_km</th>\n",
              "      <th>magnitud_mb</th>\n",
              "      <th>magnitud_Ms</th>\n",
              "      <th>magnitud_Mw</th>\n",
              "    </tr>\n",
              "  </thead>\n",
              "  <tbody>\n",
              "    <tr>\n",
              "      <th>0</th>\n",
              "      <td>Cotabambas</td>\n",
              "      <td>Apurímac</td>\n",
              "      <td>21</td>\n",
              "      <td>0</td>\n",
              "      <td>2</td>\n",
              "      <td>8</td>\n",
              "      <td>1700</td>\n",
              "      <td>02/08/1700</td>\n",
              "      <td>21:00:00.00</td>\n",
              "      <td>-13.90</td>\n",
              "      <td>-72.1</td>\n",
              "      <td>10.0</td>\n",
              "      <td>4.100000</td>\n",
              "      <td>3.525</td>\n",
              "      <td>4.43175</td>\n",
              "    </tr>\n",
              "    <tr>\n",
              "      <th>1</th>\n",
              "      <td>Cotabambas</td>\n",
              "      <td>Apurímac</td>\n",
              "      <td>5</td>\n",
              "      <td>0</td>\n",
              "      <td>18</td>\n",
              "      <td>9</td>\n",
              "      <td>1707</td>\n",
              "      <td>18/09/1707</td>\n",
              "      <td>05:00:00.00</td>\n",
              "      <td>-13.90</td>\n",
              "      <td>-72.1</td>\n",
              "      <td>10.0</td>\n",
              "      <td>4.400000</td>\n",
              "      <td>3.930</td>\n",
              "      <td>4.70310</td>\n",
              "    </tr>\n",
              "    <tr>\n",
              "      <th>2</th>\n",
              "      <td>MAR</td>\n",
              "      <td>MAR</td>\n",
              "      <td>7</td>\n",
              "      <td>0</td>\n",
              "      <td>23</td>\n",
              "      <td>5</td>\n",
              "      <td>1709</td>\n",
              "      <td>23/05/1709</td>\n",
              "      <td>07:00:00.00</td>\n",
              "      <td>-12.60</td>\n",
              "      <td>-77.5</td>\n",
              "      <td>60.0</td>\n",
              "      <td>4.600000</td>\n",
              "      <td>4.200</td>\n",
              "      <td>4.88400</td>\n",
              "    </tr>\n",
              "    <tr>\n",
              "      <th>3</th>\n",
              "      <td>Huamanga</td>\n",
              "      <td>Ayacucho</td>\n",
              "      <td>0</td>\n",
              "      <td>0</td>\n",
              "      <td>17</td>\n",
              "      <td>6</td>\n",
              "      <td>1719</td>\n",
              "      <td>17/06/1719</td>\n",
              "      <td>00:00:00.00</td>\n",
              "      <td>-13.20</td>\n",
              "      <td>-74.4</td>\n",
              "      <td>20.0</td>\n",
              "      <td>4.600000</td>\n",
              "      <td>4.200</td>\n",
              "      <td>4.88400</td>\n",
              "    </tr>\n",
              "    <tr>\n",
              "      <th>4</th>\n",
              "      <td>Paruro</td>\n",
              "      <td>Cusco</td>\n",
              "      <td>11</td>\n",
              "      <td>30</td>\n",
              "      <td>19</td>\n",
              "      <td>11</td>\n",
              "      <td>1744</td>\n",
              "      <td>19/11/1744</td>\n",
              "      <td>11:30:00.00</td>\n",
              "      <td>-13.77</td>\n",
              "      <td>-72.1</td>\n",
              "      <td>20.0</td>\n",
              "      <td>4.341863</td>\n",
              "      <td>4.800</td>\n",
              "      <td>5.28600</td>\n",
              "    </tr>\n",
              "  </tbody>\n",
              "</table>\n",
              "</div>"
            ],
            "text/plain": [
              "    provincia     region  hora  minuto  dia  mes   año   fecha_UTC  \\\n",
              "0  Cotabambas   Apurímac    21       0    2    8  1700  02/08/1700   \n",
              "1  Cotabambas   Apurímac     5       0   18    9  1707  18/09/1707   \n",
              "2         MAR        MAR     7       0   23    5  1709  23/05/1709   \n",
              "3    Huamanga   Ayacucho     0       0   17    6  1719  17/06/1719   \n",
              "4      Paruro      Cusco    11      30   19   11  1744  19/11/1744   \n",
              "\n",
              "      hora_UTC  latitud(º)  longitud(º)  profundidad_km  magnitud_mb  \\\n",
              "0  21:00:00.00      -13.90        -72.1            10.0     4.100000   \n",
              "1  05:00:00.00      -13.90        -72.1            10.0     4.400000   \n",
              "2  07:00:00.00      -12.60        -77.5            60.0     4.600000   \n",
              "3  00:00:00.00      -13.20        -74.4            20.0     4.600000   \n",
              "4  11:30:00.00      -13.77        -72.1            20.0     4.341863   \n",
              "\n",
              "   magnitud_Ms  magnitud_Mw  \n",
              "0        3.525      4.43175  \n",
              "1        3.930      4.70310  \n",
              "2        4.200      4.88400  \n",
              "3        4.200      4.88400  \n",
              "4        4.800      5.28600  "
            ]
          },
          "execution_count": 46,
          "metadata": {},
          "output_type": "execute_result"
        }
      ],
      "source": [
        "df_sismos.head()"
      ]
    },
    {
      "cell_type": "code",
      "execution_count": 47,
      "id": "d4e8e1fd",
      "metadata": {},
      "outputs": [
        {
          "data": {
            "text/html": [
              "<div>\n",
              "<style scoped>\n",
              "    .dataframe tbody tr th:only-of-type {\n",
              "        vertical-align: middle;\n",
              "    }\n",
              "\n",
              "    .dataframe tbody tr th {\n",
              "        vertical-align: top;\n",
              "    }\n",
              "\n",
              "    .dataframe thead th {\n",
              "        text-align: right;\n",
              "    }\n",
              "</style>\n",
              "<table border=\"1\" class=\"dataframe\">\n",
              "  <thead>\n",
              "    <tr style=\"text-align: right;\">\n",
              "      <th></th>\n",
              "      <th>provincia</th>\n",
              "      <th>region</th>\n",
              "      <th>hora</th>\n",
              "      <th>minuto</th>\n",
              "      <th>dia</th>\n",
              "      <th>mes</th>\n",
              "      <th>año</th>\n",
              "      <th>latitud(º)</th>\n",
              "      <th>longitud(º)</th>\n",
              "      <th>profundidad_km</th>\n",
              "      <th>magnitud_Mw</th>\n",
              "    </tr>\n",
              "  </thead>\n",
              "  <tbody>\n",
              "    <tr>\n",
              "      <th>0</th>\n",
              "      <td>Cotabambas</td>\n",
              "      <td>Apurímac</td>\n",
              "      <td>21</td>\n",
              "      <td>0</td>\n",
              "      <td>2</td>\n",
              "      <td>8</td>\n",
              "      <td>1700</td>\n",
              "      <td>-13.90</td>\n",
              "      <td>-72.1</td>\n",
              "      <td>10.0</td>\n",
              "      <td>4.43175</td>\n",
              "    </tr>\n",
              "    <tr>\n",
              "      <th>1</th>\n",
              "      <td>Cotabambas</td>\n",
              "      <td>Apurímac</td>\n",
              "      <td>5</td>\n",
              "      <td>0</td>\n",
              "      <td>18</td>\n",
              "      <td>9</td>\n",
              "      <td>1707</td>\n",
              "      <td>-13.90</td>\n",
              "      <td>-72.1</td>\n",
              "      <td>10.0</td>\n",
              "      <td>4.70310</td>\n",
              "    </tr>\n",
              "    <tr>\n",
              "      <th>2</th>\n",
              "      <td>MAR</td>\n",
              "      <td>MAR</td>\n",
              "      <td>7</td>\n",
              "      <td>0</td>\n",
              "      <td>23</td>\n",
              "      <td>5</td>\n",
              "      <td>1709</td>\n",
              "      <td>-12.60</td>\n",
              "      <td>-77.5</td>\n",
              "      <td>60.0</td>\n",
              "      <td>4.88400</td>\n",
              "    </tr>\n",
              "    <tr>\n",
              "      <th>3</th>\n",
              "      <td>Huamanga</td>\n",
              "      <td>Ayacucho</td>\n",
              "      <td>0</td>\n",
              "      <td>0</td>\n",
              "      <td>17</td>\n",
              "      <td>6</td>\n",
              "      <td>1719</td>\n",
              "      <td>-13.20</td>\n",
              "      <td>-74.4</td>\n",
              "      <td>20.0</td>\n",
              "      <td>4.88400</td>\n",
              "    </tr>\n",
              "    <tr>\n",
              "      <th>4</th>\n",
              "      <td>Paruro</td>\n",
              "      <td>Cusco</td>\n",
              "      <td>11</td>\n",
              "      <td>30</td>\n",
              "      <td>19</td>\n",
              "      <td>11</td>\n",
              "      <td>1744</td>\n",
              "      <td>-13.77</td>\n",
              "      <td>-72.1</td>\n",
              "      <td>20.0</td>\n",
              "      <td>5.28600</td>\n",
              "    </tr>\n",
              "  </tbody>\n",
              "</table>\n",
              "</div>"
            ],
            "text/plain": [
              "    provincia     region  hora  minuto  dia  mes   año  latitud(º)  \\\n",
              "0  Cotabambas   Apurímac    21       0    2    8  1700      -13.90   \n",
              "1  Cotabambas   Apurímac     5       0   18    9  1707      -13.90   \n",
              "2         MAR        MAR     7       0   23    5  1709      -12.60   \n",
              "3    Huamanga   Ayacucho     0       0   17    6  1719      -13.20   \n",
              "4      Paruro      Cusco    11      30   19   11  1744      -13.77   \n",
              "\n",
              "   longitud(º)  profundidad_km  magnitud_Mw  \n",
              "0        -72.1            10.0      4.43175  \n",
              "1        -72.1            10.0      4.70310  \n",
              "2        -77.5            60.0      4.88400  \n",
              "3        -74.4            20.0      4.88400  \n",
              "4        -72.1            20.0      5.28600  "
            ]
          },
          "execution_count": 47,
          "metadata": {},
          "output_type": "execute_result"
        }
      ],
      "source": [
        "# eliminamos las columnas que no vamos a utilizar\n",
        "df_sismos = df_sismos.drop(['fecha_UTC','hora_UTC','magnitud_mb','magnitud_Ms'], axis=1)\n",
        "df_sismos.head()"
      ]
    },
    {
      "cell_type": "markdown",
      "id": "55fb92a0",
      "metadata": {},
      "source": [
        "### Aplicamos ANOVA para los datos categoricos y asi seleccionar los mejores atributos en base a la variable objetivo"
      ]
    },
    {
      "cell_type": "code",
      "execution_count": 48,
      "id": "6446cc39",
      "metadata": {},
      "outputs": [],
      "source": [
        "X=df_sismos.iloc[:,:-1]\n",
        "Y=df_sismos[\"magnitud_Mw\"]"
      ]
    },
    {
      "cell_type": "code",
      "execution_count": 49,
      "id": "9077a0f2",
      "metadata": {},
      "outputs": [],
      "source": [
        "# extraer las columnas de tipo object de X\n",
        "df_string = X.select_dtypes(include=['object'])"
      ]
    },
    {
      "cell_type": "code",
      "execution_count": 50,
      "id": "c03a157b",
      "metadata": {},
      "outputs": [],
      "source": [
        "from sklearn.preprocessing import LabelEncoder\n",
        "from sklearn.preprocessing import OrdinalEncoder\n",
        "from sklearn.feature_selection import SelectKBest\n",
        "from sklearn.feature_selection import chi2\n",
        "from matplotlib import pyplot\n",
        "# Preparacion\n",
        "def prepare_inputs(X):\n",
        "    oe = OrdinalEncoder()\n",
        "    oe.fit(X)\n",
        "    X_enc = oe.transform(X)\n",
        "    return X_enc\n"
      ]
    },
    {
      "cell_type": "code",
      "execution_count": 51,
      "id": "01abacbe",
      "metadata": {},
      "outputs": [
        {
          "data": {
            "text/html": [
              "<div>\n",
              "<style scoped>\n",
              "    .dataframe tbody tr th:only-of-type {\n",
              "        vertical-align: middle;\n",
              "    }\n",
              "\n",
              "    .dataframe tbody tr th {\n",
              "        vertical-align: top;\n",
              "    }\n",
              "\n",
              "    .dataframe thead th {\n",
              "        text-align: right;\n",
              "    }\n",
              "</style>\n",
              "<table border=\"1\" class=\"dataframe\">\n",
              "  <thead>\n",
              "    <tr style=\"text-align: right;\">\n",
              "      <th></th>\n",
              "      <th>provincia</th>\n",
              "      <th>region</th>\n",
              "    </tr>\n",
              "  </thead>\n",
              "  <tbody>\n",
              "    <tr>\n",
              "      <th>0</th>\n",
              "      <td>-0.863365</td>\n",
              "      <td>-2.158976</td>\n",
              "    </tr>\n",
              "    <tr>\n",
              "      <th>1</th>\n",
              "      <td>-0.863365</td>\n",
              "      <td>-2.158976</td>\n",
              "    </tr>\n",
              "    <tr>\n",
              "      <th>2</th>\n",
              "      <td>0.322727</td>\n",
              "      <td>0.381768</td>\n",
              "    </tr>\n",
              "    <tr>\n",
              "      <th>3</th>\n",
              "      <td>-0.507537</td>\n",
              "      <td>-1.735519</td>\n",
              "    </tr>\n",
              "    <tr>\n",
              "      <th>4</th>\n",
              "      <td>1.093687</td>\n",
              "      <td>-1.312061</td>\n",
              "    </tr>\n",
              "    <tr>\n",
              "      <th>...</th>\n",
              "      <td>...</td>\n",
              "      <td>...</td>\n",
              "    </tr>\n",
              "    <tr>\n",
              "      <th>640</th>\n",
              "      <td>-0.981974</td>\n",
              "      <td>1.863869</td>\n",
              "    </tr>\n",
              "    <tr>\n",
              "      <th>641</th>\n",
              "      <td>-1.515715</td>\n",
              "      <td>-1.947248</td>\n",
              "    </tr>\n",
              "    <tr>\n",
              "      <th>642</th>\n",
              "      <td>0.322727</td>\n",
              "      <td>0.381768</td>\n",
              "    </tr>\n",
              "    <tr>\n",
              "      <th>643</th>\n",
              "      <td>0.322727</td>\n",
              "      <td>0.381768</td>\n",
              "    </tr>\n",
              "    <tr>\n",
              "      <th>644</th>\n",
              "      <td>0.322727</td>\n",
              "      <td>0.381768</td>\n",
              "    </tr>\n",
              "  </tbody>\n",
              "</table>\n",
              "<p>645 rows × 2 columns</p>\n",
              "</div>"
            ],
            "text/plain": [
              "     provincia    region\n",
              "0    -0.863365 -2.158976\n",
              "1    -0.863365 -2.158976\n",
              "2     0.322727  0.381768\n",
              "3    -0.507537 -1.735519\n",
              "4     1.093687 -1.312061\n",
              "..         ...       ...\n",
              "640  -0.981974  1.863869\n",
              "641  -1.515715 -1.947248\n",
              "642   0.322727  0.381768\n",
              "643   0.322727  0.381768\n",
              "644   0.322727  0.381768\n",
              "\n",
              "[645 rows x 2 columns]"
            ]
          },
          "execution_count": 51,
          "metadata": {},
          "output_type": "execute_result"
        }
      ],
      "source": [
        "#Preparamos la entradas\n",
        "X_train_enc= prepare_inputs(df_string)\n",
        "# convertir a dataframe\n",
        "X_train_enc = pd.DataFrame(X_train_enc)\n",
        "\n",
        "from sklearn import preprocessing\n",
        "\n",
        "df_string_z_score=pd.DataFrame(preprocessing.scale(X_train_enc),columns=df_string .columns)\n",
        "df_string_z_score"
      ]
    },
    {
      "cell_type": "code",
      "execution_count": 52,
      "id": "c67934c5",
      "metadata": {},
      "outputs": [
        {
          "data": {
            "text/html": [
              "<div>\n",
              "<style scoped>\n",
              "    .dataframe tbody tr th:only-of-type {\n",
              "        vertical-align: middle;\n",
              "    }\n",
              "\n",
              "    .dataframe tbody tr th {\n",
              "        vertical-align: top;\n",
              "    }\n",
              "\n",
              "    .dataframe thead th {\n",
              "        text-align: right;\n",
              "    }\n",
              "</style>\n",
              "<table border=\"1\" class=\"dataframe\">\n",
              "  <thead>\n",
              "    <tr style=\"text-align: right;\">\n",
              "      <th></th>\n",
              "      <th>score</th>\n",
              "      <th>pvalue</th>\n",
              "    </tr>\n",
              "  </thead>\n",
              "  <tbody>\n",
              "    <tr>\n",
              "      <th>region</th>\n",
              "      <td>6.087210</td>\n",
              "      <td>0.013876</td>\n",
              "    </tr>\n",
              "    <tr>\n",
              "      <th>provincia</th>\n",
              "      <td>0.475728</td>\n",
              "      <td>0.490613</td>\n",
              "    </tr>\n",
              "  </tbody>\n",
              "</table>\n",
              "</div>"
            ],
            "text/plain": [
              "              score    pvalue\n",
              "region     6.087210  0.013876\n",
              "provincia  0.475728  0.490613"
            ]
          },
          "execution_count": 52,
          "metadata": {},
          "output_type": "execute_result"
        }
      ],
      "source": [
        "# hacer el filtro ANOVA para seleccionar las variables más importantes\n",
        "from sklearn.feature_selection import SelectKBest\n",
        "from sklearn.feature_selection import f_regression\n",
        "# seleccionar las 5 variables más importantes\n",
        "selectKBest = SelectKBest(f_regression, k=2)\n",
        "# aplicar el filtro\n",
        "selectKBest.fit(df_string_z_score, Y)\n",
        "# obtener los scores\n",
        "scores = selectKBest.scores_\n",
        "# obtener los p-values\n",
        "pvalues = selectKBest.pvalues_\n",
        "# obtener los nombres de las columnas\n",
        "names = df_string_z_score.columns\n",
        "# crear un dataframe con los resultados\n",
        "df_scores = pd.DataFrame({'score':scores, 'pvalue':pvalues}, index=names)\n",
        "# ordenar el dataframe por el score ascendente\n",
        "df_scores.sort_values(by='score', ascending=False)"
      ]
    },
    {
      "cell_type": "code",
      "execution_count": 53,
      "id": "6e470560",
      "metadata": {},
      "outputs": [
        {
          "data": {
            "text/plain": [
              "<AxesSubplot:>"
            ]
          },
          "execution_count": 53,
          "metadata": {},
          "output_type": "execute_result"
        },
        {
          "data": {
            "image/png": "[encoded data removed]",
            "text/plain": [
              "<Figure size 720x432 with 1 Axes>"
            ]
          },
          "metadata": {
            "needs_background": "light"
          },
          "output_type": "display_data"
        }
      ],
      "source": [
        "# generar una grafica de barras con los scores en orden ascendente\n",
        "df_scores.sort_values(by='score', ascending=False).plot(kind='barh', figsize=(10, 6))"
      ]
    },
    {
      "cell_type": "markdown",
      "id": "9e1dc5f3",
      "metadata": {},
      "source": [
        "### Aplicamos filtro anova para los datos numericos y asi seleccionar los atributos mas relevantes"
      ]
    },
    {
      "cell_type": "code",
      "execution_count": 54,
      "id": "883d8f58",
      "metadata": {},
      "outputs": [
        {
          "data": {
            "text/html": [
              "<div>\n",
              "<style scoped>\n",
              "    .dataframe tbody tr th:only-of-type {\n",
              "        vertical-align: middle;\n",
              "    }\n",
              "\n",
              "    .dataframe tbody tr th {\n",
              "        vertical-align: top;\n",
              "    }\n",
              "\n",
              "    .dataframe thead th {\n",
              "        text-align: right;\n",
              "    }\n",
              "</style>\n",
              "<table border=\"1\" class=\"dataframe\">\n",
              "  <thead>\n",
              "    <tr style=\"text-align: right;\">\n",
              "      <th></th>\n",
              "      <th>provincia</th>\n",
              "      <th>region</th>\n",
              "      <th>hora</th>\n",
              "      <th>minuto</th>\n",
              "      <th>dia</th>\n",
              "      <th>mes</th>\n",
              "      <th>año</th>\n",
              "      <th>latitud(º)</th>\n",
              "      <th>longitud(º)</th>\n",
              "      <th>profundidad_km</th>\n",
              "    </tr>\n",
              "  </thead>\n",
              "  <tbody>\n",
              "    <tr>\n",
              "      <th>0</th>\n",
              "      <td>Cotabambas</td>\n",
              "      <td>Apurímac</td>\n",
              "      <td>21</td>\n",
              "      <td>0</td>\n",
              "      <td>2</td>\n",
              "      <td>8</td>\n",
              "      <td>1700</td>\n",
              "      <td>-13.90</td>\n",
              "      <td>-72.1</td>\n",
              "      <td>10.0</td>\n",
              "    </tr>\n",
              "    <tr>\n",
              "      <th>1</th>\n",
              "      <td>Cotabambas</td>\n",
              "      <td>Apurímac</td>\n",
              "      <td>5</td>\n",
              "      <td>0</td>\n",
              "      <td>18</td>\n",
              "      <td>9</td>\n",
              "      <td>1707</td>\n",
              "      <td>-13.90</td>\n",
              "      <td>-72.1</td>\n",
              "      <td>10.0</td>\n",
              "    </tr>\n",
              "    <tr>\n",
              "      <th>2</th>\n",
              "      <td>MAR</td>\n",
              "      <td>MAR</td>\n",
              "      <td>7</td>\n",
              "      <td>0</td>\n",
              "      <td>23</td>\n",
              "      <td>5</td>\n",
              "      <td>1709</td>\n",
              "      <td>-12.60</td>\n",
              "      <td>-77.5</td>\n",
              "      <td>60.0</td>\n",
              "    </tr>\n",
              "    <tr>\n",
              "      <th>3</th>\n",
              "      <td>Huamanga</td>\n",
              "      <td>Ayacucho</td>\n",
              "      <td>0</td>\n",
              "      <td>0</td>\n",
              "      <td>17</td>\n",
              "      <td>6</td>\n",
              "      <td>1719</td>\n",
              "      <td>-13.20</td>\n",
              "      <td>-74.4</td>\n",
              "      <td>20.0</td>\n",
              "    </tr>\n",
              "    <tr>\n",
              "      <th>4</th>\n",
              "      <td>Paruro</td>\n",
              "      <td>Cusco</td>\n",
              "      <td>11</td>\n",
              "      <td>30</td>\n",
              "      <td>19</td>\n",
              "      <td>11</td>\n",
              "      <td>1744</td>\n",
              "      <td>-13.77</td>\n",
              "      <td>-72.1</td>\n",
              "      <td>20.0</td>\n",
              "    </tr>\n",
              "  </tbody>\n",
              "</table>\n",
              "</div>"
            ],
            "text/plain": [
              "    provincia     region  hora  minuto  dia  mes   año  latitud(º)  \\\n",
              "0  Cotabambas   Apurímac    21       0    2    8  1700      -13.90   \n",
              "1  Cotabambas   Apurímac     5       0   18    9  1707      -13.90   \n",
              "2         MAR        MAR     7       0   23    5  1709      -12.60   \n",
              "3    Huamanga   Ayacucho     0       0   17    6  1719      -13.20   \n",
              "4      Paruro      Cusco    11      30   19   11  1744      -13.77   \n",
              "\n",
              "   longitud(º)  profundidad_km  \n",
              "0        -72.1            10.0  \n",
              "1        -72.1            10.0  \n",
              "2        -77.5            60.0  \n",
              "3        -74.4            20.0  \n",
              "4        -72.1            20.0  "
            ]
          },
          "execution_count": 54,
          "metadata": {},
          "output_type": "execute_result"
        }
      ],
      "source": [
        "X.head()"
      ]
    },
    {
      "cell_type": "code",
      "execution_count": 55,
      "id": "4fc4e753",
      "metadata": {},
      "outputs": [
        {
          "data": {
            "text/plain": [
              "0    4.43175\n",
              "1    4.70310\n",
              "2    4.88400\n",
              "3    4.88400\n",
              "4    5.28600\n",
              "Name: magnitud_Mw, dtype: float64"
            ]
          },
          "execution_count": 55,
          "metadata": {},
          "output_type": "execute_result"
        }
      ],
      "source": [
        "Y.head()"
      ]
    },
    {
      "cell_type": "code",
      "execution_count": 56,
      "id": "5c483e1c",
      "metadata": {},
      "outputs": [
        {
          "data": {
            "text/html": [
              "<div>\n",
              "<style scoped>\n",
              "    .dataframe tbody tr th:only-of-type {\n",
              "        vertical-align: middle;\n",
              "    }\n",
              "\n",
              "    .dataframe tbody tr th {\n",
              "        vertical-align: top;\n",
              "    }\n",
              "\n",
              "    .dataframe thead th {\n",
              "        text-align: right;\n",
              "    }\n",
              "</style>\n",
              "<table border=\"1\" class=\"dataframe\">\n",
              "  <thead>\n",
              "    <tr style=\"text-align: right;\">\n",
              "      <th></th>\n",
              "      <th>hora</th>\n",
              "      <th>minuto</th>\n",
              "      <th>dia</th>\n",
              "      <th>mes</th>\n",
              "      <th>año</th>\n",
              "      <th>latitud(º)</th>\n",
              "      <th>longitud(º)</th>\n",
              "      <th>profundidad_km</th>\n",
              "    </tr>\n",
              "  </thead>\n",
              "  <tbody>\n",
              "    <tr>\n",
              "      <th>0</th>\n",
              "      <td>21</td>\n",
              "      <td>0</td>\n",
              "      <td>2</td>\n",
              "      <td>8</td>\n",
              "      <td>1700</td>\n",
              "      <td>-13.90</td>\n",
              "      <td>-72.1</td>\n",
              "      <td>10.0</td>\n",
              "    </tr>\n",
              "    <tr>\n",
              "      <th>1</th>\n",
              "      <td>5</td>\n",
              "      <td>0</td>\n",
              "      <td>18</td>\n",
              "      <td>9</td>\n",
              "      <td>1707</td>\n",
              "      <td>-13.90</td>\n",
              "      <td>-72.1</td>\n",
              "      <td>10.0</td>\n",
              "    </tr>\n",
              "    <tr>\n",
              "      <th>2</th>\n",
              "      <td>7</td>\n",
              "      <td>0</td>\n",
              "      <td>23</td>\n",
              "      <td>5</td>\n",
              "      <td>1709</td>\n",
              "      <td>-12.60</td>\n",
              "      <td>-77.5</td>\n",
              "      <td>60.0</td>\n",
              "    </tr>\n",
              "    <tr>\n",
              "      <th>3</th>\n",
              "      <td>0</td>\n",
              "      <td>0</td>\n",
              "      <td>17</td>\n",
              "      <td>6</td>\n",
              "      <td>1719</td>\n",
              "      <td>-13.20</td>\n",
              "      <td>-74.4</td>\n",
              "      <td>20.0</td>\n",
              "    </tr>\n",
              "    <tr>\n",
              "      <th>4</th>\n",
              "      <td>11</td>\n",
              "      <td>30</td>\n",
              "      <td>19</td>\n",
              "      <td>11</td>\n",
              "      <td>1744</td>\n",
              "      <td>-13.77</td>\n",
              "      <td>-72.1</td>\n",
              "      <td>20.0</td>\n",
              "    </tr>\n",
              "  </tbody>\n",
              "</table>\n",
              "</div>"
            ],
            "text/plain": [
              "   hora  minuto  dia  mes   año  latitud(º)  longitud(º)  profundidad_km\n",
              "0    21       0    2    8  1700      -13.90        -72.1            10.0\n",
              "1     5       0   18    9  1707      -13.90        -72.1            10.0\n",
              "2     7       0   23    5  1709      -12.60        -77.5            60.0\n",
              "3     0       0   17    6  1719      -13.20        -74.4            20.0\n",
              "4    11      30   19   11  1744      -13.77        -72.1            20.0"
            ]
          },
          "execution_count": 56,
          "metadata": {},
          "output_type": "execute_result"
        }
      ],
      "source": [
        "# separamos por tipo de datos\n",
        "df_num = X.select_dtypes(include=['int64','float64'])\n",
        "df_num.head()"
      ]
    },
    {
      "cell_type": "code",
      "execution_count": 57,
      "id": "9b4e22b0",
      "metadata": {},
      "outputs": [
        {
          "data": {
            "text/html": [
              "<div>\n",
              "<style scoped>\n",
              "    .dataframe tbody tr th:only-of-type {\n",
              "        vertical-align: middle;\n",
              "    }\n",
              "\n",
              "    .dataframe tbody tr th {\n",
              "        vertical-align: top;\n",
              "    }\n",
              "\n",
              "    .dataframe thead th {\n",
              "        text-align: right;\n",
              "    }\n",
              "</style>\n",
              "<table border=\"1\" class=\"dataframe\">\n",
              "  <thead>\n",
              "    <tr style=\"text-align: right;\">\n",
              "      <th></th>\n",
              "      <th>hora</th>\n",
              "      <th>minuto</th>\n",
              "      <th>dia</th>\n",
              "      <th>mes</th>\n",
              "      <th>año</th>\n",
              "      <th>latitud(º)</th>\n",
              "      <th>longitud(º)</th>\n",
              "      <th>profundidad_km</th>\n",
              "    </tr>\n",
              "  </thead>\n",
              "  <tbody>\n",
              "    <tr>\n",
              "      <th>0</th>\n",
              "      <td>1.580330</td>\n",
              "      <td>-1.535360</td>\n",
              "      <td>-1.518559</td>\n",
              "      <td>0.442647</td>\n",
              "      <td>-8.386503</td>\n",
              "      <td>-0.594294</td>\n",
              "      <td>1.453640</td>\n",
              "      <td>-1.682869</td>\n",
              "    </tr>\n",
              "    <tr>\n",
              "      <th>1</th>\n",
              "      <td>-0.824773</td>\n",
              "      <td>-1.535360</td>\n",
              "      <td>0.317805</td>\n",
              "      <td>0.736076</td>\n",
              "      <td>-8.146381</td>\n",
              "      <td>-0.594294</td>\n",
              "      <td>1.453640</td>\n",
              "      <td>-1.682869</td>\n",
              "    </tr>\n",
              "    <tr>\n",
              "      <th>2</th>\n",
              "      <td>-0.524135</td>\n",
              "      <td>-1.535360</td>\n",
              "      <td>0.891669</td>\n",
              "      <td>-0.437642</td>\n",
              "      <td>-8.077775</td>\n",
              "      <td>-0.237860</td>\n",
              "      <td>-0.400332</td>\n",
              "      <td>0.829431</td>\n",
              "    </tr>\n",
              "    <tr>\n",
              "      <th>3</th>\n",
              "      <td>-1.576368</td>\n",
              "      <td>-1.535360</td>\n",
              "      <td>0.203032</td>\n",
              "      <td>-0.144213</td>\n",
              "      <td>-7.734743</td>\n",
              "      <td>-0.402368</td>\n",
              "      <td>0.663985</td>\n",
              "      <td>-1.180409</td>\n",
              "    </tr>\n",
              "    <tr>\n",
              "      <th>4</th>\n",
              "      <td>0.077140</td>\n",
              "      <td>0.155835</td>\n",
              "      <td>0.432578</td>\n",
              "      <td>1.322936</td>\n",
              "      <td>-6.877165</td>\n",
              "      <td>-0.558651</td>\n",
              "      <td>1.453640</td>\n",
              "      <td>-1.180409</td>\n",
              "    </tr>\n",
              "    <tr>\n",
              "      <th>...</th>\n",
              "      <td>...</td>\n",
              "      <td>...</td>\n",
              "      <td>...</td>\n",
              "      <td>...</td>\n",
              "      <td>...</td>\n",
              "      <td>...</td>\n",
              "      <td>...</td>\n",
              "      <td>...</td>\n",
              "    </tr>\n",
              "    <tr>\n",
              "      <th>640</th>\n",
              "      <td>-1.125411</td>\n",
              "      <td>-0.295151</td>\n",
              "      <td>0.776896</td>\n",
              "      <td>-0.144213</td>\n",
              "      <td>0.498007</td>\n",
              "      <td>2.120091</td>\n",
              "      <td>-1.601980</td>\n",
              "      <td>-0.527211</td>\n",
              "    </tr>\n",
              "    <tr>\n",
              "      <th>641</th>\n",
              "      <td>-0.373816</td>\n",
              "      <td>0.043088</td>\n",
              "      <td>-1.059468</td>\n",
              "      <td>0.149217</td>\n",
              "      <td>0.498007</td>\n",
              "      <td>-1.032983</td>\n",
              "      <td>0.457989</td>\n",
              "      <td>-0.527211</td>\n",
              "    </tr>\n",
              "    <tr>\n",
              "      <th>642</th>\n",
              "      <td>1.129373</td>\n",
              "      <td>0.043088</td>\n",
              "      <td>-0.026513</td>\n",
              "      <td>0.442647</td>\n",
              "      <td>0.498007</td>\n",
              "      <td>1.023370</td>\n",
              "      <td>-1.086988</td>\n",
              "      <td>-0.527211</td>\n",
              "    </tr>\n",
              "    <tr>\n",
              "      <th>643</th>\n",
              "      <td>1.430011</td>\n",
              "      <td>1.396044</td>\n",
              "      <td>-0.256059</td>\n",
              "      <td>1.029506</td>\n",
              "      <td>0.498007</td>\n",
              "      <td>0.749189</td>\n",
              "      <td>-1.086988</td>\n",
              "      <td>-0.527211</td>\n",
              "    </tr>\n",
              "    <tr>\n",
              "      <th>644</th>\n",
              "      <td>-0.524135</td>\n",
              "      <td>-1.422614</td>\n",
              "      <td>-1.518559</td>\n",
              "      <td>1.616365</td>\n",
              "      <td>0.498007</td>\n",
              "      <td>0.749189</td>\n",
              "      <td>-1.258652</td>\n",
              "      <td>-0.527211</td>\n",
              "    </tr>\n",
              "  </tbody>\n",
              "</table>\n",
              "<p>645 rows × 8 columns</p>\n",
              "</div>"
            ],
            "text/plain": [
              "         hora    minuto       dia       mes       año  latitud(º)  \\\n",
              "0    1.580330 -1.535360 -1.518559  0.442647 -8.386503   -0.594294   \n",
              "1   -0.824773 -1.535360  0.317805  0.736076 -8.146381   -0.594294   \n",
              "2   -0.524135 -1.535360  0.891669 -0.437642 -8.077775   -0.237860   \n",
              "3   -1.576368 -1.535360  0.203032 -0.144213 -7.734743   -0.402368   \n",
              "4    0.077140  0.155835  0.432578  1.322936 -6.877165   -0.558651   \n",
              "..        ...       ...       ...       ...       ...         ...   \n",
              "640 -1.125411 -0.295151  0.776896 -0.144213  0.498007    2.120091   \n",
              "641 -0.373816  0.043088 -1.059468  0.149217  0.498007   -1.032983   \n",
              "642  1.129373  0.043088 -0.026513  0.442647  0.498007    1.023370   \n",
              "643  1.430011  1.396044 -0.256059  1.029506  0.498007    0.749189   \n",
              "644 -0.524135 -1.422614 -1.518559  1.616365  0.498007    0.749189   \n",
              "\n",
              "     longitud(º)  profundidad_km  \n",
              "0       1.453640       -1.682869  \n",
              "1       1.453640       -1.682869  \n",
              "2      -0.400332        0.829431  \n",
              "3       0.663985       -1.180409  \n",
              "4       1.453640       -1.180409  \n",
              "..           ...             ...  \n",
              "640    -1.601980       -0.527211  \n",
              "641     0.457989       -0.527211  \n",
              "642    -1.086988       -0.527211  \n",
              "643    -1.086988       -0.527211  \n",
              "644    -1.258652       -0.527211  \n",
              "\n",
              "[645 rows x 8 columns]"
            ]
          },
          "execution_count": 57,
          "metadata": {},
          "output_type": "execute_result"
        }
      ],
      "source": [
        "from sklearn import preprocessing\n",
        "\n",
        "df_num_z_score=pd.DataFrame(preprocessing.scale(df_num),columns=df_num.columns)\n",
        "df_num_z_score"
      ]
    },
    {
      "cell_type": "code",
      "execution_count": 58,
      "id": "e4096da6",
      "metadata": {},
      "outputs": [
        {
          "data": {
            "text/html": [
              "<div>\n",
              "<style scoped>\n",
              "    .dataframe tbody tr th:only-of-type {\n",
              "        vertical-align: middle;\n",
              "    }\n",
              "\n",
              "    .dataframe tbody tr th {\n",
              "        vertical-align: top;\n",
              "    }\n",
              "\n",
              "    .dataframe thead th {\n",
              "        text-align: right;\n",
              "    }\n",
              "</style>\n",
              "<table border=\"1\" class=\"dataframe\">\n",
              "  <thead>\n",
              "    <tr style=\"text-align: right;\">\n",
              "      <th></th>\n",
              "      <th>score</th>\n",
              "      <th>pvalue</th>\n",
              "    </tr>\n",
              "  </thead>\n",
              "  <tbody>\n",
              "    <tr>\n",
              "      <th>profundidad_km</th>\n",
              "      <td>87.494484</td>\n",
              "      <td>1.382452e-19</td>\n",
              "    </tr>\n",
              "    <tr>\n",
              "      <th>longitud(º)</th>\n",
              "      <td>24.912940</td>\n",
              "      <td>7.732008e-07</td>\n",
              "    </tr>\n",
              "    <tr>\n",
              "      <th>latitud(º)</th>\n",
              "      <td>18.705367</td>\n",
              "      <td>1.768024e-05</td>\n",
              "    </tr>\n",
              "    <tr>\n",
              "      <th>año</th>\n",
              "      <td>17.986683</td>\n",
              "      <td>2.551226e-05</td>\n",
              "    </tr>\n",
              "    <tr>\n",
              "      <th>hora</th>\n",
              "      <td>2.687950</td>\n",
              "      <td>1.015990e-01</td>\n",
              "    </tr>\n",
              "    <tr>\n",
              "      <th>dia</th>\n",
              "      <td>2.412260</td>\n",
              "      <td>1.208805e-01</td>\n",
              "    </tr>\n",
              "    <tr>\n",
              "      <th>minuto</th>\n",
              "      <td>1.659032</td>\n",
              "      <td>1.981973e-01</td>\n",
              "    </tr>\n",
              "    <tr>\n",
              "      <th>mes</th>\n",
              "      <td>0.424808</td>\n",
              "      <td>5.147804e-01</td>\n",
              "    </tr>\n",
              "  </tbody>\n",
              "</table>\n",
              "</div>"
            ],
            "text/plain": [
              "                    score        pvalue\n",
              "profundidad_km  87.494484  1.382452e-19\n",
              "longitud(º)     24.912940  7.732008e-07\n",
              "latitud(º)      18.705367  1.768024e-05\n",
              "año             17.986683  2.551226e-05\n",
              "hora             2.687950  1.015990e-01\n",
              "dia              2.412260  1.208805e-01\n",
              "minuto           1.659032  1.981973e-01\n",
              "mes              0.424808  5.147804e-01"
            ]
          },
          "execution_count": 58,
          "metadata": {},
          "output_type": "execute_result"
        }
      ],
      "source": [
        "# hacer el filtro ANOVA para seleccionar las variables más importantes\n",
        "from sklearn.feature_selection import SelectKBest\n",
        "from sklearn.feature_selection import f_regression\n",
        "# seleccionar las 5 variables más importantes\n",
        "selectKBest = SelectKBest(f_regression, k=8)\n",
        "# aplicar el filtro\n",
        "selectKBest.fit(df_num_z_score, Y)\n",
        "# obtener los scores\n",
        "scores = selectKBest.scores_\n",
        "# obtener los p-values\n",
        "pvalues = selectKBest.pvalues_\n",
        "# obtener los nombres de las columnas\n",
        "names = df_num_z_score.columns\n",
        "# crear un dataframe con los resultados\n",
        "df_scores = pd.DataFrame({'score':scores, 'pvalue':pvalues}, index=names)\n",
        "# ordenar el dataframe por el score ascendente\n",
        "df_scores.sort_values(by='score', ascending=False)"
      ]
    },
    {
      "cell_type": "code",
      "execution_count": 59,
      "id": "ad35a320",
      "metadata": {},
      "outputs": [
        {
          "data": {
            "text/plain": [
              "<AxesSubplot:>"
            ]
          },
          "execution_count": 59,
          "metadata": {},
          "output_type": "execute_result"
        },
        {
          "data": {
            "image/png": "[encoded data removed]",
            "text/plain": [
              "<Figure size 720x432 with 1 Axes>"
            ]
          },
          "metadata": {
            "needs_background": "light"
          },
          "output_type": "display_data"
        }
      ],
      "source": [
        "# generar una grafica de barras con los scores en orden ascendente\n",
        "df_scores.sort_values(by='score', ascending=False).plot(kind='barh', figsize=(10, 6))"
      ]
    },
    {
      "cell_type": "code",
      "execution_count": 60,
      "id": "41522cc2",
      "metadata": {},
      "outputs": [
        {
          "data": {
            "text/plain": [
              "<AxesSubplot:>"
            ]
          },
          "execution_count": 60,
          "metadata": {},
          "output_type": "execute_result"
        },
        {
          "data": {
            "image/png": "[encoded data removed]",
            "text/plain": [
              "<Figure size 432x288 with 2 Axes>"
            ]
          },
          "metadata": {
            "needs_background": "light"
          },
          "output_type": "display_data"
        }
      ],
      "source": [
        "# ver la correlación entre las variables con un mapa de calor\n",
        "sns.heatmap(df_sismos.corr(), annot=True, cmap='RdYlGn', linewidths=0.2)"
      ]
    },
    {
      "cell_type": "code",
      "execution_count": 61,
      "id": "8744862c",
      "metadata": {},
      "outputs": [
        {
          "data": {
            "text/html": [
              "<div>\n",
              "<style scoped>\n",
              "    .dataframe tbody tr th:only-of-type {\n",
              "        vertical-align: middle;\n",
              "    }\n",
              "\n",
              "    .dataframe tbody tr th {\n",
              "        vertical-align: top;\n",
              "    }\n",
              "\n",
              "    .dataframe thead th {\n",
              "        text-align: right;\n",
              "    }\n",
              "</style>\n",
              "<table border=\"1\" class=\"dataframe\">\n",
              "  <thead>\n",
              "    <tr style=\"text-align: right;\">\n",
              "      <th></th>\n",
              "      <th>provincia</th>\n",
              "      <th>region</th>\n",
              "      <th>mes</th>\n",
              "      <th>año</th>\n",
              "      <th>latitud(º)</th>\n",
              "      <th>longitud(º)</th>\n",
              "      <th>profundidad_km</th>\n",
              "      <th>magnitud_Mw</th>\n",
              "    </tr>\n",
              "  </thead>\n",
              "  <tbody>\n",
              "    <tr>\n",
              "      <th>0</th>\n",
              "      <td>Cotabambas</td>\n",
              "      <td>Apurímac</td>\n",
              "      <td>8</td>\n",
              "      <td>1700</td>\n",
              "      <td>-13.90</td>\n",
              "      <td>-72.1</td>\n",
              "      <td>10.0</td>\n",
              "      <td>4.43175</td>\n",
              "    </tr>\n",
              "    <tr>\n",
              "      <th>1</th>\n",
              "      <td>Cotabambas</td>\n",
              "      <td>Apurímac</td>\n",
              "      <td>9</td>\n",
              "      <td>1707</td>\n",
              "      <td>-13.90</td>\n",
              "      <td>-72.1</td>\n",
              "      <td>10.0</td>\n",
              "      <td>4.70310</td>\n",
              "    </tr>\n",
              "    <tr>\n",
              "      <th>2</th>\n",
              "      <td>MAR</td>\n",
              "      <td>MAR</td>\n",
              "      <td>5</td>\n",
              "      <td>1709</td>\n",
              "      <td>-12.60</td>\n",
              "      <td>-77.5</td>\n",
              "      <td>60.0</td>\n",
              "      <td>4.88400</td>\n",
              "    </tr>\n",
              "    <tr>\n",
              "      <th>3</th>\n",
              "      <td>Huamanga</td>\n",
              "      <td>Ayacucho</td>\n",
              "      <td>6</td>\n",
              "      <td>1719</td>\n",
              "      <td>-13.20</td>\n",
              "      <td>-74.4</td>\n",
              "      <td>20.0</td>\n",
              "      <td>4.88400</td>\n",
              "    </tr>\n",
              "    <tr>\n",
              "      <th>4</th>\n",
              "      <td>Paruro</td>\n",
              "      <td>Cusco</td>\n",
              "      <td>11</td>\n",
              "      <td>1744</td>\n",
              "      <td>-13.77</td>\n",
              "      <td>-72.1</td>\n",
              "      <td>20.0</td>\n",
              "      <td>5.28600</td>\n",
              "    </tr>\n",
              "  </tbody>\n",
              "</table>\n",
              "</div>"
            ],
            "text/plain": [
              "    provincia     region  mes   año  latitud(º)  longitud(º)  profundidad_km  \\\n",
              "0  Cotabambas   Apurímac    8  1700      -13.90        -72.1            10.0   \n",
              "1  Cotabambas   Apurímac    9  1707      -13.90        -72.1            10.0   \n",
              "2         MAR        MAR    5  1709      -12.60        -77.5            60.0   \n",
              "3    Huamanga   Ayacucho    6  1719      -13.20        -74.4            20.0   \n",
              "4      Paruro      Cusco   11  1744      -13.77        -72.1            20.0   \n",
              "\n",
              "   magnitud_Mw  \n",
              "0      4.43175  \n",
              "1      4.70310  \n",
              "2      4.88400  \n",
              "3      4.88400  \n",
              "4      5.28600  "
            ]
          },
          "execution_count": 61,
          "metadata": {},
          "output_type": "execute_result"
        }
      ],
      "source": [
        "# eliminamos las columnas minuto , dia y hora que no son importantes\n",
        "df_sismos = df_sismos.drop(['minuto','dia','hora'], axis=1)\n",
        "df_sismos.head()"
      ]
    },
    {
      "cell_type": "code",
      "execution_count": 62,
      "id": "2e64f113",
      "metadata": {},
      "outputs": [],
      "source": [
        "# eliminamos los espacios en blanco de la columna region\n",
        "df_sismos['region'] = df_sismos['region'].str.strip()"
      ]
    },
    {
      "cell_type": "code",
      "execution_count": 63,
      "id": "4ebd24b6",
      "metadata": {},
      "outputs": [],
      "source": [
        "# seleccionar los sismos que ocurrieron en la region de Lima\n",
        "df_sismos = df_sismos[df_sismos['region']=='Lima']"
      ]
    },
    {
      "cell_type": "code",
      "execution_count": 64,
      "id": "3f2e5290",
      "metadata": {},
      "outputs": [],
      "source": [
        "# redondear la magnitud a 2 decimales\n",
        "df_sismos['magnitud_Mw'] = df_sismos['magnitud_Mw'].round(2)"
      ]
    },
    {
      "cell_type": "code",
      "execution_count": 68,
      "id": "b77748dd",
      "metadata": {},
      "outputs": [
        {
          "name": "stdout",
          "output_type": "stream",
          "text": [
            "<class 'pandas.core.frame.DataFrame'>\n",
            "Int64Index: 36 entries, 40 to 839\n",
            "Data columns (total 8 columns):\n",
            " #   Column          Non-Null Count  Dtype  \n",
            "---  ------          --------------  -----  \n",
            " 0   provincia       36 non-null     object \n",
            " 1   region          36 non-null     object \n",
            " 2   mes             36 non-null     int64  \n",
            " 3   año             36 non-null     int64  \n",
            " 4   latitud(º)      36 non-null     float64\n",
            " 5   longitud(º)     36 non-null     float64\n",
            " 6   profundidad_km  36 non-null     float64\n",
            " 7   magnitud_Mw     36 non-null     float64\n",
            "dtypes: float64(4), int64(2), object(2)\n",
            "memory usage: 2.5+ KB\n"
          ]
        }
      ],
      "source": [
        "df_sismos.info()"
      ]
    },
    {
      "cell_type": "code",
      "execution_count": 65,
      "id": "4fea51eb",
      "metadata": {},
      "outputs": [],
      "source": [
        "# guardamos el archivo en formato csv\n",
        "df_sismos.to_csv(\"IGP_datos_sismicosHistórico_V2.csv\", index=False)"
      ]
    },
    {
      "cell_type": "markdown",
      "id": "f819a83c",
      "metadata": {
        "id": "f819a83c"
      },
      "source": [
        "### ¡FIN TRABAJO!"
      ]
    }
  ],
  "metadata": {
    "colab": {
      "collapsed_sections": [
        "ccac2312",
        "-ETPQG7pgIT7",
        "CLL7SQN0geeD",
        "DwmF_bPDg4Pe",
        "eoOSc59bhEZ-",
        "f819a83c"
      ],
      "provenance": []
    },
    "kernelspec": {
      "display_name": "Python 3.9.12 ('base')",
      "language": "python",
      "name": "python3"
    },
    "language_info": {
      "codemirror_mode": {
        "name": "ipython",
        "version": 3
      },
      "file_extension": ".py",
      "mimetype": "text/x-python",
      "name": "python",
      "nbconvert_exporter": "python",
      "pygments_lexer": "ipython3",
      "version": "3.9.12"
    },
    "vscode": {
      "interpreter": {
        "hash": "bddb6c94227d8177e61600db041b4cc1c87a884063126e29a3bfd540ed5196fb"
      }
    }
  },
  "nbformat": 4,
  "nbformat_minor": 5
}
