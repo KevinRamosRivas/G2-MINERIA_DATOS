{
  "cells": [
    {
      "cell_type": "markdown",
      "id": "31346e61",
      "metadata": {
        "id": "31346e61"
      },
      "source": [
        "# Equipo 2: Trabajo parcial\n",
        "\n",
        "## Semana 7\n",
        "## Curso: Minería de Datos\n",
        "## Integrantes:\n",
        "* Blas Ruiz, Luis Aaron - 19200069\n",
        "* Huarhuachi Ortega, Andrea Mariana - 19200267\n",
        "* Ramos Rivas, Kevin Keyler - 19200096\n",
        "* Rojas Villanueva, Paula Elianne - 19200266\n",
        "* Torres Talaverano, Luz Elena - 19200294"
      ]
    },
    {
      "cell_type": "markdown",
      "id": "3d4a7284",
      "metadata": {
        "id": "3d4a7284"
      },
      "source": [
        "## Información del conjunto de datos\n",
        "Esta base es respecto a los datos sísmicos las cuales contiene todos los parámetros que caracterizan a un sismo, calculados en las mismas condiciones a fin de constituirse como una base homogénea: fecha, hora, latitud, longitud, profundidad y magnitud.\n",
        "\n",
        "\n",
        "#### Atributos para el conjunto de datos\n",
        "* fecha_UTC: Hora universal coordinada (UTC), Es la fecha con cinco horas adelantadas con respecto a la hora local debido a que Peru se encuentra en una zona horaria UTC -5\n",
        "* hora_UTC: Hora universal coordinada (UTC), cinco horas adelantadas con respecto a la hora local debido a que Peru se encuentra en una zona horaria UTC -5\n",
        "* latitud(º): Es la distancia en grados, minutos y segundos que hay con respecto al paralelo principal, que es el ecuador (0º). La latitud puede ser norte y sur\n",
        "* longitud(º): Es la distancia en grados, minutos y segundos que hay con respecto al meridiano principal, que es el meridiano de Greenwich (0º).\n",
        "* profundidad_km: Profundidad del foco sísmisco por debajo de la superficie\n",
        "\n",
        "Estas tres columnas luego seran reemplazadas ya que la data nueva del IGP solo posee una columna llamada Magnitud(M)\n",
        "* magnitud_mb: Magnitud de Ondas de Cuerpo\n",
        "* magnitud_Ms: Magnitud de Ondas Superficiales\n",
        "* magnitud_Mw: Magnitud Momento (Corresponde a la cantidad de energía liberada por el sismo)"
      ]
    },
    {
      "cell_type": "markdown",
      "id": "d4c1c694",
      "metadata": {
        "id": "d4c1c694"
      },
      "source": [
        "## Importación de Librerías"
      ]
    },
    {
      "cell_type": "code",
      "execution_count": 1,
      "id": "43caadd7",
      "metadata": {
        "id": "43caadd7"
      },
      "outputs": [],
      "source": [
        "import pandas as pd\n",
        "import numpy as np\n",
        "import seaborn as sns\n",
        "import matplotlib.pyplot as plt"
      ]
    },
    {
      "cell_type": "markdown",
      "id": "6f9c2595",
      "metadata": {
        "id": "6f9c2595"
      },
      "source": [
        "**Leer archivo de datos historicos**"
      ]
    },
    {
      "cell_type": "code",
      "execution_count": 2,
      "id": "f5c2432e",
      "metadata": {
        "id": "f5c2432e"
      },
      "outputs": [],
      "source": [
        "myData = pd.read_csv('https://raw.githubusercontent.com/KevinRamosRivas/G2-MINERIA_DATOS/main/IGP_Datos-Sismicos_1960-2022.csv')"
      ]
    },
    {
      "cell_type": "markdown",
      "id": "3b89ddf2",
      "metadata": {
        "id": "3b89ddf2"
      },
      "source": [
        "**Información de la data**"
      ]
    },
    {
      "cell_type": "code",
      "execution_count": 3,
      "id": "046a3485",
      "metadata": {
        "colab": {
          "base_uri": "https://localhost:8080/",
          "height": 206
        },
        "id": "046a3485",
        "outputId": "97224803-3ec1-47d6-8937-c3e7b1f2660a"
      },
      "outputs": [
        {
          "data": {
            "text/html": [
              "<div>\n",
              "<style scoped>\n",
              "    .dataframe tbody tr th:only-of-type {\n",
              "        vertical-align: middle;\n",
              "    }\n",
              "\n",
              "    .dataframe tbody tr th {\n",
              "        vertical-align: top;\n",
              "    }\n",
              "\n",
              "    .dataframe thead th {\n",
              "        text-align: right;\n",
              "    }\n",
              "</style>\n",
              "<table border=\"1\" class=\"dataframe\">\n",
              "  <thead>\n",
              "    <tr style=\"text-align: right;\">\n",
              "      <th></th>\n",
              "      <th>fecha UTC</th>\n",
              "      <th>hora UTC</th>\n",
              "      <th>latitud (º)</th>\n",
              "      <th>longitud (º)</th>\n",
              "      <th>profundidad (km)</th>\n",
              "      <th>magnitud (M)</th>\n",
              "    </tr>\n",
              "  </thead>\n",
              "  <tbody>\n",
              "    <tr>\n",
              "      <th>0</th>\n",
              "      <td>13/01/1960</td>\n",
              "      <td>15:40:34.00</td>\n",
              "      <td>-16.145</td>\n",
              "      <td>-72.144</td>\n",
              "      <td>60</td>\n",
              "      <td>7.5</td>\n",
              "    </tr>\n",
              "    <tr>\n",
              "      <th>1</th>\n",
              "      <td>15/01/1960</td>\n",
              "      <td>09:30:24.00</td>\n",
              "      <td>-15.000</td>\n",
              "      <td>-75.000</td>\n",
              "      <td>70</td>\n",
              "      <td>7.0</td>\n",
              "    </tr>\n",
              "    <tr>\n",
              "      <th>2</th>\n",
              "      <td>17/01/1960</td>\n",
              "      <td>02:57:58.00</td>\n",
              "      <td>-14.500</td>\n",
              "      <td>-74.500</td>\n",
              "      <td>150</td>\n",
              "      <td>6.4</td>\n",
              "    </tr>\n",
              "    <tr>\n",
              "      <th>3</th>\n",
              "      <td>23/01/1960</td>\n",
              "      <td>03:37:32.00</td>\n",
              "      <td>-12.500</td>\n",
              "      <td>-68.500</td>\n",
              "      <td>300</td>\n",
              "      <td>5.8</td>\n",
              "    </tr>\n",
              "    <tr>\n",
              "      <th>4</th>\n",
              "      <td>30/01/1960</td>\n",
              "      <td>05:07:24.00</td>\n",
              "      <td>-5.500</td>\n",
              "      <td>-77.500</td>\n",
              "      <td>100</td>\n",
              "      <td>5.7</td>\n",
              "    </tr>\n",
              "  </tbody>\n",
              "</table>\n",
              "</div>"
            ],
            "text/plain": [
              "    fecha UTC     hora UTC  latitud (º)  longitud (º)  profundidad (km)  \\\n",
              "0  13/01/1960  15:40:34.00      -16.145       -72.144                60   \n",
              "1  15/01/1960  09:30:24.00      -15.000       -75.000                70   \n",
              "2  17/01/1960  02:57:58.00      -14.500       -74.500               150   \n",
              "3  23/01/1960  03:37:32.00      -12.500       -68.500               300   \n",
              "4  30/01/1960  05:07:24.00       -5.500       -77.500               100   \n",
              "\n",
              "   magnitud (M)  \n",
              "0           7.5  \n",
              "1           7.0  \n",
              "2           6.4  \n",
              "3           5.8  \n",
              "4           5.7  "
            ]
          },
          "execution_count": 3,
          "metadata": {},
          "output_type": "execute_result"
        }
      ],
      "source": [
        "myData.head()"
      ]
    },
    {
      "cell_type": "code",
      "execution_count": 4,
      "id": "b66dfb1e",
      "metadata": {
        "colab": {
          "base_uri": "https://localhost:8080/",
          "height": 300
        },
        "id": "b66dfb1e",
        "outputId": "5f590d9c-feb1-4565-8278-12d206f6c0d7"
      },
      "outputs": [
        {
          "data": {
            "text/html": [
              "<div>\n",
              "<style scoped>\n",
              "    .dataframe tbody tr th:only-of-type {\n",
              "        vertical-align: middle;\n",
              "    }\n",
              "\n",
              "    .dataframe tbody tr th {\n",
              "        vertical-align: top;\n",
              "    }\n",
              "\n",
              "    .dataframe thead th {\n",
              "        text-align: right;\n",
              "    }\n",
              "</style>\n",
              "<table border=\"1\" class=\"dataframe\">\n",
              "  <thead>\n",
              "    <tr style=\"text-align: right;\">\n",
              "      <th></th>\n",
              "      <th>latitud (º)</th>\n",
              "      <th>longitud (º)</th>\n",
              "      <th>profundidad (km)</th>\n",
              "      <th>magnitud (M)</th>\n",
              "    </tr>\n",
              "  </thead>\n",
              "  <tbody>\n",
              "    <tr>\n",
              "      <th>count</th>\n",
              "      <td>23039.000000</td>\n",
              "      <td>23039.000000</td>\n",
              "      <td>23039.000000</td>\n",
              "      <td>23039.000000</td>\n",
              "    </tr>\n",
              "    <tr>\n",
              "      <th>mean</th>\n",
              "      <td>-11.357795</td>\n",
              "      <td>-75.710652</td>\n",
              "      <td>71.047354</td>\n",
              "      <td>4.732050</td>\n",
              "    </tr>\n",
              "    <tr>\n",
              "      <th>std</th>\n",
              "      <td>4.474994</td>\n",
              "      <td>3.092920</td>\n",
              "      <td>66.371202</td>\n",
              "      <td>0.434126</td>\n",
              "    </tr>\n",
              "    <tr>\n",
              "      <th>min</th>\n",
              "      <td>-23.397100</td>\n",
              "      <td>-82.893700</td>\n",
              "      <td>0.000000</td>\n",
              "      <td>3.000000</td>\n",
              "    </tr>\n",
              "    <tr>\n",
              "      <th>25%</th>\n",
              "      <td>-15.360900</td>\n",
              "      <td>-77.770000</td>\n",
              "      <td>29.000000</td>\n",
              "      <td>4.500000</td>\n",
              "    </tr>\n",
              "    <tr>\n",
              "      <th>50%</th>\n",
              "      <td>-11.699200</td>\n",
              "      <td>-75.751000</td>\n",
              "      <td>48.000000</td>\n",
              "      <td>4.700000</td>\n",
              "    </tr>\n",
              "    <tr>\n",
              "      <th>75%</th>\n",
              "      <td>-7.897650</td>\n",
              "      <td>-73.610100</td>\n",
              "      <td>106.000000</td>\n",
              "      <td>4.900000</td>\n",
              "    </tr>\n",
              "    <tr>\n",
              "      <th>max</th>\n",
              "      <td>-1.496000</td>\n",
              "      <td>-66.980700</td>\n",
              "      <td>743.000000</td>\n",
              "      <td>8.400000</td>\n",
              "    </tr>\n",
              "  </tbody>\n",
              "</table>\n",
              "</div>"
            ],
            "text/plain": [
              "        latitud (º)  longitud (º)  profundidad (km)  magnitud (M)\n",
              "count  23039.000000  23039.000000      23039.000000  23039.000000\n",
              "mean     -11.357795    -75.710652         71.047354      4.732050\n",
              "std        4.474994      3.092920         66.371202      0.434126\n",
              "min      -23.397100    -82.893700          0.000000      3.000000\n",
              "25%      -15.360900    -77.770000         29.000000      4.500000\n",
              "50%      -11.699200    -75.751000         48.000000      4.700000\n",
              "75%       -7.897650    -73.610100        106.000000      4.900000\n",
              "max       -1.496000    -66.980700        743.000000      8.400000"
            ]
          },
          "execution_count": 4,
          "metadata": {},
          "output_type": "execute_result"
        }
      ],
      "source": [
        "myData.describe()"
      ]
    },
    {
      "cell_type": "code",
      "execution_count": 5,
      "id": "30aebb45",
      "metadata": {
        "colab": {
          "base_uri": "https://localhost:8080/"
        },
        "id": "30aebb45",
        "outputId": "3cc1efe1-39f2-4d5d-dd3f-4d04503a6f8c"
      },
      "outputs": [
        {
          "name": "stdout",
          "output_type": "stream",
          "text": [
            "<class 'pandas.core.frame.DataFrame'>\n",
            "RangeIndex: 23039 entries, 0 to 23038\n",
            "Data columns (total 6 columns):\n",
            " #   Column            Non-Null Count  Dtype  \n",
            "---  ------            --------------  -----  \n",
            " 0   fecha UTC         23039 non-null  object \n",
            " 1   hora UTC          23039 non-null  object \n",
            " 2   latitud (º)       23039 non-null  float64\n",
            " 3   longitud (º)      23039 non-null  float64\n",
            " 4   profundidad (km)  23039 non-null  int64  \n",
            " 5   magnitud (M)      23039 non-null  float64\n",
            "dtypes: float64(3), int64(1), object(2)\n",
            "memory usage: 1.1+ MB\n"
          ]
        }
      ],
      "source": [
        "myData.info()"
      ]
    },
    {
      "cell_type": "markdown",
      "id": "08125df0",
      "metadata": {
        "id": "08125df0"
      },
      "source": [
        "Escalas de magnitud: https://www.snet.gob.sv/ver/seccion+educativa/sismologia/escalas+de+magnitud/\n",
        "- magnitud (mb): Magnitud de Ondas de Cuerpo\n",
        "- magnitud (Ms): Magnitud de Ondas Superficiales\n",
        "- magnitud (Mw:  Magnitud Momento\n",
        "- magnitud (M)"
      ]
    },
    {
      "cell_type": "markdown",
      "id": "fec842b8",
      "metadata": {
        "id": "fec842b8"
      },
      "source": [
        "## 1. Buscar nulos e imputar con (promedio, moda, regresion)"
      ]
    },
    {
      "cell_type": "code",
      "execution_count": 6,
      "id": "e220a69e",
      "metadata": {
        "colab": {
          "base_uri": "https://localhost:8080/"
        },
        "id": "e220a69e",
        "outputId": "99b2bfa9-3bef-438b-d8c3-c78f816eb50e"
      },
      "outputs": [
        {
          "name": "stdout",
          "output_type": "stream",
          "text": [
            "fecha UTC           False\n",
            "hora UTC            False\n",
            "latitud (º)         False\n",
            "longitud (º)        False\n",
            "profundidad (km)    False\n",
            "magnitud (M)        False\n",
            "dtype: bool\n"
          ]
        }
      ],
      "source": [
        "print(myData.isnull().any())"
      ]
    },
    {
      "cell_type": "code",
      "execution_count": 7,
      "id": "c18fbae3",
      "metadata": {
        "colab": {
          "base_uri": "https://localhost:8080/"
        },
        "id": "c18fbae3",
        "outputId": "3b92b6ad-b3dc-4da3-fbfe-2e616feee092"
      },
      "outputs": [
        {
          "data": {
            "text/plain": [
              "fecha UTC           0\n",
              "hora UTC            0\n",
              "latitud (º)         0\n",
              "longitud (º)        0\n",
              "profundidad (km)    0\n",
              "magnitud (M)        0\n",
              "dtype: int64"
            ]
          },
          "execution_count": 7,
          "metadata": {},
          "output_type": "execute_result"
        }
      ],
      "source": [
        "# hallar la cantidad de nulos por columna\n",
        "myData.isnull().sum()"
      ]
    },
    {
      "cell_type": "markdown",
      "id": "a76b4f61",
      "metadata": {
        "id": "a76b4f61"
      },
      "source": [
        "**Ordenando atributos por su tipo**"
      ]
    },
    {
      "cell_type": "code",
      "execution_count": 8,
      "id": "791ba8c1",
      "metadata": {
        "id": "791ba8c1"
      },
      "outputs": [],
      "source": [
        "tipos = myData.columns.to_series().groupby(myData.dtypes).groups"
      ]
    },
    {
      "cell_type": "markdown",
      "id": "c957420c",
      "metadata": {
        "id": "c957420c"
      },
      "source": [
        "**Listando variables categóricas**"
      ]
    },
    {
      "cell_type": "code",
      "execution_count": 9,
      "id": "eb972c7c",
      "metadata": {
        "colab": {
          "base_uri": "https://localhost:8080/"
        },
        "id": "eb972c7c",
        "outputId": "fabe03b0-37d2-4367-a61c-a158b7872736"
      },
      "outputs": [
        {
          "name": "stdout",
          "output_type": "stream",
          "text": [
            "Index(['fecha UTC', 'hora UTC'], dtype='object')\n",
            "2\n"
          ]
        }
      ],
      "source": [
        "colText = tipos[np.dtype('object')]\n",
        "print(colText)\n",
        "print(len(colText))"
      ]
    },
    {
      "cell_type": "markdown",
      "id": "6dcff543",
      "metadata": {
        "id": "6dcff543"
      },
      "source": [
        "**Listando variables numéricas**"
      ]
    },
    {
      "cell_type": "code",
      "execution_count": 10,
      "id": "e258a7dd",
      "metadata": {
        "colab": {
          "base_uri": "https://localhost:8080/"
        },
        "id": "e258a7dd",
        "outputId": "ac1c42c6-ed11-4db1-ee4c-4f454810e77f"
      },
      "outputs": [
        {
          "name": "stdout",
          "output_type": "stream",
          "text": [
            "['magnitud (M)', 'latitud (º)', 'profundidad (km)', 'longitud (º)']\n",
            "4\n"
          ]
        }
      ],
      "source": [
        "columnas = myData.columns\n",
        "colNum = list(set(columnas)-set(colText))\n",
        "print(colNum)\n",
        "print(len(colNum))"
      ]
    },
    {
      "cell_type": "markdown",
      "id": "e82ede27",
      "metadata": {
        "id": "e82ede27"
      },
      "source": [
        "**Completando valores perdidos en atributos categóricos**"
      ]
    },
    {
      "cell_type": "code",
      "execution_count": 11,
      "id": "13629a14",
      "metadata": {
        "id": "13629a14"
      },
      "outputs": [],
      "source": [
        "# mode = más frecuente\n",
        "for c in colText:\n",
        "    myData[c] = myData[c].replace('-', np.NaN)\n",
        "    mode = myData[c].mode()[0]\n",
        "    myData[c] = myData[c].fillna(mode)"
      ]
    },
    {
      "cell_type": "markdown",
      "id": "a1f7845d",
      "metadata": {
        "id": "a1f7845d"
      },
      "source": [
        "**Completamos valores perdidos en atributos numéricos**"
      ]
    },
    {
      "cell_type": "code",
      "execution_count": 12,
      "id": "f8204782",
      "metadata": {
        "id": "f8204782"
      },
      "outputs": [],
      "source": [
        "# mean = media\n",
        "for c in colNum:\n",
        "    mean = myData[c].mean()\n",
        "    myData[c] = myData[c].fillna(mean)"
      ]
    },
    {
      "cell_type": "markdown",
      "id": "4ec46511",
      "metadata": {
        "id": "4ec46511"
      },
      "source": [
        "Después de completar los valores perdidos, observemos si hay todavía nulls"
      ]
    },
    {
      "cell_type": "code",
      "execution_count": 13,
      "id": "38fde7b6",
      "metadata": {
        "colab": {
          "base_uri": "https://localhost:8080/"
        },
        "id": "38fde7b6",
        "outputId": "9457128a-9839-4a98-bee9-f4a50717ca8e"
      },
      "outputs": [
        {
          "name": "stdout",
          "output_type": "stream",
          "text": [
            "fecha UTC           False\n",
            "hora UTC            False\n",
            "latitud (º)         False\n",
            "longitud (º)        False\n",
            "profundidad (km)    False\n",
            "magnitud (M)        False\n",
            "dtype: bool\n"
          ]
        }
      ],
      "source": [
        "print(myData.isnull().any())"
      ]
    },
    {
      "cell_type": "code",
      "execution_count": 14,
      "id": "3eda536c",
      "metadata": {
        "colab": {
          "base_uri": "https://localhost:8080/",
          "height": 206
        },
        "id": "3eda536c",
        "outputId": "218204f7-44f5-4cb5-afd5-ec45767b24ea"
      },
      "outputs": [
        {
          "data": {
            "text/html": [
              "<div>\n",
              "<style scoped>\n",
              "    .dataframe tbody tr th:only-of-type {\n",
              "        vertical-align: middle;\n",
              "    }\n",
              "\n",
              "    .dataframe tbody tr th {\n",
              "        vertical-align: top;\n",
              "    }\n",
              "\n",
              "    .dataframe thead th {\n",
              "        text-align: right;\n",
              "    }\n",
              "</style>\n",
              "<table border=\"1\" class=\"dataframe\">\n",
              "  <thead>\n",
              "    <tr style=\"text-align: right;\">\n",
              "      <th></th>\n",
              "      <th>fecha UTC</th>\n",
              "      <th>hora UTC</th>\n",
              "      <th>latitud (º)</th>\n",
              "      <th>longitud (º)</th>\n",
              "      <th>profundidad (km)</th>\n",
              "      <th>magnitud (M)</th>\n",
              "    </tr>\n",
              "  </thead>\n",
              "  <tbody>\n",
              "    <tr>\n",
              "      <th>0</th>\n",
              "      <td>13/01/1960</td>\n",
              "      <td>15:40:34.00</td>\n",
              "      <td>-16.145</td>\n",
              "      <td>-72.144</td>\n",
              "      <td>60</td>\n",
              "      <td>7.5</td>\n",
              "    </tr>\n",
              "    <tr>\n",
              "      <th>1</th>\n",
              "      <td>15/01/1960</td>\n",
              "      <td>09:30:24.00</td>\n",
              "      <td>-15.000</td>\n",
              "      <td>-75.000</td>\n",
              "      <td>70</td>\n",
              "      <td>7.0</td>\n",
              "    </tr>\n",
              "    <tr>\n",
              "      <th>2</th>\n",
              "      <td>17/01/1960</td>\n",
              "      <td>02:57:58.00</td>\n",
              "      <td>-14.500</td>\n",
              "      <td>-74.500</td>\n",
              "      <td>150</td>\n",
              "      <td>6.4</td>\n",
              "    </tr>\n",
              "    <tr>\n",
              "      <th>3</th>\n",
              "      <td>23/01/1960</td>\n",
              "      <td>03:37:32.00</td>\n",
              "      <td>-12.500</td>\n",
              "      <td>-68.500</td>\n",
              "      <td>300</td>\n",
              "      <td>5.8</td>\n",
              "    </tr>\n",
              "    <tr>\n",
              "      <th>4</th>\n",
              "      <td>30/01/1960</td>\n",
              "      <td>05:07:24.00</td>\n",
              "      <td>-5.500</td>\n",
              "      <td>-77.500</td>\n",
              "      <td>100</td>\n",
              "      <td>5.7</td>\n",
              "    </tr>\n",
              "  </tbody>\n",
              "</table>\n",
              "</div>"
            ],
            "text/plain": [
              "    fecha UTC     hora UTC  latitud (º)  longitud (º)  profundidad (km)  \\\n",
              "0  13/01/1960  15:40:34.00      -16.145       -72.144                60   \n",
              "1  15/01/1960  09:30:24.00      -15.000       -75.000                70   \n",
              "2  17/01/1960  02:57:58.00      -14.500       -74.500               150   \n",
              "3  23/01/1960  03:37:32.00      -12.500       -68.500               300   \n",
              "4  30/01/1960  05:07:24.00       -5.500       -77.500               100   \n",
              "\n",
              "   magnitud (M)  \n",
              "0           7.5  \n",
              "1           7.0  \n",
              "2           6.4  \n",
              "3           5.8  \n",
              "4           5.7  "
            ]
          },
          "execution_count": 14,
          "metadata": {},
          "output_type": "execute_result"
        }
      ],
      "source": [
        "myData.head()"
      ]
    },
    {
      "cell_type": "code",
      "execution_count": 15,
      "id": "40c43f04",
      "metadata": {
        "colab": {
          "base_uri": "https://localhost:8080/"
        },
        "id": "40c43f04",
        "outputId": "ef620926-e6fe-4f8d-a8c5-e31539c2011d"
      },
      "outputs": [
        {
          "data": {
            "text/plain": [
              "0"
            ]
          },
          "execution_count": 15,
          "metadata": {},
          "output_type": "execute_result"
        }
      ],
      "source": [
        "# ver la cantidad de nulos de magnitud_Ms\n",
        "myData['magnitud (M)'].isnull().sum()"
      ]
    },
    {
      "cell_type": "markdown",
      "id": "ef82e071",
      "metadata": {
        "id": "ef82e071"
      },
      "source": [
        "**Exportación del nuevo archivo**"
      ]
    },
    {
      "cell_type": "code",
      "execution_count": 16,
      "id": "b09a5670",
      "metadata": {
        "id": "b09a5670"
      },
      "outputs": [],
      "source": [
        "myData.to_csv(\"IGP_datos_sismicos_1960-2022_V1.csv\", index=False)"
      ]
    },
    {
      "cell_type": "markdown",
      "id": "qQUIQCdMN46l",
      "metadata": {
        "id": "qQUIQCdMN46l"
      },
      "source": [
        "## 2. Identificación de valores atipicos"
      ]
    },
    {
      "cell_type": "code",
      "execution_count": 17,
      "id": "ca9b23a1",
      "metadata": {
        "id": "ca9b23a1"
      },
      "outputs": [],
      "source": [
        "myData = pd.read_csv('IGP_datos_sismicos_1960-2022_V1.csv')"
      ]
    },
    {
      "cell_type": "code",
      "execution_count": 18,
      "id": "82c7bb92",
      "metadata": {
        "colab": {
          "base_uri": "https://localhost:8080/",
          "height": 282
        },
        "id": "82c7bb92",
        "outputId": "40989f0a-1f50-4637-96fb-676729d0ab46"
      },
      "outputs": [
        {
          "data": {
            "text/plain": [
              "<AxesSubplot:>"
            ]
          },
          "execution_count": 18,
          "metadata": {},
          "output_type": "execute_result"
        },
        {
          "data": {
            "image/png": "[encoded data removed]",
            "text/plain": [
              "<Figure size 432x288 with 1 Axes>"
            ]
          },
          "metadata": {
            "needs_background": "light"
          },
          "output_type": "display_data"
        }
      ],
      "source": [
        "sns.boxplot(data=myData, orient = \"h\", showmeans = True,palette=\"Set2\")"
      ]
    },
    {
      "cell_type": "code",
      "execution_count": 19,
      "id": "7569c17f",
      "metadata": {
        "id": "7569c17f"
      },
      "outputs": [],
      "source": [
        "# eliminar los outliers de la columna profundidad (km)\n",
        "Q1 = myData['profundidad (km)'].quantile(0.25)\n",
        "Q3 = myData['profundidad (km)'].quantile(0.75)\n",
        "IQR = Q3 - Q1\n",
        "myData = myData[~((myData['profundidad (km)'] < (Q1 - 1.5 * IQR)) |(myData['profundidad (km)'] > (Q3 + 1.5 * IQR)))]\n",
        "# eliminar los outliers de la columna magnitud (M)\n",
        "Q1 = myData['magnitud (M)'].quantile(0.25)\n",
        "Q3 = myData['magnitud (M)'].quantile(0.75)\n",
        "IQR = Q3 - Q1\n",
        "myData = myData[~((myData['magnitud (M)'] < (Q1 - 1.5 * IQR)) |(myData['magnitud (M)'] > (Q3 + 1.5 * IQR)))]"
      ]
    },
    {
      "cell_type": "code",
      "execution_count": 20,
      "id": "b4e47315",
      "metadata": {
        "colab": {
          "base_uri": "https://localhost:8080/",
          "height": 282
        },
        "id": "b4e47315",
        "outputId": "5836ddac-2970-4a1c-f71d-4414c1e68bfe"
      },
      "outputs": [
        {
          "data": {
            "text/plain": [
              "<AxesSubplot:>"
            ]
          },
          "execution_count": 20,
          "metadata": {},
          "output_type": "execute_result"
        },
        {
          "data": {
            "image/png": "[encoded data removed]",
            "text/plain": [
              "<Figure size 432x288 with 1 Axes>"
            ]
          },
          "metadata": {
            "needs_background": "light"
          },
          "output_type": "display_data"
        }
      ],
      "source": [
        "sns.boxplot(data=myData, orient = \"h\", showmeans = True,palette=\"Set2\")"
      ]
    },
    {
      "cell_type": "markdown",
      "id": "9bd6e854",
      "metadata": {
        "id": "9bd6e854"
      },
      "source": [
        "## 3. Tranformación de datos"
      ]
    },
    {
      "cell_type": "markdown",
      "id": "B2gErKZMhrrK",
      "metadata": {
        "id": "B2gErKZMhrrK"
      },
      "source": [
        "Cambiamos el nombre de las columnas para que coincidan con el diccionario de datos del dataset Historico"
      ]
    },
    {
      "cell_type": "code",
      "execution_count": 21,
      "id": "d4LBspDjh5LQ",
      "metadata": {
        "id": "d4LBspDjh5LQ"
      },
      "outputs": [],
      "source": [
        "myData = myData.rename(columns = {'fecha UTC':'fecha_UTC', 'hora UTC':'hora_UTC','latitud (º)':'latitud(º)', \n",
        "                         'longitud (º)':'longitud(º)', 'profundidad (km)':'profundidad_km', 'magnitud (M)':'magnitud_Mw'})"
      ]
    },
    {
      "cell_type": "markdown",
      "id": "9bb19a49",
      "metadata": {
        "id": "9bb19a49"
      },
      "source": [
        "Separacion de la columna fecha en dia, mes, año"
      ]
    },
    {
      "cell_type": "code",
      "execution_count": 22,
      "id": "e306d403",
      "metadata": {
        "id": "e306d403"
      },
      "outputs": [],
      "source": [
        "df_date = myData['fecha_UTC'].str.split('/', expand=True)\n",
        "df_date = df_date.rename(columns={0:'dia', 1:'mes', 2:'año'})\n",
        "# convertir a tipo numérico\n",
        "df_date['dia'] = pd.to_numeric(df_date['dia'], errors='coerce')\n",
        "df_date['mes'] = pd.to_numeric(df_date['mes'], errors='coerce')\n",
        "df_date['año'] = pd.to_numeric(df_date['año'], errors='coerce')"
      ]
    },
    {
      "cell_type": "code",
      "execution_count": 23,
      "id": "bd60f268",
      "metadata": {
        "colab": {
          "base_uri": "https://localhost:8080/"
        },
        "id": "bd60f268",
        "outputId": "9000be5b-fc86-47bb-ade3-45a9b9647b42"
      },
      "outputs": [
        {
          "name": "stdout",
          "output_type": "stream",
          "text": [
            "<class 'pandas.core.frame.DataFrame'>\n",
            "Int64Index: 21257 entries, 5 to 23038\n",
            "Data columns (total 3 columns):\n",
            " #   Column  Non-Null Count  Dtype\n",
            "---  ------  --------------  -----\n",
            " 0   dia     21257 non-null  int64\n",
            " 1   mes     21257 non-null  int64\n",
            " 2   año     21257 non-null  int64\n",
            "dtypes: int64(3)\n",
            "memory usage: 664.3 KB\n"
          ]
        }
      ],
      "source": [
        "df_date.info()"
      ]
    },
    {
      "cell_type": "code",
      "execution_count": 24,
      "id": "e0a5114a",
      "metadata": {
        "id": "e0a5114a"
      },
      "outputs": [],
      "source": [
        "df_sismos = pd.concat([df_date, myData], axis=1)"
      ]
    },
    {
      "cell_type": "code",
      "execution_count": 25,
      "id": "eaad99eb",
      "metadata": {
        "colab": {
          "base_uri": "https://localhost:8080/",
          "height": 206
        },
        "id": "eaad99eb",
        "outputId": "be50e945-a0cf-4fdb-d95f-dbc5127e585f"
      },
      "outputs": [
        {
          "data": {
            "text/html": [
              "<div>\n",
              "<style scoped>\n",
              "    .dataframe tbody tr th:only-of-type {\n",
              "        vertical-align: middle;\n",
              "    }\n",
              "\n",
              "    .dataframe tbody tr th {\n",
              "        vertical-align: top;\n",
              "    }\n",
              "\n",
              "    .dataframe thead th {\n",
              "        text-align: right;\n",
              "    }\n",
              "</style>\n",
              "<table border=\"1\" class=\"dataframe\">\n",
              "  <thead>\n",
              "    <tr style=\"text-align: right;\">\n",
              "      <th></th>\n",
              "      <th>dia</th>\n",
              "      <th>mes</th>\n",
              "      <th>año</th>\n",
              "      <th>fecha_UTC</th>\n",
              "      <th>hora_UTC</th>\n",
              "      <th>latitud(º)</th>\n",
              "      <th>longitud(º)</th>\n",
              "      <th>profundidad_km</th>\n",
              "      <th>magnitud_Mw</th>\n",
              "    </tr>\n",
              "  </thead>\n",
              "  <tbody>\n",
              "    <tr>\n",
              "      <th>5</th>\n",
              "      <td>8</td>\n",
              "      <td>2</td>\n",
              "      <td>1960</td>\n",
              "      <td>08/02/1960</td>\n",
              "      <td>19:06:16.00</td>\n",
              "      <td>-8.5</td>\n",
              "      <td>-74.5</td>\n",
              "      <td>136</td>\n",
              "      <td>5.3</td>\n",
              "    </tr>\n",
              "    <tr>\n",
              "      <th>9</th>\n",
              "      <td>4</td>\n",
              "      <td>5</td>\n",
              "      <td>1960</td>\n",
              "      <td>04/05/1960</td>\n",
              "      <td>01:28:52.00</td>\n",
              "      <td>-18.0</td>\n",
              "      <td>-71.5</td>\n",
              "      <td>100</td>\n",
              "      <td>5.0</td>\n",
              "    </tr>\n",
              "    <tr>\n",
              "      <th>13</th>\n",
              "      <td>19</td>\n",
              "      <td>7</td>\n",
              "      <td>1960</td>\n",
              "      <td>19/07/1960</td>\n",
              "      <td>04:19:14.00</td>\n",
              "      <td>-7.0</td>\n",
              "      <td>-80.0</td>\n",
              "      <td>33</td>\n",
              "      <td>5.3</td>\n",
              "    </tr>\n",
              "    <tr>\n",
              "      <th>16</th>\n",
              "      <td>14</td>\n",
              "      <td>9</td>\n",
              "      <td>1960</td>\n",
              "      <td>14/09/1960</td>\n",
              "      <td>00:08:03.00</td>\n",
              "      <td>-15.2</td>\n",
              "      <td>-76.2</td>\n",
              "      <td>91</td>\n",
              "      <td>5.4</td>\n",
              "    </tr>\n",
              "    <tr>\n",
              "      <th>18</th>\n",
              "      <td>26</td>\n",
              "      <td>9</td>\n",
              "      <td>1960</td>\n",
              "      <td>26/09/1960</td>\n",
              "      <td>16:58:13.00</td>\n",
              "      <td>-16.0</td>\n",
              "      <td>-72.9</td>\n",
              "      <td>115</td>\n",
              "      <td>5.3</td>\n",
              "    </tr>\n",
              "  </tbody>\n",
              "</table>\n",
              "</div>"
            ],
            "text/plain": [
              "    dia  mes   año   fecha_UTC     hora_UTC  latitud(º)  longitud(º)  \\\n",
              "5     8    2  1960  08/02/1960  19:06:16.00        -8.5        -74.5   \n",
              "9     4    5  1960  04/05/1960  01:28:52.00       -18.0        -71.5   \n",
              "13   19    7  1960  19/07/1960  04:19:14.00        -7.0        -80.0   \n",
              "16   14    9  1960  14/09/1960  00:08:03.00       -15.2        -76.2   \n",
              "18   26    9  1960  26/09/1960  16:58:13.00       -16.0        -72.9   \n",
              "\n",
              "    profundidad_km  magnitud_Mw  \n",
              "5              136          5.3  \n",
              "9              100          5.0  \n",
              "13              33          5.3  \n",
              "16              91          5.4  \n",
              "18             115          5.3  "
            ]
          },
          "execution_count": 25,
          "metadata": {},
          "output_type": "execute_result"
        }
      ],
      "source": [
        "df_sismos.head()"
      ]
    },
    {
      "cell_type": "markdown",
      "id": "771d40a7",
      "metadata": {
        "id": "771d40a7"
      },
      "source": [
        "Separacion de hora_UTC en hora, minutos, segundos"
      ]
    },
    {
      "cell_type": "code",
      "execution_count": 26,
      "id": "fc463e8c",
      "metadata": {
        "colab": {
          "base_uri": "https://localhost:8080/",
          "height": 206
        },
        "id": "fc463e8c",
        "outputId": "6858cec6-d4c4-45c9-cfc4-292017192cee"
      },
      "outputs": [
        {
          "data": {
            "text/html": [
              "<div>\n",
              "<style scoped>\n",
              "    .dataframe tbody tr th:only-of-type {\n",
              "        vertical-align: middle;\n",
              "    }\n",
              "\n",
              "    .dataframe tbody tr th {\n",
              "        vertical-align: top;\n",
              "    }\n",
              "\n",
              "    .dataframe thead th {\n",
              "        text-align: right;\n",
              "    }\n",
              "</style>\n",
              "<table border=\"1\" class=\"dataframe\">\n",
              "  <thead>\n",
              "    <tr style=\"text-align: right;\">\n",
              "      <th></th>\n",
              "      <th>hora</th>\n",
              "      <th>minuto</th>\n",
              "    </tr>\n",
              "  </thead>\n",
              "  <tbody>\n",
              "    <tr>\n",
              "      <th>5</th>\n",
              "      <td>19</td>\n",
              "      <td>6</td>\n",
              "    </tr>\n",
              "    <tr>\n",
              "      <th>9</th>\n",
              "      <td>1</td>\n",
              "      <td>28</td>\n",
              "    </tr>\n",
              "    <tr>\n",
              "      <th>13</th>\n",
              "      <td>4</td>\n",
              "      <td>19</td>\n",
              "    </tr>\n",
              "    <tr>\n",
              "      <th>16</th>\n",
              "      <td>0</td>\n",
              "      <td>8</td>\n",
              "    </tr>\n",
              "    <tr>\n",
              "      <th>18</th>\n",
              "      <td>16</td>\n",
              "      <td>58</td>\n",
              "    </tr>\n",
              "  </tbody>\n",
              "</table>\n",
              "</div>"
            ],
            "text/plain": [
              "    hora  minuto\n",
              "5     19       6\n",
              "9      1      28\n",
              "13     4      19\n",
              "16     0       8\n",
              "18    16      58"
            ]
          },
          "execution_count": 26,
          "metadata": {},
          "output_type": "execute_result"
        }
      ],
      "source": [
        "# separación de hora_UTC en hora , minuto y segundo\n",
        "df_hora = df_sismos['hora_UTC'].str.split(':', expand=True)\n",
        "df_hora = df_hora.rename(columns={0:'hora', 1:'minuto', 2:'segundo'})\n",
        "# eliminar la columna segundo\n",
        "df_hora = df_hora.drop(['segundo'], axis=1)\n",
        "# convertir a tipo numérico\n",
        "df_hora['hora'] = pd.to_numeric(df_hora['hora'], errors='coerce')\n",
        "df_hora['minuto'] = pd.to_numeric(df_hora['minuto'], errors='coerce')\n",
        "df_hora.head()"
      ]
    },
    {
      "cell_type": "code",
      "execution_count": 27,
      "id": "bce3f70a",
      "metadata": {
        "id": "bce3f70a"
      },
      "outputs": [],
      "source": [
        "# concatenar las columnas hora, minuto  con df_sismos\n",
        "df_sismos = pd.concat([df_hora, df_sismos], axis=1)"
      ]
    },
    {
      "cell_type": "code",
      "execution_count": 28,
      "id": "f62a01ec",
      "metadata": {
        "colab": {
          "base_uri": "https://localhost:8080/",
          "height": 206
        },
        "id": "f62a01ec",
        "outputId": "b45cb872-660d-46cb-c08d-4b63bcc448ff"
      },
      "outputs": [
        {
          "data": {
            "text/html": [
              "<div>\n",
              "<style scoped>\n",
              "    .dataframe tbody tr th:only-of-type {\n",
              "        vertical-align: middle;\n",
              "    }\n",
              "\n",
              "    .dataframe tbody tr th {\n",
              "        vertical-align: top;\n",
              "    }\n",
              "\n",
              "    .dataframe thead th {\n",
              "        text-align: right;\n",
              "    }\n",
              "</style>\n",
              "<table border=\"1\" class=\"dataframe\">\n",
              "  <thead>\n",
              "    <tr style=\"text-align: right;\">\n",
              "      <th></th>\n",
              "      <th>hora</th>\n",
              "      <th>minuto</th>\n",
              "      <th>dia</th>\n",
              "      <th>mes</th>\n",
              "      <th>año</th>\n",
              "      <th>fecha_UTC</th>\n",
              "      <th>hora_UTC</th>\n",
              "      <th>latitud(º)</th>\n",
              "      <th>longitud(º)</th>\n",
              "      <th>profundidad_km</th>\n",
              "      <th>magnitud_Mw</th>\n",
              "    </tr>\n",
              "  </thead>\n",
              "  <tbody>\n",
              "    <tr>\n",
              "      <th>23034</th>\n",
              "      <td>17</td>\n",
              "      <td>39</td>\n",
              "      <td>22</td>\n",
              "      <td>9</td>\n",
              "      <td>2022</td>\n",
              "      <td>22/09/2022</td>\n",
              "      <td>17:39:29</td>\n",
              "      <td>-15.49</td>\n",
              "      <td>-75.46</td>\n",
              "      <td>34</td>\n",
              "      <td>4.4</td>\n",
              "    </tr>\n",
              "    <tr>\n",
              "      <th>23035</th>\n",
              "      <td>23</td>\n",
              "      <td>10</td>\n",
              "      <td>22</td>\n",
              "      <td>9</td>\n",
              "      <td>2022</td>\n",
              "      <td>22/09/2022</td>\n",
              "      <td>23:10:03</td>\n",
              "      <td>-8.70</td>\n",
              "      <td>-80.15</td>\n",
              "      <td>18</td>\n",
              "      <td>4.1</td>\n",
              "    </tr>\n",
              "    <tr>\n",
              "      <th>23036</th>\n",
              "      <td>1</td>\n",
              "      <td>39</td>\n",
              "      <td>23</td>\n",
              "      <td>9</td>\n",
              "      <td>2022</td>\n",
              "      <td>23/09/2022</td>\n",
              "      <td>01:39:24</td>\n",
              "      <td>-18.43</td>\n",
              "      <td>-71.90</td>\n",
              "      <td>33</td>\n",
              "      <td>4.2</td>\n",
              "    </tr>\n",
              "    <tr>\n",
              "      <th>23037</th>\n",
              "      <td>17</td>\n",
              "      <td>58</td>\n",
              "      <td>23</td>\n",
              "      <td>9</td>\n",
              "      <td>2022</td>\n",
              "      <td>23/09/2022</td>\n",
              "      <td>17:58:51</td>\n",
              "      <td>-8.56</td>\n",
              "      <td>-80.20</td>\n",
              "      <td>38</td>\n",
              "      <td>4.3</td>\n",
              "    </tr>\n",
              "    <tr>\n",
              "      <th>23038</th>\n",
              "      <td>1</td>\n",
              "      <td>20</td>\n",
              "      <td>26</td>\n",
              "      <td>9</td>\n",
              "      <td>2022</td>\n",
              "      <td>26/09/2022</td>\n",
              "      <td>01:20:47</td>\n",
              "      <td>-9.80</td>\n",
              "      <td>-74.73</td>\n",
              "      <td>133</td>\n",
              "      <td>4.3</td>\n",
              "    </tr>\n",
              "  </tbody>\n",
              "</table>\n",
              "</div>"
            ],
            "text/plain": [
              "       hora  minuto  dia  mes   año   fecha_UTC  hora_UTC  latitud(º)  \\\n",
              "23034    17      39   22    9  2022  22/09/2022  17:39:29      -15.49   \n",
              "23035    23      10   22    9  2022  22/09/2022  23:10:03       -8.70   \n",
              "23036     1      39   23    9  2022  23/09/2022  01:39:24      -18.43   \n",
              "23037    17      58   23    9  2022  23/09/2022  17:58:51       -8.56   \n",
              "23038     1      20   26    9  2022  26/09/2022  01:20:47       -9.80   \n",
              "\n",
              "       longitud(º)  profundidad_km  magnitud_Mw  \n",
              "23034       -75.46              34          4.4  \n",
              "23035       -80.15              18          4.1  \n",
              "23036       -71.90              33          4.2  \n",
              "23037       -80.20              38          4.3  \n",
              "23038       -74.73             133          4.3  "
            ]
          },
          "execution_count": 28,
          "metadata": {},
          "output_type": "execute_result"
        }
      ],
      "source": [
        "df_sismos.tail()"
      ]
    },
    {
      "cell_type": "code",
      "execution_count": 29,
      "id": "2e13f437",
      "metadata": {
        "colab": {
          "base_uri": "https://localhost:8080/"
        },
        "id": "2e13f437",
        "outputId": "90162c22-3f63-467a-f49b-122e2cc0b16d"
      },
      "outputs": [
        {
          "name": "stdout",
          "output_type": "stream",
          "text": [
            "<class 'pandas.core.frame.DataFrame'>\n",
            "Int64Index: 21257 entries, 5 to 23038\n",
            "Data columns (total 11 columns):\n",
            " #   Column          Non-Null Count  Dtype  \n",
            "---  ------          --------------  -----  \n",
            " 0   hora            21257 non-null  int64  \n",
            " 1   minuto          21257 non-null  int64  \n",
            " 2   dia             21257 non-null  int64  \n",
            " 3   mes             21257 non-null  int64  \n",
            " 4   año             21257 non-null  int64  \n",
            " 5   fecha_UTC       21257 non-null  object \n",
            " 6   hora_UTC        21257 non-null  object \n",
            " 7   latitud(º)      21257 non-null  float64\n",
            " 8   longitud(º)     21257 non-null  float64\n",
            " 9   profundidad_km  21257 non-null  int64  \n",
            " 10  magnitud_Mw     21257 non-null  float64\n",
            "dtypes: float64(3), int64(6), object(2)\n",
            "memory usage: 1.9+ MB\n"
          ]
        }
      ],
      "source": [
        "df_sismos.info()"
      ]
    },
    {
      "cell_type": "code",
      "execution_count": 30,
      "id": "fba0f20d",
      "metadata": {
        "id": "fba0f20d"
      },
      "outputs": [],
      "source": [
        "# Escalasismos = pd.cut(df_sismos['magnitud_Mw'],[0,3,4,5,6,7,8])\n",
        "# print(Escalasismos)\n",
        "# print(pd.value_counts(Escalasismos))"
      ]
    },
    {
      "cell_type": "code",
      "execution_count": 31,
      "id": "ed7e689e",
      "metadata": {
        "id": "ed7e689e"
      },
      "outputs": [],
      "source": [
        "# reiniciar los índices\n",
        "df_sismos = df_sismos.reset_index(drop=True)"
      ]
    },
    {
      "cell_type": "code",
      "execution_count": 32,
      "id": "d8a6b0c4",
      "metadata": {
        "colab": {
          "base_uri": "https://localhost:8080/",
          "height": 206
        },
        "id": "d8a6b0c4",
        "outputId": "bc32dd16-8ff2-46ad-df24-712d429496b4"
      },
      "outputs": [
        {
          "data": {
            "text/html": [
              "<div>\n",
              "<style scoped>\n",
              "    .dataframe tbody tr th:only-of-type {\n",
              "        vertical-align: middle;\n",
              "    }\n",
              "\n",
              "    .dataframe tbody tr th {\n",
              "        vertical-align: top;\n",
              "    }\n",
              "\n",
              "    .dataframe thead th {\n",
              "        text-align: right;\n",
              "    }\n",
              "</style>\n",
              "<table border=\"1\" class=\"dataframe\">\n",
              "  <thead>\n",
              "    <tr style=\"text-align: right;\">\n",
              "      <th></th>\n",
              "      <th>hora</th>\n",
              "      <th>minuto</th>\n",
              "      <th>dia</th>\n",
              "      <th>mes</th>\n",
              "      <th>año</th>\n",
              "      <th>fecha_UTC</th>\n",
              "      <th>hora_UTC</th>\n",
              "      <th>latitud(º)</th>\n",
              "      <th>longitud(º)</th>\n",
              "      <th>profundidad_km</th>\n",
              "      <th>magnitud_Mw</th>\n",
              "    </tr>\n",
              "  </thead>\n",
              "  <tbody>\n",
              "    <tr>\n",
              "      <th>0</th>\n",
              "      <td>19</td>\n",
              "      <td>6</td>\n",
              "      <td>8</td>\n",
              "      <td>2</td>\n",
              "      <td>1960</td>\n",
              "      <td>08/02/1960</td>\n",
              "      <td>19:06:16.00</td>\n",
              "      <td>-8.5</td>\n",
              "      <td>-74.5</td>\n",
              "      <td>136</td>\n",
              "      <td>5.3</td>\n",
              "    </tr>\n",
              "    <tr>\n",
              "      <th>1</th>\n",
              "      <td>1</td>\n",
              "      <td>28</td>\n",
              "      <td>4</td>\n",
              "      <td>5</td>\n",
              "      <td>1960</td>\n",
              "      <td>04/05/1960</td>\n",
              "      <td>01:28:52.00</td>\n",
              "      <td>-18.0</td>\n",
              "      <td>-71.5</td>\n",
              "      <td>100</td>\n",
              "      <td>5.0</td>\n",
              "    </tr>\n",
              "    <tr>\n",
              "      <th>2</th>\n",
              "      <td>4</td>\n",
              "      <td>19</td>\n",
              "      <td>19</td>\n",
              "      <td>7</td>\n",
              "      <td>1960</td>\n",
              "      <td>19/07/1960</td>\n",
              "      <td>04:19:14.00</td>\n",
              "      <td>-7.0</td>\n",
              "      <td>-80.0</td>\n",
              "      <td>33</td>\n",
              "      <td>5.3</td>\n",
              "    </tr>\n",
              "    <tr>\n",
              "      <th>3</th>\n",
              "      <td>0</td>\n",
              "      <td>8</td>\n",
              "      <td>14</td>\n",
              "      <td>9</td>\n",
              "      <td>1960</td>\n",
              "      <td>14/09/1960</td>\n",
              "      <td>00:08:03.00</td>\n",
              "      <td>-15.2</td>\n",
              "      <td>-76.2</td>\n",
              "      <td>91</td>\n",
              "      <td>5.4</td>\n",
              "    </tr>\n",
              "    <tr>\n",
              "      <th>4</th>\n",
              "      <td>16</td>\n",
              "      <td>58</td>\n",
              "      <td>26</td>\n",
              "      <td>9</td>\n",
              "      <td>1960</td>\n",
              "      <td>26/09/1960</td>\n",
              "      <td>16:58:13.00</td>\n",
              "      <td>-16.0</td>\n",
              "      <td>-72.9</td>\n",
              "      <td>115</td>\n",
              "      <td>5.3</td>\n",
              "    </tr>\n",
              "  </tbody>\n",
              "</table>\n",
              "</div>"
            ],
            "text/plain": [
              "   hora  minuto  dia  mes   año   fecha_UTC     hora_UTC  latitud(º)  \\\n",
              "0    19       6    8    2  1960  08/02/1960  19:06:16.00        -8.5   \n",
              "1     1      28    4    5  1960  04/05/1960  01:28:52.00       -18.0   \n",
              "2     4      19   19    7  1960  19/07/1960  04:19:14.00        -7.0   \n",
              "3     0       8   14    9  1960  14/09/1960  00:08:03.00       -15.2   \n",
              "4    16      58   26    9  1960  26/09/1960  16:58:13.00       -16.0   \n",
              "\n",
              "   longitud(º)  profundidad_km  magnitud_Mw  \n",
              "0        -74.5             136          5.3  \n",
              "1        -71.5             100          5.0  \n",
              "2        -80.0              33          5.3  \n",
              "3        -76.2              91          5.4  \n",
              "4        -72.9             115          5.3  "
            ]
          },
          "execution_count": 32,
          "metadata": {},
          "output_type": "execute_result"
        }
      ],
      "source": [
        "df_sismos.head()"
      ]
    },
    {
      "cell_type": "code",
      "execution_count": 33,
      "id": "RbE_krZfj1D6",
      "metadata": {
        "colab": {
          "base_uri": "https://localhost:8080/"
        },
        "id": "RbE_krZfj1D6",
        "outputId": "64e5b43b-8cc2-496f-dc56-3283e2555420"
      },
      "outputs": [
        {
          "data": {
            "text/plain": [
              "(21257, 11)"
            ]
          },
          "execution_count": 33,
          "metadata": {},
          "output_type": "execute_result"
        }
      ],
      "source": [
        "df_sismos.shape"
      ]
    },
    {
      "cell_type": "code",
      "execution_count": 34,
      "id": "F_BA31hRkzUr",
      "metadata": {
        "id": "F_BA31hRkzUr"
      },
      "outputs": [],
      "source": [
        "# # creacion de una nueva columna con el nombre de la region del sismo con geopandas\n",
        "# # importar librerias\n",
        "# from geopy.geocoders import Nominatim\n",
        "# from geopy.point import Point\n",
        "# # crear un objeto geolocator\n",
        "# geolocator = Nominatim(user_agent=\"myGeocoder\")\n",
        "\n",
        "# def reverse_geo(lat, lon):\n",
        "#   location = geolocator.reverse(Point(lat, lon))\n",
        "#   try:\n",
        "#     if location is not None:\n",
        "#       # agregar la variable location si existe location.raw['address']['region'] y location.raw['address']['state']\n",
        "#       if 'region' in location.raw['address'] and 'state' in location.raw['address']:\n",
        "#           print(location.raw['address']['region'])\n",
        "#           return location.raw['address']['region'] + ', ' + location.raw['address']['state']\n",
        "#       else:\n",
        "#           return'MAR, MAR'\n",
        "#     else:\n",
        "#           return'MAR, MAR'\n",
        "#   except:\n",
        "#     return 'MAR, MAR'"
      ]
    },
    {
      "cell_type": "code",
      "execution_count": 35,
      "id": "wgihVWkvmblt",
      "metadata": {
        "id": "wgihVWkvmblt"
      },
      "outputs": [],
      "source": [
        "# crear una lista vacia\n",
        "# region = [reverse_geo(lat, lon) for lat, lon in zip(df_sismos['latitud(º)'][1000:2000], df_sismos['longitud(º)'][1000:2000])]"
      ]
    },
    {
      "cell_type": "code",
      "execution_count": 36,
      "id": "5d361cfd",
      "metadata": {
        "id": "5d361cfd"
      },
      "outputs": [],
      "source": [
        "# # separar la lista region en dos columnas\n",
        "# df_region = pd.DataFrame(region)\n",
        "# df_region = df_region[0].str.split(',', expand=True)\n",
        "# df_region = df_region.rename(columns={0:'provincia', 1:'region'})"
      ]
    },
    {
      "cell_type": "code",
      "execution_count": 37,
      "id": "4c990159",
      "metadata": {
        "id": "4c990159"
      },
      "outputs": [],
      "source": [
        "# df_region.head()"
      ]
    },
    {
      "cell_type": "code",
      "execution_count": 38,
      "id": "9478786c",
      "metadata": {
        "id": "9478786c"
      },
      "outputs": [],
      "source": [
        "# #guardar el dataframe en un archivo csv\n",
        "# df_region.to_csv('region2.csv', index=False)"
      ]
    },
    {
      "cell_type": "code",
      "execution_count": 39,
      "id": "ff1ccc4a",
      "metadata": {
        "id": "ff1ccc4a"
      },
      "outputs": [],
      "source": [
        "df_region = pd.read_csv('https://raw.githubusercontent.com/KevinRamosRivas/G2-MINERIA_DATOS/main/region_datos_sismicos_1960-2022.csv')"
      ]
    },
    {
      "cell_type": "code",
      "execution_count": 40,
      "id": "p-ZEeY2NhJqs",
      "metadata": {
        "colab": {
          "base_uri": "https://localhost:8080/"
        },
        "id": "p-ZEeY2NhJqs",
        "outputId": "5b326a2e-eabf-4a5a-8685-ed79348aa8cc"
      },
      "outputs": [
        {
          "data": {
            "text/plain": [
              "(21257, 2)"
            ]
          },
          "execution_count": 40,
          "metadata": {},
          "output_type": "execute_result"
        }
      ],
      "source": [
        "df_region.shape"
      ]
    },
    {
      "cell_type": "code",
      "execution_count": 41,
      "id": "962f03e4",
      "metadata": {
        "id": "962f03e4"
      },
      "outputs": [],
      "source": [
        "# concatenar df_region con df_sismos\n",
        "df_sismos = pd.concat([df_region, df_sismos], axis=1)"
      ]
    },
    {
      "cell_type": "code",
      "execution_count": 42,
      "id": "a9fafb7d",
      "metadata": {
        "colab": {
          "base_uri": "https://localhost:8080/",
          "height": 206
        },
        "id": "a9fafb7d",
        "outputId": "968a6a87-e15f-4c35-890f-6672a00665b7"
      },
      "outputs": [
        {
          "data": {
            "text/html": [
              "<div>\n",
              "<style scoped>\n",
              "    .dataframe tbody tr th:only-of-type {\n",
              "        vertical-align: middle;\n",
              "    }\n",
              "\n",
              "    .dataframe tbody tr th {\n",
              "        vertical-align: top;\n",
              "    }\n",
              "\n",
              "    .dataframe thead th {\n",
              "        text-align: right;\n",
              "    }\n",
              "</style>\n",
              "<table border=\"1\" class=\"dataframe\">\n",
              "  <thead>\n",
              "    <tr style=\"text-align: right;\">\n",
              "      <th></th>\n",
              "      <th>provincia</th>\n",
              "      <th>region</th>\n",
              "      <th>hora</th>\n",
              "      <th>minuto</th>\n",
              "      <th>dia</th>\n",
              "      <th>mes</th>\n",
              "      <th>año</th>\n",
              "      <th>fecha_UTC</th>\n",
              "      <th>hora_UTC</th>\n",
              "      <th>latitud(º)</th>\n",
              "      <th>longitud(º)</th>\n",
              "      <th>profundidad_km</th>\n",
              "      <th>magnitud_Mw</th>\n",
              "    </tr>\n",
              "  </thead>\n",
              "  <tbody>\n",
              "    <tr>\n",
              "      <th>0</th>\n",
              "      <td>Coronel Portillo</td>\n",
              "      <td>Ucayali</td>\n",
              "      <td>19</td>\n",
              "      <td>6</td>\n",
              "      <td>8</td>\n",
              "      <td>2</td>\n",
              "      <td>1960</td>\n",
              "      <td>08/02/1960</td>\n",
              "      <td>19:06:16.00</td>\n",
              "      <td>-8.5</td>\n",
              "      <td>-74.5</td>\n",
              "      <td>136</td>\n",
              "      <td>5.3</td>\n",
              "    </tr>\n",
              "    <tr>\n",
              "      <th>1</th>\n",
              "      <td>MAR</td>\n",
              "      <td>MAR</td>\n",
              "      <td>1</td>\n",
              "      <td>28</td>\n",
              "      <td>4</td>\n",
              "      <td>5</td>\n",
              "      <td>1960</td>\n",
              "      <td>04/05/1960</td>\n",
              "      <td>01:28:52.00</td>\n",
              "      <td>-18.0</td>\n",
              "      <td>-71.5</td>\n",
              "      <td>100</td>\n",
              "      <td>5.0</td>\n",
              "    </tr>\n",
              "    <tr>\n",
              "      <th>2</th>\n",
              "      <td>MAR</td>\n",
              "      <td>MAR</td>\n",
              "      <td>4</td>\n",
              "      <td>19</td>\n",
              "      <td>19</td>\n",
              "      <td>7</td>\n",
              "      <td>1960</td>\n",
              "      <td>19/07/1960</td>\n",
              "      <td>04:19:14.00</td>\n",
              "      <td>-7.0</td>\n",
              "      <td>-80.0</td>\n",
              "      <td>33</td>\n",
              "      <td>5.3</td>\n",
              "    </tr>\n",
              "    <tr>\n",
              "      <th>3</th>\n",
              "      <td>MAR</td>\n",
              "      <td>MAR</td>\n",
              "      <td>0</td>\n",
              "      <td>8</td>\n",
              "      <td>14</td>\n",
              "      <td>9</td>\n",
              "      <td>1960</td>\n",
              "      <td>14/09/1960</td>\n",
              "      <td>00:08:03.00</td>\n",
              "      <td>-15.2</td>\n",
              "      <td>-76.2</td>\n",
              "      <td>91</td>\n",
              "      <td>5.4</td>\n",
              "    </tr>\n",
              "    <tr>\n",
              "      <th>4</th>\n",
              "      <td>Condesuyos</td>\n",
              "      <td>Arequipa</td>\n",
              "      <td>16</td>\n",
              "      <td>58</td>\n",
              "      <td>26</td>\n",
              "      <td>9</td>\n",
              "      <td>1960</td>\n",
              "      <td>26/09/1960</td>\n",
              "      <td>16:58:13.00</td>\n",
              "      <td>-16.0</td>\n",
              "      <td>-72.9</td>\n",
              "      <td>115</td>\n",
              "      <td>5.3</td>\n",
              "    </tr>\n",
              "  </tbody>\n",
              "</table>\n",
              "</div>"
            ],
            "text/plain": [
              "          provincia     region  hora  minuto  dia  mes   año   fecha_UTC  \\\n",
              "0  Coronel Portillo    Ucayali    19       6    8    2  1960  08/02/1960   \n",
              "1               MAR        MAR     1      28    4    5  1960  04/05/1960   \n",
              "2               MAR        MAR     4      19   19    7  1960  19/07/1960   \n",
              "3               MAR        MAR     0       8   14    9  1960  14/09/1960   \n",
              "4        Condesuyos   Arequipa    16      58   26    9  1960  26/09/1960   \n",
              "\n",
              "      hora_UTC  latitud(º)  longitud(º)  profundidad_km  magnitud_Mw  \n",
              "0  19:06:16.00        -8.5        -74.5             136          5.3  \n",
              "1  01:28:52.00       -18.0        -71.5             100          5.0  \n",
              "2  04:19:14.00        -7.0        -80.0              33          5.3  \n",
              "3  00:08:03.00       -15.2        -76.2              91          5.4  \n",
              "4  16:58:13.00       -16.0        -72.9             115          5.3  "
            ]
          },
          "execution_count": 42,
          "metadata": {},
          "output_type": "execute_result"
        }
      ],
      "source": [
        "df_sismos.head()"
      ]
    },
    {
      "cell_type": "markdown",
      "id": "ba202055",
      "metadata": {
        "id": "ba202055"
      },
      "source": [
        "## 4. Reducción de dimensionalidad"
      ]
    },
    {
      "cell_type": "markdown",
      "id": "c97cff15",
      "metadata": {
        "id": "c97cff15"
      },
      "source": [
        "Seleccionamos aquellos con una magnitud superior a 3.0 por el nivel de riesgo que representan"
      ]
    },
    {
      "cell_type": "code",
      "execution_count": 43,
      "id": "ddc15d07",
      "metadata": {
        "id": "ddc15d07"
      },
      "outputs": [],
      "source": [
        "df_sismos= df_sismos[(df_sismos['magnitud_Mw']>=3.0)]"
      ]
    },
    {
      "cell_type": "code",
      "execution_count": 44,
      "id": "8bf87947",
      "metadata": {
        "colab": {
          "base_uri": "https://localhost:8080/",
          "height": 206
        },
        "id": "8bf87947",
        "outputId": "0ffaa692-8bf9-49cb-ec4a-1a3c6b5d15c0"
      },
      "outputs": [
        {
          "data": {
            "text/html": [
              "<div>\n",
              "<style scoped>\n",
              "    .dataframe tbody tr th:only-of-type {\n",
              "        vertical-align: middle;\n",
              "    }\n",
              "\n",
              "    .dataframe tbody tr th {\n",
              "        vertical-align: top;\n",
              "    }\n",
              "\n",
              "    .dataframe thead th {\n",
              "        text-align: right;\n",
              "    }\n",
              "</style>\n",
              "<table border=\"1\" class=\"dataframe\">\n",
              "  <thead>\n",
              "    <tr style=\"text-align: right;\">\n",
              "      <th></th>\n",
              "      <th>provincia</th>\n",
              "      <th>region</th>\n",
              "      <th>hora</th>\n",
              "      <th>minuto</th>\n",
              "      <th>dia</th>\n",
              "      <th>mes</th>\n",
              "      <th>año</th>\n",
              "      <th>fecha_UTC</th>\n",
              "      <th>hora_UTC</th>\n",
              "      <th>latitud(º)</th>\n",
              "      <th>longitud(º)</th>\n",
              "      <th>profundidad_km</th>\n",
              "      <th>magnitud_Mw</th>\n",
              "    </tr>\n",
              "  </thead>\n",
              "  <tbody>\n",
              "    <tr>\n",
              "      <th>0</th>\n",
              "      <td>Coronel Portillo</td>\n",
              "      <td>Ucayali</td>\n",
              "      <td>19</td>\n",
              "      <td>6</td>\n",
              "      <td>8</td>\n",
              "      <td>2</td>\n",
              "      <td>1960</td>\n",
              "      <td>08/02/1960</td>\n",
              "      <td>19:06:16.00</td>\n",
              "      <td>-8.5</td>\n",
              "      <td>-74.5</td>\n",
              "      <td>136</td>\n",
              "      <td>5.3</td>\n",
              "    </tr>\n",
              "    <tr>\n",
              "      <th>1</th>\n",
              "      <td>MAR</td>\n",
              "      <td>MAR</td>\n",
              "      <td>1</td>\n",
              "      <td>28</td>\n",
              "      <td>4</td>\n",
              "      <td>5</td>\n",
              "      <td>1960</td>\n",
              "      <td>04/05/1960</td>\n",
              "      <td>01:28:52.00</td>\n",
              "      <td>-18.0</td>\n",
              "      <td>-71.5</td>\n",
              "      <td>100</td>\n",
              "      <td>5.0</td>\n",
              "    </tr>\n",
              "    <tr>\n",
              "      <th>2</th>\n",
              "      <td>MAR</td>\n",
              "      <td>MAR</td>\n",
              "      <td>4</td>\n",
              "      <td>19</td>\n",
              "      <td>19</td>\n",
              "      <td>7</td>\n",
              "      <td>1960</td>\n",
              "      <td>19/07/1960</td>\n",
              "      <td>04:19:14.00</td>\n",
              "      <td>-7.0</td>\n",
              "      <td>-80.0</td>\n",
              "      <td>33</td>\n",
              "      <td>5.3</td>\n",
              "    </tr>\n",
              "    <tr>\n",
              "      <th>3</th>\n",
              "      <td>MAR</td>\n",
              "      <td>MAR</td>\n",
              "      <td>0</td>\n",
              "      <td>8</td>\n",
              "      <td>14</td>\n",
              "      <td>9</td>\n",
              "      <td>1960</td>\n",
              "      <td>14/09/1960</td>\n",
              "      <td>00:08:03.00</td>\n",
              "      <td>-15.2</td>\n",
              "      <td>-76.2</td>\n",
              "      <td>91</td>\n",
              "      <td>5.4</td>\n",
              "    </tr>\n",
              "    <tr>\n",
              "      <th>4</th>\n",
              "      <td>Condesuyos</td>\n",
              "      <td>Arequipa</td>\n",
              "      <td>16</td>\n",
              "      <td>58</td>\n",
              "      <td>26</td>\n",
              "      <td>9</td>\n",
              "      <td>1960</td>\n",
              "      <td>26/09/1960</td>\n",
              "      <td>16:58:13.00</td>\n",
              "      <td>-16.0</td>\n",
              "      <td>-72.9</td>\n",
              "      <td>115</td>\n",
              "      <td>5.3</td>\n",
              "    </tr>\n",
              "  </tbody>\n",
              "</table>\n",
              "</div>"
            ],
            "text/plain": [
              "          provincia     region  hora  minuto  dia  mes   año   fecha_UTC  \\\n",
              "0  Coronel Portillo    Ucayali    19       6    8    2  1960  08/02/1960   \n",
              "1               MAR        MAR     1      28    4    5  1960  04/05/1960   \n",
              "2               MAR        MAR     4      19   19    7  1960  19/07/1960   \n",
              "3               MAR        MAR     0       8   14    9  1960  14/09/1960   \n",
              "4        Condesuyos   Arequipa    16      58   26    9  1960  26/09/1960   \n",
              "\n",
              "      hora_UTC  latitud(º)  longitud(º)  profundidad_km  magnitud_Mw  \n",
              "0  19:06:16.00        -8.5        -74.5             136          5.3  \n",
              "1  01:28:52.00       -18.0        -71.5             100          5.0  \n",
              "2  04:19:14.00        -7.0        -80.0              33          5.3  \n",
              "3  00:08:03.00       -15.2        -76.2              91          5.4  \n",
              "4  16:58:13.00       -16.0        -72.9             115          5.3  "
            ]
          },
          "execution_count": 44,
          "metadata": {},
          "output_type": "execute_result"
        }
      ],
      "source": [
        "df_sismos.head()"
      ]
    },
    {
      "cell_type": "code",
      "execution_count": 45,
      "id": "d4e8e1fd",
      "metadata": {
        "colab": {
          "base_uri": "https://localhost:8080/",
          "height": 206
        },
        "id": "d4e8e1fd",
        "outputId": "ea424dfc-ce67-4417-ee40-f581b774ebde"
      },
      "outputs": [
        {
          "data": {
            "text/html": [
              "<div>\n",
              "<style scoped>\n",
              "    .dataframe tbody tr th:only-of-type {\n",
              "        vertical-align: middle;\n",
              "    }\n",
              "\n",
              "    .dataframe tbody tr th {\n",
              "        vertical-align: top;\n",
              "    }\n",
              "\n",
              "    .dataframe thead th {\n",
              "        text-align: right;\n",
              "    }\n",
              "</style>\n",
              "<table border=\"1\" class=\"dataframe\">\n",
              "  <thead>\n",
              "    <tr style=\"text-align: right;\">\n",
              "      <th></th>\n",
              "      <th>provincia</th>\n",
              "      <th>region</th>\n",
              "      <th>hora</th>\n",
              "      <th>minuto</th>\n",
              "      <th>dia</th>\n",
              "      <th>mes</th>\n",
              "      <th>año</th>\n",
              "      <th>latitud(º)</th>\n",
              "      <th>longitud(º)</th>\n",
              "      <th>profundidad_km</th>\n",
              "      <th>magnitud_Mw</th>\n",
              "    </tr>\n",
              "  </thead>\n",
              "  <tbody>\n",
              "    <tr>\n",
              "      <th>0</th>\n",
              "      <td>Coronel Portillo</td>\n",
              "      <td>Ucayali</td>\n",
              "      <td>19</td>\n",
              "      <td>6</td>\n",
              "      <td>8</td>\n",
              "      <td>2</td>\n",
              "      <td>1960</td>\n",
              "      <td>-8.5</td>\n",
              "      <td>-74.5</td>\n",
              "      <td>136</td>\n",
              "      <td>5.3</td>\n",
              "    </tr>\n",
              "    <tr>\n",
              "      <th>1</th>\n",
              "      <td>MAR</td>\n",
              "      <td>MAR</td>\n",
              "      <td>1</td>\n",
              "      <td>28</td>\n",
              "      <td>4</td>\n",
              "      <td>5</td>\n",
              "      <td>1960</td>\n",
              "      <td>-18.0</td>\n",
              "      <td>-71.5</td>\n",
              "      <td>100</td>\n",
              "      <td>5.0</td>\n",
              "    </tr>\n",
              "    <tr>\n",
              "      <th>2</th>\n",
              "      <td>MAR</td>\n",
              "      <td>MAR</td>\n",
              "      <td>4</td>\n",
              "      <td>19</td>\n",
              "      <td>19</td>\n",
              "      <td>7</td>\n",
              "      <td>1960</td>\n",
              "      <td>-7.0</td>\n",
              "      <td>-80.0</td>\n",
              "      <td>33</td>\n",
              "      <td>5.3</td>\n",
              "    </tr>\n",
              "    <tr>\n",
              "      <th>3</th>\n",
              "      <td>MAR</td>\n",
              "      <td>MAR</td>\n",
              "      <td>0</td>\n",
              "      <td>8</td>\n",
              "      <td>14</td>\n",
              "      <td>9</td>\n",
              "      <td>1960</td>\n",
              "      <td>-15.2</td>\n",
              "      <td>-76.2</td>\n",
              "      <td>91</td>\n",
              "      <td>5.4</td>\n",
              "    </tr>\n",
              "    <tr>\n",
              "      <th>4</th>\n",
              "      <td>Condesuyos</td>\n",
              "      <td>Arequipa</td>\n",
              "      <td>16</td>\n",
              "      <td>58</td>\n",
              "      <td>26</td>\n",
              "      <td>9</td>\n",
              "      <td>1960</td>\n",
              "      <td>-16.0</td>\n",
              "      <td>-72.9</td>\n",
              "      <td>115</td>\n",
              "      <td>5.3</td>\n",
              "    </tr>\n",
              "  </tbody>\n",
              "</table>\n",
              "</div>"
            ],
            "text/plain": [
              "          provincia     region  hora  minuto  dia  mes   año  latitud(º)  \\\n",
              "0  Coronel Portillo    Ucayali    19       6    8    2  1960        -8.5   \n",
              "1               MAR        MAR     1      28    4    5  1960       -18.0   \n",
              "2               MAR        MAR     4      19   19    7  1960        -7.0   \n",
              "3               MAR        MAR     0       8   14    9  1960       -15.2   \n",
              "4        Condesuyos   Arequipa    16      58   26    9  1960       -16.0   \n",
              "\n",
              "   longitud(º)  profundidad_km  magnitud_Mw  \n",
              "0        -74.5             136          5.3  \n",
              "1        -71.5             100          5.0  \n",
              "2        -80.0              33          5.3  \n",
              "3        -76.2              91          5.4  \n",
              "4        -72.9             115          5.3  "
            ]
          },
          "execution_count": 45,
          "metadata": {},
          "output_type": "execute_result"
        }
      ],
      "source": [
        "# eliminamos las columnas que no vamos a utilizar\n",
        "df_sismos = df_sismos.drop(['fecha_UTC','hora_UTC'], axis=1)\n",
        "df_sismos.head()"
      ]
    },
    {
      "cell_type": "markdown",
      "id": "55fb92a0",
      "metadata": {
        "id": "55fb92a0"
      },
      "source": [
        "### Aplicamos ANOVA para los datos categoricos y asi seleccionar los mejores atributos en base a la variable objetivo"
      ]
    },
    {
      "cell_type": "code",
      "execution_count": 46,
      "id": "6446cc39",
      "metadata": {
        "id": "6446cc39"
      },
      "outputs": [],
      "source": [
        "X=df_sismos.iloc[:,:-1]\n",
        "Y=df_sismos[\"magnitud_Mw\"]"
      ]
    },
    {
      "cell_type": "code",
      "execution_count": 47,
      "id": "9077a0f2",
      "metadata": {
        "id": "9077a0f2"
      },
      "outputs": [],
      "source": [
        "# extraer las columnas de tipo object de X\n",
        "df_string = X.select_dtypes(include=['object'])"
      ]
    },
    {
      "cell_type": "code",
      "execution_count": 48,
      "id": "c03a157b",
      "metadata": {
        "id": "c03a157b"
      },
      "outputs": [],
      "source": [
        "from sklearn.preprocessing import LabelEncoder\n",
        "from sklearn.preprocessing import OrdinalEncoder\n",
        "from sklearn.feature_selection import SelectKBest\n",
        "from sklearn.feature_selection import chi2\n",
        "from matplotlib import pyplot\n",
        "# Preparacion\n",
        "def prepare_inputs(X):\n",
        "    oe = OrdinalEncoder()\n",
        "    oe.fit(X)\n",
        "    X_enc = oe.transform(X)\n",
        "    return X_enc\n"
      ]
    },
    {
      "cell_type": "code",
      "execution_count": 49,
      "id": "01abacbe",
      "metadata": {
        "colab": {
          "base_uri": "https://localhost:8080/",
          "height": 424
        },
        "id": "01abacbe",
        "outputId": "6f320365-42a3-46fa-9b9d-1b76bbaf8480"
      },
      "outputs": [
        {
          "data": {
            "text/html": [
              "<div>\n",
              "<style scoped>\n",
              "    .dataframe tbody tr th:only-of-type {\n",
              "        vertical-align: middle;\n",
              "    }\n",
              "\n",
              "    .dataframe tbody tr th {\n",
              "        vertical-align: top;\n",
              "    }\n",
              "\n",
              "    .dataframe thead th {\n",
              "        text-align: right;\n",
              "    }\n",
              "</style>\n",
              "<table border=\"1\" class=\"dataframe\">\n",
              "  <thead>\n",
              "    <tr style=\"text-align: right;\">\n",
              "      <th></th>\n",
              "      <th>provincia</th>\n",
              "      <th>region</th>\n",
              "    </tr>\n",
              "  </thead>\n",
              "  <tbody>\n",
              "    <tr>\n",
              "      <th>0</th>\n",
              "      <td>-1.051950</td>\n",
              "      <td>1.773509</td>\n",
              "    </tr>\n",
              "    <tr>\n",
              "      <th>1</th>\n",
              "      <td>0.289521</td>\n",
              "      <td>0.285065</td>\n",
              "    </tr>\n",
              "    <tr>\n",
              "      <th>2</th>\n",
              "      <td>0.289521</td>\n",
              "      <td>0.285065</td>\n",
              "    </tr>\n",
              "    <tr>\n",
              "      <th>3</th>\n",
              "      <td>0.289521</td>\n",
              "      <td>0.285065</td>\n",
              "    </tr>\n",
              "    <tr>\n",
              "      <th>4</th>\n",
              "      <td>-1.149511</td>\n",
              "      <td>-1.699527</td>\n",
              "    </tr>\n",
              "    <tr>\n",
              "      <th>...</th>\n",
              "      <td>...</td>\n",
              "      <td>...</td>\n",
              "    </tr>\n",
              "    <tr>\n",
              "      <th>21252</th>\n",
              "      <td>0.289521</td>\n",
              "      <td>0.285065</td>\n",
              "    </tr>\n",
              "    <tr>\n",
              "      <th>21253</th>\n",
              "      <td>0.289521</td>\n",
              "      <td>0.285065</td>\n",
              "    </tr>\n",
              "    <tr>\n",
              "      <th>21254</th>\n",
              "      <td>0.289521</td>\n",
              "      <td>0.285065</td>\n",
              "    </tr>\n",
              "    <tr>\n",
              "      <th>21255</th>\n",
              "      <td>0.289521</td>\n",
              "      <td>0.285065</td>\n",
              "    </tr>\n",
              "    <tr>\n",
              "      <th>21256</th>\n",
              "      <td>0.655377</td>\n",
              "      <td>0.781213</td>\n",
              "    </tr>\n",
              "  </tbody>\n",
              "</table>\n",
              "<p>21257 rows × 2 columns</p>\n",
              "</div>"
            ],
            "text/plain": [
              "       provincia    region\n",
              "0      -1.051950  1.773509\n",
              "1       0.289521  0.285065\n",
              "2       0.289521  0.285065\n",
              "3       0.289521  0.285065\n",
              "4      -1.149511 -1.699527\n",
              "...          ...       ...\n",
              "21252   0.289521  0.285065\n",
              "21253   0.289521  0.285065\n",
              "21254   0.289521  0.285065\n",
              "21255   0.289521  0.285065\n",
              "21256   0.655377  0.781213\n",
              "\n",
              "[21257 rows x 2 columns]"
            ]
          },
          "execution_count": 49,
          "metadata": {},
          "output_type": "execute_result"
        }
      ],
      "source": [
        "#Preparamos la entradas\n",
        "X_train_enc= prepare_inputs(df_string)\n",
        "# convertir a dataframe\n",
        "X_train_enc = pd.DataFrame(X_train_enc)\n",
        "\n",
        "from sklearn import preprocessing\n",
        "\n",
        "df_string_z_score=pd.DataFrame(preprocessing.scale(X_train_enc),columns=df_string .columns)\n",
        "df_string_z_score"
      ]
    },
    {
      "cell_type": "code",
      "execution_count": 50,
      "id": "c67934c5",
      "metadata": {
        "colab": {
          "base_uri": "https://localhost:8080/",
          "height": 112
        },
        "id": "c67934c5",
        "outputId": "1ae4d584-1513-4e9c-8b19-8437db793db1"
      },
      "outputs": [
        {
          "data": {
            "text/html": [
              "<div>\n",
              "<style scoped>\n",
              "    .dataframe tbody tr th:only-of-type {\n",
              "        vertical-align: middle;\n",
              "    }\n",
              "\n",
              "    .dataframe tbody tr th {\n",
              "        vertical-align: top;\n",
              "    }\n",
              "\n",
              "    .dataframe thead th {\n",
              "        text-align: right;\n",
              "    }\n",
              "</style>\n",
              "<table border=\"1\" class=\"dataframe\">\n",
              "  <thead>\n",
              "    <tr style=\"text-align: right;\">\n",
              "      <th></th>\n",
              "      <th>score</th>\n",
              "      <th>pvalue</th>\n",
              "    </tr>\n",
              "  </thead>\n",
              "  <tbody>\n",
              "    <tr>\n",
              "      <th>region</th>\n",
              "      <td>33.675125</td>\n",
              "      <td>6.605343e-09</td>\n",
              "    </tr>\n",
              "    <tr>\n",
              "      <th>provincia</th>\n",
              "      <td>8.002503</td>\n",
              "      <td>4.675645e-03</td>\n",
              "    </tr>\n",
              "  </tbody>\n",
              "</table>\n",
              "</div>"
            ],
            "text/plain": [
              "               score        pvalue\n",
              "region     33.675125  6.605343e-09\n",
              "provincia   8.002503  4.675645e-03"
            ]
          },
          "execution_count": 50,
          "metadata": {},
          "output_type": "execute_result"
        }
      ],
      "source": [
        "# hacer el filtro ANOVA para seleccionar las variables más importantes\n",
        "from sklearn.feature_selection import SelectKBest\n",
        "from sklearn.feature_selection import f_regression\n",
        "# seleccionar las 5 variables más importantes\n",
        "selectKBest = SelectKBest(f_regression, k=2)\n",
        "# aplicar el filtro\n",
        "selectKBest.fit(df_string_z_score, Y)\n",
        "# obtener los scores\n",
        "scores = selectKBest.scores_\n",
        "# obtener los p-values\n",
        "pvalues = selectKBest.pvalues_\n",
        "# obtener los nombres de las columnas\n",
        "names = df_string_z_score.columns\n",
        "# crear un dataframe con los resultados\n",
        "df_scores = pd.DataFrame({'score':scores, 'pvalue':pvalues}, index=names)\n",
        "# ordenar el dataframe por el score ascendente\n",
        "df_scores.sort_values(by='score', ascending=False)"
      ]
    },
    {
      "cell_type": "code",
      "execution_count": 51,
      "id": "6e470560",
      "metadata": {
        "colab": {
          "base_uri": "https://localhost:8080/",
          "height": 391
        },
        "id": "6e470560",
        "outputId": "ce3ffe96-7e84-4a09-8885-705d3c51e251"
      },
      "outputs": [
        {
          "data": {
            "text/plain": [
              "<AxesSubplot:>"
            ]
          },
          "execution_count": 51,
          "metadata": {},
          "output_type": "execute_result"
        },
        {
          "data": {
            "image/png": "[encoded data removed]",
            "text/plain": [
              "<Figure size 720x432 with 1 Axes>"
            ]
          },
          "metadata": {
            "needs_background": "light"
          },
          "output_type": "display_data"
        }
      ],
      "source": [
        "# generar una grafica de barras con los scores en orden ascendente\n",
        "df_scores.sort_values(by='score', ascending=False).plot(kind='barh', figsize=(10, 6))"
      ]
    },
    {
      "cell_type": "markdown",
      "id": "9e1dc5f3",
      "metadata": {
        "id": "9e1dc5f3"
      },
      "source": [
        "### Aplicamos filtro anova para los datos numericos y asi seleccionar los atributos mas relevantes"
      ]
    },
    {
      "cell_type": "code",
      "execution_count": 52,
      "id": "883d8f58",
      "metadata": {
        "colab": {
          "base_uri": "https://localhost:8080/",
          "height": 206
        },
        "id": "883d8f58",
        "outputId": "cd4df8bd-7b4b-42fe-d8ae-fba042c1545a"
      },
      "outputs": [
        {
          "data": {
            "text/html": [
              "<div>\n",
              "<style scoped>\n",
              "    .dataframe tbody tr th:only-of-type {\n",
              "        vertical-align: middle;\n",
              "    }\n",
              "\n",
              "    .dataframe tbody tr th {\n",
              "        vertical-align: top;\n",
              "    }\n",
              "\n",
              "    .dataframe thead th {\n",
              "        text-align: right;\n",
              "    }\n",
              "</style>\n",
              "<table border=\"1\" class=\"dataframe\">\n",
              "  <thead>\n",
              "    <tr style=\"text-align: right;\">\n",
              "      <th></th>\n",
              "      <th>provincia</th>\n",
              "      <th>region</th>\n",
              "      <th>hora</th>\n",
              "      <th>minuto</th>\n",
              "      <th>dia</th>\n",
              "      <th>mes</th>\n",
              "      <th>año</th>\n",
              "      <th>latitud(º)</th>\n",
              "      <th>longitud(º)</th>\n",
              "      <th>profundidad_km</th>\n",
              "    </tr>\n",
              "  </thead>\n",
              "  <tbody>\n",
              "    <tr>\n",
              "      <th>0</th>\n",
              "      <td>Coronel Portillo</td>\n",
              "      <td>Ucayali</td>\n",
              "      <td>19</td>\n",
              "      <td>6</td>\n",
              "      <td>8</td>\n",
              "      <td>2</td>\n",
              "      <td>1960</td>\n",
              "      <td>-8.5</td>\n",
              "      <td>-74.5</td>\n",
              "      <td>136</td>\n",
              "    </tr>\n",
              "    <tr>\n",
              "      <th>1</th>\n",
              "      <td>MAR</td>\n",
              "      <td>MAR</td>\n",
              "      <td>1</td>\n",
              "      <td>28</td>\n",
              "      <td>4</td>\n",
              "      <td>5</td>\n",
              "      <td>1960</td>\n",
              "      <td>-18.0</td>\n",
              "      <td>-71.5</td>\n",
              "      <td>100</td>\n",
              "    </tr>\n",
              "    <tr>\n",
              "      <th>2</th>\n",
              "      <td>MAR</td>\n",
              "      <td>MAR</td>\n",
              "      <td>4</td>\n",
              "      <td>19</td>\n",
              "      <td>19</td>\n",
              "      <td>7</td>\n",
              "      <td>1960</td>\n",
              "      <td>-7.0</td>\n",
              "      <td>-80.0</td>\n",
              "      <td>33</td>\n",
              "    </tr>\n",
              "    <tr>\n",
              "      <th>3</th>\n",
              "      <td>MAR</td>\n",
              "      <td>MAR</td>\n",
              "      <td>0</td>\n",
              "      <td>8</td>\n",
              "      <td>14</td>\n",
              "      <td>9</td>\n",
              "      <td>1960</td>\n",
              "      <td>-15.2</td>\n",
              "      <td>-76.2</td>\n",
              "      <td>91</td>\n",
              "    </tr>\n",
              "    <tr>\n",
              "      <th>4</th>\n",
              "      <td>Condesuyos</td>\n",
              "      <td>Arequipa</td>\n",
              "      <td>16</td>\n",
              "      <td>58</td>\n",
              "      <td>26</td>\n",
              "      <td>9</td>\n",
              "      <td>1960</td>\n",
              "      <td>-16.0</td>\n",
              "      <td>-72.9</td>\n",
              "      <td>115</td>\n",
              "    </tr>\n",
              "  </tbody>\n",
              "</table>\n",
              "</div>"
            ],
            "text/plain": [
              "          provincia     region  hora  minuto  dia  mes   año  latitud(º)  \\\n",
              "0  Coronel Portillo    Ucayali    19       6    8    2  1960        -8.5   \n",
              "1               MAR        MAR     1      28    4    5  1960       -18.0   \n",
              "2               MAR        MAR     4      19   19    7  1960        -7.0   \n",
              "3               MAR        MAR     0       8   14    9  1960       -15.2   \n",
              "4        Condesuyos   Arequipa    16      58   26    9  1960       -16.0   \n",
              "\n",
              "   longitud(º)  profundidad_km  \n",
              "0        -74.5             136  \n",
              "1        -71.5             100  \n",
              "2        -80.0              33  \n",
              "3        -76.2              91  \n",
              "4        -72.9             115  "
            ]
          },
          "execution_count": 52,
          "metadata": {},
          "output_type": "execute_result"
        }
      ],
      "source": [
        "X.head()"
      ]
    },
    {
      "cell_type": "code",
      "execution_count": 53,
      "id": "4fc4e753",
      "metadata": {
        "colab": {
          "base_uri": "https://localhost:8080/"
        },
        "id": "4fc4e753",
        "outputId": "914b43bd-5584-4e38-d5c6-4cbbf672ff48"
      },
      "outputs": [
        {
          "data": {
            "text/plain": [
              "0    5.3\n",
              "1    5.0\n",
              "2    5.3\n",
              "3    5.4\n",
              "4    5.3\n",
              "Name: magnitud_Mw, dtype: float64"
            ]
          },
          "execution_count": 53,
          "metadata": {},
          "output_type": "execute_result"
        }
      ],
      "source": [
        "Y.head()"
      ]
    },
    {
      "cell_type": "code",
      "execution_count": 54,
      "id": "5c483e1c",
      "metadata": {
        "colab": {
          "base_uri": "https://localhost:8080/",
          "height": 206
        },
        "id": "5c483e1c",
        "outputId": "404e5ce1-5ff5-478d-dfe8-e01de88a97fe"
      },
      "outputs": [
        {
          "data": {
            "text/html": [
              "<div>\n",
              "<style scoped>\n",
              "    .dataframe tbody tr th:only-of-type {\n",
              "        vertical-align: middle;\n",
              "    }\n",
              "\n",
              "    .dataframe tbody tr th {\n",
              "        vertical-align: top;\n",
              "    }\n",
              "\n",
              "    .dataframe thead th {\n",
              "        text-align: right;\n",
              "    }\n",
              "</style>\n",
              "<table border=\"1\" class=\"dataframe\">\n",
              "  <thead>\n",
              "    <tr style=\"text-align: right;\">\n",
              "      <th></th>\n",
              "      <th>hora</th>\n",
              "      <th>minuto</th>\n",
              "      <th>dia</th>\n",
              "      <th>mes</th>\n",
              "      <th>año</th>\n",
              "      <th>latitud(º)</th>\n",
              "      <th>longitud(º)</th>\n",
              "      <th>profundidad_km</th>\n",
              "    </tr>\n",
              "  </thead>\n",
              "  <tbody>\n",
              "    <tr>\n",
              "      <th>0</th>\n",
              "      <td>19</td>\n",
              "      <td>6</td>\n",
              "      <td>8</td>\n",
              "      <td>2</td>\n",
              "      <td>1960</td>\n",
              "      <td>-8.5</td>\n",
              "      <td>-74.5</td>\n",
              "      <td>136</td>\n",
              "    </tr>\n",
              "    <tr>\n",
              "      <th>1</th>\n",
              "      <td>1</td>\n",
              "      <td>28</td>\n",
              "      <td>4</td>\n",
              "      <td>5</td>\n",
              "      <td>1960</td>\n",
              "      <td>-18.0</td>\n",
              "      <td>-71.5</td>\n",
              "      <td>100</td>\n",
              "    </tr>\n",
              "    <tr>\n",
              "      <th>2</th>\n",
              "      <td>4</td>\n",
              "      <td>19</td>\n",
              "      <td>19</td>\n",
              "      <td>7</td>\n",
              "      <td>1960</td>\n",
              "      <td>-7.0</td>\n",
              "      <td>-80.0</td>\n",
              "      <td>33</td>\n",
              "    </tr>\n",
              "    <tr>\n",
              "      <th>3</th>\n",
              "      <td>0</td>\n",
              "      <td>8</td>\n",
              "      <td>14</td>\n",
              "      <td>9</td>\n",
              "      <td>1960</td>\n",
              "      <td>-15.2</td>\n",
              "      <td>-76.2</td>\n",
              "      <td>91</td>\n",
              "    </tr>\n",
              "    <tr>\n",
              "      <th>4</th>\n",
              "      <td>16</td>\n",
              "      <td>58</td>\n",
              "      <td>26</td>\n",
              "      <td>9</td>\n",
              "      <td>1960</td>\n",
              "      <td>-16.0</td>\n",
              "      <td>-72.9</td>\n",
              "      <td>115</td>\n",
              "    </tr>\n",
              "  </tbody>\n",
              "</table>\n",
              "</div>"
            ],
            "text/plain": [
              "   hora  minuto  dia  mes   año  latitud(º)  longitud(º)  profundidad_km\n",
              "0    19       6    8    2  1960        -8.5        -74.5             136\n",
              "1     1      28    4    5  1960       -18.0        -71.5             100\n",
              "2     4      19   19    7  1960        -7.0        -80.0              33\n",
              "3     0       8   14    9  1960       -15.2        -76.2              91\n",
              "4    16      58   26    9  1960       -16.0        -72.9             115"
            ]
          },
          "execution_count": 54,
          "metadata": {},
          "output_type": "execute_result"
        }
      ],
      "source": [
        "# separamos por tipo de datos\n",
        "df_num = X.select_dtypes(include=['int64','float64'])\n",
        "df_num.head()"
      ]
    },
    {
      "cell_type": "code",
      "execution_count": 55,
      "id": "9b4e22b0",
      "metadata": {
        "colab": {
          "base_uri": "https://localhost:8080/",
          "height": 424
        },
        "id": "9b4e22b0",
        "outputId": "ab6f9fcc-0f14-48c9-ba9b-07a48439ac0b"
      },
      "outputs": [
        {
          "data": {
            "text/html": [
              "<div>\n",
              "<style scoped>\n",
              "    .dataframe tbody tr th:only-of-type {\n",
              "        vertical-align: middle;\n",
              "    }\n",
              "\n",
              "    .dataframe tbody tr th {\n",
              "        vertical-align: top;\n",
              "    }\n",
              "\n",
              "    .dataframe thead th {\n",
              "        text-align: right;\n",
              "    }\n",
              "</style>\n",
              "<table border=\"1\" class=\"dataframe\">\n",
              "  <thead>\n",
              "    <tr style=\"text-align: right;\">\n",
              "      <th></th>\n",
              "      <th>hora</th>\n",
              "      <th>minuto</th>\n",
              "      <th>dia</th>\n",
              "      <th>mes</th>\n",
              "      <th>año</th>\n",
              "      <th>latitud(º)</th>\n",
              "      <th>longitud(º)</th>\n",
              "      <th>profundidad_km</th>\n",
              "    </tr>\n",
              "  </thead>\n",
              "  <tbody>\n",
              "    <tr>\n",
              "      <th>0</th>\n",
              "      <td>1.188040</td>\n",
              "      <td>-1.353646</td>\n",
              "      <td>-0.880713</td>\n",
              "      <td>-1.334492</td>\n",
              "      <td>-2.963739</td>\n",
              "      <td>0.615431</td>\n",
              "      <td>0.442217</td>\n",
              "      <td>1.366370</td>\n",
              "    </tr>\n",
              "    <tr>\n",
              "      <th>1</th>\n",
              "      <td>-1.436663</td>\n",
              "      <td>-0.084041</td>\n",
              "      <td>-1.336310</td>\n",
              "      <td>-0.466592</td>\n",
              "      <td>-2.963739</td>\n",
              "      <td>-1.506418</td>\n",
              "      <td>1.430075</td>\n",
              "      <td>0.645442</td>\n",
              "    </tr>\n",
              "    <tr>\n",
              "      <th>2</th>\n",
              "      <td>-0.999213</td>\n",
              "      <td>-0.603425</td>\n",
              "      <td>0.372181</td>\n",
              "      <td>0.112007</td>\n",
              "      <td>-2.963739</td>\n",
              "      <td>0.950459</td>\n",
              "      <td>-1.368855</td>\n",
              "      <td>-0.696287</td>\n",
              "    </tr>\n",
              "    <tr>\n",
              "      <th>3</th>\n",
              "      <td>-1.582480</td>\n",
              "      <td>-1.238227</td>\n",
              "      <td>-0.197316</td>\n",
              "      <td>0.690607</td>\n",
              "      <td>-2.963739</td>\n",
              "      <td>-0.881031</td>\n",
              "      <td>-0.117569</td>\n",
              "      <td>0.465209</td>\n",
              "    </tr>\n",
              "    <tr>\n",
              "      <th>4</th>\n",
              "      <td>0.750589</td>\n",
              "      <td>1.647240</td>\n",
              "      <td>1.169477</td>\n",
              "      <td>0.690607</td>\n",
              "      <td>-2.963739</td>\n",
              "      <td>-1.059713</td>\n",
              "      <td>0.969075</td>\n",
              "      <td>0.945829</td>\n",
              "    </tr>\n",
              "    <tr>\n",
              "      <th>...</th>\n",
              "      <td>...</td>\n",
              "      <td>...</td>\n",
              "      <td>...</td>\n",
              "      <td>...</td>\n",
              "      <td>...</td>\n",
              "      <td>...</td>\n",
              "      <td>...</td>\n",
              "      <td>...</td>\n",
              "    </tr>\n",
              "    <tr>\n",
              "      <th>21252</th>\n",
              "      <td>0.896406</td>\n",
              "      <td>0.550762</td>\n",
              "      <td>0.713880</td>\n",
              "      <td>0.690607</td>\n",
              "      <td>1.365639</td>\n",
              "      <td>-0.945803</td>\n",
              "      <td>0.126103</td>\n",
              "      <td>-0.676261</td>\n",
              "    </tr>\n",
              "    <tr>\n",
              "      <th>21253</th>\n",
              "      <td>1.771308</td>\n",
              "      <td>-1.122809</td>\n",
              "      <td>0.713880</td>\n",
              "      <td>0.690607</td>\n",
              "      <td>1.365639</td>\n",
              "      <td>0.570760</td>\n",
              "      <td>-1.418248</td>\n",
              "      <td>-0.996674</td>\n",
              "    </tr>\n",
              "    <tr>\n",
              "      <th>21254</th>\n",
              "      <td>-1.436663</td>\n",
              "      <td>0.550762</td>\n",
              "      <td>0.827779</td>\n",
              "      <td>0.690607</td>\n",
              "      <td>1.365639</td>\n",
              "      <td>-1.602459</td>\n",
              "      <td>1.298361</td>\n",
              "      <td>-0.696287</td>\n",
              "    </tr>\n",
              "    <tr>\n",
              "      <th>21255</th>\n",
              "      <td>0.896406</td>\n",
              "      <td>1.647240</td>\n",
              "      <td>0.827779</td>\n",
              "      <td>0.690607</td>\n",
              "      <td>1.365639</td>\n",
              "      <td>0.602030</td>\n",
              "      <td>-1.434713</td>\n",
              "      <td>-0.596158</td>\n",
              "    </tr>\n",
              "    <tr>\n",
              "      <th>21256</th>\n",
              "      <td>-1.436663</td>\n",
              "      <td>-0.545715</td>\n",
              "      <td>1.169477</td>\n",
              "      <td>0.690607</td>\n",
              "      <td>1.365639</td>\n",
              "      <td>0.325072</td>\n",
              "      <td>0.366481</td>\n",
              "      <td>1.306293</td>\n",
              "    </tr>\n",
              "  </tbody>\n",
              "</table>\n",
              "<p>21257 rows × 8 columns</p>\n",
              "</div>"
            ],
            "text/plain": [
              "           hora    minuto       dia       mes       año  latitud(º)  \\\n",
              "0      1.188040 -1.353646 -0.880713 -1.334492 -2.963739    0.615431   \n",
              "1     -1.436663 -0.084041 -1.336310 -0.466592 -2.963739   -1.506418   \n",
              "2     -0.999213 -0.603425  0.372181  0.112007 -2.963739    0.950459   \n",
              "3     -1.582480 -1.238227 -0.197316  0.690607 -2.963739   -0.881031   \n",
              "4      0.750589  1.647240  1.169477  0.690607 -2.963739   -1.059713   \n",
              "...         ...       ...       ...       ...       ...         ...   \n",
              "21252  0.896406  0.550762  0.713880  0.690607  1.365639   -0.945803   \n",
              "21253  1.771308 -1.122809  0.713880  0.690607  1.365639    0.570760   \n",
              "21254 -1.436663  0.550762  0.827779  0.690607  1.365639   -1.602459   \n",
              "21255  0.896406  1.647240  0.827779  0.690607  1.365639    0.602030   \n",
              "21256 -1.436663 -0.545715  1.169477  0.690607  1.365639    0.325072   \n",
              "\n",
              "       longitud(º)  profundidad_km  \n",
              "0         0.442217        1.366370  \n",
              "1         1.430075        0.645442  \n",
              "2        -1.368855       -0.696287  \n",
              "3        -0.117569        0.465209  \n",
              "4         0.969075        0.945829  \n",
              "...            ...             ...  \n",
              "21252     0.126103       -0.676261  \n",
              "21253    -1.418248       -0.996674  \n",
              "21254     1.298361       -0.696287  \n",
              "21255    -1.434713       -0.596158  \n",
              "21256     0.366481        1.306293  \n",
              "\n",
              "[21257 rows x 8 columns]"
            ]
          },
          "execution_count": 55,
          "metadata": {},
          "output_type": "execute_result"
        }
      ],
      "source": [
        "from sklearn import preprocessing\n",
        "\n",
        "df_num_z_score=pd.DataFrame(preprocessing.scale(df_num),columns=df_num.columns)\n",
        "df_num_z_score"
      ]
    },
    {
      "cell_type": "code",
      "execution_count": 56,
      "id": "e4096da6",
      "metadata": {
        "colab": {
          "base_uri": "https://localhost:8080/",
          "height": 300
        },
        "id": "e4096da6",
        "outputId": "5cab1b5a-cde5-4825-c907-1cb1d9adf9fd"
      },
      "outputs": [
        {
          "data": {
            "text/html": [
              "<div>\n",
              "<style scoped>\n",
              "    .dataframe tbody tr th:only-of-type {\n",
              "        vertical-align: middle;\n",
              "    }\n",
              "\n",
              "    .dataframe tbody tr th {\n",
              "        vertical-align: top;\n",
              "    }\n",
              "\n",
              "    .dataframe thead th {\n",
              "        text-align: right;\n",
              "    }\n",
              "</style>\n",
              "<table border=\"1\" class=\"dataframe\">\n",
              "  <thead>\n",
              "    <tr style=\"text-align: right;\">\n",
              "      <th></th>\n",
              "      <th>score</th>\n",
              "      <th>pvalue</th>\n",
              "    </tr>\n",
              "  </thead>\n",
              "  <tbody>\n",
              "    <tr>\n",
              "      <th>año</th>\n",
              "      <td>3625.357855</td>\n",
              "      <td>0.000000</td>\n",
              "    </tr>\n",
              "    <tr>\n",
              "      <th>hora</th>\n",
              "      <td>22.182612</td>\n",
              "      <td>0.000002</td>\n",
              "    </tr>\n",
              "    <tr>\n",
              "      <th>latitud(º)</th>\n",
              "      <td>21.256508</td>\n",
              "      <td>0.000004</td>\n",
              "    </tr>\n",
              "    <tr>\n",
              "      <th>longitud(º)</th>\n",
              "      <td>10.517019</td>\n",
              "      <td>0.001185</td>\n",
              "    </tr>\n",
              "    <tr>\n",
              "      <th>mes</th>\n",
              "      <td>5.137578</td>\n",
              "      <td>0.023423</td>\n",
              "    </tr>\n",
              "    <tr>\n",
              "      <th>dia</th>\n",
              "      <td>3.025986</td>\n",
              "      <td>0.081955</td>\n",
              "    </tr>\n",
              "    <tr>\n",
              "      <th>profundidad_km</th>\n",
              "      <td>0.747416</td>\n",
              "      <td>0.387305</td>\n",
              "    </tr>\n",
              "    <tr>\n",
              "      <th>minuto</th>\n",
              "      <td>0.256048</td>\n",
              "      <td>0.612854</td>\n",
              "    </tr>\n",
              "  </tbody>\n",
              "</table>\n",
              "</div>"
            ],
            "text/plain": [
              "                      score    pvalue\n",
              "año             3625.357855  0.000000\n",
              "hora              22.182612  0.000002\n",
              "latitud(º)        21.256508  0.000004\n",
              "longitud(º)       10.517019  0.001185\n",
              "mes                5.137578  0.023423\n",
              "dia                3.025986  0.081955\n",
              "profundidad_km     0.747416  0.387305\n",
              "minuto             0.256048  0.612854"
            ]
          },
          "execution_count": 56,
          "metadata": {},
          "output_type": "execute_result"
        }
      ],
      "source": [
        "# hacer el filtro ANOVA para seleccionar las variables más importantes\n",
        "from sklearn.feature_selection import SelectKBest\n",
        "from sklearn.feature_selection import f_regression\n",
        "# seleccionar las 5 variables más importantes\n",
        "selectKBest = SelectKBest(f_regression, k=8)\n",
        "# aplicar el filtro\n",
        "selectKBest.fit(df_num_z_score, Y)\n",
        "# obtener los scores\n",
        "scores = selectKBest.scores_\n",
        "# obtener los p-values\n",
        "pvalues = selectKBest.pvalues_\n",
        "# obtener los nombres de las columnas\n",
        "names = df_num_z_score.columns\n",
        "# crear un dataframe con los resultados\n",
        "df_scores = pd.DataFrame({'score':scores, 'pvalue':pvalues}, index=names)\n",
        "# ordenar el dataframe por el score ascendente\n",
        "df_scores.sort_values(by='score', ascending=False)"
      ]
    },
    {
      "cell_type": "code",
      "execution_count": 57,
      "id": "ad35a320",
      "metadata": {
        "colab": {
          "base_uri": "https://localhost:8080/",
          "height": 391
        },
        "id": "ad35a320",
        "outputId": "601162bb-173b-469a-c8d0-b1a16a7deed6"
      },
      "outputs": [
        {
          "data": {
            "text/plain": [
              "<AxesSubplot:>"
            ]
          },
          "execution_count": 57,
          "metadata": {},
          "output_type": "execute_result"
        },
        {
          "data": {
            "image/png": "[encoded data removed]",
            "text/plain": [
              "<Figure size 720x432 with 1 Axes>"
            ]
          },
          "metadata": {
            "needs_background": "light"
          },
          "output_type": "display_data"
        }
      ],
      "source": [
        "# generar una grafica de barras con los scores en orden ascendente\n",
        "df_scores.sort_values(by='score', ascending=False).plot(kind='barh', figsize=(10, 6))"
      ]
    },
    {
      "cell_type": "code",
      "execution_count": 58,
      "id": "41522cc2",
      "metadata": {
        "colab": {
          "base_uri": "https://localhost:8080/",
          "height": 357
        },
        "id": "41522cc2",
        "outputId": "20b54169-26c4-480b-b88c-6d1f75b32e00"
      },
      "outputs": [
        {
          "data": {
            "text/plain": [
              "<AxesSubplot:>"
            ]
          },
          "execution_count": 58,
          "metadata": {},
          "output_type": "execute_result"
        },
        {
          "data": {
            "image/png": "[encoded data removed]",
            "text/plain": [
              "<Figure size 432x288 with 2 Axes>"
            ]
          },
          "metadata": {
            "needs_background": "light"
          },
          "output_type": "display_data"
        }
      ],
      "source": [
        "# ver la correlación entre las variables con un mapa de calor\n",
        "sns.heatmap(df_sismos.corr(), annot=True, cmap='RdYlGn', linewidths=0.2)"
      ]
    },
    {
      "cell_type": "code",
      "execution_count": 59,
      "id": "8744862c",
      "metadata": {
        "colab": {
          "base_uri": "https://localhost:8080/",
          "height": 206
        },
        "id": "8744862c",
        "outputId": "d0176f03-0751-427e-8fa2-352bcf8a6650"
      },
      "outputs": [
        {
          "data": {
            "text/html": [
              "<div>\n",
              "<style scoped>\n",
              "    .dataframe tbody tr th:only-of-type {\n",
              "        vertical-align: middle;\n",
              "    }\n",
              "\n",
              "    .dataframe tbody tr th {\n",
              "        vertical-align: top;\n",
              "    }\n",
              "\n",
              "    .dataframe thead th {\n",
              "        text-align: right;\n",
              "    }\n",
              "</style>\n",
              "<table border=\"1\" class=\"dataframe\">\n",
              "  <thead>\n",
              "    <tr style=\"text-align: right;\">\n",
              "      <th></th>\n",
              "      <th>provincia</th>\n",
              "      <th>region</th>\n",
              "      <th>mes</th>\n",
              "      <th>año</th>\n",
              "      <th>latitud(º)</th>\n",
              "      <th>longitud(º)</th>\n",
              "      <th>profundidad_km</th>\n",
              "      <th>magnitud_Mw</th>\n",
              "    </tr>\n",
              "  </thead>\n",
              "  <tbody>\n",
              "    <tr>\n",
              "      <th>0</th>\n",
              "      <td>Coronel Portillo</td>\n",
              "      <td>Ucayali</td>\n",
              "      <td>2</td>\n",
              "      <td>1960</td>\n",
              "      <td>-8.5</td>\n",
              "      <td>-74.5</td>\n",
              "      <td>136</td>\n",
              "      <td>5.3</td>\n",
              "    </tr>\n",
              "    <tr>\n",
              "      <th>1</th>\n",
              "      <td>MAR</td>\n",
              "      <td>MAR</td>\n",
              "      <td>5</td>\n",
              "      <td>1960</td>\n",
              "      <td>-18.0</td>\n",
              "      <td>-71.5</td>\n",
              "      <td>100</td>\n",
              "      <td>5.0</td>\n",
              "    </tr>\n",
              "    <tr>\n",
              "      <th>2</th>\n",
              "      <td>MAR</td>\n",
              "      <td>MAR</td>\n",
              "      <td>7</td>\n",
              "      <td>1960</td>\n",
              "      <td>-7.0</td>\n",
              "      <td>-80.0</td>\n",
              "      <td>33</td>\n",
              "      <td>5.3</td>\n",
              "    </tr>\n",
              "    <tr>\n",
              "      <th>3</th>\n",
              "      <td>MAR</td>\n",
              "      <td>MAR</td>\n",
              "      <td>9</td>\n",
              "      <td>1960</td>\n",
              "      <td>-15.2</td>\n",
              "      <td>-76.2</td>\n",
              "      <td>91</td>\n",
              "      <td>5.4</td>\n",
              "    </tr>\n",
              "    <tr>\n",
              "      <th>4</th>\n",
              "      <td>Condesuyos</td>\n",
              "      <td>Arequipa</td>\n",
              "      <td>9</td>\n",
              "      <td>1960</td>\n",
              "      <td>-16.0</td>\n",
              "      <td>-72.9</td>\n",
              "      <td>115</td>\n",
              "      <td>5.3</td>\n",
              "    </tr>\n",
              "  </tbody>\n",
              "</table>\n",
              "</div>"
            ],
            "text/plain": [
              "          provincia     region  mes   año  latitud(º)  longitud(º)  \\\n",
              "0  Coronel Portillo    Ucayali    2  1960        -8.5        -74.5   \n",
              "1               MAR        MAR    5  1960       -18.0        -71.5   \n",
              "2               MAR        MAR    7  1960        -7.0        -80.0   \n",
              "3               MAR        MAR    9  1960       -15.2        -76.2   \n",
              "4        Condesuyos   Arequipa    9  1960       -16.0        -72.9   \n",
              "\n",
              "   profundidad_km  magnitud_Mw  \n",
              "0             136          5.3  \n",
              "1             100          5.0  \n",
              "2              33          5.3  \n",
              "3              91          5.4  \n",
              "4             115          5.3  "
            ]
          },
          "execution_count": 59,
          "metadata": {},
          "output_type": "execute_result"
        }
      ],
      "source": [
        "# eliminamos las columnas minuto , dia y hora que no son importantes\n",
        "df_sismos = df_sismos.drop(['minuto','dia','hora'], axis=1)\n",
        "df_sismos.head()"
      ]
    },
    {
      "cell_type": "code",
      "execution_count": 60,
      "id": "01_NkDw6k21g",
      "metadata": {
        "id": "01_NkDw6k21g"
      },
      "outputs": [],
      "source": [
        "# eliminamos la columna provincia que no es importante\n",
        "# df_sismos = df_sismos.drop(['provincia'], axis=1)\n",
        "# df_sismos.head()"
      ]
    },
    {
      "cell_type": "code",
      "execution_count": 61,
      "id": "2e64f113",
      "metadata": {
        "id": "2e64f113"
      },
      "outputs": [],
      "source": [
        "# eliminamos los espacios en blanco de la columna region\n",
        "df_sismos['region'] = df_sismos['region'].str.strip()"
      ]
    },
    {
      "cell_type": "code",
      "execution_count": 62,
      "id": "4ebd24b6",
      "metadata": {
        "id": "4ebd24b6"
      },
      "outputs": [],
      "source": [
        "# seleccionar los sismos que ocurrieron en la region de Lima\n",
        "df_sismos = df_sismos[df_sismos['region']=='Lima']"
      ]
    },
    {
      "cell_type": "code",
      "execution_count": 63,
      "id": "3f2e5290",
      "metadata": {
        "colab": {
          "base_uri": "https://localhost:8080/"
        },
        "id": "3f2e5290",
        "outputId": "fe30b58a-f74d-4f91-8fcf-fad71ffe9940"
      },
      "outputs": [],
      "source": [
        "# redondear la magnitud a 2 decimales\n",
        "df_sismos['magnitud_Mw'] = df_sismos['magnitud_Mw'].round(2)"
      ]
    },
    {
      "cell_type": "code",
      "execution_count": 64,
      "id": "4fea51eb",
      "metadata": {
        "id": "4fea51eb"
      },
      "outputs": [],
      "source": [
        "# guardamos el archivo en formato csv\n",
        "df_sismos.to_csv(\"IGP_Datos-Sismicos_1960-2022_V2.csv\", index=False)"
      ]
    },
    {
      "cell_type": "markdown",
      "id": "f819a83c",
      "metadata": {
        "id": "f819a83c"
      },
      "source": [
        "### ¡FIN TRABAJO!"
      ]
    }
  ],
  "metadata": {
    "colab": {
      "collapsed_sections": [
        "f819a83c"
      ],
      "provenance": []
    },
    "kernelspec": {
      "display_name": "Python 3.9.12 ('base')",
      "language": "python",
      "name": "python3"
    },
    "language_info": {
      "codemirror_mode": {
        "name": "ipython",
        "version": 3
      },
      "file_extension": ".py",
      "mimetype": "text/x-python",
      "name": "python",
      "nbconvert_exporter": "python",
      "pygments_lexer": "ipython3",
      "version": "3.9.12"
    },
    "vscode": {
      "interpreter": {
        "hash": "bddb6c94227d8177e61600db041b4cc1c87a884063126e29a3bfd540ed5196fb"
      }
    }
  },
  "nbformat": 4,
  "nbformat_minor": 5
}
