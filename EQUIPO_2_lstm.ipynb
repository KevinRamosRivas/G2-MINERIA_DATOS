{
  "nbformat": 4,
  "nbformat_minor": 0,
  "metadata": {
    "colab": {
      "provenance": []
    },
    "kernelspec": {
      "name": "python3",
      "display_name": "Python 3"
    },
    "language_info": {
      "name": "python"
    }
  },
  "cells": [
    {
      "cell_type": "code",
      "source": [
        "import numpy as np\n",
        "import pandas as pd"
      ],
      "metadata": {
        "id": "fUEuFZluJMU7"
      },
      "execution_count": 1,
      "outputs": []
    },
    {
      "cell_type": "markdown",
      "source": [
        "## Modelo LSTM"
      ],
      "metadata": {
        "id": "XQncxfqgVaEG"
      }
    },
    {
      "cell_type": "code",
      "source": [
        "#Librerias para constuir el modelo LSTM\n",
        "from keras.models import Sequential\n",
        "from keras.layers import LSTM, Dense, Dropout"
      ],
      "metadata": {
        "id": "9Vf6jLXvI9qC"
      },
      "execution_count": 2,
      "outputs": []
    },
    {
      "cell_type": "code",
      "source": [
        "# cargar los datos de entrenamiento y test\n",
        "X_train = pd.read_csv('https://raw.githubusercontent.com/KevinRamosRivas/G2-MINERIA_DATOS/main/X_train.csv')\n",
        "X_test = pd.read_csv('https://raw.githubusercontent.com/KevinRamosRivas/G2-MINERIA_DATOS/main/X_test.csv')\n",
        "y_train = pd.read_csv('https://raw.githubusercontent.com/KevinRamosRivas/G2-MINERIA_DATOS/main/y_train.csv')\n",
        "y_test = pd.read_csv('https://raw.githubusercontent.com/KevinRamosRivas/G2-MINERIA_DATOS/main/y_test.csv')"
      ],
      "metadata": {
        "id": "iihpylruIMgJ"
      },
      "execution_count": 3,
      "outputs": []
    },
    {
      "cell_type": "code",
      "source": [
        "# Retorna una lista de las metricas\n",
        "def metrics(y_test_n, y_pred_n):\n",
        "  from sklearn.metrics import mean_squared_error, r2_score, mean_poisson_deviance, mean_absolute_error\n",
        "  mse = mean_squared_error(y_test_n, y_pred_n)\n",
        "  rms = mean_squared_error(y_test_n, y_pred_n, squared=False)\n",
        "  mpd = mean_poisson_deviance(y_test_n, y_pred_n)\n",
        "  mae = mean_absolute_error(y_test_n, y_pred_n)\n",
        "  r2 = r2_score(y_test_n, y_pred_n)\n",
        "  #print(f\"RMSE: {rms} - MSE: {mse} - R2: {r2} - MPD: {mpd} - MAE: {mae}\")\n",
        "  return [rms, mse, r2, mae, mpd]"
      ],
      "metadata": {
        "id": "uoWrihoEXToX"
      },
      "execution_count": 4,
      "outputs": []
    },
    {
      "cell_type": "code",
      "execution_count": 5,
      "metadata": {
        "id": "MJw35ivAIJc-"
      },
      "outputs": [],
      "source": [
        "# Construccion del modelo de LSTM\n",
        "def lstm_model(X_train_n, X_test_n, y_train_n, y_test_n):\n",
        "  #reshape la entrada para que sea [muestras, pasos de tiempo, características]\n",
        "  trainX, trainY = X_train_n.to_numpy(), y_train_n.to_numpy()\n",
        "  testX, testY = X_test_n.to_numpy(), y_test_n.to_numpy()\n",
        "  \n",
        "  n_timesteps=1\n",
        "\n",
        "  trainX = np.reshape(trainX, (trainX.shape[0], n_timesteps, trainX.shape[1]))\n",
        "  testX = np.reshape(testX, (testX.shape[0], n_timesteps, testX.shape[1]))\n",
        "  \n",
        "  n_features=trainX.shape[2]\n",
        "  # definir el modelo\n",
        "  model = Sequential()\n",
        "  model.add(LSTM(100, input_shape=(n_timesteps, n_features)))\n",
        "  model.add(Dense(1))\n",
        "  # compilar el modelo\n",
        "  model.compile(loss='mse', optimizer='adam', metrics =[\"MeanSquaredError\"])\n",
        "  # ajuste el modelo\n",
        "  history = model.fit(trainX, trainY, epochs=50, batch_size=28, verbose=0)\n",
        "\n",
        "  y_test_pred = model.predict(testX)\n",
        "  \n",
        "  return y_test_pred, history"
      ]
    },
    {
      "cell_type": "code",
      "source": [
        "# Aplicación del modelo para los clusteres de Kmedoids\n",
        "def lstm_kmedoids(X_train, X_test, y_train, y_test):\n",
        "  type_cluster = 'cluster_Kmedoids'\n",
        "  # Lista del numero de clusteres existentes\n",
        "  num_clusters = sorted(X_train[type_cluster].unique().tolist())\n",
        "  # Tabla de metricas\n",
        "  lstm_metrics = pd.DataFrame(columns=['RMSE', 'MSE', 'R2', 'MAE', 'MPD'], index=num_clusters)\n",
        "  for i in num_clusters:\n",
        "    # Seleccionamos los datos correspondientes al cluster i\n",
        "    X_train_i, y_train_i  = X_train[X_train[type_cluster]==i], y_train[X_train[type_cluster]==i]\n",
        "    X_test_i, y_test_i =  X_test[X_test[type_cluster]==i], y_test[X_test[type_cluster]==i]\n",
        "    y_test_pred, hist = lstm_model(X_train_i.drop(columns=['cluster_Kmedoids','cluster_Kmeans']), \n",
        "                             X_test_i.drop(columns=['cluster_Kmedoids','cluster_Kmeans']),\n",
        "                             y_train_i, y_test_i)\n",
        "    # Guardamos las metricas segun el cluster / indice\n",
        "    lstm_metrics.loc[i] = metrics(y_test_i.to_numpy(), y_test_pred)\n",
        "  return lstm_metrics"
      ],
      "metadata": {
        "id": "tbOvsFgWKTu4"
      },
      "execution_count": 6,
      "outputs": []
    },
    {
      "cell_type": "code",
      "source": [
        "# Aplicación del modelo para los clusteres de Kmeans\n",
        "def lstm_kmeans(X_train, X_test, y_train, y_test):\n",
        "  type_cluster = 'cluster_Kmeans'\n",
        "  # Lista del numero de clusteres existentes\n",
        "  num_clusters = sorted(X_train[type_cluster].unique().tolist())\n",
        "  # Tabla de metricas\n",
        "  lstm_metrics = pd.DataFrame(columns=['RMSE', 'MSE', 'R2', 'MAE', 'MPD'], index=num_clusters)\n",
        "  for i in num_clusters:\n",
        "    # Seleccionamos los datos correspondientes al cluster i\n",
        "    X_train_i, y_train_i  = X_train[X_train[type_cluster]==i], y_train[X_train[type_cluster]==i]\n",
        "    X_test_i, y_test_i =  X_test[X_test[type_cluster]==i], y_test[X_test[type_cluster]==i]\n",
        "    y_test_pred, hist = lstm_model(X_train_i.drop(columns=['cluster_Kmedoids','cluster_Kmeans']), \n",
        "                             X_test_i.drop(columns=['cluster_Kmedoids','cluster_Kmeans']),\n",
        "                             y_train_i, y_test_i)\n",
        "    # Guardamos las metricas segun el cluster / indice\n",
        "    lstm_metrics.loc[i] = metrics(y_test_i.to_numpy(), y_test_pred)\n",
        "  return lstm_metrics"
      ],
      "metadata": {
        "id": "6AlYGJHxKacP"
      },
      "execution_count": 7,
      "outputs": []
    },
    {
      "cell_type": "markdown",
      "source": [
        "### Analizando sin usar clusters"
      ],
      "metadata": {
        "id": "OYYUXDbvVjGW"
      }
    },
    {
      "cell_type": "code",
      "source": [
        "# LSTM sin cluster\n",
        "y_test_pred_kmedoids_sin, history = lstm_model(X_train.drop(columns=['cluster_Kmedoids','cluster_Kmeans']), \n",
        "                             X_test.drop(columns=['cluster_Kmedoids','cluster_Kmeans']),\n",
        "                             y_train, y_test)\n",
        "lstm_metrics_kmedoids_sin = pd.DataFrame(columns=['RMSE', 'MSE', 'R2', 'MAE', 'MPD'], index=['No Cluster'])\n",
        "lstm_metrics_kmedoids_sin.loc['No Cluster'] = metrics(y_test.to_numpy(), y_test_pred_kmedoids_sin)\n",
        "lstm_metrics_kmedoids_sin"
      ],
      "metadata": {
        "colab": {
          "base_uri": "https://localhost:8080/",
          "height": 99
        },
        "id": "cqNXINPdY971",
        "outputId": "5bce2c3f-c172-46e6-df9f-6a85d912f8bc"
      },
      "execution_count": 8,
      "outputs": [
        {
          "output_type": "stream",
          "name": "stdout",
          "text": [
            "5/5 [==============================] - 2s 9ms/step\n"
          ]
        },
        {
          "output_type": "execute_result",
          "data": {
            "text/plain": [
              "                RMSE       MSE        R2       MAE       MPD\n",
              "No Cluster  0.312946  0.097935 -0.019982  0.235644  0.021029"
            ],
            "text/html": [
              "\n",
              "  <div id=\"df-a933bb09-faeb-4838-a4e2-a78e89fbcef5\">\n",
              "    <div class=\"colab-df-container\">\n",
              "      <div>\n",
              "<style scoped>\n",
              "    .dataframe tbody tr th:only-of-type {\n",
              "        vertical-align: middle;\n",
              "    }\n",
              "\n",
              "    .dataframe tbody tr th {\n",
              "        vertical-align: top;\n",
              "    }\n",
              "\n",
              "    .dataframe thead th {\n",
              "        text-align: right;\n",
              "    }\n",
              "</style>\n",
              "<table border=\"1\" class=\"dataframe\">\n",
              "  <thead>\n",
              "    <tr style=\"text-align: right;\">\n",
              "      <th></th>\n",
              "      <th>RMSE</th>\n",
              "      <th>MSE</th>\n",
              "      <th>R2</th>\n",
              "      <th>MAE</th>\n",
              "      <th>MPD</th>\n",
              "    </tr>\n",
              "  </thead>\n",
              "  <tbody>\n",
              "    <tr>\n",
              "      <th>No Cluster</th>\n",
              "      <td>0.312946</td>\n",
              "      <td>0.097935</td>\n",
              "      <td>-0.019982</td>\n",
              "      <td>0.235644</td>\n",
              "      <td>0.021029</td>\n",
              "    </tr>\n",
              "  </tbody>\n",
              "</table>\n",
              "</div>\n",
              "      <button class=\"colab-df-convert\" onclick=\"convertToInteractive('df-a933bb09-faeb-4838-a4e2-a78e89fbcef5')\"\n",
              "              title=\"Convert this dataframe to an interactive table.\"\n",
              "              style=\"display:none;\">\n",
              "        \n",
              "  <svg xmlns=\"http://www.w3.org/2000/svg\" height=\"24px\"viewBox=\"0 0 24 24\"\n",
              "       width=\"24px\">\n",
              "    <path d=\"M0 0h24v24H0V0z\" fill=\"none\"/>\n",
              "    <path d=\"M18.56 5.44l.94 2.06.94-2.06 2.06-.94-2.06-.94-.94-2.06-.94 2.06-2.06.94zm-11 1L8.5 8.5l.94-2.06 2.06-.94-2.06-.94L8.5 2.5l-.94 2.06-2.06.94zm10 10l.94 2.06.94-2.06 2.06-.94-2.06-.94-.94-2.06-.94 2.06-2.06.94z\"/><path d=\"M17.41 7.96l-1.37-1.37c-.4-.4-.92-.59-1.43-.59-.52 0-1.04.2-1.43.59L10.3 9.45l-7.72 7.72c-.78.78-.78 2.05 0 2.83L4 21.41c.39.39.9.59 1.41.59.51 0 1.02-.2 1.41-.59l7.78-7.78 2.81-2.81c.8-.78.8-2.07 0-2.86zM5.41 20L4 18.59l7.72-7.72 1.47 1.35L5.41 20z\"/>\n",
              "  </svg>\n",
              "      </button>\n",
              "      \n",
              "  <style>\n",
              "    .colab-df-container {\n",
              "      display:flex;\n",
              "      flex-wrap:wrap;\n",
              "      gap: 12px;\n",
              "    }\n",
              "\n",
              "    .colab-df-convert {\n",
              "      background-color: #E8F0FE;\n",
              "      border: none;\n",
              "      border-radius: 50%;\n",
              "      cursor: pointer;\n",
              "      display: none;\n",
              "      fill: #1967D2;\n",
              "      height: 32px;\n",
              "      padding: 0 0 0 0;\n",
              "      width: 32px;\n",
              "    }\n",
              "\n",
              "    .colab-df-convert:hover {\n",
              "      background-color: #E2EBFA;\n",
              "      box-shadow: 0px 1px 2px rgba(60, 64, 67, 0.3), 0px 1px 3px 1px rgba(60, 64, 67, 0.15);\n",
              "      fill: #174EA6;\n",
              "    }\n",
              "\n",
              "    [theme=dark] .colab-df-convert {\n",
              "      background-color: #3B4455;\n",
              "      fill: #D2E3FC;\n",
              "    }\n",
              "\n",
              "    [theme=dark] .colab-df-convert:hover {\n",
              "      background-color: #434B5C;\n",
              "      box-shadow: 0px 1px 3px 1px rgba(0, 0, 0, 0.15);\n",
              "      filter: drop-shadow(0px 1px 2px rgba(0, 0, 0, 0.3));\n",
              "      fill: #FFFFFF;\n",
              "    }\n",
              "  </style>\n",
              "\n",
              "      <script>\n",
              "        const buttonEl =\n",
              "          document.querySelector('#df-a933bb09-faeb-4838-a4e2-a78e89fbcef5 button.colab-df-convert');\n",
              "        buttonEl.style.display =\n",
              "          google.colab.kernel.accessAllowed ? 'block' : 'none';\n",
              "\n",
              "        async function convertToInteractive(key) {\n",
              "          const element = document.querySelector('#df-a933bb09-faeb-4838-a4e2-a78e89fbcef5');\n",
              "          const dataTable =\n",
              "            await google.colab.kernel.invokeFunction('convertToInteractive',\n",
              "                                                     [key], {});\n",
              "          if (!dataTable) return;\n",
              "\n",
              "          const docLinkHtml = 'Like what you see? Visit the ' +\n",
              "            '<a target=\"_blank\" href=https://colab.research.google.com/notebooks/data_table.ipynb>data table notebook</a>'\n",
              "            + ' to learn more about interactive tables.';\n",
              "          element.innerHTML = '';\n",
              "          dataTable['output_type'] = 'display_data';\n",
              "          await google.colab.output.renderOutput(dataTable, element);\n",
              "          const docLink = document.createElement('div');\n",
              "          docLink.innerHTML = docLinkHtml;\n",
              "          element.appendChild(docLink);\n",
              "        }\n",
              "      </script>\n",
              "    </div>\n",
              "  </div>\n",
              "  "
            ]
          },
          "metadata": {},
          "execution_count": 8
        }
      ]
    },
    {
      "cell_type": "code",
      "source": [
        "# plot metrics\n",
        "import matplotlib.pyplot as plt\n",
        "plt.plot(history.history['loss'])\n",
        "plt.ylabel('mse')\n",
        "plt.xlabel('epoch')\n",
        "plt.legend(['train', 'val'], loc='upper left')\n",
        "plt.show()"
      ],
      "metadata": {
        "colab": {
          "base_uri": "https://localhost:8080/",
          "height": 279
        },
        "id": "_vzn6fz1gi19",
        "outputId": "b62f4abd-d712-4aae-9e6e-b5f1ba4698eb"
      },
      "execution_count": 9,
      "outputs": [
        {
          "output_type": "display_data",
          "data": {
            "text/plain": [
              "<Figure size 432x288 with 1 Axes>"
            ],
            "image/png": "[encoded data removed]"
          },
          "metadata": {
            "needs_background": "light"
          }
        }
      ]
    },
    {
      "cell_type": "markdown",
      "source": [
        "### Analizando utilizando clustering con Kmedoids"
      ],
      "metadata": {
        "id": "2bBBDtdKVpbX"
      }
    },
    {
      "cell_type": "code",
      "source": [
        "lstm_kmedoids_metrics = lstm_kmedoids(X_train, X_test, y_train, y_test)\n",
        "lstm_kmedoids_metrics"
      ],
      "metadata": {
        "colab": {
          "base_uri": "https://localhost:8080/",
          "height": 405
        },
        "id": "ictVwuwCSdUS",
        "outputId": "fea42411-574c-4e36-e648-078ea8f110fe"
      },
      "execution_count": 10,
      "outputs": [
        {
          "output_type": "stream",
          "name": "stdout",
          "text": [
            "2/2 [==============================] - 1s 7ms/step\n",
            "1/1 [==============================] - 1s 513ms/step\n",
            "1/1 [==============================] - 1s 546ms/step\n"
          ]
        },
        {
          "output_type": "stream",
          "name": "stderr",
          "text": [
            "WARNING:tensorflow:5 out of the last 10 calls to <function Model.make_predict_function.<locals>.predict_function at 0x7fc78acbfee0> triggered tf.function retracing. Tracing is expensive and the excessive number of tracings could be due to (1) creating @tf.function repeatedly in a loop, (2) passing tensors with different shapes, (3) passing Python objects instead of tensors. For (1), please define your @tf.function outside of the loop. For (2), @tf.function has reduce_retracing=True option that can avoid unnecessary retracing. For (3), please refer to https://www.tensorflow.org/guide/function#controlling_retracing and https://www.tensorflow.org/api_docs/python/tf/function for  more details.\n"
          ]
        },
        {
          "output_type": "stream",
          "name": "stdout",
          "text": [
            "2/2 [==============================] - 1s 11ms/step\n"
          ]
        },
        {
          "output_type": "stream",
          "name": "stderr",
          "text": [
            "WARNING:tensorflow:6 out of the last 12 calls to <function Model.make_predict_function.<locals>.predict_function at 0x7fc78a712c10> triggered tf.function retracing. Tracing is expensive and the excessive number of tracings could be due to (1) creating @tf.function repeatedly in a loop, (2) passing tensors with different shapes, (3) passing Python objects instead of tensors. For (1), please define your @tf.function outside of the loop. For (2), @tf.function has reduce_retracing=True option that can avoid unnecessary retracing. For (3), please refer to https://www.tensorflow.org/guide/function#controlling_retracing and https://www.tensorflow.org/api_docs/python/tf/function for  more details.\n"
          ]
        },
        {
          "output_type": "stream",
          "name": "stdout",
          "text": [
            "1/1 [==============================] - 1s 1s/step\n",
            "1/1 [==============================] - 1s 776ms/step\n"
          ]
        },
        {
          "output_type": "execute_result",
          "data": {
            "text/plain": [
              "       RMSE        MSE          R2       MAE       MPD\n",
              "0  1.934667   3.742938  -73.993433  1.921725  1.117399\n",
              "1  1.925442   3.707328 -103.138421  1.916175  1.104922\n",
              "2  3.563218  12.696523 -130.147609  3.549607  5.347938\n",
              "3  1.807275   3.266242  -21.832381  1.767255  1.009076\n",
              "4  0.820342    0.67296  -11.704854  0.787395  0.159418\n",
              "5   2.09693   4.397117 -103.505945  2.086874  1.388491"
            ],
            "text/html": [
              "\n",
              "  <div id=\"df-86be1974-0ee7-40aa-a799-3a1f769546f1\">\n",
              "    <div class=\"colab-df-container\">\n",
              "      <div>\n",
              "<style scoped>\n",
              "    .dataframe tbody tr th:only-of-type {\n",
              "        vertical-align: middle;\n",
              "    }\n",
              "\n",
              "    .dataframe tbody tr th {\n",
              "        vertical-align: top;\n",
              "    }\n",
              "\n",
              "    .dataframe thead th {\n",
              "        text-align: right;\n",
              "    }\n",
              "</style>\n",
              "<table border=\"1\" class=\"dataframe\">\n",
              "  <thead>\n",
              "    <tr style=\"text-align: right;\">\n",
              "      <th></th>\n",
              "      <th>RMSE</th>\n",
              "      <th>MSE</th>\n",
              "      <th>R2</th>\n",
              "      <th>MAE</th>\n",
              "      <th>MPD</th>\n",
              "    </tr>\n",
              "  </thead>\n",
              "  <tbody>\n",
              "    <tr>\n",
              "      <th>0</th>\n",
              "      <td>1.934667</td>\n",
              "      <td>3.742938</td>\n",
              "      <td>-73.993433</td>\n",
              "      <td>1.921725</td>\n",
              "      <td>1.117399</td>\n",
              "    </tr>\n",
              "    <tr>\n",
              "      <th>1</th>\n",
              "      <td>1.925442</td>\n",
              "      <td>3.707328</td>\n",
              "      <td>-103.138421</td>\n",
              "      <td>1.916175</td>\n",
              "      <td>1.104922</td>\n",
              "    </tr>\n",
              "    <tr>\n",
              "      <th>2</th>\n",
              "      <td>3.563218</td>\n",
              "      <td>12.696523</td>\n",
              "      <td>-130.147609</td>\n",
              "      <td>3.549607</td>\n",
              "      <td>5.347938</td>\n",
              "    </tr>\n",
              "    <tr>\n",
              "      <th>3</th>\n",
              "      <td>1.807275</td>\n",
              "      <td>3.266242</td>\n",
              "      <td>-21.832381</td>\n",
              "      <td>1.767255</td>\n",
              "      <td>1.009076</td>\n",
              "    </tr>\n",
              "    <tr>\n",
              "      <th>4</th>\n",
              "      <td>0.820342</td>\n",
              "      <td>0.67296</td>\n",
              "      <td>-11.704854</td>\n",
              "      <td>0.787395</td>\n",
              "      <td>0.159418</td>\n",
              "    </tr>\n",
              "    <tr>\n",
              "      <th>5</th>\n",
              "      <td>2.09693</td>\n",
              "      <td>4.397117</td>\n",
              "      <td>-103.505945</td>\n",
              "      <td>2.086874</td>\n",
              "      <td>1.388491</td>\n",
              "    </tr>\n",
              "  </tbody>\n",
              "</table>\n",
              "</div>\n",
              "      <button class=\"colab-df-convert\" onclick=\"convertToInteractive('df-86be1974-0ee7-40aa-a799-3a1f769546f1')\"\n",
              "              title=\"Convert this dataframe to an interactive table.\"\n",
              "              style=\"display:none;\">\n",
              "        \n",
              "  <svg xmlns=\"http://www.w3.org/2000/svg\" height=\"24px\"viewBox=\"0 0 24 24\"\n",
              "       width=\"24px\">\n",
              "    <path d=\"M0 0h24v24H0V0z\" fill=\"none\"/>\n",
              "    <path d=\"M18.56 5.44l.94 2.06.94-2.06 2.06-.94-2.06-.94-.94-2.06-.94 2.06-2.06.94zm-11 1L8.5 8.5l.94-2.06 2.06-.94-2.06-.94L8.5 2.5l-.94 2.06-2.06.94zm10 10l.94 2.06.94-2.06 2.06-.94-2.06-.94-.94-2.06-.94 2.06-2.06.94z\"/><path d=\"M17.41 7.96l-1.37-1.37c-.4-.4-.92-.59-1.43-.59-.52 0-1.04.2-1.43.59L10.3 9.45l-7.72 7.72c-.78.78-.78 2.05 0 2.83L4 21.41c.39.39.9.59 1.41.59.51 0 1.02-.2 1.41-.59l7.78-7.78 2.81-2.81c.8-.78.8-2.07 0-2.86zM5.41 20L4 18.59l7.72-7.72 1.47 1.35L5.41 20z\"/>\n",
              "  </svg>\n",
              "      </button>\n",
              "      \n",
              "  <style>\n",
              "    .colab-df-container {\n",
              "      display:flex;\n",
              "      flex-wrap:wrap;\n",
              "      gap: 12px;\n",
              "    }\n",
              "\n",
              "    .colab-df-convert {\n",
              "      background-color: #E8F0FE;\n",
              "      border: none;\n",
              "      border-radius: 50%;\n",
              "      cursor: pointer;\n",
              "      display: none;\n",
              "      fill: #1967D2;\n",
              "      height: 32px;\n",
              "      padding: 0 0 0 0;\n",
              "      width: 32px;\n",
              "    }\n",
              "\n",
              "    .colab-df-convert:hover {\n",
              "      background-color: #E2EBFA;\n",
              "      box-shadow: 0px 1px 2px rgba(60, 64, 67, 0.3), 0px 1px 3px 1px rgba(60, 64, 67, 0.15);\n",
              "      fill: #174EA6;\n",
              "    }\n",
              "\n",
              "    [theme=dark] .colab-df-convert {\n",
              "      background-color: #3B4455;\n",
              "      fill: #D2E3FC;\n",
              "    }\n",
              "\n",
              "    [theme=dark] .colab-df-convert:hover {\n",
              "      background-color: #434B5C;\n",
              "      box-shadow: 0px 1px 3px 1px rgba(0, 0, 0, 0.15);\n",
              "      filter: drop-shadow(0px 1px 2px rgba(0, 0, 0, 0.3));\n",
              "      fill: #FFFFFF;\n",
              "    }\n",
              "  </style>\n",
              "\n",
              "      <script>\n",
              "        const buttonEl =\n",
              "          document.querySelector('#df-86be1974-0ee7-40aa-a799-3a1f769546f1 button.colab-df-convert');\n",
              "        buttonEl.style.display =\n",
              "          google.colab.kernel.accessAllowed ? 'block' : 'none';\n",
              "\n",
              "        async function convertToInteractive(key) {\n",
              "          const element = document.querySelector('#df-86be1974-0ee7-40aa-a799-3a1f769546f1');\n",
              "          const dataTable =\n",
              "            await google.colab.kernel.invokeFunction('convertToInteractive',\n",
              "                                                     [key], {});\n",
              "          if (!dataTable) return;\n",
              "\n",
              "          const docLinkHtml = 'Like what you see? Visit the ' +\n",
              "            '<a target=\"_blank\" href=https://colab.research.google.com/notebooks/data_table.ipynb>data table notebook</a>'\n",
              "            + ' to learn more about interactive tables.';\n",
              "          element.innerHTML = '';\n",
              "          dataTable['output_type'] = 'display_data';\n",
              "          await google.colab.output.renderOutput(dataTable, element);\n",
              "          const docLink = document.createElement('div');\n",
              "          docLink.innerHTML = docLinkHtml;\n",
              "          element.appendChild(docLink);\n",
              "        }\n",
              "      </script>\n",
              "    </div>\n",
              "  </div>\n",
              "  "
            ]
          },
          "metadata": {},
          "execution_count": 10
        }
      ]
    },
    {
      "cell_type": "markdown",
      "source": [
        "### Analizando utilizando clustering con Kmeans"
      ],
      "metadata": {
        "id": "MQmMar12Vvuf"
      }
    },
    {
      "cell_type": "code",
      "source": [
        "lstm_kmeans_metrics = lstm_kmeans(X_train, X_test, y_train, y_test)\n",
        "lstm_kmeans_metrics"
      ],
      "metadata": {
        "colab": {
          "base_uri": "https://localhost:8080/",
          "height": 249
        },
        "id": "XYkqVh1NVIcC",
        "outputId": "98c38a98-341b-4578-d8ae-43bfad1cdd40"
      },
      "execution_count": 11,
      "outputs": [
        {
          "output_type": "stream",
          "name": "stdout",
          "text": [
            "1/1 [==============================] - 0s 492ms/step\n",
            "1/1 [==============================] - 1s 538ms/step\n",
            "2/2 [==============================] - 1s 6ms/step\n",
            "2/2 [==============================] - 1s 9ms/step\n"
          ]
        },
        {
          "output_type": "execute_result",
          "data": {
            "text/plain": [
              "       RMSE        MSE         R2       MAE       MPD\n",
              "0   4.33276  18.772806 -195.74283  4.321734  11.69331\n",
              "1  0.998613   0.997229 -28.011607  0.981252  0.251112\n",
              "2  0.361606   0.130759  -0.034068  0.282143  0.028881\n",
              "3   0.64703   0.418648  -5.528172  0.597811  0.096788"
            ],
            "text/html": [
              "\n",
              "  <div id=\"df-6bc05d7c-e1ce-4160-8025-4808a8359adc\">\n",
              "    <div class=\"colab-df-container\">\n",
              "      <div>\n",
              "<style scoped>\n",
              "    .dataframe tbody tr th:only-of-type {\n",
              "        vertical-align: middle;\n",
              "    }\n",
              "\n",
              "    .dataframe tbody tr th {\n",
              "        vertical-align: top;\n",
              "    }\n",
              "\n",
              "    .dataframe thead th {\n",
              "        text-align: right;\n",
              "    }\n",
              "</style>\n",
              "<table border=\"1\" class=\"dataframe\">\n",
              "  <thead>\n",
              "    <tr style=\"text-align: right;\">\n",
              "      <th></th>\n",
              "      <th>RMSE</th>\n",
              "      <th>MSE</th>\n",
              "      <th>R2</th>\n",
              "      <th>MAE</th>\n",
              "      <th>MPD</th>\n",
              "    </tr>\n",
              "  </thead>\n",
              "  <tbody>\n",
              "    <tr>\n",
              "      <th>0</th>\n",
              "      <td>4.33276</td>\n",
              "      <td>18.772806</td>\n",
              "      <td>-195.74283</td>\n",
              "      <td>4.321734</td>\n",
              "      <td>11.69331</td>\n",
              "    </tr>\n",
              "    <tr>\n",
              "      <th>1</th>\n",
              "      <td>0.998613</td>\n",
              "      <td>0.997229</td>\n",
              "      <td>-28.011607</td>\n",
              "      <td>0.981252</td>\n",
              "      <td>0.251112</td>\n",
              "    </tr>\n",
              "    <tr>\n",
              "      <th>2</th>\n",
              "      <td>0.361606</td>\n",
              "      <td>0.130759</td>\n",
              "      <td>-0.034068</td>\n",
              "      <td>0.282143</td>\n",
              "      <td>0.028881</td>\n",
              "    </tr>\n",
              "    <tr>\n",
              "      <th>3</th>\n",
              "      <td>0.64703</td>\n",
              "      <td>0.418648</td>\n",
              "      <td>-5.528172</td>\n",
              "      <td>0.597811</td>\n",
              "      <td>0.096788</td>\n",
              "    </tr>\n",
              "  </tbody>\n",
              "</table>\n",
              "</div>\n",
              "      <button class=\"colab-df-convert\" onclick=\"convertToInteractive('df-6bc05d7c-e1ce-4160-8025-4808a8359adc')\"\n",
              "              title=\"Convert this dataframe to an interactive table.\"\n",
              "              style=\"display:none;\">\n",
              "        \n",
              "  <svg xmlns=\"http://www.w3.org/2000/svg\" height=\"24px\"viewBox=\"0 0 24 24\"\n",
              "       width=\"24px\">\n",
              "    <path d=\"M0 0h24v24H0V0z\" fill=\"none\"/>\n",
              "    <path d=\"M18.56 5.44l.94 2.06.94-2.06 2.06-.94-2.06-.94-.94-2.06-.94 2.06-2.06.94zm-11 1L8.5 8.5l.94-2.06 2.06-.94-2.06-.94L8.5 2.5l-.94 2.06-2.06.94zm10 10l.94 2.06.94-2.06 2.06-.94-2.06-.94-.94-2.06-.94 2.06-2.06.94z\"/><path d=\"M17.41 7.96l-1.37-1.37c-.4-.4-.92-.59-1.43-.59-.52 0-1.04.2-1.43.59L10.3 9.45l-7.72 7.72c-.78.78-.78 2.05 0 2.83L4 21.41c.39.39.9.59 1.41.59.51 0 1.02-.2 1.41-.59l7.78-7.78 2.81-2.81c.8-.78.8-2.07 0-2.86zM5.41 20L4 18.59l7.72-7.72 1.47 1.35L5.41 20z\"/>\n",
              "  </svg>\n",
              "      </button>\n",
              "      \n",
              "  <style>\n",
              "    .colab-df-container {\n",
              "      display:flex;\n",
              "      flex-wrap:wrap;\n",
              "      gap: 12px;\n",
              "    }\n",
              "\n",
              "    .colab-df-convert {\n",
              "      background-color: #E8F0FE;\n",
              "      border: none;\n",
              "      border-radius: 50%;\n",
              "      cursor: pointer;\n",
              "      display: none;\n",
              "      fill: #1967D2;\n",
              "      height: 32px;\n",
              "      padding: 0 0 0 0;\n",
              "      width: 32px;\n",
              "    }\n",
              "\n",
              "    .colab-df-convert:hover {\n",
              "      background-color: #E2EBFA;\n",
              "      box-shadow: 0px 1px 2px rgba(60, 64, 67, 0.3), 0px 1px 3px 1px rgba(60, 64, 67, 0.15);\n",
              "      fill: #174EA6;\n",
              "    }\n",
              "\n",
              "    [theme=dark] .colab-df-convert {\n",
              "      background-color: #3B4455;\n",
              "      fill: #D2E3FC;\n",
              "    }\n",
              "\n",
              "    [theme=dark] .colab-df-convert:hover {\n",
              "      background-color: #434B5C;\n",
              "      box-shadow: 0px 1px 3px 1px rgba(0, 0, 0, 0.15);\n",
              "      filter: drop-shadow(0px 1px 2px rgba(0, 0, 0, 0.3));\n",
              "      fill: #FFFFFF;\n",
              "    }\n",
              "  </style>\n",
              "\n",
              "      <script>\n",
              "        const buttonEl =\n",
              "          document.querySelector('#df-6bc05d7c-e1ce-4160-8025-4808a8359adc button.colab-df-convert');\n",
              "        buttonEl.style.display =\n",
              "          google.colab.kernel.accessAllowed ? 'block' : 'none';\n",
              "\n",
              "        async function convertToInteractive(key) {\n",
              "          const element = document.querySelector('#df-6bc05d7c-e1ce-4160-8025-4808a8359adc');\n",
              "          const dataTable =\n",
              "            await google.colab.kernel.invokeFunction('convertToInteractive',\n",
              "                                                     [key], {});\n",
              "          if (!dataTable) return;\n",
              "\n",
              "          const docLinkHtml = 'Like what you see? Visit the ' +\n",
              "            '<a target=\"_blank\" href=https://colab.research.google.com/notebooks/data_table.ipynb>data table notebook</a>'\n",
              "            + ' to learn more about interactive tables.';\n",
              "          element.innerHTML = '';\n",
              "          dataTable['output_type'] = 'display_data';\n",
              "          await google.colab.output.renderOutput(dataTable, element);\n",
              "          const docLink = document.createElement('div');\n",
              "          docLink.innerHTML = docLinkHtml;\n",
              "          element.appendChild(docLink);\n",
              "        }\n",
              "      </script>\n",
              "    </div>\n",
              "  </div>\n",
              "  "
            ]
          },
          "metadata": {},
          "execution_count": 11
        }
      ]
    }
  ]
}