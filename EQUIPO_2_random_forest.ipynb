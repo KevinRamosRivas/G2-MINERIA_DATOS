{
 "cells": [
  {
   "cell_type": "markdown",
   "metadata": {},
   "source": [
    "## Modelo Random Forest sin uso de cluster"
   ]
  },
  {
   "cell_type": "code",
   "execution_count": 661,
   "metadata": {},
   "outputs": [],
   "source": [
    "# importamos las librerias necesarias\n",
    "import pandas as pd\n",
    "import numpy as np\n",
    "import matplotlib.pyplot as plt\n",
    "import seaborn as sns"
   ]
  },
  {
   "cell_type": "code",
   "execution_count": 662,
   "metadata": {},
   "outputs": [],
   "source": [
    "# importamos los datos en un dataframe con nombre data_completa\n",
    "data_completa = pd.read_csv('https://raw.githubusercontent.com/KevinRamosRivas/G2-MINERIA_DATOS/main/IGP_Datos-Sismicos_Consolidados_V3.csv')"
   ]
  },
  {
   "cell_type": "code",
   "execution_count": 663,
   "metadata": {},
   "outputs": [
    {
     "data": {
      "text/html": [
       "<div>\n",
       "<style scoped>\n",
       "    .dataframe tbody tr th:only-of-type {\n",
       "        vertical-align: middle;\n",
       "    }\n",
       "\n",
       "    .dataframe tbody tr th {\n",
       "        vertical-align: top;\n",
       "    }\n",
       "\n",
       "    .dataframe thead th {\n",
       "        text-align: right;\n",
       "    }\n",
       "</style>\n",
       "<table border=\"1\" class=\"dataframe\">\n",
       "  <thead>\n",
       "    <tr style=\"text-align: right;\">\n",
       "      <th></th>\n",
       "      <th>provincia</th>\n",
       "      <th>region</th>\n",
       "      <th>mes</th>\n",
       "      <th>año</th>\n",
       "      <th>latitud(º)</th>\n",
       "      <th>longitud(º)</th>\n",
       "      <th>profundidad_km</th>\n",
       "      <th>magnitud_Mw</th>\n",
       "    </tr>\n",
       "  </thead>\n",
       "  <tbody>\n",
       "    <tr>\n",
       "      <th>0</th>\n",
       "      <td>Huaral</td>\n",
       "      <td>Lima</td>\n",
       "      <td>1</td>\n",
       "      <td>1940</td>\n",
       "      <td>-11.5</td>\n",
       "      <td>-77.0</td>\n",
       "      <td>50.0</td>\n",
       "      <td>5.82</td>\n",
       "    </tr>\n",
       "    <tr>\n",
       "      <th>1</th>\n",
       "      <td>Cañete</td>\n",
       "      <td>Lima</td>\n",
       "      <td>7</td>\n",
       "      <td>1945</td>\n",
       "      <td>-13.0</td>\n",
       "      <td>-76.2</td>\n",
       "      <td>80.0</td>\n",
       "      <td>4.97</td>\n",
       "    </tr>\n",
       "    <tr>\n",
       "      <th>2</th>\n",
       "      <td>Cañete</td>\n",
       "      <td>Lima</td>\n",
       "      <td>8</td>\n",
       "      <td>1945</td>\n",
       "      <td>-13.0</td>\n",
       "      <td>-76.2</td>\n",
       "      <td>80.0</td>\n",
       "      <td>4.97</td>\n",
       "    </tr>\n",
       "    <tr>\n",
       "      <th>3</th>\n",
       "      <td>Cañete</td>\n",
       "      <td>Lima</td>\n",
       "      <td>9</td>\n",
       "      <td>1945</td>\n",
       "      <td>-13.0</td>\n",
       "      <td>-76.2</td>\n",
       "      <td>80.0</td>\n",
       "      <td>4.52</td>\n",
       "    </tr>\n",
       "    <tr>\n",
       "      <th>4</th>\n",
       "      <td>Cañete</td>\n",
       "      <td>Lima</td>\n",
       "      <td>9</td>\n",
       "      <td>1945</td>\n",
       "      <td>-13.0</td>\n",
       "      <td>-76.2</td>\n",
       "      <td>80.0</td>\n",
       "      <td>4.97</td>\n",
       "    </tr>\n",
       "  </tbody>\n",
       "</table>\n",
       "</div>"
      ],
      "text/plain": [
       "  provincia region  mes   año  latitud(º)  longitud(º)  profundidad_km  \\\n",
       "0    Huaral   Lima    1  1940       -11.5        -77.0            50.0   \n",
       "1    Cañete   Lima    7  1945       -13.0        -76.2            80.0   \n",
       "2    Cañete   Lima    8  1945       -13.0        -76.2            80.0   \n",
       "3    Cañete   Lima    9  1945       -13.0        -76.2            80.0   \n",
       "4    Cañete   Lima    9  1945       -13.0        -76.2            80.0   \n",
       "\n",
       "   magnitud_Mw  \n",
       "0         5.82  \n",
       "1         4.97  \n",
       "2         4.97  \n",
       "3         4.52  \n",
       "4         4.97  "
      ]
     },
     "execution_count": 663,
     "metadata": {},
     "output_type": "execute_result"
    }
   ],
   "source": [
    "data_completa.head()"
   ]
  },
  {
   "cell_type": "code",
   "execution_count": 664,
   "metadata": {},
   "outputs": [
    {
     "name": "stderr",
     "output_type": "stream",
     "text": [
      "C:\\Users\\ramos\\AppData\\Local\\Temp\\ipykernel_8344\\2048394643.py:3: DeprecationWarning: `np.object` is a deprecated alias for the builtin `object`. To silence this warning, use `object` by itself. Doing this will not modify any behavior and is safe. \n",
      "Deprecated in NumPy 1.20; for more details and guidance: https://numpy.org/devdocs/release/1.20.0-notes.html#deprecations\n",
      "  data_categorica = data_completa.select_dtypes(include = np.object)\n"
     ]
    }
   ],
   "source": [
    "# separamos la data en categorica y numerica\n",
    "data_numerica = data_completa.select_dtypes(include = np.number)\n",
    "data_categorica = data_completa.select_dtypes(include = np.object)"
   ]
  },
  {
   "cell_type": "code",
   "execution_count": 665,
   "metadata": {},
   "outputs": [],
   "source": [
    "# separamos la data en X e y\n",
    "X = data_numerica.drop(['magnitud_Mw'], axis = 1)\n",
    "y = data_numerica['magnitud_Mw']"
   ]
  },
  {
   "cell_type": "code",
   "execution_count": 666,
   "metadata": {},
   "outputs": [],
   "source": [
    "# separamos la data en train y test\n",
    "from sklearn.model_selection import train_test_split\n",
    "X_train, X_test, y_train, y_test = train_test_split(X, y, test_size = 0.2, random_state = 0)"
   ]
  },
  {
   "cell_type": "code",
   "execution_count": 667,
   "metadata": {},
   "outputs": [],
   "source": [
    "# importamos el modelo de random forest\n",
    "from sklearn.ensemble import RandomForestRegressor\n",
    "regressor = RandomForestRegressor(n_estimators = 100, random_state = 0)\n",
    "\n",
    "# entrenamos el modelo\n",
    "regressor.fit(X_train, y_train)\n",
    "\n",
    "# predecimos los valores de y\n",
    "y_pred = regressor.predict(X_test)\n"
   ]
  },
  {
   "cell_type": "code",
   "execution_count": 668,
   "metadata": {},
   "outputs": [
    {
     "data": {
      "text/html": [
       "<div>\n",
       "<style scoped>\n",
       "    .dataframe tbody tr th:only-of-type {\n",
       "        vertical-align: middle;\n",
       "    }\n",
       "\n",
       "    .dataframe tbody tr th {\n",
       "        vertical-align: top;\n",
       "    }\n",
       "\n",
       "    .dataframe thead th {\n",
       "        text-align: right;\n",
       "    }\n",
       "</style>\n",
       "<table border=\"1\" class=\"dataframe\">\n",
       "  <thead>\n",
       "    <tr style=\"text-align: right;\">\n",
       "      <th></th>\n",
       "      <th>r2</th>\n",
       "      <th>mae</th>\n",
       "      <th>rmse</th>\n",
       "      <th>mse</th>\n",
       "    </tr>\n",
       "  </thead>\n",
       "  <tbody>\n",
       "    <tr>\n",
       "      <th>0</th>\n",
       "      <td>-0.028835</td>\n",
       "      <td>0.205291</td>\n",
       "      <td>0.243641</td>\n",
       "      <td>0.059361</td>\n",
       "    </tr>\n",
       "  </tbody>\n",
       "</table>\n",
       "</div>"
      ],
      "text/plain": [
       "         r2       mae      rmse       mse\n",
       "0 -0.028835  0.205291  0.243641  0.059361"
      ]
     },
     "execution_count": 668,
     "metadata": {},
     "output_type": "execute_result"
    }
   ],
   "source": [
    "#obtener el r2, mae, rmse y mse random forest sin ninun cluster\n",
    "from sklearn.metrics import r2_score, mean_absolute_error, mean_squared_error\n",
    "r2 = r2_score(y_test, y_pred)\n",
    "mae = mean_absolute_error(y_test, y_pred)\n",
    "rmse = np.sqrt(mean_squared_error(y_test, y_pred))\n",
    "mse = mean_squared_error(y_test, y_pred)\n",
    "\n",
    "#unir los resultados en un dataframe\n",
    "resultados = pd.DataFrame({'r2': r2, 'mae': mae, 'rmse': rmse, 'mse': mse}, index = [0])\n",
    "resultados"
   ]
  },
  {
   "cell_type": "markdown",
   "metadata": {},
   "source": [
    "## Analizamos cuantos clusters hay en el dataset"
   ]
  },
  {
   "cell_type": "code",
   "execution_count": 669,
   "metadata": {},
   "outputs": [],
   "source": [
    "# importamos los datos\n",
    "x_train = pd.read_csv('https://raw.githubusercontent.com/KevinRamosRivas/G2-MINERIA_DATOS/main/X_train.csv')\n",
    "y_train = pd.read_csv('https://raw.githubusercontent.com/KevinRamosRivas/G2-MINERIA_DATOS/main/y_train.csv')\n",
    "x_test = pd.read_csv('https://raw.githubusercontent.com/KevinRamosRivas/G2-MINERIA_DATOS/main/X_test.csv')\n",
    "y_test = pd.read_csv('https://raw.githubusercontent.com/KevinRamosRivas/G2-MINERIA_DATOS/main/y_test.csv')"
   ]
  },
  {
   "cell_type": "code",
   "execution_count": 670,
   "metadata": {},
   "outputs": [
    {
     "data": {
      "text/html": [
       "<div>\n",
       "<style scoped>\n",
       "    .dataframe tbody tr th:only-of-type {\n",
       "        vertical-align: middle;\n",
       "    }\n",
       "\n",
       "    .dataframe tbody tr th {\n",
       "        vertical-align: top;\n",
       "    }\n",
       "\n",
       "    .dataframe thead th {\n",
       "        text-align: right;\n",
       "    }\n",
       "</style>\n",
       "<table border=\"1\" class=\"dataframe\">\n",
       "  <thead>\n",
       "    <tr style=\"text-align: right;\">\n",
       "      <th></th>\n",
       "      <th>mes</th>\n",
       "      <th>año</th>\n",
       "      <th>latitud(º)</th>\n",
       "      <th>longitud(º)</th>\n",
       "      <th>profundidad_km</th>\n",
       "      <th>cluster_Kmeans</th>\n",
       "      <th>cluster_Kmedoids</th>\n",
       "    </tr>\n",
       "  </thead>\n",
       "  <tbody>\n",
       "    <tr>\n",
       "      <th>0</th>\n",
       "      <td>12</td>\n",
       "      <td>1992</td>\n",
       "      <td>-13.1200</td>\n",
       "      <td>-76.3800</td>\n",
       "      <td>16.0</td>\n",
       "      <td>1</td>\n",
       "      <td>5</td>\n",
       "    </tr>\n",
       "    <tr>\n",
       "      <th>1</th>\n",
       "      <td>2</td>\n",
       "      <td>1984</td>\n",
       "      <td>-12.4200</td>\n",
       "      <td>-76.9400</td>\n",
       "      <td>53.0</td>\n",
       "      <td>2</td>\n",
       "      <td>0</td>\n",
       "    </tr>\n",
       "    <tr>\n",
       "      <th>2</th>\n",
       "      <td>10</td>\n",
       "      <td>2015</td>\n",
       "      <td>-10.6100</td>\n",
       "      <td>-76.8352</td>\n",
       "      <td>127.0</td>\n",
       "      <td>0</td>\n",
       "      <td>1</td>\n",
       "    </tr>\n",
       "    <tr>\n",
       "      <th>3</th>\n",
       "      <td>1</td>\n",
       "      <td>1995</td>\n",
       "      <td>-12.9500</td>\n",
       "      <td>-76.1500</td>\n",
       "      <td>12.0</td>\n",
       "      <td>1</td>\n",
       "      <td>5</td>\n",
       "    </tr>\n",
       "    <tr>\n",
       "      <th>4</th>\n",
       "      <td>2</td>\n",
       "      <td>2003</td>\n",
       "      <td>-11.1248</td>\n",
       "      <td>-77.2045</td>\n",
       "      <td>126.0</td>\n",
       "      <td>0</td>\n",
       "      <td>1</td>\n",
       "    </tr>\n",
       "  </tbody>\n",
       "</table>\n",
       "</div>"
      ],
      "text/plain": [
       "   mes   año  latitud(º)  longitud(º)  profundidad_km  cluster_Kmeans  \\\n",
       "0   12  1992    -13.1200     -76.3800            16.0               1   \n",
       "1    2  1984    -12.4200     -76.9400            53.0               2   \n",
       "2   10  2015    -10.6100     -76.8352           127.0               0   \n",
       "3    1  1995    -12.9500     -76.1500            12.0               1   \n",
       "4    2  2003    -11.1248     -77.2045           126.0               0   \n",
       "\n",
       "   cluster_Kmedoids  \n",
       "0                 5  \n",
       "1                 0  \n",
       "2                 1  \n",
       "3                 5  \n",
       "4                 1  "
      ]
     },
     "execution_count": 670,
     "metadata": {},
     "output_type": "execute_result"
    }
   ],
   "source": [
    "x_train.head()"
   ]
  },
  {
   "cell_type": "code",
   "execution_count": 671,
   "metadata": {},
   "outputs": [
    {
     "name": "stdout",
     "output_type": "stream",
     "text": [
      "NUMERO DE ELEMENTOS POR CLUSTER KMeans EN X_TRAIN\n"
     ]
    },
    {
     "data": {
      "text/html": [
       "<div>\n",
       "<style scoped>\n",
       "    .dataframe tbody tr th:only-of-type {\n",
       "        vertical-align: middle;\n",
       "    }\n",
       "\n",
       "    .dataframe tbody tr th {\n",
       "        vertical-align: top;\n",
       "    }\n",
       "\n",
       "    .dataframe thead th {\n",
       "        text-align: right;\n",
       "    }\n",
       "</style>\n",
       "<table border=\"1\" class=\"dataframe\">\n",
       "  <thead>\n",
       "    <tr style=\"text-align: right;\">\n",
       "      <th></th>\n",
       "      <th>cluster_0</th>\n",
       "      <th>cluster_1</th>\n",
       "      <th>cluster_2</th>\n",
       "      <th>cluster_3</th>\n",
       "    </tr>\n",
       "  </thead>\n",
       "  <tbody>\n",
       "    <tr>\n",
       "      <th>0</th>\n",
       "      <td>143</td>\n",
       "      <td>86</td>\n",
       "      <td>117</td>\n",
       "      <td>25</td>\n",
       "    </tr>\n",
       "  </tbody>\n",
       "</table>\n",
       "</div>"
      ],
      "text/plain": [
       "   cluster_0  cluster_1  cluster_2  cluster_3\n",
       "0        143         86        117         25"
      ]
     },
     "execution_count": 671,
     "metadata": {},
     "output_type": "execute_result"
    }
   ],
   "source": [
    "# obtener el numero de elementos por cada cluster de kmeans y unirlo en un dataframe\n",
    "cluster_0 = x_train[x_train['cluster_Kmeans'] == 0]\n",
    "cluster_1 = x_train[x_train['cluster_Kmeans'] == 1]\n",
    "cluster_2 = x_train[x_train['cluster_Kmeans'] == 2]\n",
    "cluster_3 = x_train[x_train['cluster_Kmeans'] == 3]\n",
    "\n",
    "# unir los resultados en un dataframe\n",
    "print('NUMERO DE ELEMENTOS POR CLUSTER KMeans EN X_TRAIN')\n",
    "cluster = pd.DataFrame({'cluster_0': cluster_0.shape[0], 'cluster_1': cluster_1.shape[0], 'cluster_2': cluster_2.shape[0], 'cluster_3': cluster_3.shape[0]}, index = [0])\n",
    "cluster"
   ]
  },
  {
   "cell_type": "code",
   "execution_count": 672,
   "metadata": {},
   "outputs": [
    {
     "name": "stdout",
     "output_type": "stream",
     "text": [
      "NUMERO DE ELEMENTOS POR CLUSTER KMeans EN X_TEST\n"
     ]
    },
    {
     "data": {
      "text/html": [
       "<div>\n",
       "<style scoped>\n",
       "    .dataframe tbody tr th:only-of-type {\n",
       "        vertical-align: middle;\n",
       "    }\n",
       "\n",
       "    .dataframe tbody tr th {\n",
       "        vertical-align: top;\n",
       "    }\n",
       "\n",
       "    .dataframe thead th {\n",
       "        text-align: right;\n",
       "    }\n",
       "</style>\n",
       "<table border=\"1\" class=\"dataframe\">\n",
       "  <thead>\n",
       "    <tr style=\"text-align: right;\">\n",
       "      <th></th>\n",
       "      <th>cluster_0</th>\n",
       "      <th>cluster_1</th>\n",
       "      <th>cluster_2</th>\n",
       "      <th>cluster_3</th>\n",
       "    </tr>\n",
       "  </thead>\n",
       "  <tbody>\n",
       "    <tr>\n",
       "      <th>0</th>\n",
       "      <td>54</td>\n",
       "      <td>32</td>\n",
       "      <td>56</td>\n",
       "      <td>17</td>\n",
       "    </tr>\n",
       "  </tbody>\n",
       "</table>\n",
       "</div>"
      ],
      "text/plain": [
       "   cluster_0  cluster_1  cluster_2  cluster_3\n",
       "0         54         32         56         17"
      ]
     },
     "execution_count": 672,
     "metadata": {},
     "output_type": "execute_result"
    }
   ],
   "source": [
    "# obtener el numero de elementos por cada cluster de kmeans en x_test y unirlo en un dataframe\n",
    "cluster_0 = x_test[x_test['cluster_Kmeans'] == 0]\n",
    "cluster_1 = x_test[x_test['cluster_Kmeans'] == 1]\n",
    "cluster_2 = x_test[x_test['cluster_Kmeans'] == 2]\n",
    "cluster_3 = x_test[x_test['cluster_Kmeans'] == 3]\n",
    "\n",
    "# unir los resultados en un dataframe\n",
    "print('NUMERO DE ELEMENTOS POR CLUSTER KMeans EN X_TEST')\n",
    "cluster = pd.DataFrame({'cluster_0': cluster_0.shape[0], 'cluster_1': cluster_1.shape[0], 'cluster_2': cluster_2.shape[0], 'cluster_3': cluster_3.shape[0]}, index = [0])\n",
    "cluster"
   ]
  },
  {
   "cell_type": "code",
   "execution_count": 673,
   "metadata": {},
   "outputs": [
    {
     "name": "stdout",
     "output_type": "stream",
     "text": [
      "NUMERO DE ELEMENTOS POR CLUSTER KMedoids EN X_TRAIN\n"
     ]
    },
    {
     "data": {
      "text/html": [
       "<div>\n",
       "<style scoped>\n",
       "    .dataframe tbody tr th:only-of-type {\n",
       "        vertical-align: middle;\n",
       "    }\n",
       "\n",
       "    .dataframe tbody tr th {\n",
       "        vertical-align: top;\n",
       "    }\n",
       "\n",
       "    .dataframe thead th {\n",
       "        text-align: right;\n",
       "    }\n",
       "</style>\n",
       "<table border=\"1\" class=\"dataframe\">\n",
       "  <thead>\n",
       "    <tr style=\"text-align: right;\">\n",
       "      <th></th>\n",
       "      <th>cluster_0</th>\n",
       "      <th>cluster_1</th>\n",
       "      <th>cluster_2</th>\n",
       "      <th>cluster_3</th>\n",
       "      <th>cluster_4</th>\n",
       "      <th>cluster_5</th>\n",
       "    </tr>\n",
       "  </thead>\n",
       "  <tbody>\n",
       "    <tr>\n",
       "      <th>0</th>\n",
       "      <td>80</td>\n",
       "      <td>77</td>\n",
       "      <td>22</td>\n",
       "      <td>54</td>\n",
       "      <td>67</td>\n",
       "      <td>71</td>\n",
       "    </tr>\n",
       "  </tbody>\n",
       "</table>\n",
       "</div>"
      ],
      "text/plain": [
       "   cluster_0  cluster_1  cluster_2  cluster_3  cluster_4  cluster_5\n",
       "0         80         77         22         54         67         71"
      ]
     },
     "execution_count": 673,
     "metadata": {},
     "output_type": "execute_result"
    }
   ],
   "source": [
    "# obtener el numero de elementos por cada cluster de kmedoids en x_train y unirlo en un dataframe\n",
    "#hay 6 clusters en kmedoids\n",
    "cluster_0 = x_train[x_train['cluster_Kmedoids'] == 0]\n",
    "cluster_1 = x_train[x_train['cluster_Kmedoids'] == 1]\n",
    "cluster_2 = x_train[x_train['cluster_Kmedoids'] == 2]\n",
    "cluster_3 = x_train[x_train['cluster_Kmedoids'] == 3]\n",
    "cluster_4 = x_train[x_train['cluster_Kmedoids'] == 4]\n",
    "cluster_5 = x_train[x_train['cluster_Kmedoids'] == 5]\n",
    "\n",
    "# unir los resultados en un dataframe\n",
    "print('NUMERO DE ELEMENTOS POR CLUSTER KMedoids EN X_TRAIN')\n",
    "cluster = pd.DataFrame({'cluster_0': cluster_0.shape[0], 'cluster_1': cluster_1.shape[0], 'cluster_2': cluster_2.shape[0], 'cluster_3': cluster_3.shape[0], 'cluster_4': cluster_4.shape[0], 'cluster_5': cluster_5.shape[0]}, index = [0])\n",
    "cluster"
   ]
  },
  {
   "cell_type": "code",
   "execution_count": 674,
   "metadata": {},
   "outputs": [
    {
     "name": "stdout",
     "output_type": "stream",
     "text": [
      "NUMERO DE ELEMENTOS POR CLUSTER KMedoids EN X_TEST\n"
     ]
    },
    {
     "data": {
      "text/html": [
       "<div>\n",
       "<style scoped>\n",
       "    .dataframe tbody tr th:only-of-type {\n",
       "        vertical-align: middle;\n",
       "    }\n",
       "\n",
       "    .dataframe tbody tr th {\n",
       "        vertical-align: top;\n",
       "    }\n",
       "\n",
       "    .dataframe thead th {\n",
       "        text-align: right;\n",
       "    }\n",
       "</style>\n",
       "<table border=\"1\" class=\"dataframe\">\n",
       "  <thead>\n",
       "    <tr style=\"text-align: right;\">\n",
       "      <th></th>\n",
       "      <th>cluster_0</th>\n",
       "      <th>cluster_1</th>\n",
       "      <th>cluster_2</th>\n",
       "      <th>cluster_3</th>\n",
       "      <th>cluster_4</th>\n",
       "      <th>cluster_5</th>\n",
       "    </tr>\n",
       "  </thead>\n",
       "  <tbody>\n",
       "    <tr>\n",
       "      <th>0</th>\n",
       "      <td>35</td>\n",
       "      <td>20</td>\n",
       "      <td>16</td>\n",
       "      <td>35</td>\n",
       "      <td>32</td>\n",
       "      <td>21</td>\n",
       "    </tr>\n",
       "  </tbody>\n",
       "</table>\n",
       "</div>"
      ],
      "text/plain": [
       "   cluster_0  cluster_1  cluster_2  cluster_3  cluster_4  cluster_5\n",
       "0         35         20         16         35         32         21"
      ]
     },
     "execution_count": 674,
     "metadata": {},
     "output_type": "execute_result"
    }
   ],
   "source": [
    "# obtener el numero de elementos por cada cluster de kmedoids en x_test y unirlo en un dataframe\n",
    "#hay 6 clusters en kmedoids\n",
    "cluster_0 = x_test[x_test['cluster_Kmedoids'] == 0]\n",
    "cluster_1 = x_test[x_test['cluster_Kmedoids'] == 1]\n",
    "cluster_2 = x_test[x_test['cluster_Kmedoids'] == 2]\n",
    "cluster_3 = x_test[x_test['cluster_Kmedoids'] == 3]\n",
    "cluster_4 = x_test[x_test['cluster_Kmedoids'] == 4]\n",
    "cluster_5 = x_test[x_test['cluster_Kmedoids'] == 5]\n",
    "\n",
    "# unir los resultados en un dataframe\n",
    "print('NUMERO DE ELEMENTOS POR CLUSTER KMedoids EN X_TEST')\n",
    "cluster = pd.DataFrame({'cluster_0': cluster_0.shape[0], 'cluster_1': cluster_1.shape[0], 'cluster_2': cluster_2.shape[0], 'cluster_3': cluster_3.shape[0], 'cluster_4': cluster_4.shape[0], 'cluster_5': cluster_5.shape[0]}, index = [0])\n",
    "cluster"
   ]
  },
  {
   "cell_type": "markdown",
   "metadata": {},
   "source": [
    "## Modelo Random Forest con clusteres de Kmeans"
   ]
  },
  {
   "cell_type": "code",
   "execution_count": 675,
   "metadata": {},
   "outputs": [],
   "source": [
    "# importamos la data \n",
    "xc_train = pd.read_csv('https://raw.githubusercontent.com/KevinRamosRivas/G2-MINERIA_DATOS/main/X_train.csv')\n",
    "yc_train = pd.read_csv('https://raw.githubusercontent.com/KevinRamosRivas/G2-MINERIA_DATOS/main/y_train.csv')\n",
    "xc_test = pd.read_csv('https://raw.githubusercontent.com/KevinRamosRivas/G2-MINERIA_DATOS/main/X_test.csv')\n",
    "yc_test = pd.read_csv('https://raw.githubusercontent.com/KevinRamosRivas/G2-MINERIA_DATOS/main/y_test.csv')"
   ]
  },
  {
   "cell_type": "code",
   "execution_count": 676,
   "metadata": {},
   "outputs": [
    {
     "data": {
      "text/html": [
       "<div>\n",
       "<style scoped>\n",
       "    .dataframe tbody tr th:only-of-type {\n",
       "        vertical-align: middle;\n",
       "    }\n",
       "\n",
       "    .dataframe tbody tr th {\n",
       "        vertical-align: top;\n",
       "    }\n",
       "\n",
       "    .dataframe thead th {\n",
       "        text-align: right;\n",
       "    }\n",
       "</style>\n",
       "<table border=\"1\" class=\"dataframe\">\n",
       "  <thead>\n",
       "    <tr style=\"text-align: right;\">\n",
       "      <th></th>\n",
       "      <th>mes</th>\n",
       "      <th>año</th>\n",
       "      <th>latitud(º)</th>\n",
       "      <th>longitud(º)</th>\n",
       "      <th>profundidad_km</th>\n",
       "      <th>cluster_Kmeans</th>\n",
       "      <th>cluster_Kmedoids</th>\n",
       "    </tr>\n",
       "  </thead>\n",
       "  <tbody>\n",
       "    <tr>\n",
       "      <th>0</th>\n",
       "      <td>12</td>\n",
       "      <td>1992</td>\n",
       "      <td>-13.1200</td>\n",
       "      <td>-76.3800</td>\n",
       "      <td>16.0</td>\n",
       "      <td>1</td>\n",
       "      <td>5</td>\n",
       "    </tr>\n",
       "    <tr>\n",
       "      <th>1</th>\n",
       "      <td>2</td>\n",
       "      <td>1984</td>\n",
       "      <td>-12.4200</td>\n",
       "      <td>-76.9400</td>\n",
       "      <td>53.0</td>\n",
       "      <td>2</td>\n",
       "      <td>0</td>\n",
       "    </tr>\n",
       "    <tr>\n",
       "      <th>2</th>\n",
       "      <td>10</td>\n",
       "      <td>2015</td>\n",
       "      <td>-10.6100</td>\n",
       "      <td>-76.8352</td>\n",
       "      <td>127.0</td>\n",
       "      <td>0</td>\n",
       "      <td>1</td>\n",
       "    </tr>\n",
       "    <tr>\n",
       "      <th>3</th>\n",
       "      <td>1</td>\n",
       "      <td>1995</td>\n",
       "      <td>-12.9500</td>\n",
       "      <td>-76.1500</td>\n",
       "      <td>12.0</td>\n",
       "      <td>1</td>\n",
       "      <td>5</td>\n",
       "    </tr>\n",
       "    <tr>\n",
       "      <th>4</th>\n",
       "      <td>2</td>\n",
       "      <td>2003</td>\n",
       "      <td>-11.1248</td>\n",
       "      <td>-77.2045</td>\n",
       "      <td>126.0</td>\n",
       "      <td>0</td>\n",
       "      <td>1</td>\n",
       "    </tr>\n",
       "  </tbody>\n",
       "</table>\n",
       "</div>"
      ],
      "text/plain": [
       "   mes   año  latitud(º)  longitud(º)  profundidad_km  cluster_Kmeans  \\\n",
       "0   12  1992    -13.1200     -76.3800            16.0               1   \n",
       "1    2  1984    -12.4200     -76.9400            53.0               2   \n",
       "2   10  2015    -10.6100     -76.8352           127.0               0   \n",
       "3    1  1995    -12.9500     -76.1500            12.0               1   \n",
       "4    2  2003    -11.1248     -77.2045           126.0               0   \n",
       "\n",
       "   cluster_Kmedoids  \n",
       "0                 5  \n",
       "1                 0  \n",
       "2                 1  \n",
       "3                 5  \n",
       "4                 1  "
      ]
     },
     "execution_count": 676,
     "metadata": {},
     "output_type": "execute_result"
    }
   ],
   "source": [
    "xc_train.head()"
   ]
  },
  {
   "cell_type": "code",
   "execution_count": 677,
   "metadata": {},
   "outputs": [
    {
     "data": {
      "text/html": [
       "<div>\n",
       "<style scoped>\n",
       "    .dataframe tbody tr th:only-of-type {\n",
       "        vertical-align: middle;\n",
       "    }\n",
       "\n",
       "    .dataframe tbody tr th {\n",
       "        vertical-align: top;\n",
       "    }\n",
       "\n",
       "    .dataframe thead th {\n",
       "        text-align: right;\n",
       "    }\n",
       "</style>\n",
       "<table border=\"1\" class=\"dataframe\">\n",
       "  <thead>\n",
       "    <tr style=\"text-align: right;\">\n",
       "      <th></th>\n",
       "      <th>mes</th>\n",
       "      <th>año</th>\n",
       "      <th>latitud(º)</th>\n",
       "      <th>longitud(º)</th>\n",
       "      <th>profundidad_km</th>\n",
       "      <th>cluster_Kmedoids</th>\n",
       "      <th>cluster_Kmeans</th>\n",
       "    </tr>\n",
       "  </thead>\n",
       "  <tbody>\n",
       "    <tr>\n",
       "      <th>0</th>\n",
       "      <td>12</td>\n",
       "      <td>1989</td>\n",
       "      <td>-12.6100</td>\n",
       "      <td>-76.6600</td>\n",
       "      <td>46.0</td>\n",
       "      <td>0</td>\n",
       "      <td>2</td>\n",
       "    </tr>\n",
       "    <tr>\n",
       "      <th>1</th>\n",
       "      <td>7</td>\n",
       "      <td>2011</td>\n",
       "      <td>-11.6147</td>\n",
       "      <td>-76.6758</td>\n",
       "      <td>103.0</td>\n",
       "      <td>3</td>\n",
       "      <td>0</td>\n",
       "    </tr>\n",
       "    <tr>\n",
       "      <th>2</th>\n",
       "      <td>2</td>\n",
       "      <td>1946</td>\n",
       "      <td>-13.0000</td>\n",
       "      <td>-76.2000</td>\n",
       "      <td>80.0</td>\n",
       "      <td>2</td>\n",
       "      <td>3</td>\n",
       "    </tr>\n",
       "    <tr>\n",
       "      <th>3</th>\n",
       "      <td>3</td>\n",
       "      <td>2003</td>\n",
       "      <td>-12.7305</td>\n",
       "      <td>-75.7530</td>\n",
       "      <td>87.0</td>\n",
       "      <td>4</td>\n",
       "      <td>0</td>\n",
       "    </tr>\n",
       "    <tr>\n",
       "      <th>4</th>\n",
       "      <td>12</td>\n",
       "      <td>2000</td>\n",
       "      <td>-11.9202</td>\n",
       "      <td>-76.9046</td>\n",
       "      <td>75.0</td>\n",
       "      <td>4</td>\n",
       "      <td>2</td>\n",
       "    </tr>\n",
       "  </tbody>\n",
       "</table>\n",
       "</div>"
      ],
      "text/plain": [
       "   mes   año  latitud(º)  longitud(º)  profundidad_km  cluster_Kmedoids  \\\n",
       "0   12  1989    -12.6100     -76.6600            46.0                 0   \n",
       "1    7  2011    -11.6147     -76.6758           103.0                 3   \n",
       "2    2  1946    -13.0000     -76.2000            80.0                 2   \n",
       "3    3  2003    -12.7305     -75.7530            87.0                 4   \n",
       "4   12  2000    -11.9202     -76.9046            75.0                 4   \n",
       "\n",
       "   cluster_Kmeans  \n",
       "0               2  \n",
       "1               0  \n",
       "2               3  \n",
       "3               0  \n",
       "4               2  "
      ]
     },
     "execution_count": 677,
     "metadata": {},
     "output_type": "execute_result"
    }
   ],
   "source": [
    "xc_test.head()"
   ]
  },
  {
   "cell_type": "code",
   "execution_count": 678,
   "metadata": {},
   "outputs": [
    {
     "data": {
      "text/plain": [
       "RandomForestRegressor(random_state=0)"
      ]
     },
     "execution_count": 678,
     "metadata": {},
     "output_type": "execute_result"
    }
   ],
   "source": [
    "# importamos el modelo de random forest\n",
    "from sklearn.ensemble import RandomForestRegressor\n",
    "\n",
    "# creamos un modelo de random forest para cada cluster de kmeans, en total hay 4 clusters\n",
    "regressor1 = RandomForestRegressor(n_estimators = 100, random_state = 0)\n",
    "regressor2 = RandomForestRegressor(n_estimators = 100, random_state = 0)\n",
    "regressor3 = RandomForestRegressor(n_estimators = 100, random_state = 0)\n",
    "regressor4 = RandomForestRegressor(n_estimators = 100, random_state = 0)\n",
    "\n",
    "# entrenamos el modelo de random forest para cada cluster de kmeans obviando las columnas de cluster_Kmeans y cluster_Kmedoids\n",
    "regressor1.fit(xc_train[xc_train['cluster_Kmeans'] == 0].drop(['cluster_Kmeans', 'cluster_Kmedoids'], axis = 1), yc_train[xc_train['cluster_Kmeans'] == 0].values.ravel())\n",
    "regressor2.fit(xc_train[xc_train['cluster_Kmeans'] == 1].drop(['cluster_Kmeans', 'cluster_Kmedoids'], axis = 1), yc_train[xc_train['cluster_Kmeans'] == 1].values.ravel())\n",
    "regressor3.fit(xc_train[xc_train['cluster_Kmeans'] == 2].drop(['cluster_Kmeans', 'cluster_Kmedoids'], axis = 1), yc_train[xc_train['cluster_Kmeans'] == 2].values.ravel())\n",
    "regressor4.fit(xc_train[xc_train['cluster_Kmeans'] == 3].drop(['cluster_Kmeans', 'cluster_Kmedoids'], axis = 1), yc_train[xc_train['cluster_Kmeans'] == 3].values.ravel())\n",
    "\n"
   ]
  },
  {
   "cell_type": "code",
   "execution_count": 679,
   "metadata": {},
   "outputs": [],
   "source": [
    "\n",
    "# predecimos los valores de y para cada cluster de kmeans obviando las columnas de cluster_Kmeans y cluster_Kmedoids\n",
    "y_pred1 = regressor1.predict(xc_test[xc_test['cluster_Kmeans'] == 0].drop(['cluster_Kmeans', 'cluster_Kmedoids'], axis = 1))\n",
    "y_pred2 = regressor2.predict(xc_test[xc_test['cluster_Kmeans'] == 1].drop(['cluster_Kmeans', 'cluster_Kmedoids'], axis = 1))\n",
    "y_pred3 = regressor3.predict(xc_test[xc_test['cluster_Kmeans'] == 2].drop(['cluster_Kmeans', 'cluster_Kmedoids'], axis = 1))\n",
    "y_pred4 = regressor4.predict(xc_test[xc_test['cluster_Kmeans'] == 3].drop(['cluster_Kmeans', 'cluster_Kmedoids'], axis = 1))"
   ]
  },
  {
   "cell_type": "code",
   "execution_count": 680,
   "metadata": {},
   "outputs": [
    {
     "data": {
      "text/html": [
       "<div>\n",
       "<style scoped>\n",
       "    .dataframe tbody tr th:only-of-type {\n",
       "        vertical-align: middle;\n",
       "    }\n",
       "\n",
       "    .dataframe tbody tr th {\n",
       "        vertical-align: top;\n",
       "    }\n",
       "\n",
       "    .dataframe thead th {\n",
       "        text-align: right;\n",
       "    }\n",
       "</style>\n",
       "<table border=\"1\" class=\"dataframe\">\n",
       "  <thead>\n",
       "    <tr style=\"text-align: right;\">\n",
       "      <th></th>\n",
       "      <th>r2</th>\n",
       "      <th>mae</th>\n",
       "      <th>rmse</th>\n",
       "      <th>mse</th>\n",
       "    </tr>\n",
       "  </thead>\n",
       "  <tbody>\n",
       "    <tr>\n",
       "      <th>cluster 1</th>\n",
       "      <td>55.987898</td>\n",
       "      <td>0.182389</td>\n",
       "      <td>0.235910</td>\n",
       "      <td>0.055654</td>\n",
       "    </tr>\n",
       "    <tr>\n",
       "      <th>cluster 2</th>\n",
       "      <td>-64.757864</td>\n",
       "      <td>0.187094</td>\n",
       "      <td>0.237977</td>\n",
       "      <td>0.056633</td>\n",
       "    </tr>\n",
       "    <tr>\n",
       "      <th>cluster 3</th>\n",
       "      <td>14.897765</td>\n",
       "      <td>0.160679</td>\n",
       "      <td>0.233614</td>\n",
       "      <td>0.054576</td>\n",
       "    </tr>\n",
       "    <tr>\n",
       "      <th>cluster 4</th>\n",
       "      <td>9.152627</td>\n",
       "      <td>0.216872</td>\n",
       "      <td>0.294423</td>\n",
       "      <td>0.086685</td>\n",
       "    </tr>\n",
       "  </tbody>\n",
       "</table>\n",
       "</div>"
      ],
      "text/plain": [
       "                  r2       mae      rmse       mse\n",
       "cluster 1  55.987898  0.182389  0.235910  0.055654\n",
       "cluster 2 -64.757864  0.187094  0.237977  0.056633\n",
       "cluster 3  14.897765  0.160679  0.233614  0.054576\n",
       "cluster 4   9.152627  0.216872  0.294423  0.086685"
      ]
     },
     "execution_count": 680,
     "metadata": {},
     "output_type": "execute_result"
    }
   ],
   "source": [
    "#importar metricas\n",
    "from sklearn import metrics\n",
    "# obtener el r2, mae, rmse y mse para cada cluster de kmeans en un dataframe\n",
    "r2_kmeans = [metrics.r2_score(yc_test[xc_test['cluster_Kmeans'] == 0], y_pred1)*100, metrics.r2_score(yc_test[xc_test['cluster_Kmeans'] == 1], y_pred2)*100, metrics.r2_score(yc_test[xc_test['cluster_Kmeans'] == 2], y_pred3)*100, metrics.r2_score(yc_test[xc_test['cluster_Kmeans'] == 3], y_pred4)*100]\n",
    "mae_kmeans = [metrics.mean_absolute_error(yc_test[xc_test['cluster_Kmeans'] == 0], y_pred1), metrics.mean_absolute_error(yc_test[xc_test['cluster_Kmeans'] == 1], y_pred2), metrics.mean_absolute_error(yc_test[xc_test['cluster_Kmeans'] == 2], y_pred3), metrics.mean_absolute_error(yc_test[xc_test['cluster_Kmeans'] == 3], y_pred4)]\n",
    "rmse_kmeans = [np.sqrt(metrics.mean_squared_error(yc_test[xc_test['cluster_Kmeans'] == 0], y_pred1)), np.sqrt(metrics.mean_squared_error(yc_test[xc_test['cluster_Kmeans'] == 1], y_pred2)), np.sqrt(metrics.mean_squared_error(yc_test[xc_test['cluster_Kmeans'] == 2], y_pred3)), np.sqrt(metrics.mean_squared_error(yc_test[xc_test['cluster_Kmeans'] == 3], y_pred4))]\n",
    "mse_kmeans = [metrics.mean_squared_error(yc_test[xc_test['cluster_Kmeans'] == 0], y_pred1), metrics.mean_squared_error(yc_test[xc_test['cluster_Kmeans'] == 1], y_pred2), metrics.mean_squared_error(yc_test[xc_test['cluster_Kmeans'] == 2], y_pred3), metrics.mean_squared_error(yc_test[xc_test['cluster_Kmeans'] == 3], y_pred4)]\n",
    "\n",
    "# unimos los resultados en un dataframe\n",
    "df_kmeans = pd.DataFrame({'r2': r2_kmeans, 'mae': mae_kmeans, 'rmse': rmse_kmeans, 'mse': mse_kmeans}, index = ['cluster 1', 'cluster 2', 'cluster 3', 'cluster 4'])\n",
    "df_kmeans\n"
   ]
  },
  {
   "cell_type": "markdown",
   "metadata": {},
   "source": [
    "## Modelo Random Forest con clusteres de Kmedoids"
   ]
  },
  {
   "cell_type": "code",
   "execution_count": 681,
   "metadata": {},
   "outputs": [],
   "source": [
    "# importamos la data \n",
    "xc_train = pd.read_csv('https://raw.githubusercontent.com/KevinRamosRivas/G2-MINERIA_DATOS/main/X_train.csv')\n",
    "yc_train = pd.read_csv('https://raw.githubusercontent.com/KevinRamosRivas/G2-MINERIA_DATOS/main/y_train.csv')\n",
    "xc_test = pd.read_csv('https://raw.githubusercontent.com/KevinRamosRivas/G2-MINERIA_DATOS/main/X_test.csv')\n",
    "yc_test = pd.read_csv('https://raw.githubusercontent.com/KevinRamosRivas/G2-MINERIA_DATOS/main/y_test.csv')"
   ]
  },
  {
   "cell_type": "code",
   "execution_count": 682,
   "metadata": {},
   "outputs": [],
   "source": [
    "# importamos el modelo de random forest\n",
    "from sklearn.ensemble import RandomForestRegressor\n",
    "\n",
    "# creamos un modelo de random forest para cada cluster de kmedoids, en total hay 6 clusters\n",
    "regressor_kmedoids1 = RandomForestRegressor(n_estimators = 100, random_state = 0)\n",
    "regressor_kmedoids2 = RandomForestRegressor(n_estimators = 100, random_state = 0)\n",
    "regressor_kmedoids3 = RandomForestRegressor(n_estimators = 100, random_state = 0)\n",
    "regressor_kmedoids4 = RandomForestRegressor(n_estimators = 100, random_state = 0)\n",
    "regressor_kmedoids5 = RandomForestRegressor(n_estimators = 100, random_state = 0)\n",
    "regressor_kmedoids6 = RandomForestRegressor(n_estimators = 100, random_state = 0)\n"
   ]
  },
  {
   "cell_type": "code",
   "execution_count": 683,
   "metadata": {},
   "outputs": [
    {
     "data": {
      "text/plain": [
       "RandomForestRegressor(random_state=0)"
      ]
     },
     "execution_count": 683,
     "metadata": {},
     "output_type": "execute_result"
    }
   ],
   "source": [
    "# entrenamos el modelo de random forest para cada cluster de kmedoids obviando las columnas de cluster_Kmeans y cluster_Kmedoids\n",
    "regressor_kmedoids1.fit(xc_train[xc_train['cluster_Kmedoids'] == 0].drop(['cluster_Kmeans', 'cluster_Kmedoids'], axis = 1), yc_train[xc_train['cluster_Kmedoids'] == 0].values.ravel())\n",
    "regressor_kmedoids2.fit(xc_train[xc_train['cluster_Kmedoids'] == 1].drop(['cluster_Kmeans', 'cluster_Kmedoids'], axis = 1), yc_train[xc_train['cluster_Kmedoids'] == 1].values.ravel())\n",
    "regressor_kmedoids3.fit(xc_train[xc_train['cluster_Kmedoids'] == 2].drop(['cluster_Kmeans', 'cluster_Kmedoids'], axis = 1), yc_train[xc_train['cluster_Kmedoids'] == 2].values.ravel())\n",
    "regressor_kmedoids4.fit(xc_train[xc_train['cluster_Kmedoids'] == 3].drop(['cluster_Kmeans', 'cluster_Kmedoids'], axis = 1), yc_train[xc_train['cluster_Kmedoids'] == 3].values.ravel())\n",
    "regressor_kmedoids5.fit(xc_train[xc_train['cluster_Kmedoids'] == 4].drop(['cluster_Kmeans', 'cluster_Kmedoids'], axis = 1), yc_train[xc_train['cluster_Kmedoids'] == 4].values.ravel())\n",
    "regressor_kmedoids6.fit(xc_train[xc_train['cluster_Kmedoids'] == 5].drop(['cluster_Kmeans', 'cluster_Kmedoids'], axis = 1), yc_train[xc_train['cluster_Kmedoids'] == 5].values.ravel())\n"
   ]
  },
  {
   "cell_type": "code",
   "execution_count": 684,
   "metadata": {},
   "outputs": [],
   "source": [
    "# predecimos los valores de y para cada cluster de kmedoids obviando las columnas de cluster_Kmeans y cluster_Kmedoids\n",
    "y_pred_kmedoids1 = regressor_kmedoids1.predict(xc_test[xc_test['cluster_Kmedoids'] == 0].drop(['cluster_Kmeans', 'cluster_Kmedoids'], axis = 1))\n",
    "y_pred_kmedoids2 = regressor_kmedoids2.predict(xc_test[xc_test['cluster_Kmedoids'] == 1].drop(['cluster_Kmeans', 'cluster_Kmedoids'], axis = 1))\n",
    "y_pred_kmedoids3 = regressor_kmedoids3.predict(xc_test[xc_test['cluster_Kmedoids'] == 2].drop(['cluster_Kmeans', 'cluster_Kmedoids'], axis = 1))\n",
    "y_pred_kmedoids4 = regressor_kmedoids4.predict(xc_test[xc_test['cluster_Kmedoids'] == 3].drop(['cluster_Kmeans', 'cluster_Kmedoids'], axis = 1))\n",
    "y_pred_kmedoids5 = regressor_kmedoids5.predict(xc_test[xc_test['cluster_Kmedoids'] == 4].drop(['cluster_Kmeans', 'cluster_Kmedoids'], axis = 1))\n",
    "y_pred_kmedoids6 = regressor_kmedoids6.predict(xc_test[xc_test['cluster_Kmedoids'] == 5].drop(['cluster_Kmeans', 'cluster_Kmedoids'], axis = 1))\n"
   ]
  },
  {
   "cell_type": "code",
   "execution_count": 685,
   "metadata": {},
   "outputs": [
    {
     "data": {
      "text/html": [
       "<div>\n",
       "<style scoped>\n",
       "    .dataframe tbody tr th:only-of-type {\n",
       "        vertical-align: middle;\n",
       "    }\n",
       "\n",
       "    .dataframe tbody tr th {\n",
       "        vertical-align: top;\n",
       "    }\n",
       "\n",
       "    .dataframe thead th {\n",
       "        text-align: right;\n",
       "    }\n",
       "</style>\n",
       "<table border=\"1\" class=\"dataframe\">\n",
       "  <thead>\n",
       "    <tr style=\"text-align: right;\">\n",
       "      <th></th>\n",
       "      <th>r2</th>\n",
       "      <th>mae</th>\n",
       "      <th>rmse</th>\n",
       "      <th>mse</th>\n",
       "    </tr>\n",
       "  </thead>\n",
       "  <tbody>\n",
       "    <tr>\n",
       "      <th>cluster 1</th>\n",
       "      <td>-9.856837</td>\n",
       "      <td>0.148000</td>\n",
       "      <td>0.234158</td>\n",
       "      <td>0.054830</td>\n",
       "    </tr>\n",
       "    <tr>\n",
       "      <th>cluster 2</th>\n",
       "      <td>3.461798</td>\n",
       "      <td>0.150100</td>\n",
       "      <td>0.185385</td>\n",
       "      <td>0.034368</td>\n",
       "    </tr>\n",
       "    <tr>\n",
       "      <th>cluster 3</th>\n",
       "      <td>-1.207494</td>\n",
       "      <td>0.232253</td>\n",
       "      <td>0.313017</td>\n",
       "      <td>0.097980</td>\n",
       "    </tr>\n",
       "    <tr>\n",
       "      <th>cluster 4</th>\n",
       "      <td>51.409079</td>\n",
       "      <td>0.204343</td>\n",
       "      <td>0.263649</td>\n",
       "      <td>0.069511</td>\n",
       "    </tr>\n",
       "    <tr>\n",
       "      <th>cluster 5</th>\n",
       "      <td>13.861121</td>\n",
       "      <td>0.169062</td>\n",
       "      <td>0.213604</td>\n",
       "      <td>0.045627</td>\n",
       "    </tr>\n",
       "    <tr>\n",
       "      <th>cluster 6</th>\n",
       "      <td>-50.398693</td>\n",
       "      <td>0.203076</td>\n",
       "      <td>0.251557</td>\n",
       "      <td>0.063281</td>\n",
       "    </tr>\n",
       "  </tbody>\n",
       "</table>\n",
       "</div>"
      ],
      "text/plain": [
       "                  r2       mae      rmse       mse\n",
       "cluster 1  -9.856837  0.148000  0.234158  0.054830\n",
       "cluster 2   3.461798  0.150100  0.185385  0.034368\n",
       "cluster 3  -1.207494  0.232253  0.313017  0.097980\n",
       "cluster 4  51.409079  0.204343  0.263649  0.069511\n",
       "cluster 5  13.861121  0.169062  0.213604  0.045627\n",
       "cluster 6 -50.398693  0.203076  0.251557  0.063281"
      ]
     },
     "execution_count": 685,
     "metadata": {},
     "output_type": "execute_result"
    }
   ],
   "source": [
    "#importar metricas\n",
    "from sklearn import metrics\n",
    "# obtener el r2, mae, rmse y mse para cada cluster de kmedoids en un dataframe\n",
    "r2_kmedoids = [metrics.r2_score(yc_test[xc_test['cluster_Kmedoids'] == 0], y_pred_kmedoids1)*100, metrics.r2_score(yc_test[xc_test['cluster_Kmedoids'] == 1], y_pred_kmedoids2)*100, metrics.r2_score(yc_test[xc_test['cluster_Kmedoids'] == 2], y_pred_kmedoids3)*100, metrics.r2_score(yc_test[xc_test['cluster_Kmedoids'] == 3], y_pred_kmedoids4)*100, metrics.r2_score(yc_test[xc_test['cluster_Kmedoids'] == 4], y_pred_kmedoids5)*100, metrics.r2_score(yc_test[xc_test['cluster_Kmedoids'] == 5], y_pred_kmedoids6)*100]\n",
    "mae_kmedoids = [metrics.mean_absolute_error(yc_test[xc_test['cluster_Kmedoids'] == 0], y_pred_kmedoids1), metrics.mean_absolute_error(yc_test[xc_test['cluster_Kmedoids'] == 1], y_pred_kmedoids2), metrics.mean_absolute_error(yc_test[xc_test['cluster_Kmedoids'] == 2], y_pred_kmedoids3), metrics.mean_absolute_error(yc_test[xc_test['cluster_Kmedoids'] == 3], y_pred_kmedoids4), metrics.mean_absolute_error(yc_test[xc_test['cluster_Kmedoids'] == 4], y_pred_kmedoids5), metrics.mean_absolute_error(yc_test[xc_test['cluster_Kmedoids'] == 5], y_pred_kmedoids6)]\n",
    "rmse_kmedoids = [np.sqrt(metrics.mean_squared_error(yc_test[xc_test['cluster_Kmedoids'] == 0], y_pred_kmedoids1)), np.sqrt(metrics.mean_squared_error(yc_test[xc_test['cluster_Kmedoids'] == 1], y_pred_kmedoids2)), np.sqrt(metrics.mean_squared_error(yc_test[xc_test['cluster_Kmedoids'] == 2], y_pred_kmedoids3)), np.sqrt(metrics.mean_squared_error(yc_test[xc_test['cluster_Kmedoids'] == 3], y_pred_kmedoids4)), np.sqrt(metrics.mean_squared_error(yc_test[xc_test['cluster_Kmedoids'] == 4], y_pred_kmedoids5)), np.sqrt(metrics.mean_squared_error(yc_test[xc_test['cluster_Kmedoids'] == 5], y_pred_kmedoids6))]\n",
    "mse_kmedoids = [metrics.mean_squared_error(yc_test[xc_test['cluster_Kmedoids'] == 0], y_pred_kmedoids1), metrics.mean_squared_error(yc_test[xc_test['cluster_Kmedoids'] == 1], y_pred_kmedoids2), metrics.mean_squared_error(yc_test[xc_test['cluster_Kmedoids'] == 2], y_pred_kmedoids3), metrics.mean_squared_error(yc_test[xc_test['cluster_Kmedoids'] == 3], y_pred_kmedoids4), metrics.mean_squared_error(yc_test[xc_test['cluster_Kmedoids'] == 4], y_pred_kmedoids5), metrics.mean_squared_error(yc_test[xc_test['cluster_Kmedoids'] == 5], y_pred_kmedoids6)]\n",
    "\n",
    "df_kmedoids = pd.DataFrame({'r2': r2_kmedoids, 'mae': mae_kmedoids, 'rmse': rmse_kmedoids, 'mse': mse_kmedoids}, index = ['cluster 1', 'cluster 2', 'cluster 3', 'cluster 4', 'cluster 5', 'cluster 6'])\n",
    "df_kmedoids"
   ]
  }
 ],
 "metadata": {
  "kernelspec": {
   "display_name": "Python 3.9.12 ('base')",
   "language": "python",
   "name": "python3"
  },
  "language_info": {
   "codemirror_mode": {
    "name": "ipython",
    "version": 3
   },
   "file_extension": ".py",
   "mimetype": "text/x-python",
   "name": "python",
   "nbconvert_exporter": "python",
   "pygments_lexer": "ipython3",
   "version": "3.9.12"
  },
  "orig_nbformat": 4,
  "vscode": {
   "interpreter": {
    "hash": "bddb6c94227d8177e61600db041b4cc1c87a884063126e29a3bfd540ed5196fb"
   }
  }
 },
 "nbformat": 4,
 "nbformat_minor": 2
}
